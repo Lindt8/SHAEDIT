{
 "cells": [
  {
   "cell_type": "code",
   "execution_count": 1,
   "metadata": {},
   "outputs": [
    {
     "data": {
      "text/html": [
       "<script>\n",
       "  function code_toggle() {\n",
       "    if (code_shown){\n",
       "      $('div.input').hide('500');\n",
       "      $('#toggleButton').val('Show Code')\n",
       "    } else {\n",
       "      $('div.input').show('500');\n",
       "      $('#toggleButton').val('Hide Code')\n",
       "    }\n",
       "    code_shown = !code_shown\n",
       "  }\n",
       "\n",
       "  $( document ).ready(function(){\n",
       "    code_shown=false;\n",
       "    $('div.input').hide()\n",
       "  });\n",
       "</script>\n",
       "<form action=\"javascript:code_toggle()\"><input type=\"submit\" id=\"toggleButton\" value=\"Show Code\"></form>"
      ],
      "text/plain": [
       "<IPython.core.display.HTML object>"
      ]
     },
     "execution_count": 1,
     "metadata": {},
     "output_type": "execute_result"
    }
   ],
   "source": [
    "%matplotlib notebook\n",
    "from IPython.display import HTML\n",
    "import numpy as np\n",
    "import matplotlib.pyplot as plt\n",
    "from matplotlib.collections import PatchCollection\n",
    "from matplotlib.patches import Rectangle\n",
    "import re\n",
    "from IPython.display import display\n",
    "import ipywidgets as widgets\n",
    "from IPython.display import Javascript\n",
    "\n",
    "HTML('''<script>\n",
    "  function code_toggle() {\n",
    "    if (code_shown){\n",
    "      $('div.input').hide('500');\n",
    "      $('#toggleButton').val('Show Code')\n",
    "    } else {\n",
    "      $('div.input').show('500');\n",
    "      $('#toggleButton').val('Hide Code')\n",
    "    }\n",
    "    code_shown = !code_shown\n",
    "  }\n",
    "\n",
    "  $( document ).ready(function(){\n",
    "    code_shown=false;\n",
    "    $('div.input').hide()\n",
    "  });\n",
    "</script>\n",
    "<form action=\"javascript:code_toggle()\"><input type=\"submit\" id=\"toggleButton\" value=\"Show Code\"></form>''')\n"
   ]
  },
  {
   "cell_type": "code",
   "execution_count": 1,
   "metadata": {
    "scrolled": true
   },
   "outputs": [
    {
     "data": {
      "application/javascript": [
       "IPython.notebook.execute_cells([IPython.notebook.get_selected_index()+1,6,7])"
      ],
      "text/plain": [
       "<IPython.core.display.Javascript object>"
      ]
     },
     "metadata": {},
     "output_type": "display_data"
    },
    {
     "data": {
      "application/javascript": [
       "IPython.notebook.execute_cells([IPython.notebook.get_selected_index()+1,6,7])"
      ],
      "text/plain": [
       "<IPython.core.display.Javascript object>"
      ]
     },
     "metadata": {},
     "output_type": "display_data"
    },
    {
     "ename": "NameError",
     "evalue": "name 'np' is not defined",
     "output_type": "error",
     "traceback": [
      "\u001b[1;31m---------------------------------------------------------------------------\u001b[0m",
      "\u001b[1;31mNameError\u001b[0m                                 Traceback (most recent call last)",
      "\u001b[1;32m<ipython-input-1-9f8943d6834f>\u001b[0m in \u001b[0;36m<module>\u001b[1;34m()\u001b[0m\n\u001b[0;32m     54\u001b[0m \u001b[1;33m\u001b[0m\u001b[0m\n\u001b[0;32m     55\u001b[0m \u001b[0mmetadata_file\u001b[0m \u001b[1;33m=\u001b[0m \u001b[1;34m'metadata_matrix_'\u001b[0m \u001b[1;33m+\u001b[0m \u001b[0mdata_version\u001b[0m \u001b[1;33m+\u001b[0m \u001b[1;34m'.npy'\u001b[0m\u001b[1;33m\u001b[0m\u001b[0m\n\u001b[1;32m---> 56\u001b[1;33m \u001b[0mmm_metadata\u001b[0m \u001b[1;33m=\u001b[0m \u001b[0mnp\u001b[0m\u001b[1;33m.\u001b[0m\u001b[0mload\u001b[0m\u001b[1;33m(\u001b[0m\u001b[0mmetadata_file\u001b[0m\u001b[1;33m)\u001b[0m \u001b[1;31m# data set, ion species, ion energy, target material, target thickness, secondary particle, detector, header meta data\u001b[0m\u001b[1;33m\u001b[0m\u001b[0m\n\u001b[0m\u001b[0;32m     57\u001b[0m \u001b[0mexists_file\u001b[0m \u001b[1;33m=\u001b[0m \u001b[1;34m'exists_matrix_'\u001b[0m \u001b[1;33m+\u001b[0m \u001b[0mdata_version\u001b[0m \u001b[1;33m+\u001b[0m \u001b[1;34m'.npy'\u001b[0m\u001b[1;33m\u001b[0m\u001b[0m\n\u001b[0;32m     58\u001b[0m \u001b[0mmm_exists\u001b[0m \u001b[1;33m=\u001b[0m \u001b[0mnp\u001b[0m\u001b[1;33m.\u001b[0m\u001b[0mload\u001b[0m\u001b[1;33m(\u001b[0m\u001b[0mexists_file\u001b[0m\u001b[1;33m)\u001b[0m \u001b[1;31m# data set, ion species, ion energy, target material, target thickness, secondary particle, detector\u001b[0m\u001b[1;33m\u001b[0m\u001b[0m\n",
      "\u001b[1;31mNameError\u001b[0m: name 'np' is not defined"
     ]
    }
   ],
   "source": [
    "def find(target, myList):\n",
    "    for i in range(len(myList)):\n",
    "        if myList[i] == target:\n",
    "            return i       \n",
    "\n",
    "def on_click(change):\n",
    "    #display(Javascript('IPython.notebook.execute_cells_below()'))  \n",
    "    #display(Javascript('IPython.notebook.execute_cell_range(IPython.notebook.get_selected_index()+1, IPython.notebook.ncells())'))\n",
    "    #display(Javascript('IPython.notebook.execute_cell_range(IPython.notebook.get_selected_index()+1, 6)'))\n",
    "    display(Javascript('IPython.notebook.execute_cells'))\n",
    "\n",
    "def on_click_next(change):\n",
    "    display(Javascript('IPython.notebook.execute_cells([IPython.notebook.get_selected_index()+1])'))\n",
    "    \n",
    "def on_click_7(change):\n",
    "    display(Javascript('IPython.notebook.execute_cells([7])'))\n",
    "\n",
    "def on_click_67(change):\n",
    "    display(Javascript('IPython.notebook.execute_cells([6,7])'))\n",
    "    \n",
    "def on_click_next_67(change):\n",
    "    display(Javascript('IPython.notebook.execute_cells([IPython.notebook.get_selected_index()+1,6,7])'))\n",
    "    \n",
    "# Function to plot error boxes\n",
    "def makeErrorBoxes(xdata,ydata,xerror,yerror,fc='None',ec='k',alpha=1.0,lw=1):\n",
    "    # Create list for all the error patches\n",
    "    errorboxes = []\n",
    "\n",
    "    # Loop over data points; create box from errors at each point\n",
    "    for xc,yc,xe,ye in zip(xdata,ydata,xerror.T,yerror.T):\n",
    "        rect = Rectangle((xc-xe[0],yc-ye[0]),xe.sum(),ye.sum())\n",
    "        errorboxes.append(rect)\n",
    "\n",
    "    # Create patch collection with specified colour/alpha\n",
    "    pc = PatchCollection(errorboxes,facecolor=fc,alpha=alpha,edgecolor=ec,linewidth=lw)\n",
    "\n",
    "    # Add collection to axes\n",
    "    ax.add_collection(pc)    \n",
    "\n",
    "def detector_colors(di):\n",
    "    #colors_list = ['b','g','r','c','m','y'] # Python 3 old default\n",
    "    #colors_list = ['#b2182b','#d6604d','#f4a582','#92c5de','#4393c3','#2166ac'] # blue to red cold\n",
    "    #colors_list = ['#d73027','#f46d43','#fdae61','#abd9e9','#74add1','#4575b4'] # blue to red warm\n",
    "    #colors_list = ['#762a83','#9970ab','#c2a5cf','#a6dba0','#5aae61','#1b7837'] # purple to green\n",
    "    #colors_list = ['#40004b','#762a83','#9970ab','#5aae61','#1b7837','#00441b'] # purple to green darker\n",
    "    #colors_list = [\"#afa83a\",\"#7f63b8\",\"#56ae6c\",\"#b84c7d\",\"#ac863f\",\"#b94d3d\"] # iWantHue 1\n",
    "    #colors_list = ['#1b9e77','#d95f02','#7570b3','#e7298a','#66a61e','#e6ab02'] # qualitative dark 1\n",
    "    colors_list = ['#e41a1c','#377eb8','#4daf4a','#984ea3','#ff7f00','#a65628'] # qualitative dark 2\n",
    "    return colors_list[di]\n",
    "    \n",
    "    \n",
    "    \n",
    "data_version = 'v8'\n",
    "\n",
    "metadata_file = 'metadata_matrix_' + data_version + '.npy'\n",
    "mm_metadata = np.load(metadata_file) # data set, ion species, ion energy, target material, target thickness, secondary particle, detector, header meta data\n",
    "exists_file = 'exists_matrix_' + data_version + '.npy'\n",
    "mm_exists = np.load(exists_file) # data set, ion species, ion energy, target material, target thickness, secondary particle, detector\n",
    "\n",
    "#values_file = 'values_matrix_' + data_version + '.npy'\n",
    "#mm_values = np.load(values_file) # data set, ion species, ion energy, target material, target thickness, secondary particle, detector, column values, energy bins\n",
    "\n",
    "#print(mm_metadata[0,0,0,0,0,0,0,0])\n",
    "\n",
    "projectile_sym_str = ['H', 'He', 'C', 'Si', 'Fe']\n",
    "projectile_longnames_str = ['Hydrogen', 'Helium', 'Carbon', 'Silicon', 'Iron']\n",
    "\n",
    "mm_values_names_list = []\n",
    "for i in range(5):\n",
    "    mm_values_names_list.append('values_matrix_' + projectile_sym_str[i].lower() + \"_\" + data_version + '.npy')\n",
    "\n",
    "is_label = widgets.Label(value=\"Select projectile ion species and energy.\")\n",
    "    \n",
    "ion_species = widgets.ToggleButtons(\n",
    "    options=projectile_sym_str,\n",
    "    description='Ion:',\n",
    "    disabled=False,\n",
    "    button_style='', # 'success', 'info', 'warning', 'danger' or ''\n",
    "    tooltips=projectile_longnames_str,\n",
    "#     icons=['check'] * 5\n",
    ")\n",
    "\n",
    "ion_species.observe(on_click_next_67, 'value')\n",
    "display(is_label,ion_species)\n"
   ]
  },
  {
   "cell_type": "code",
   "execution_count": 24,
   "metadata": {},
   "outputs": [
    {
     "data": {
      "application/vnd.jupyter.widget-view+json": {
       "model_id": "12e7829e14d744c9a49ff387c957e994",
       "version_major": 2,
       "version_minor": 0
      },
      "text/html": [
       "<p>Failed to display Jupyter Widget of type <code>ToggleButtons</code>.</p>\n",
       "<p>\n",
       "  If you're reading this message in the Jupyter Notebook or JupyterLab Notebook, it may mean\n",
       "  that the widgets JavaScript is still loading. If this message persists, it\n",
       "  likely means that the widgets JavaScript library is either not installed or\n",
       "  not enabled. See the <a href=\"https://ipywidgets.readthedocs.io/en/stable/user_install.html\">Jupyter\n",
       "  Widgets Documentation</a> for setup instructions.\n",
       "</p>\n",
       "<p>\n",
       "  If you're reading this message in another frontend (for example, a static\n",
       "  rendering on GitHub or <a href=\"https://nbviewer.jupyter.org/\">NBViewer</a>),\n",
       "  it may mean that your frontend doesn't currently support widgets.\n",
       "</p>\n"
      ],
      "text/plain": [
       "ToggleButtons(description='Energy:', options=('400 MeV/n', '800 MeV/n', '1500 MeV/n'), tooltips=['lowest energy', 'middle energy', 'highest energy'], value='400 MeV/n')"
      ]
     },
     "metadata": {},
     "output_type": "display_data"
    }
   ],
   "source": [
    "isi = find(ion_species.value,projectile_sym_str)\n",
    "mm_values = np.load(mm_values_names_list[isi])\n",
    "\n",
    "def erg_options(isi):\n",
    "    if isi == 0:\n",
    "        proj_E = ['400 MeV','800 MeV','2500 MeV']\n",
    "    else:\n",
    "        proj_E = ['400 MeV/n','800 MeV/n','1500 MeV/n']\n",
    "    return proj_E\n",
    "\n",
    "Projectile_E_tooltips = ['lowest energy','middle energy', 'highest energy']\n",
    "\n",
    "ie_label = widgets.Label(value=\"Select projectile ion energy.\")\n",
    "\n",
    "ion_energy = widgets.ToggleButtons(\n",
    "    options=erg_options(isi),\n",
    "    description='Energy:',\n",
    "    disabled=False,\n",
    "    button_style='', # 'success', 'info', 'warning', 'danger' or ''\n",
    "    tooltips=Projectile_E_tooltips,\n",
    "#     icons=['check'] * 5\n",
    ")\n",
    "\n",
    "ion_energy.observe(on_click_67, 'value')\n",
    "#display(ie_label, ion_energy)\n",
    "display(ion_energy)\n"
   ]
  },
  {
   "cell_type": "code",
   "execution_count": 4,
   "metadata": {},
   "outputs": [
    {
     "data": {
      "application/vnd.jupyter.widget-view+json": {
       "model_id": "f5ab7bc62b4f4de0929fb85d5654be19",
       "version_major": 2,
       "version_minor": 0
      },
      "text/html": [
       "<p>Failed to display Jupyter Widget of type <code>Label</code>.</p>\n",
       "<p>\n",
       "  If you're reading this message in the Jupyter Notebook or JupyterLab Notebook, it may mean\n",
       "  that the widgets JavaScript is still loading. If this message persists, it\n",
       "  likely means that the widgets JavaScript library is either not installed or\n",
       "  not enabled. See the <a href=\"https://ipywidgets.readthedocs.io/en/stable/user_install.html\">Jupyter\n",
       "  Widgets Documentation</a> for setup instructions.\n",
       "</p>\n",
       "<p>\n",
       "  If you're reading this message in another frontend (for example, a static\n",
       "  rendering on GitHub or <a href=\"https://nbviewer.jupyter.org/\">NBViewer</a>),\n",
       "  it may mean that your frontend doesn't currently support widgets.\n",
       "</p>\n"
      ],
      "text/plain": [
       "Label(value='Select upstream target material and thickness.')"
      ]
     },
     "metadata": {},
     "output_type": "display_data"
    },
    {
     "data": {
      "application/vnd.jupyter.widget-view+json": {
       "model_id": "0d83961bc5884f9e8e9e111eb0628766",
       "version_major": 2,
       "version_minor": 0
      },
      "text/html": [
       "<p>Failed to display Jupyter Widget of type <code>ToggleButtons</code>.</p>\n",
       "<p>\n",
       "  If you're reading this message in the Jupyter Notebook or JupyterLab Notebook, it may mean\n",
       "  that the widgets JavaScript is still loading. If this message persists, it\n",
       "  likely means that the widgets JavaScript library is either not installed or\n",
       "  not enabled. See the <a href=\"https://ipywidgets.readthedocs.io/en/stable/user_install.html\">Jupyter\n",
       "  Widgets Documentation</a> for setup instructions.\n",
       "</p>\n",
       "<p>\n",
       "  If you're reading this message in another frontend (for example, a static\n",
       "  rendering on GitHub or <a href=\"https://nbviewer.jupyter.org/\">NBViewer</a>),\n",
       "  it may mean that your frontend doesn't currently support widgets.\n",
       "</p>\n"
      ],
      "text/plain": [
       "ToggleButtons(description='Material:', options=('Al', 'HDPE', 'AlPE'), tooltips=['Aluminum', 'Polyethylene', 'Combination of Al and HDPE'], value='Al')"
      ]
     },
     "metadata": {},
     "output_type": "display_data"
    },
    {
     "data": {
      "application/javascript": [
       "IPython.notebook.execute_cells([IPython.notebook.get_selected_index()+1,6,7])"
      ],
      "text/plain": [
       "<IPython.core.display.Javascript object>"
      ]
     },
     "metadata": {},
     "output_type": "display_data"
    },
    {
     "data": {
      "application/javascript": [
       "IPython.notebook.execute_cells([IPython.notebook.get_selected_index()+1,6,7])"
      ],
      "text/plain": [
       "<IPython.core.display.Javascript object>"
      ]
     },
     "metadata": {},
     "output_type": "display_data"
    }
   ],
   "source": [
    "isi = find(ion_species.value,projectile_sym_str)\n",
    "iei = find(ion_energy.value,erg_options(isi))\n",
    "\n",
    "target_mats_long = ['Aluminum','Polyethylene','Combination of Al and HDPE']\n",
    "target_mats_short = ['Al','HDPE','AlPE']\n",
    "\n",
    "tm_label = widgets.Label(value=\"Select upstream target material and thickness.\")\n",
    "\n",
    "target_material = widgets.ToggleButtons(\n",
    "    options=target_mats_short,\n",
    "    description='Material:',\n",
    "    disabled=False,\n",
    "    button_style='', # 'success', 'info', 'warning', 'danger' or ''\n",
    "    tooltips=target_mats_long,\n",
    "#     icons=['check'] * 3\n",
    ")\n",
    "\n",
    "target_material.observe(on_click_next_67, 'value')\n",
    "display(tm_label, target_material)"
   ]
  },
  {
   "cell_type": "code",
   "execution_count": 30,
   "metadata": {},
   "outputs": [
    {
     "data": {
      "application/vnd.jupyter.widget-view+json": {
       "model_id": "3e423917905745f0b97154b6676a5f1c",
       "version_major": 2,
       "version_minor": 0
      },
      "text/html": [
       "<p>Failed to display Jupyter Widget of type <code>ToggleButtons</code>.</p>\n",
       "<p>\n",
       "  If you're reading this message in the Jupyter Notebook or JupyterLab Notebook, it may mean\n",
       "  that the widgets JavaScript is still loading. If this message persists, it\n",
       "  likely means that the widgets JavaScript library is either not installed or\n",
       "  not enabled. See the <a href=\"https://ipywidgets.readthedocs.io/en/stable/user_install.html\">Jupyter\n",
       "  Widgets Documentation</a> for setup instructions.\n",
       "</p>\n",
       "<p>\n",
       "  If you're reading this message in another frontend (for example, a static\n",
       "  rendering on GitHub or <a href=\"https://nbviewer.jupyter.org/\">NBViewer</a>),\n",
       "  it may mean that your frontend doesn't currently support widgets.\n",
       "</p>\n"
      ],
      "text/plain": [
       "ToggleButtons(description='Thickness:', options=('20 g/cm²', '40 g/cm²', '60 g/cm²'), tooltips=['20 g/cm² Aluminum', '40 g/cm² Aluminum', '60 g/cm² Aluminum'], value='20 g/cm²')"
      ]
     },
     "metadata": {},
     "output_type": "display_data"
    }
   ],
   "source": [
    "isi = find(ion_species.value,projectile_sym_str)\n",
    "iei = find(ion_energy.value,erg_options(isi))\n",
    "ftmi = find(target_material.value,target_mats_short)\n",
    "thicknesses = ['20 g/cm\\u00B2','40 g/cm\\u00B2','60 g/cm\\u00B2']\n",
    "def thickness_options(ftmi):\n",
    "    if ftmi == 2:\n",
    "        thicknesses = ['20 g/cm\\u00B2','60 g/cm\\u00B2']\n",
    "        thick_mouseover = ['10 g/cm\\u00B2 Al upstream + 10 g/cm\\u00B2 HDPE downstream','10 g/cm\\u00B2 Al upstream + 50 g/cm\\u00B2 HDPE downstream']\n",
    "    else:\n",
    "        thicknesses = ['20 g/cm\\u00B2','40 g/cm\\u00B2','60 g/cm\\u00B2']\n",
    "        thick_mouseover = ['20 g/cm\\u00B2 '+target_mats_long[ftmi],'40 g/cm\\u00B2 '+target_mats_long[ftmi],'60 g/cm\\u00B2 '+target_mats_long[ftmi]]\n",
    "    return thicknesses, thick_mouseover\n",
    "\n",
    "tt_label = widgets.Label(value=\"Select upstream target mass thickness.\")\n",
    "\n",
    "target_thickness = widgets.ToggleButtons(\n",
    "    options=thickness_options(ftmi)[0],\n",
    "    description='Thickness:',\n",
    "    disabled=False,\n",
    "    button_style='', # 'success', 'info', 'warning', 'danger' or ''\n",
    "    tooltips=thickness_options(ftmi)[1],\n",
    "#     icons=['check'] * 3\n",
    ")\n",
    "\n",
    "target_thickness.observe(on_click_67, 'value')\n",
    "#display(tt_label, target_thickness)\n",
    "display(target_thickness)"
   ]
  },
  {
   "cell_type": "code",
   "execution_count": 6,
   "metadata": {},
   "outputs": [
    {
     "data": {
      "application/vnd.jupyter.widget-view+json": {
       "model_id": "58fcf2b071da4c7fb784aef232a3f14a",
       "version_major": 2,
       "version_minor": 0
      },
      "text/html": [
       "<p>Failed to display Jupyter Widget of type <code>Label</code>.</p>\n",
       "<p>\n",
       "  If you're reading this message in the Jupyter Notebook or JupyterLab Notebook, it may mean\n",
       "  that the widgets JavaScript is still loading. If this message persists, it\n",
       "  likely means that the widgets JavaScript library is either not installed or\n",
       "  not enabled. See the <a href=\"https://ipywidgets.readthedocs.io/en/stable/user_install.html\">Jupyter\n",
       "  Widgets Documentation</a> for setup instructions.\n",
       "</p>\n",
       "<p>\n",
       "  If you're reading this message in another frontend (for example, a static\n",
       "  rendering on GitHub or <a href=\"https://nbviewer.jupyter.org/\">NBViewer</a>),\n",
       "  it may mean that your frontend doesn't currently support widgets.\n",
       "</p>\n"
      ],
      "text/plain": [
       "Label(value='Select a detector type.')"
      ]
     },
     "metadata": {},
     "output_type": "display_data"
    },
    {
     "data": {
      "application/vnd.jupyter.widget-view+json": {
       "model_id": "a12a028ba6c0452bb1bfcf1957314d1c",
       "version_major": 2,
       "version_minor": 0
      },
      "text/html": [
       "<p>Failed to display Jupyter Widget of type <code>ToggleButtons</code>.</p>\n",
       "<p>\n",
       "  If you're reading this message in the Jupyter Notebook or JupyterLab Notebook, it may mean\n",
       "  that the widgets JavaScript is still loading. If this message persists, it\n",
       "  likely means that the widgets JavaScript library is either not installed or\n",
       "  not enabled. See the <a href=\"https://ipywidgets.readthedocs.io/en/stable/user_install.html\">Jupyter\n",
       "  Widgets Documentation</a> for setup instructions.\n",
       "</p>\n",
       "<p>\n",
       "  If you're reading this message in another frontend (for example, a static\n",
       "  rendering on GitHub or <a href=\"https://nbviewer.jupyter.org/\">NBViewer</a>),\n",
       "  it may mean that your frontend doesn't currently support widgets.\n",
       "</p>\n"
      ],
      "text/plain": [
       "ToggleButtons(description='Type:', options=('OLS', 'NaI'), tooltips=['Organic Liquid Scintillator', 'Sodium Iodide'], value='OLS')"
      ]
     },
     "metadata": {},
     "output_type": "display_data"
    },
    {
     "data": {
      "application/javascript": [
       "IPython.notebook.execute_cells([6,7])"
      ],
      "text/plain": [
       "<IPython.core.display.Javascript object>"
      ]
     },
     "metadata": {},
     "output_type": "display_data"
    }
   ],
   "source": [
    "isi = find(ion_species.value,projectile_sym_str)\n",
    "iei = find(ion_energy.value,erg_options(isi))\n",
    "ftmi = find(target_material.value,target_mats_short)\n",
    "ftti = find(target_thickness.value,thicknesses)\n",
    "\n",
    "detectors_short = ['OLS','NaI']\n",
    "detectors_long = ['Organic Liquid Scintillator','Sodium Iodide']\n",
    "\n",
    "dt_label = widgets.Label(value=\"Select a detector type.\")\n",
    "\n",
    "detector_type = widgets.ToggleButtons(\n",
    "    options=detectors_short,\n",
    "    description='Type:',\n",
    "    disabled=False,\n",
    "    button_style='', # 'success', 'info', 'warning', 'danger' or ''\n",
    "    tooltips=detectors_long,\n",
    "#     icons=['check'] * 3\n",
    ")\n",
    "\n",
    "detector_type.observe(on_click_67, 'value')\n",
    "display(dt_label,detector_type)"
   ]
  },
  {
   "cell_type": "code",
   "execution_count": null,
   "metadata": {},
   "outputs": [],
   "source": [
    "isi = find(ion_species.value,projectile_sym_str)\n",
    "iei = find(ion_energy.value,erg_options(isi))\n",
    "ftmi = find(target_material.value,target_mats_short)\n",
    "ftti = find(target_thickness.value,thicknesses)\n",
    "detti = find(detector_type.value,detectors_short)\n",
    "if detti==1: \n",
    "    add2deti = 6 # offset in matrix for NaI detectors\n",
    "else:\n",
    "    add2deti = 0 \n",
    "\n",
    "# See which secondary particles exist\n",
    "existing_pars_i = []\n",
    "for i in range(np.shape(mm_exists[0,isi,iei,ftmi,ftti,:,add2deti:(add2deti+6)])[0]):\n",
    "    if np.any(mm_exists[0,isi,iei,ftmi,ftti,i,add2deti:(add2deti+6)]):\n",
    "        existing_pars_i.append(i)\n",
    "        \n",
    "particles_long = ['Neutron','Back Target Neutron','Proton','Deuteron','Triton','Helium-3','Helium-4'] # second 'Neutron' can be renamed to specify deconvoluted origin\n",
    "particles_short = ['N','NDC','H','D','T','S','A']\n",
    "particles_med = ['N (\\u00B9n)','NDC (\\u00B9n)','P (\\u00B9H)','D (\\u00B2H)','T (\\u00B3H)','S (\\u00B3He)','A (\\u2074He)']\n",
    "\n",
    "present_pars_long = [particles_long[i] for i in existing_pars_i]\n",
    "present_pars_med = [particles_med[i] for i in existing_pars_i]\n",
    "\n",
    "sp_label = widgets.Label(value=\"Select which secondary particle to plot spectra for.\")\n",
    "\n",
    "secondary_particle = widgets.ToggleButtons(\n",
    "    options=present_pars_med,\n",
    "    description='Particle:',\n",
    "    disabled=False,\n",
    "    button_style='', # 'success', 'info', 'warning', 'danger' or ''\n",
    "    tooltips=present_pars_long,\n",
    "#     icons=['check'] * 3\n",
    ")\n",
    "\n",
    "secondary_particle.observe(on_click_next, 'value')\n",
    "display(sp_label,secondary_particle)\n"
   ]
  },
  {
   "cell_type": "code",
   "execution_count": null,
   "metadata": {},
   "outputs": [],
   "source": [
    "isi = find(ion_species.value,projectile_sym_str)\n",
    "iei = find(ion_energy.value,erg_options(isi))\n",
    "ftmi = find(target_material.value,target_mats_short)\n",
    "ftti = find(target_thickness.value,thicknesses)\n",
    "detti = find(detector_type.value,detectors_short)\n",
    "spi = find(secondary_particle.value,particles_med)\n",
    "\n",
    "detectors_angles = [['10\\u00B0','30\\u00B0','45\\u00B0','60\\u00B0','80\\u00B0','135\\u00B0'], ['7.2\\u00B0','10\\u00B0','12.7\\u00B0','28.2\\u00B0','30\\u00B0','32.7\\u00B0']]\n",
    "available_det_angles = []\n",
    "\n",
    "da_label = widgets.Label(value=\"Select the detector angles to plot.\")\n",
    "\n",
    "dets = []\n",
    "for i in range(6):\n",
    "    if mm_exists[0,isi,iei,ftmi,ftti,spi,(add2deti+i)]:\n",
    "        available_det_angles.append(detectors_angles[detti][i])\n",
    "        dets.append(widgets.Checkbox(\n",
    "            value=True,\n",
    "            description=detectors_angles[detti][i],\n",
    "            disabled=False\n",
    "        ))\n",
    "\n",
    "display(da_label)\n",
    "for i in range(len(dets)):\n",
    "    display(dets[i])"
   ]
  },
  {
   "cell_type": "code",
   "execution_count": null,
   "metadata": {},
   "outputs": [],
   "source": [
    "isi = find(ion_species.value,projectile_sym_str)\n",
    "iei = find(ion_energy.value,erg_options(isi))\n",
    "ftmi = find(target_material.value,target_mats_short)\n",
    "ftti = find(target_thickness.value,thicknesses)\n",
    "detti = find(detector_type.value,detectors_short)\n",
    "spi = find(secondary_particle.value,particles_med)\n",
    "\n",
    "det_angle_i_list = []\n",
    "for i in range(len(available_det_angles)):\n",
    "    if dets[i].value:\n",
    "        if detti == 0:\n",
    "            det_angle_i_list.append(find(available_det_angles[i],detectors_angles[detti]))\n",
    "        else:\n",
    "            det_angle_i_list.append(find(available_det_angles[i],detectors_angles[detti])+6) # for NaI\n",
    "\n",
    "ds_label = widgets.Label(value='Select which sets of data to display.')            \n",
    "\n",
    "data_set_names = ['Experiment','MCNP simulated','PHITS simulated']\n",
    "data_sets = []\n",
    "for i in range(3):\n",
    "    data_sets.append(widgets.Checkbox(\n",
    "        value=True,\n",
    "        description=data_set_names[i],\n",
    "        disabled=False\n",
    "    ))\n",
    "\n",
    "display(ds_label)\n",
    "for i in range(3):\n",
    "    display(data_sets[i])\n",
    "\n"
   ]
  },
  {
   "cell_type": "code",
   "execution_count": null,
   "metadata": {},
   "outputs": [
    {
     "data": {
      "application/javascript": [
       "IPython.notebook.execute_cells([IPython.notebook.get_selected_index()+1])"
      ],
      "text/plain": [
       "<IPython.core.display.Javascript object>"
      ]
     },
     "metadata": {},
     "output_type": "display_data"
    }
   ],
   "source": [
    "isi = find(ion_species.value,projectile_sym_str)\n",
    "iei = find(ion_energy.value,erg_options(isi))\n",
    "ftmi = find(target_material.value,target_mats_short)\n",
    "ftti = find(target_thickness.value,thicknesses)\n",
    "detti = find(detector_type.value,detectors_short)\n",
    "spi = find(secondary_particle.value,particles_med)\n",
    "\n",
    "det_angle_i_list = []\n",
    "for i in range(len(available_det_angles)):\n",
    "    if dets[i].value:\n",
    "        if detti == 0:\n",
    "            det_angle_i_list.append(find(available_det_angles[i],detectors_angles[detti]))\n",
    "        else:\n",
    "            det_angle_i_list.append(find(available_det_angles[i],detectors_angles[detti])+6) # for NaI\n",
    "            \n",
    "data_set_i_list = []\n",
    "for i in range(3):\n",
    "    if data_sets[i].value:\n",
    "        data_set_i_list.append(i)\n",
    "\n",
    "spacing_short = ['None','Spaced by 10\\u00B2']\n",
    "spacing_long = ['All values are presented as is.','Plots for different detectors are multiplied by powers of 10\\u00B2 for easier viewing.']\n",
    "\n",
    "spacing_label = widgets.Label(value='Select how data sets for each detector should be spaced apart (if at all).')  \n",
    "\n",
    "spacing_choice = widgets.ToggleButtons(\n",
    "    options=spacing_short,\n",
    "    description='Spacing:',\n",
    "    disabled=False,\n",
    "    button_style='', # 'success', 'info', 'warning', 'danger' or ''\n",
    "    tooltips=spacing_long,\n",
    "#     icons=['check'] * 3\n",
    ")\n",
    "\n",
    "spacing_choice.observe(on_click_next, 'value')\n",
    "display(spacing_label, spacing_choice)"
   ]
  },
  {
   "cell_type": "code",
   "execution_count": null,
   "metadata": {},
   "outputs": [
    {
     "data": {
      "application/javascript": [
       "IPython.notebook.execute_cells([IPython.notebook.get_selected_index()+1])"
      ],
      "text/plain": [
       "<IPython.core.display.Javascript object>"
      ]
     },
     "metadata": {},
     "output_type": "display_data"
    }
   ],
   "source": [
    "make_plot_button = widgets.Button(\n",
    "    description='Update plot',\n",
    "    disabled=False,\n",
    "    button_style='success', # 'success', 'info', 'warning', 'danger' or ''\n",
    "    tooltip='Click to redraw the plot below with updated options from above.',\n",
    "    icon='paint-brush' # pencil, rotate-right\n",
    ")\n",
    "\n",
    "#make_plot_button.observe(on_click_next, 'value')\n",
    "display(make_plot_button)\n",
    "make_plot_button.on_click(on_click_next)"
   ]
  },
  {
   "cell_type": "code",
   "execution_count": 35,
   "metadata": {},
   "outputs": [
    {
     "data": {
      "application/javascript": [
       "/* Put everything inside the global mpl namespace */\n",
       "window.mpl = {};\n",
       "\n",
       "\n",
       "mpl.get_websocket_type = function() {\n",
       "    if (typeof(WebSocket) !== 'undefined') {\n",
       "        return WebSocket;\n",
       "    } else if (typeof(MozWebSocket) !== 'undefined') {\n",
       "        return MozWebSocket;\n",
       "    } else {\n",
       "        alert('Your browser does not have WebSocket support.' +\n",
       "              'Please try Chrome, Safari or Firefox ≥ 6. ' +\n",
       "              'Firefox 4 and 5 are also supported but you ' +\n",
       "              'have to enable WebSockets in about:config.');\n",
       "    };\n",
       "}\n",
       "\n",
       "mpl.figure = function(figure_id, websocket, ondownload, parent_element) {\n",
       "    this.id = figure_id;\n",
       "\n",
       "    this.ws = websocket;\n",
       "\n",
       "    this.supports_binary = (this.ws.binaryType != undefined);\n",
       "\n",
       "    if (!this.supports_binary) {\n",
       "        var warnings = document.getElementById(\"mpl-warnings\");\n",
       "        if (warnings) {\n",
       "            warnings.style.display = 'block';\n",
       "            warnings.textContent = (\n",
       "                \"This browser does not support binary websocket messages. \" +\n",
       "                    \"Performance may be slow.\");\n",
       "        }\n",
       "    }\n",
       "\n",
       "    this.imageObj = new Image();\n",
       "\n",
       "    this.context = undefined;\n",
       "    this.message = undefined;\n",
       "    this.canvas = undefined;\n",
       "    this.rubberband_canvas = undefined;\n",
       "    this.rubberband_context = undefined;\n",
       "    this.format_dropdown = undefined;\n",
       "\n",
       "    this.image_mode = 'full';\n",
       "\n",
       "    this.root = $('<div/>');\n",
       "    this._root_extra_style(this.root)\n",
       "    this.root.attr('style', 'display: inline-block');\n",
       "\n",
       "    $(parent_element).append(this.root);\n",
       "\n",
       "    this._init_header(this);\n",
       "    this._init_canvas(this);\n",
       "    this._init_toolbar(this);\n",
       "\n",
       "    var fig = this;\n",
       "\n",
       "    this.waiting = false;\n",
       "\n",
       "    this.ws.onopen =  function () {\n",
       "            fig.send_message(\"supports_binary\", {value: fig.supports_binary});\n",
       "            fig.send_message(\"send_image_mode\", {});\n",
       "            if (mpl.ratio != 1) {\n",
       "                fig.send_message(\"set_dpi_ratio\", {'dpi_ratio': mpl.ratio});\n",
       "            }\n",
       "            fig.send_message(\"refresh\", {});\n",
       "        }\n",
       "\n",
       "    this.imageObj.onload = function() {\n",
       "            if (fig.image_mode == 'full') {\n",
       "                // Full images could contain transparency (where diff images\n",
       "                // almost always do), so we need to clear the canvas so that\n",
       "                // there is no ghosting.\n",
       "                fig.context.clearRect(0, 0, fig.canvas.width, fig.canvas.height);\n",
       "            }\n",
       "            fig.context.drawImage(fig.imageObj, 0, 0);\n",
       "        };\n",
       "\n",
       "    this.imageObj.onunload = function() {\n",
       "        fig.ws.close();\n",
       "    }\n",
       "\n",
       "    this.ws.onmessage = this._make_on_message_function(this);\n",
       "\n",
       "    this.ondownload = ondownload;\n",
       "}\n",
       "\n",
       "mpl.figure.prototype._init_header = function() {\n",
       "    var titlebar = $(\n",
       "        '<div class=\"ui-dialog-titlebar ui-widget-header ui-corner-all ' +\n",
       "        'ui-helper-clearfix\"/>');\n",
       "    var titletext = $(\n",
       "        '<div class=\"ui-dialog-title\" style=\"width: 100%; ' +\n",
       "        'text-align: center; padding: 3px;\"/>');\n",
       "    titlebar.append(titletext)\n",
       "    this.root.append(titlebar);\n",
       "    this.header = titletext[0];\n",
       "}\n",
       "\n",
       "\n",
       "\n",
       "mpl.figure.prototype._canvas_extra_style = function(canvas_div) {\n",
       "\n",
       "}\n",
       "\n",
       "\n",
       "mpl.figure.prototype._root_extra_style = function(canvas_div) {\n",
       "\n",
       "}\n",
       "\n",
       "mpl.figure.prototype._init_canvas = function() {\n",
       "    var fig = this;\n",
       "\n",
       "    var canvas_div = $('<div/>');\n",
       "\n",
       "    canvas_div.attr('style', 'position: relative; clear: both; outline: 0');\n",
       "\n",
       "    function canvas_keyboard_event(event) {\n",
       "        return fig.key_event(event, event['data']);\n",
       "    }\n",
       "\n",
       "    canvas_div.keydown('key_press', canvas_keyboard_event);\n",
       "    canvas_div.keyup('key_release', canvas_keyboard_event);\n",
       "    this.canvas_div = canvas_div\n",
       "    this._canvas_extra_style(canvas_div)\n",
       "    this.root.append(canvas_div);\n",
       "\n",
       "    var canvas = $('<canvas/>');\n",
       "    canvas.addClass('mpl-canvas');\n",
       "    canvas.attr('style', \"left: 0; top: 0; z-index: 0; outline: 0\")\n",
       "\n",
       "    this.canvas = canvas[0];\n",
       "    this.context = canvas[0].getContext(\"2d\");\n",
       "\n",
       "    var backingStore = this.context.backingStorePixelRatio ||\n",
       "\tthis.context.webkitBackingStorePixelRatio ||\n",
       "\tthis.context.mozBackingStorePixelRatio ||\n",
       "\tthis.context.msBackingStorePixelRatio ||\n",
       "\tthis.context.oBackingStorePixelRatio ||\n",
       "\tthis.context.backingStorePixelRatio || 1;\n",
       "\n",
       "    mpl.ratio = (window.devicePixelRatio || 1) / backingStore;\n",
       "\n",
       "    var rubberband = $('<canvas/>');\n",
       "    rubberband.attr('style', \"position: absolute; left: 0; top: 0; z-index: 1;\")\n",
       "\n",
       "    var pass_mouse_events = true;\n",
       "\n",
       "    canvas_div.resizable({\n",
       "        start: function(event, ui) {\n",
       "            pass_mouse_events = false;\n",
       "        },\n",
       "        resize: function(event, ui) {\n",
       "            fig.request_resize(ui.size.width, ui.size.height);\n",
       "        },\n",
       "        stop: function(event, ui) {\n",
       "            pass_mouse_events = true;\n",
       "            fig.request_resize(ui.size.width, ui.size.height);\n",
       "        },\n",
       "    });\n",
       "\n",
       "    function mouse_event_fn(event) {\n",
       "        if (pass_mouse_events)\n",
       "            return fig.mouse_event(event, event['data']);\n",
       "    }\n",
       "\n",
       "    rubberband.mousedown('button_press', mouse_event_fn);\n",
       "    rubberband.mouseup('button_release', mouse_event_fn);\n",
       "    // Throttle sequential mouse events to 1 every 20ms.\n",
       "    rubberband.mousemove('motion_notify', mouse_event_fn);\n",
       "\n",
       "    rubberband.mouseenter('figure_enter', mouse_event_fn);\n",
       "    rubberband.mouseleave('figure_leave', mouse_event_fn);\n",
       "\n",
       "    canvas_div.on(\"wheel\", function (event) {\n",
       "        event = event.originalEvent;\n",
       "        event['data'] = 'scroll'\n",
       "        if (event.deltaY < 0) {\n",
       "            event.step = 1;\n",
       "        } else {\n",
       "            event.step = -1;\n",
       "        }\n",
       "        mouse_event_fn(event);\n",
       "    });\n",
       "\n",
       "    canvas_div.append(canvas);\n",
       "    canvas_div.append(rubberband);\n",
       "\n",
       "    this.rubberband = rubberband;\n",
       "    this.rubberband_canvas = rubberband[0];\n",
       "    this.rubberband_context = rubberband[0].getContext(\"2d\");\n",
       "    this.rubberband_context.strokeStyle = \"#000000\";\n",
       "\n",
       "    this._resize_canvas = function(width, height) {\n",
       "        // Keep the size of the canvas, canvas container, and rubber band\n",
       "        // canvas in synch.\n",
       "        canvas_div.css('width', width)\n",
       "        canvas_div.css('height', height)\n",
       "\n",
       "        canvas.attr('width', width * mpl.ratio);\n",
       "        canvas.attr('height', height * mpl.ratio);\n",
       "        canvas.attr('style', 'width: ' + width + 'px; height: ' + height + 'px;');\n",
       "\n",
       "        rubberband.attr('width', width);\n",
       "        rubberband.attr('height', height);\n",
       "    }\n",
       "\n",
       "    // Set the figure to an initial 600x600px, this will subsequently be updated\n",
       "    // upon first draw.\n",
       "    this._resize_canvas(600, 600);\n",
       "\n",
       "    // Disable right mouse context menu.\n",
       "    $(this.rubberband_canvas).bind(\"contextmenu\",function(e){\n",
       "        return false;\n",
       "    });\n",
       "\n",
       "    function set_focus () {\n",
       "        canvas.focus();\n",
       "        canvas_div.focus();\n",
       "    }\n",
       "\n",
       "    window.setTimeout(set_focus, 100);\n",
       "}\n",
       "\n",
       "mpl.figure.prototype._init_toolbar = function() {\n",
       "    var fig = this;\n",
       "\n",
       "    var nav_element = $('<div/>')\n",
       "    nav_element.attr('style', 'width: 100%');\n",
       "    this.root.append(nav_element);\n",
       "\n",
       "    // Define a callback function for later on.\n",
       "    function toolbar_event(event) {\n",
       "        return fig.toolbar_button_onclick(event['data']);\n",
       "    }\n",
       "    function toolbar_mouse_event(event) {\n",
       "        return fig.toolbar_button_onmouseover(event['data']);\n",
       "    }\n",
       "\n",
       "    for(var toolbar_ind in mpl.toolbar_items) {\n",
       "        var name = mpl.toolbar_items[toolbar_ind][0];\n",
       "        var tooltip = mpl.toolbar_items[toolbar_ind][1];\n",
       "        var image = mpl.toolbar_items[toolbar_ind][2];\n",
       "        var method_name = mpl.toolbar_items[toolbar_ind][3];\n",
       "\n",
       "        if (!name) {\n",
       "            // put a spacer in here.\n",
       "            continue;\n",
       "        }\n",
       "        var button = $('<button/>');\n",
       "        button.addClass('ui-button ui-widget ui-state-default ui-corner-all ' +\n",
       "                        'ui-button-icon-only');\n",
       "        button.attr('role', 'button');\n",
       "        button.attr('aria-disabled', 'false');\n",
       "        button.click(method_name, toolbar_event);\n",
       "        button.mouseover(tooltip, toolbar_mouse_event);\n",
       "\n",
       "        var icon_img = $('<span/>');\n",
       "        icon_img.addClass('ui-button-icon-primary ui-icon');\n",
       "        icon_img.addClass(image);\n",
       "        icon_img.addClass('ui-corner-all');\n",
       "\n",
       "        var tooltip_span = $('<span/>');\n",
       "        tooltip_span.addClass('ui-button-text');\n",
       "        tooltip_span.html(tooltip);\n",
       "\n",
       "        button.append(icon_img);\n",
       "        button.append(tooltip_span);\n",
       "\n",
       "        nav_element.append(button);\n",
       "    }\n",
       "\n",
       "    var fmt_picker_span = $('<span/>');\n",
       "\n",
       "    var fmt_picker = $('<select/>');\n",
       "    fmt_picker.addClass('mpl-toolbar-option ui-widget ui-widget-content');\n",
       "    fmt_picker_span.append(fmt_picker);\n",
       "    nav_element.append(fmt_picker_span);\n",
       "    this.format_dropdown = fmt_picker[0];\n",
       "\n",
       "    for (var ind in mpl.extensions) {\n",
       "        var fmt = mpl.extensions[ind];\n",
       "        var option = $(\n",
       "            '<option/>', {selected: fmt === mpl.default_extension}).html(fmt);\n",
       "        fmt_picker.append(option)\n",
       "    }\n",
       "\n",
       "    // Add hover states to the ui-buttons\n",
       "    $( \".ui-button\" ).hover(\n",
       "        function() { $(this).addClass(\"ui-state-hover\");},\n",
       "        function() { $(this).removeClass(\"ui-state-hover\");}\n",
       "    );\n",
       "\n",
       "    var status_bar = $('<span class=\"mpl-message\"/>');\n",
       "    nav_element.append(status_bar);\n",
       "    this.message = status_bar[0];\n",
       "}\n",
       "\n",
       "mpl.figure.prototype.request_resize = function(x_pixels, y_pixels) {\n",
       "    // Request matplotlib to resize the figure. Matplotlib will then trigger a resize in the client,\n",
       "    // which will in turn request a refresh of the image.\n",
       "    this.send_message('resize', {'width': x_pixels, 'height': y_pixels});\n",
       "}\n",
       "\n",
       "mpl.figure.prototype.send_message = function(type, properties) {\n",
       "    properties['type'] = type;\n",
       "    properties['figure_id'] = this.id;\n",
       "    this.ws.send(JSON.stringify(properties));\n",
       "}\n",
       "\n",
       "mpl.figure.prototype.send_draw_message = function() {\n",
       "    if (!this.waiting) {\n",
       "        this.waiting = true;\n",
       "        this.ws.send(JSON.stringify({type: \"draw\", figure_id: this.id}));\n",
       "    }\n",
       "}\n",
       "\n",
       "\n",
       "mpl.figure.prototype.handle_save = function(fig, msg) {\n",
       "    var format_dropdown = fig.format_dropdown;\n",
       "    var format = format_dropdown.options[format_dropdown.selectedIndex].value;\n",
       "    fig.ondownload(fig, format);\n",
       "}\n",
       "\n",
       "\n",
       "mpl.figure.prototype.handle_resize = function(fig, msg) {\n",
       "    var size = msg['size'];\n",
       "    if (size[0] != fig.canvas.width || size[1] != fig.canvas.height) {\n",
       "        fig._resize_canvas(size[0], size[1]);\n",
       "        fig.send_message(\"refresh\", {});\n",
       "    };\n",
       "}\n",
       "\n",
       "mpl.figure.prototype.handle_rubberband = function(fig, msg) {\n",
       "    var x0 = msg['x0'] / mpl.ratio;\n",
       "    var y0 = (fig.canvas.height - msg['y0']) / mpl.ratio;\n",
       "    var x1 = msg['x1'] / mpl.ratio;\n",
       "    var y1 = (fig.canvas.height - msg['y1']) / mpl.ratio;\n",
       "    x0 = Math.floor(x0) + 0.5;\n",
       "    y0 = Math.floor(y0) + 0.5;\n",
       "    x1 = Math.floor(x1) + 0.5;\n",
       "    y1 = Math.floor(y1) + 0.5;\n",
       "    var min_x = Math.min(x0, x1);\n",
       "    var min_y = Math.min(y0, y1);\n",
       "    var width = Math.abs(x1 - x0);\n",
       "    var height = Math.abs(y1 - y0);\n",
       "\n",
       "    fig.rubberband_context.clearRect(\n",
       "        0, 0, fig.canvas.width, fig.canvas.height);\n",
       "\n",
       "    fig.rubberband_context.strokeRect(min_x, min_y, width, height);\n",
       "}\n",
       "\n",
       "mpl.figure.prototype.handle_figure_label = function(fig, msg) {\n",
       "    // Updates the figure title.\n",
       "    fig.header.textContent = msg['label'];\n",
       "}\n",
       "\n",
       "mpl.figure.prototype.handle_cursor = function(fig, msg) {\n",
       "    var cursor = msg['cursor'];\n",
       "    switch(cursor)\n",
       "    {\n",
       "    case 0:\n",
       "        cursor = 'pointer';\n",
       "        break;\n",
       "    case 1:\n",
       "        cursor = 'default';\n",
       "        break;\n",
       "    case 2:\n",
       "        cursor = 'crosshair';\n",
       "        break;\n",
       "    case 3:\n",
       "        cursor = 'move';\n",
       "        break;\n",
       "    }\n",
       "    fig.rubberband_canvas.style.cursor = cursor;\n",
       "}\n",
       "\n",
       "mpl.figure.prototype.handle_message = function(fig, msg) {\n",
       "    fig.message.textContent = msg['message'];\n",
       "}\n",
       "\n",
       "mpl.figure.prototype.handle_draw = function(fig, msg) {\n",
       "    // Request the server to send over a new figure.\n",
       "    fig.send_draw_message();\n",
       "}\n",
       "\n",
       "mpl.figure.prototype.handle_image_mode = function(fig, msg) {\n",
       "    fig.image_mode = msg['mode'];\n",
       "}\n",
       "\n",
       "mpl.figure.prototype.updated_canvas_event = function() {\n",
       "    // Called whenever the canvas gets updated.\n",
       "    this.send_message(\"ack\", {});\n",
       "}\n",
       "\n",
       "// A function to construct a web socket function for onmessage handling.\n",
       "// Called in the figure constructor.\n",
       "mpl.figure.prototype._make_on_message_function = function(fig) {\n",
       "    return function socket_on_message(evt) {\n",
       "        if (evt.data instanceof Blob) {\n",
       "            /* FIXME: We get \"Resource interpreted as Image but\n",
       "             * transferred with MIME type text/plain:\" errors on\n",
       "             * Chrome.  But how to set the MIME type?  It doesn't seem\n",
       "             * to be part of the websocket stream */\n",
       "            evt.data.type = \"image/png\";\n",
       "\n",
       "            /* Free the memory for the previous frames */\n",
       "            if (fig.imageObj.src) {\n",
       "                (window.URL || window.webkitURL).revokeObjectURL(\n",
       "                    fig.imageObj.src);\n",
       "            }\n",
       "\n",
       "            fig.imageObj.src = (window.URL || window.webkitURL).createObjectURL(\n",
       "                evt.data);\n",
       "            fig.updated_canvas_event();\n",
       "            fig.waiting = false;\n",
       "            return;\n",
       "        }\n",
       "        else if (typeof evt.data === 'string' && evt.data.slice(0, 21) == \"data:image/png;base64\") {\n",
       "            fig.imageObj.src = evt.data;\n",
       "            fig.updated_canvas_event();\n",
       "            fig.waiting = false;\n",
       "            return;\n",
       "        }\n",
       "\n",
       "        var msg = JSON.parse(evt.data);\n",
       "        var msg_type = msg['type'];\n",
       "\n",
       "        // Call the  \"handle_{type}\" callback, which takes\n",
       "        // the figure and JSON message as its only arguments.\n",
       "        try {\n",
       "            var callback = fig[\"handle_\" + msg_type];\n",
       "        } catch (e) {\n",
       "            console.log(\"No handler for the '\" + msg_type + \"' message type: \", msg);\n",
       "            return;\n",
       "        }\n",
       "\n",
       "        if (callback) {\n",
       "            try {\n",
       "                // console.log(\"Handling '\" + msg_type + \"' message: \", msg);\n",
       "                callback(fig, msg);\n",
       "            } catch (e) {\n",
       "                console.log(\"Exception inside the 'handler_\" + msg_type + \"' callback:\", e, e.stack, msg);\n",
       "            }\n",
       "        }\n",
       "    };\n",
       "}\n",
       "\n",
       "// from http://stackoverflow.com/questions/1114465/getting-mouse-location-in-canvas\n",
       "mpl.findpos = function(e) {\n",
       "    //this section is from http://www.quirksmode.org/js/events_properties.html\n",
       "    var targ;\n",
       "    if (!e)\n",
       "        e = window.event;\n",
       "    if (e.target)\n",
       "        targ = e.target;\n",
       "    else if (e.srcElement)\n",
       "        targ = e.srcElement;\n",
       "    if (targ.nodeType == 3) // defeat Safari bug\n",
       "        targ = targ.parentNode;\n",
       "\n",
       "    // jQuery normalizes the pageX and pageY\n",
       "    // pageX,Y are the mouse positions relative to the document\n",
       "    // offset() returns the position of the element relative to the document\n",
       "    var x = e.pageX - $(targ).offset().left;\n",
       "    var y = e.pageY - $(targ).offset().top;\n",
       "\n",
       "    return {\"x\": x, \"y\": y};\n",
       "};\n",
       "\n",
       "/*\n",
       " * return a copy of an object with only non-object keys\n",
       " * we need this to avoid circular references\n",
       " * http://stackoverflow.com/a/24161582/3208463\n",
       " */\n",
       "function simpleKeys (original) {\n",
       "  return Object.keys(original).reduce(function (obj, key) {\n",
       "    if (typeof original[key] !== 'object')\n",
       "        obj[key] = original[key]\n",
       "    return obj;\n",
       "  }, {});\n",
       "}\n",
       "\n",
       "mpl.figure.prototype.mouse_event = function(event, name) {\n",
       "    var canvas_pos = mpl.findpos(event)\n",
       "\n",
       "    if (name === 'button_press')\n",
       "    {\n",
       "        this.canvas.focus();\n",
       "        this.canvas_div.focus();\n",
       "    }\n",
       "\n",
       "    var x = canvas_pos.x * mpl.ratio;\n",
       "    var y = canvas_pos.y * mpl.ratio;\n",
       "\n",
       "    this.send_message(name, {x: x, y: y, button: event.button,\n",
       "                             step: event.step,\n",
       "                             guiEvent: simpleKeys(event)});\n",
       "\n",
       "    /* This prevents the web browser from automatically changing to\n",
       "     * the text insertion cursor when the button is pressed.  We want\n",
       "     * to control all of the cursor setting manually through the\n",
       "     * 'cursor' event from matplotlib */\n",
       "    event.preventDefault();\n",
       "    return false;\n",
       "}\n",
       "\n",
       "mpl.figure.prototype._key_event_extra = function(event, name) {\n",
       "    // Handle any extra behaviour associated with a key event\n",
       "}\n",
       "\n",
       "mpl.figure.prototype.key_event = function(event, name) {\n",
       "\n",
       "    // Prevent repeat events\n",
       "    if (name == 'key_press')\n",
       "    {\n",
       "        if (event.which === this._key)\n",
       "            return;\n",
       "        else\n",
       "            this._key = event.which;\n",
       "    }\n",
       "    if (name == 'key_release')\n",
       "        this._key = null;\n",
       "\n",
       "    var value = '';\n",
       "    if (event.ctrlKey && event.which != 17)\n",
       "        value += \"ctrl+\";\n",
       "    if (event.altKey && event.which != 18)\n",
       "        value += \"alt+\";\n",
       "    if (event.shiftKey && event.which != 16)\n",
       "        value += \"shift+\";\n",
       "\n",
       "    value += 'k';\n",
       "    value += event.which.toString();\n",
       "\n",
       "    this._key_event_extra(event, name);\n",
       "\n",
       "    this.send_message(name, {key: value,\n",
       "                             guiEvent: simpleKeys(event)});\n",
       "    return false;\n",
       "}\n",
       "\n",
       "mpl.figure.prototype.toolbar_button_onclick = function(name) {\n",
       "    if (name == 'download') {\n",
       "        this.handle_save(this, null);\n",
       "    } else {\n",
       "        this.send_message(\"toolbar_button\", {name: name});\n",
       "    }\n",
       "};\n",
       "\n",
       "mpl.figure.prototype.toolbar_button_onmouseover = function(tooltip) {\n",
       "    this.message.textContent = tooltip;\n",
       "};\n",
       "mpl.toolbar_items = [[\"Home\", \"Reset original view\", \"fa fa-home icon-home\", \"home\"], [\"Back\", \"Back to  previous view\", \"fa fa-arrow-left icon-arrow-left\", \"back\"], [\"Forward\", \"Forward to next view\", \"fa fa-arrow-right icon-arrow-right\", \"forward\"], [\"\", \"\", \"\", \"\"], [\"Pan\", \"Pan axes with left mouse, zoom with right\", \"fa fa-arrows icon-move\", \"pan\"], [\"Zoom\", \"Zoom to rectangle\", \"fa fa-square-o icon-check-empty\", \"zoom\"], [\"\", \"\", \"\", \"\"], [\"Download\", \"Download plot\", \"fa fa-floppy-o icon-save\", \"download\"]];\n",
       "\n",
       "mpl.extensions = [\"eps\", \"jpeg\", \"pdf\", \"png\", \"ps\", \"raw\", \"svg\", \"tif\"];\n",
       "\n",
       "mpl.default_extension = \"png\";var comm_websocket_adapter = function(comm) {\n",
       "    // Create a \"websocket\"-like object which calls the given IPython comm\n",
       "    // object with the appropriate methods. Currently this is a non binary\n",
       "    // socket, so there is still some room for performance tuning.\n",
       "    var ws = {};\n",
       "\n",
       "    ws.close = function() {\n",
       "        comm.close()\n",
       "    };\n",
       "    ws.send = function(m) {\n",
       "        //console.log('sending', m);\n",
       "        comm.send(m);\n",
       "    };\n",
       "    // Register the callback with on_msg.\n",
       "    comm.on_msg(function(msg) {\n",
       "        //console.log('receiving', msg['content']['data'], msg);\n",
       "        // Pass the mpl event to the overriden (by mpl) onmessage function.\n",
       "        ws.onmessage(msg['content']['data'])\n",
       "    });\n",
       "    return ws;\n",
       "}\n",
       "\n",
       "mpl.mpl_figure_comm = function(comm, msg) {\n",
       "    // This is the function which gets called when the mpl process\n",
       "    // starts-up an IPython Comm through the \"matplotlib\" channel.\n",
       "\n",
       "    var id = msg.content.data.id;\n",
       "    // Get hold of the div created by the display call when the Comm\n",
       "    // socket was opened in Python.\n",
       "    var element = $(\"#\" + id);\n",
       "    var ws_proxy = comm_websocket_adapter(comm)\n",
       "\n",
       "    function ondownload(figure, format) {\n",
       "        window.open(figure.imageObj.src);\n",
       "    }\n",
       "\n",
       "    var fig = new mpl.figure(id, ws_proxy,\n",
       "                           ondownload,\n",
       "                           element.get(0));\n",
       "\n",
       "    // Call onopen now - mpl needs it, as it is assuming we've passed it a real\n",
       "    // web socket which is closed, not our websocket->open comm proxy.\n",
       "    ws_proxy.onopen();\n",
       "\n",
       "    fig.parent_element = element.get(0);\n",
       "    fig.cell_info = mpl.find_output_cell(\"<div id='\" + id + \"'></div>\");\n",
       "    if (!fig.cell_info) {\n",
       "        console.error(\"Failed to find cell for figure\", id, fig);\n",
       "        return;\n",
       "    }\n",
       "\n",
       "    var output_index = fig.cell_info[2]\n",
       "    var cell = fig.cell_info[0];\n",
       "\n",
       "};\n",
       "\n",
       "mpl.figure.prototype.handle_close = function(fig, msg) {\n",
       "    var width = fig.canvas.width/mpl.ratio\n",
       "    fig.root.unbind('remove')\n",
       "\n",
       "    // Update the output cell to use the data from the current canvas.\n",
       "    fig.push_to_output();\n",
       "    var dataURL = fig.canvas.toDataURL();\n",
       "    // Re-enable the keyboard manager in IPython - without this line, in FF,\n",
       "    // the notebook keyboard shortcuts fail.\n",
       "    IPython.keyboard_manager.enable()\n",
       "    $(fig.parent_element).html('<img src=\"' + dataURL + '\" width=\"' + width + '\">');\n",
       "    fig.close_ws(fig, msg);\n",
       "}\n",
       "\n",
       "mpl.figure.prototype.close_ws = function(fig, msg){\n",
       "    fig.send_message('closing', msg);\n",
       "    // fig.ws.close()\n",
       "}\n",
       "\n",
       "mpl.figure.prototype.push_to_output = function(remove_interactive) {\n",
       "    // Turn the data on the canvas into data in the output cell.\n",
       "    var width = this.canvas.width/mpl.ratio\n",
       "    var dataURL = this.canvas.toDataURL();\n",
       "    this.cell_info[1]['text/html'] = '<img src=\"' + dataURL + '\" width=\"' + width + '\">';\n",
       "}\n",
       "\n",
       "mpl.figure.prototype.updated_canvas_event = function() {\n",
       "    // Tell IPython that the notebook contents must change.\n",
       "    IPython.notebook.set_dirty(true);\n",
       "    this.send_message(\"ack\", {});\n",
       "    var fig = this;\n",
       "    // Wait a second, then push the new image to the DOM so\n",
       "    // that it is saved nicely (might be nice to debounce this).\n",
       "    setTimeout(function () { fig.push_to_output() }, 1000);\n",
       "}\n",
       "\n",
       "mpl.figure.prototype._init_toolbar = function() {\n",
       "    var fig = this;\n",
       "\n",
       "    var nav_element = $('<div/>')\n",
       "    nav_element.attr('style', 'width: 100%');\n",
       "    this.root.append(nav_element);\n",
       "\n",
       "    // Define a callback function for later on.\n",
       "    function toolbar_event(event) {\n",
       "        return fig.toolbar_button_onclick(event['data']);\n",
       "    }\n",
       "    function toolbar_mouse_event(event) {\n",
       "        return fig.toolbar_button_onmouseover(event['data']);\n",
       "    }\n",
       "\n",
       "    for(var toolbar_ind in mpl.toolbar_items){\n",
       "        var name = mpl.toolbar_items[toolbar_ind][0];\n",
       "        var tooltip = mpl.toolbar_items[toolbar_ind][1];\n",
       "        var image = mpl.toolbar_items[toolbar_ind][2];\n",
       "        var method_name = mpl.toolbar_items[toolbar_ind][3];\n",
       "\n",
       "        if (!name) { continue; };\n",
       "\n",
       "        var button = $('<button class=\"btn btn-default\" href=\"#\" title=\"' + name + '\"><i class=\"fa ' + image + ' fa-lg\"></i></button>');\n",
       "        button.click(method_name, toolbar_event);\n",
       "        button.mouseover(tooltip, toolbar_mouse_event);\n",
       "        nav_element.append(button);\n",
       "    }\n",
       "\n",
       "    // Add the status bar.\n",
       "    var status_bar = $('<span class=\"mpl-message\" style=\"text-align:right; float: right;\"/>');\n",
       "    nav_element.append(status_bar);\n",
       "    this.message = status_bar[0];\n",
       "\n",
       "    // Add the close button to the window.\n",
       "    var buttongrp = $('<div class=\"btn-group inline pull-right\"></div>');\n",
       "    var button = $('<button class=\"btn btn-mini btn-primary\" href=\"#\" title=\"Stop Interaction\"><i class=\"fa fa-power-off icon-remove icon-large\"></i></button>');\n",
       "    button.click(function (evt) { fig.handle_close(fig, {}); } );\n",
       "    button.mouseover('Stop Interaction', toolbar_mouse_event);\n",
       "    buttongrp.append(button);\n",
       "    var titlebar = this.root.find($('.ui-dialog-titlebar'));\n",
       "    titlebar.prepend(buttongrp);\n",
       "}\n",
       "\n",
       "mpl.figure.prototype._root_extra_style = function(el){\n",
       "    var fig = this\n",
       "    el.on(\"remove\", function(){\n",
       "\tfig.close_ws(fig, {});\n",
       "    });\n",
       "}\n",
       "\n",
       "mpl.figure.prototype._canvas_extra_style = function(el){\n",
       "    // this is important to make the div 'focusable\n",
       "    el.attr('tabindex', 0)\n",
       "    // reach out to IPython and tell the keyboard manager to turn it's self\n",
       "    // off when our div gets focus\n",
       "\n",
       "    // location in version 3\n",
       "    if (IPython.notebook.keyboard_manager) {\n",
       "        IPython.notebook.keyboard_manager.register_events(el);\n",
       "    }\n",
       "    else {\n",
       "        // location in version 2\n",
       "        IPython.keyboard_manager.register_events(el);\n",
       "    }\n",
       "\n",
       "}\n",
       "\n",
       "mpl.figure.prototype._key_event_extra = function(event, name) {\n",
       "    var manager = IPython.notebook.keyboard_manager;\n",
       "    if (!manager)\n",
       "        manager = IPython.keyboard_manager;\n",
       "\n",
       "    // Check for shift+enter\n",
       "    if (event.shiftKey && event.which == 13) {\n",
       "        this.canvas_div.blur();\n",
       "        event.shiftKey = false;\n",
       "        // Send a \"J\" for go to next cell\n",
       "        event.which = 74;\n",
       "        event.keyCode = 74;\n",
       "        manager.command_mode();\n",
       "        manager.handle_keydown(event);\n",
       "    }\n",
       "}\n",
       "\n",
       "mpl.figure.prototype.handle_save = function(fig, msg) {\n",
       "    fig.ondownload(fig, null);\n",
       "}\n",
       "\n",
       "\n",
       "mpl.find_output_cell = function(html_output) {\n",
       "    // Return the cell and output element which can be found *uniquely* in the notebook.\n",
       "    // Note - this is a bit hacky, but it is done because the \"notebook_saving.Notebook\"\n",
       "    // IPython event is triggered only after the cells have been serialised, which for\n",
       "    // our purposes (turning an active figure into a static one), is too late.\n",
       "    var cells = IPython.notebook.get_cells();\n",
       "    var ncells = cells.length;\n",
       "    for (var i=0; i<ncells; i++) {\n",
       "        var cell = cells[i];\n",
       "        if (cell.cell_type === 'code'){\n",
       "            for (var j=0; j<cell.output_area.outputs.length; j++) {\n",
       "                var data = cell.output_area.outputs[j];\n",
       "                if (data.data) {\n",
       "                    // IPython >= 3 moved mimebundle to data attribute of output\n",
       "                    data = data.data;\n",
       "                }\n",
       "                if (data['text/html'] == html_output) {\n",
       "                    return [cell, data, j];\n",
       "                }\n",
       "            }\n",
       "        }\n",
       "    }\n",
       "}\n",
       "\n",
       "// Register the function which deals with the matplotlib target/channel.\n",
       "// The kernel may be null if the page has been refreshed.\n",
       "if (IPython.notebook.kernel != null) {\n",
       "    IPython.notebook.kernel.comm_manager.register_target('matplotlib', mpl.mpl_figure_comm);\n",
       "}\n"
      ],
      "text/plain": [
       "<IPython.core.display.Javascript object>"
      ]
     },
     "metadata": {},
     "output_type": "display_data"
    },
    {
     "data": {
      "text/html": [
       "<img src=\"data:image/png;base64,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\" width=\"819\">"
      ],
      "text/plain": [
       "<IPython.core.display.HTML object>"
      ]
     },
     "metadata": {},
     "output_type": "display_data"
    }
   ],
   "source": [
    "isi = find(ion_species.value,projectile_sym_str)\n",
    "iei = find(ion_energy.value,erg_options(isi))\n",
    "ftmi = find(target_material.value,target_mats_short)\n",
    "ftti = find(target_thickness.value,thicknesses)\n",
    "detti = find(detector_type.value,detectors_short)\n",
    "spi = find(secondary_particle.value,particles_med)\n",
    "\n",
    "det_angle_i_list = []\n",
    "for i in range(len(available_det_angles)):\n",
    "    if dets[i].value:\n",
    "        if detti == 0:\n",
    "            det_angle_i_list.append(find(available_det_angles[i],detectors_angles[detti]))\n",
    "        else:\n",
    "            det_angle_i_list.append(find(available_det_angles[i],detectors_angles[detti])+6) # for NaI\n",
    "            \n",
    "data_set_i_list = []\n",
    "for i in range(3):\n",
    "    if data_sets[i].value:\n",
    "        data_set_i_list.append(i)\n",
    "        \n",
    "spacing_condition = find(spacing_choice.value,spacing_short)\n",
    "if spacing_condition == 0:\n",
    "    mult_factor_base = 1\n",
    "else:\n",
    "    mult_factor_base = 100\n",
    "\n",
    "fst = 16\n",
    "fs = 14\n",
    "beam_energy_text = erg_options(isi)[iei]\n",
    "beam_species_text = projectile_sym_str[isi]\n",
    "\n",
    "fig = plt.figure()\n",
    "ax = plt.subplot(111)\n",
    "# Axis labels\n",
    "title_text = detectors_short[detti] + \" \" + particles_long[spi] + \" Energy Spectra for\" + \"\\n\" \n",
    "title_text += beam_energy_text +\" \"+ beam_species_text + \" on \"+ thicknesses[ftti] +\" \"+ target_mats_short[ftmi] \n",
    "plt.title(title_text,fontsize=fst)\n",
    "if spi <= 2:\n",
    "    plt.xlabel(\"Energy [MeV]\",fontsize=fs)\n",
    "else:\n",
    "    plt.xlabel(\"Energy [MeV/n]\",fontsize=fs)\n",
    "\n",
    "if spi == 1: # deconvoluted neutrons\n",
    "    #leg_strings = [r'Experimental (deconvoluted)',r'MCNP (simulated)', r'PHITS (simulated)']\n",
    "    leg_strings = [r'Experimental (deconvoluted)',r'MCNP', r'PHITS']\n",
    "    plt.ylabel(r\"Yield [#$\\cdot$/(MeV$\\cdot$s.p.)]\",fontsize=fs)\n",
    "else:\n",
    "    #leg_strings = [r'Experimental (time-of-flight)',r'MCNP (simulated)', r'PHITS (simulated)']\n",
    "    leg_strings = [r'Experimental (time-of-flight)',r'MCNP', r'PHITS']\n",
    "    if spi <= 2:\n",
    "        plt.ylabel(r\"Yield [#/(MeV$\\cdot$sr$\\cdot$s.p.)]\",fontsize=fs)\n",
    "    else:\n",
    "        plt.ylabel(r\"Yield [#/(MeV/n$\\cdot$sr$\\cdot$s.p.)]\",fontsize=fs)\n",
    "\n",
    "# Generate portion of legend specifying data sets\n",
    "if spi == 1:\n",
    "    exp_leg, = plt.errorbar(np.NaN, np.NaN,yerr=0, color='dimgrey', marker=\"o\",markersize=3,linestyle=\"-\",alpha=1.0), #, label=r'Deconvolued')\n",
    "else:\n",
    "    exp_leg,  = plt.errorbar(np.NaN, np.NaN,xerr=0,yerr=0,marker=\".\",c='dimgrey',markersize=2,linestyle=\"\",elinewidth=0.5,markeredgewidth=0.5,capsize=0), # , label=r'Experimental (ToF)') \n",
    "\n",
    "MCNP_leg, = plt.errorbar(np.NaN, np.NaN,yerr=0, color='dimgrey', marker=\",\",markersize=3,linestyle=\"--\"), #, label=r'Simulated (MCNP)')\n",
    "PHITS_leg, = plt.errorbar(np.NaN, np.NaN,yerr=0, color='dimgrey', marker=\",\",markersize=3,linestyle=\":\"), #, label=r'Simulated (PHITS)')\n",
    "\n",
    "n_data_sets = len(data_set_i_list)\n",
    "abs_min_yield = 10**(-10)\n",
    "\n",
    "legs_for_ds = [exp_leg, MCNP_leg, PHITS_leg]\n",
    "used_ds_legs = []\n",
    "used_ds_leg_strs = []\n",
    "leg_handles1 = []\n",
    "leg_labels1 = []\n",
    "\n",
    "y_min = 0.0001 # later used to set y-axis minimum\n",
    "y_max = 0.001 # later used to set y-axis maximum\n",
    "\n",
    "for dsi in data_set_i_list:\n",
    "    # make sure dataset is populated first\n",
    "    if np.sum(mm_values[dsi,iei,ftmi,ftti,spi,:,3,:]) == 0: \n",
    "        n_data_sets += -1\n",
    "        continue\n",
    "    used_ds_legs.append(legs_for_ds[dsi])\n",
    "    used_ds_leg_strs.append(leg_strings[dsi])\n",
    "    k=0\n",
    "    for di in det_angle_i_list:\n",
    "        ndet = str(di+1)\n",
    "        scale_power = 2*((len(det_angle_i_list)-1)-k)\n",
    "        mult_factor = mult_factor_base**scale_power\n",
    "        if spacing_condition == 0:\n",
    "            lab_text = detectors_angles[detti][di%6]\n",
    "        else:\n",
    "            lab_text = detectors_angles[detti][di%6] + r\" $\\times10^{{{0}}}$\".format(str(int(scale_power)))\n",
    "        k += 1\n",
    "        \n",
    "        # Make artificial legend for 6 detectors\n",
    "        ebp = ax.plot(np.NaN, np.NaN,c=detector_colors(di%6),marker=\"s\",markersize=8,linestyle=\"\") #,label=lab_text) #,label='Simulated (MCNP)')\n",
    "        leg_handles1.append(ebp[0])\n",
    "        leg_labels1.append(lab_text)\n",
    "        \n",
    "        # Enforce minimum yield value\n",
    "        trash_y_vals = mm_values[dsi,iei,ftmi,ftti,spi,di,3,:] < abs_min_yield\n",
    "        mm_values[dsi,iei,ftmi,ftti,spi,di,3,:][trash_y_vals] = 0\n",
    "        \n",
    "        nzi = np.nonzero(mm_values[dsi,iei,ftmi,ftti,spi,di,3,:])\n",
    "        xdata = mm_values[dsi,iei,ftmi,ftti,spi,di,1,:][nzi]\n",
    "        xbinw = [mm_values[dsi,iei,ftmi,ftti,spi,di,1,:][nzi]-mm_values[dsi,iei,ftmi,ftti,spi,di,0,:][nzi] , mm_values[dsi,iei,ftmi,ftti,spi,di,2,:][nzi]-mm_values[dsi,iei,ftmi,ftti,spi,di,1,:][nzi]]\n",
    "        ydata = mm_values[dsi,iei,ftmi,ftti,spi,di,3,:][nzi]\n",
    "        yerr_stat = mm_values[dsi,iei,ftmi,ftti,spi,di,4,:][nzi]\n",
    "        yerr_sys = mm_values[dsi,iei,ftmi,ftti,spi,di,5,:][nzi]\n",
    "        xerr = mm_values[dsi,iei,ftmi,ftti,spi,di,6,:][nzi]\n",
    "        \n",
    "        \n",
    "        \n",
    "        ydata = ydata*mult_factor\n",
    "        yerr_stat = yerr_stat*mult_factor\n",
    "        yerr_sys = yerr_sys*mult_factor\n",
    "        \n",
    "        if len(ydata) != 0:\n",
    "            if min(ydata)<y_min: y_min = min(ydata)\n",
    "            if max(ydata)>y_max: y_max = max(ydata)\n",
    "        \n",
    "        # Generate plots\n",
    "        if dsi == 0: # experimental results\n",
    "            if spi == 1: # deconvoluted neutrons\n",
    "                alpha_val=1.0\n",
    "                marker_val = \"o\"\n",
    "                p = plt.errorbar(xdata,ydata,yerr=yerr_stat,c=detector_colors(di%6),marker=marker_val,markersize=3,linestyle=\"-\",alpha=alpha_val,label=lab_text) #,label='Simulated (MCNP)')\n",
    "            else:\n",
    "                # x error bar (bin width)\n",
    "                xerrbar = xbinw\n",
    "                # x error box (energy resolution\n",
    "                xerrbox = xerr\n",
    "                xerrbox = np.array([xerrbox, xerrbox])\n",
    "                # y error bar (systematic uncertainty)\n",
    "                yerrbar = [yerr_sys, yerr_sys]\n",
    "                yerrbar[0][(ydata-yerrbar[0])<=0]=0 # get rid of negative error bars\n",
    "                yerrbar[1][(ydata)<=0]=0 # get rid of errorbars on negative points\n",
    "                # y error box (statistical uncertainty)\n",
    "                yerrbox = np.array([yerr_stat, yerr_stat])\n",
    "                \n",
    "                p = plt.errorbar(xdata,ydata,xerr=xerrbar,yerr=yerrbar,marker=\".\",c=detector_colors(di%6),markersize=2,linestyle=\"\",elinewidth=0.5,markeredgewidth=0.5,capsize=0,label=lab_text)\n",
    "                nx_color = detector_colors(di%6) #p[0].get_color()\n",
    "                makeErrorBoxes(xdata,ydata,xerrbox,yerrbox,fc='None',ec=nx_color,alpha=1.0,lw=0.5)\n",
    "                makeErrorBoxes(xdata,ydata,xerrbox,yerrbox,fc=nx_color,ec='None',alpha=0.1,lw=0.5)\n",
    "                \n",
    "        elif dsi == 1: # MCNP results\n",
    "            ebp = plt.errorbar(xdata,ydata,yerr=yerr_stat,c=detector_colors(di%6),marker=\",\",markersize=3,linestyle=\"--\") #,label=lab_text) #,label='Simulated (MCNP)')\n",
    "        \n",
    "        elif dsi == 2: # PHITS results\n",
    "            ebp = plt.errorbar(xdata,ydata,yerr=yerr_stat,c=detector_colors(di%6),marker=\",\",markersize=3,linestyle=\":\") #,label=lab_text) #,label='Simulated (PHITS)')\n",
    "        \n",
    "\n",
    "if spacing_condition == 1:\n",
    "    box_h_offset = 0.14 - 0.005*len(det_angle_i_list) # vertical offset left at the bottom for legend stuff\n",
    "    leg_minus_y = -0.01*(6-len(det_angle_i_list))\n",
    "    leg2_anchor = (0.45, -0.065+leg_minus_y) # data sets\n",
    "    leg1_anchor = (0.47, -0.115+leg_minus_y) # detectors \n",
    "else:\n",
    "    box_h_offset = 0.11 + 0.02*np.floor((len(det_angle_i_list)-1)/3) # vertical offset left at the bottom for legend stuff\n",
    "    leg2_anchor = (0.45, -0.115) # data sets\n",
    "    leg1_anchor = (0.47, -0.175) # detectors \n",
    "\n",
    "box_h_multiplier = 1-box_h_offset #0.92 # percentage of total height occupied by actual plot\n",
    "\n",
    "#handles, labels = ax.get_legend_handles_labels()\n",
    "#if len(data_set_i_list)==3: # Three rows in named legend\n",
    "#    box_h_multiplier = 0.92 # percentage of total height occupied by actual plot\n",
    "#    box_h_offset = 0.12 # vertical offset left at the bottom for legend stuff\n",
    "#    leg2_anchor = (0.5, -0.065)\n",
    "#    leg1_anchor = (0.47, -0.155)\n",
    "#elif len(data_set_i_list)==2: # Two rows of legend\n",
    "#    box_h_multiplier = 0.92 # percentage of total height occupied by actual plot\n",
    "#    box_h_offset = 0.12 # vertical offset left at the bottom for legend stuff\n",
    "#    leg2_anchor = (0.5, -0.065)\n",
    "#    leg1_anchor = (0.47, -0.155)\n",
    "#else: # One row of legend\n",
    "#    box_h_multiplier = 0.92 # percentage of total height occupied by actual plot\n",
    "#    box_h_offset = 0.12 # vertical offset left at the bottom for legend stuff\n",
    "#    leg2_anchor = (0.5, -0.065)\n",
    "#    leg1_anchor = (0.47, -0.155)\n",
    "\n",
    "# Set size and location of the plot on the canvas\n",
    "box = ax.get_position()\n",
    "ax.set_position([box.x0 + box.width * 0.025, box.y0 + box.height * box_h_offset,box.width * 0.95, box.height * box_h_multiplier])\n",
    "\n",
    "# Put a legend below current axis\n",
    "legend2 = ax.legend(used_ds_legs,used_ds_leg_strs,loc='upper center', bbox_to_anchor=leg2_anchor, ncol=n_data_sets)\n",
    "\n",
    "# Put a legend below current axis\n",
    "ax.legend(leg_handles1[:(len(det_angle_i_list))],leg_labels1[:(len(det_angle_i_list))],loc='upper center', bbox_to_anchor=leg1_anchor, ncol=3,handletextpad=0.1)\n",
    "ax.add_artist(legend2)\n",
    "\n",
    "window_title = mm_metadata[dsi,isi,iei,ftmi,ftti,spi,0,1] + \"_fig\"\n",
    "fig.canvas.set_window_title(window_title)\n",
    "if spacing_condition == 1: \n",
    "    height_val = 5.25 + len(det_angle_i_list)\n",
    "    fig.set_size_inches(5.25,height_val)\n",
    "else:\n",
    "    fig.set_size_inches(5.25,6.25)\n",
    "        \n",
    "plt.xscale('log')\n",
    "plt.yscale('log')\n",
    "plt.grid(b=True, which='major', linestyle='-', alpha=0.25)\n",
    "plt.grid(b=True, which='minor', linestyle='-', alpha=0.10)\n",
    "plt.xlim([5,2000])\n",
    "plt.ylim([10**np.floor(np.log10(y_min)),10**np.ceil(np.log10(y_max))])        \n",
    "\n",
    "plt.show()        \n",
    "        \n",
    "    \n",
    "    \n"
   ]
  },
  {
   "cell_type": "code",
   "execution_count": null,
   "metadata": {},
   "outputs": [],
   "source": []
  }
 ],
 "metadata": {
  "kernelspec": {
   "display_name": "Python 3",
   "language": "python",
   "name": "python3"
  },
  "language_info": {
   "codemirror_mode": {
    "name": "ipython",
    "version": 3
   },
   "file_extension": ".py",
   "mimetype": "text/x-python",
   "name": "python",
   "nbconvert_exporter": "python",
   "pygments_lexer": "ipython3",
   "version": "3.6.4"
  },
  "widgets": {
   "application/vnd.jupyter.widget-state+json": {
    "state": {
     "0017f825ac48419da4b51260e1acf358": {
      "model_module": "@jupyter-widgets/base",
      "model_module_version": "1.0.0",
      "model_name": "LayoutModel",
      "state": {}
     },
     "0070d4f6780e40d6b962f1dfc9e13934": {
      "model_module": "@jupyter-widgets/base",
      "model_module_version": "1.0.0",
      "model_name": "LayoutModel",
      "state": {}
     },
     "008a7696a1c74d4cb8ae1ca7c84e83e4": {
      "model_module": "@jupyter-widgets/controls",
      "model_module_version": "1.1.0",
      "model_name": "DescriptionStyleModel",
      "state": {
       "description_width": ""
      }
     },
     "008d4deaa4f24f778435821053645eab": {
      "model_module": "@jupyter-widgets/controls",
      "model_module_version": "1.1.0",
      "model_name": "DescriptionStyleModel",
      "state": {
       "description_width": ""
      }
     },
     "0097f451415149d5a8a5b91cd0fcde5b": {
      "model_module": "@jupyter-widgets/controls",
      "model_module_version": "1.1.0",
      "model_name": "DescriptionStyleModel",
      "state": {
       "description_width": ""
      }
     },
     "00ad944b06944d3ab809f24d2c5ca45d": {
      "model_module": "@jupyter-widgets/base",
      "model_module_version": "1.0.0",
      "model_name": "LayoutModel",
      "state": {}
     },
     "00d74a39d4c04a5fa369e9a5a81e7161": {
      "model_module": "@jupyter-widgets/controls",
      "model_module_version": "1.1.0",
      "model_name": "CheckboxModel",
      "state": {
       "description": "60°",
       "disabled": false,
       "layout": "IPY_MODEL_ff286a067c23439a868c7e18520be3c3",
       "style": "IPY_MODEL_b04672d85a424837b02b239fd6d93306",
       "value": false
      }
     },
     "00f95cd13fc5493dbd84db161aa668d2": {
      "model_module": "@jupyter-widgets/controls",
      "model_module_version": "1.1.0",
      "model_name": "ToggleButtonsStyleModel",
      "state": {
       "button_width": "",
       "description_width": ""
      }
     },
     "010886a935064dafbac5afac795dc090": {
      "model_module": "@jupyter-widgets/controls",
      "model_module_version": "1.1.0",
      "model_name": "ToggleButtonsModel",
      "state": {
       "_options_labels": [
        "20 g/cm²",
        "40 g/cm²",
        "60 g/cm²"
       ],
       "button_style": "",
       "description": "Thickness:",
       "icons": [],
       "index": 0,
       "layout": "IPY_MODEL_baf6d63299f54108a883c23ac2fe5f20",
       "style": "IPY_MODEL_cc8d38e0424c4fb483595feafc62784c",
       "tooltips": [
        "20 g/cm² Aluminum",
        "40 g/cm² Aluminum",
        "60 g/cm² Aluminum"
       ]
      }
     },
     "012702128d55420bb4f3a67906054542": {
      "model_module": "@jupyter-widgets/controls",
      "model_module_version": "1.1.0",
      "model_name": "ToggleButtonsStyleModel",
      "state": {
       "button_width": "",
       "description_width": ""
      }
     },
     "0134c3792d954a6fb8646afb9cd0529f": {
      "model_module": "@jupyter-widgets/controls",
      "model_module_version": "1.1.0",
      "model_name": "DescriptionStyleModel",
      "state": {
       "description_width": ""
      }
     },
     "01cfdf7a65f047b8a4c617630919767c": {
      "model_module": "@jupyter-widgets/controls",
      "model_module_version": "1.1.0",
      "model_name": "DescriptionStyleModel",
      "state": {
       "description_width": ""
      }
     },
     "01ffdb0f8e284eb5bc5ea005cd6710e7": {
      "model_module": "@jupyter-widgets/base",
      "model_module_version": "1.0.0",
      "model_name": "LayoutModel",
      "state": {}
     },
     "0216a4952183460e87f1704add98eb41": {
      "model_module": "@jupyter-widgets/controls",
      "model_module_version": "1.1.0",
      "model_name": "LabelModel",
      "state": {
       "layout": "IPY_MODEL_c4c4135d776f4acd9de51c55ac838f6e",
       "style": "IPY_MODEL_30f4d12206a246b7a77d5dc6a690b65f",
       "value": "Select which sets of data to display."
      }
     },
     "023d98986734416e92f986009753c584": {
      "model_module": "@jupyter-widgets/controls",
      "model_module_version": "1.1.0",
      "model_name": "DescriptionStyleModel",
      "state": {
       "description_width": ""
      }
     },
     "027fe3d5ff7043d781512933effbf2f7": {
      "model_module": "@jupyter-widgets/base",
      "model_module_version": "1.0.0",
      "model_name": "LayoutModel",
      "state": {}
     },
     "02aa7d90330a4b3696037f1f27886f8c": {
      "model_module": "@jupyter-widgets/controls",
      "model_module_version": "1.1.0",
      "model_name": "LabelModel",
      "state": {
       "layout": "IPY_MODEL_3cf480469a1c4902b53f1b2f7ff72c9d",
       "style": "IPY_MODEL_4e692a9a30684f1e9cf9f9eab12388e7",
       "value": "Select projectile ion energy."
      }
     },
     "02f0fec9ce024a018ce95422f807e9d9": {
      "model_module": "@jupyter-widgets/base",
      "model_module_version": "1.0.0",
      "model_name": "LayoutModel",
      "state": {}
     },
     "0325f1eb5b4447b2b246594279c8fe3a": {
      "model_module": "@jupyter-widgets/controls",
      "model_module_version": "1.1.0",
      "model_name": "CheckboxModel",
      "state": {
       "description": "80°",
       "disabled": false,
       "layout": "IPY_MODEL_a170331431ec446bb37fa1103c649671",
       "style": "IPY_MODEL_7b49faf0031b4bbd8bcfec5944e74490",
       "value": true
      }
     },
     "03712579db5b417eb16f345eff7e67a8": {
      "model_module": "@jupyter-widgets/controls",
      "model_module_version": "1.1.0",
      "model_name": "DescriptionStyleModel",
      "state": {
       "description_width": ""
      }
     },
     "038cd47bafb04d39a36cd5ab084c585d": {
      "model_module": "@jupyter-widgets/controls",
      "model_module_version": "1.1.0",
      "model_name": "DescriptionStyleModel",
      "state": {
       "description_width": ""
      }
     },
     "039f033d47cf409a828dd3e58c09ff31": {
      "model_module": "@jupyter-widgets/base",
      "model_module_version": "1.0.0",
      "model_name": "LayoutModel",
      "state": {}
     },
     "03a393a5b856453da2dc9e69bb9c625b": {
      "model_module": "@jupyter-widgets/controls",
      "model_module_version": "1.1.0",
      "model_name": "DescriptionStyleModel",
      "state": {
       "description_width": ""
      }
     },
     "03b19c06f12e4aadad7aec80c5d6b1ed": {
      "model_module": "@jupyter-widgets/base",
      "model_module_version": "1.0.0",
      "model_name": "LayoutModel",
      "state": {}
     },
     "03bce7f3e45942f3879e3634436c2d48": {
      "model_module": "@jupyter-widgets/controls",
      "model_module_version": "1.1.0",
      "model_name": "CheckboxModel",
      "state": {
       "description": "80°",
       "disabled": false,
       "layout": "IPY_MODEL_933c72475e084d81ac77d6da3209cd71",
       "style": "IPY_MODEL_19e0b081d42e4dccaf1e0c50fc67ddd5",
       "value": false
      }
     },
     "03fbf2b260454a4aba02e0841a431c22": {
      "model_module": "@jupyter-widgets/base",
      "model_module_version": "1.0.0",
      "model_name": "LayoutModel",
      "state": {}
     },
     "0405d139d80c4d2fb48d2bc080b29133": {
      "model_module": "@jupyter-widgets/base",
      "model_module_version": "1.0.0",
      "model_name": "LayoutModel",
      "state": {}
     },
     "0454756e6ff34fae97b8cbffb2800fb8": {
      "model_module": "@jupyter-widgets/controls",
      "model_module_version": "1.1.0",
      "model_name": "ToggleButtonsModel",
      "state": {
       "_options_labels": [
        "H",
        "He",
        "C",
        "Si",
        "Fe"
       ],
       "button_style": "",
       "description": "Ion:",
       "icons": [],
       "index": 0,
       "layout": "IPY_MODEL_6656e479c3aa402088a708dc7886b481",
       "style": "IPY_MODEL_ec4904e2908944e1b622c2574f0e912a",
       "tooltips": [
        "Hydrogen",
        "Helium",
        "Carbon",
        "Silicon",
        "Iron"
       ]
      }
     },
     "047a017af03e49b6b3d64477ccdbb467": {
      "model_module": "@jupyter-widgets/base",
      "model_module_version": "1.0.0",
      "model_name": "LayoutModel",
      "state": {}
     },
     "04856c4da0f8470b965e9c90face4351": {
      "model_module": "@jupyter-widgets/controls",
      "model_module_version": "1.1.0",
      "model_name": "ToggleButtonsModel",
      "state": {
       "_options_labels": [
        "P (¹H)",
        "D (²H)"
       ],
       "button_style": "",
       "description": "Type:",
       "icons": [],
       "index": 0,
       "layout": "IPY_MODEL_c5d36e086e9d4cc3b7d1557ef0f7fa5e",
       "style": "IPY_MODEL_967b141189f74ccab36ab8014846abc2",
       "tooltips": [
        "Proton",
        "Deuteron"
       ]
      }
     },
     "048b5560dcc54ec0965d27a0b4adde42": {
      "model_module": "@jupyter-widgets/controls",
      "model_module_version": "1.1.0",
      "model_name": "CheckboxModel",
      "state": {
       "description": "Experiment",
       "disabled": false,
       "layout": "IPY_MODEL_3cb589dd6b2345fa9a81a2223dc97ce9",
       "style": "IPY_MODEL_75d2183c47ac4eb8a8ab256a36a9db1d",
       "value": true
      }
     },
     "048c1bcecd1d40c0884a177d5a9871b8": {
      "model_module": "@jupyter-widgets/controls",
      "model_module_version": "1.1.0",
      "model_name": "CheckboxModel",
      "state": {
       "description": "10°",
       "disabled": false,
       "layout": "IPY_MODEL_922f9e22784b4ae2bb657e36623d08f7",
       "style": "IPY_MODEL_6432281fb9754f448a6ef8b536a3b412",
       "value": true
      }
     },
     "048c97d7f51846b8a8fb4df0561446da": {
      "model_module": "@jupyter-widgets/controls",
      "model_module_version": "1.1.0",
      "model_name": "ToggleButtonsStyleModel",
      "state": {
       "button_width": "",
       "description_width": ""
      }
     },
     "04d1efb4970542e8a1080845ae9e2928": {
      "model_module": "@jupyter-widgets/controls",
      "model_module_version": "1.1.0",
      "model_name": "ToggleButtonsStyleModel",
      "state": {
       "button_width": "",
       "description_width": ""
      }
     },
     "04f6f0b7ec3144c382a4cc7cc0382006": {
      "model_module": "@jupyter-widgets/controls",
      "model_module_version": "1.1.0",
      "model_name": "DescriptionStyleModel",
      "state": {
       "description_width": ""
      }
     },
     "053cbccbe0f4414bad85c180627d0aa8": {
      "model_module": "@jupyter-widgets/base",
      "model_module_version": "1.0.0",
      "model_name": "LayoutModel",
      "state": {}
     },
     "056247fa572144639545bed9724d980c": {
      "model_module": "@jupyter-widgets/base",
      "model_module_version": "1.0.0",
      "model_name": "LayoutModel",
      "state": {}
     },
     "05cb3d47b34d471a8df96e77a72f430b": {
      "model_module": "@jupyter-widgets/controls",
      "model_module_version": "1.1.0",
      "model_name": "DescriptionStyleModel",
      "state": {
       "description_width": ""
      }
     },
     "05d44f7bd9aa41a9b3174967dca3017e": {
      "model_module": "@jupyter-widgets/controls",
      "model_module_version": "1.1.0",
      "model_name": "DescriptionStyleModel",
      "state": {
       "description_width": ""
      }
     },
     "0686d3b5c5b84f9092d04cdafdc19e38": {
      "model_module": "@jupyter-widgets/controls",
      "model_module_version": "1.1.0",
      "model_name": "CheckboxModel",
      "state": {
       "description": "135°",
       "disabled": false,
       "layout": "IPY_MODEL_65dc34305d364cc9aec224dba5542416",
       "style": "IPY_MODEL_bf46a752abcc4d5fbf32245fdf95c4c6",
       "value": true
      }
     },
     "0690a3e1cbc74d7187623275273dfd04": {
      "model_module": "@jupyter-widgets/controls",
      "model_module_version": "1.1.0",
      "model_name": "CheckboxModel",
      "state": {
       "description": "28.2°",
       "disabled": false,
       "layout": "IPY_MODEL_d2d4748d7e4a474f915d0d74bdbdd997",
       "style": "IPY_MODEL_7d96e7efeee54fd8a36c0a044393d5b5",
       "value": true
      }
     },
     "06911039ed2b4f93bbec1f3465e4792f": {
      "model_module": "@jupyter-widgets/controls",
      "model_module_version": "1.1.0",
      "model_name": "DescriptionStyleModel",
      "state": {
       "description_width": ""
      }
     },
     "06d7392df2194c34bd81733ab0f8cac0": {
      "model_module": "@jupyter-widgets/controls",
      "model_module_version": "1.1.0",
      "model_name": "CheckboxModel",
      "state": {
       "description": "10°",
       "disabled": false,
       "layout": "IPY_MODEL_5f33917099b84db99530cfe19a797a09",
       "style": "IPY_MODEL_cc25001962124cd0b19df67981cb178d",
       "value": true
      }
     },
     "06ffd4f5627f4e9aa530d9ff2d701525": {
      "model_module": "@jupyter-widgets/controls",
      "model_module_version": "1.1.0",
      "model_name": "ToggleButtonsModel",
      "state": {
       "_options_labels": [
        "None",
        "Spaced by 10²"
       ],
       "button_style": "",
       "description": "Spacing:",
       "icons": [],
       "index": 0,
       "layout": "IPY_MODEL_5db4f40a4ff340c792d454c100ac3ca1",
       "style": "IPY_MODEL_10a9f39e18144bbb8a1579af3ea8665d",
       "tooltips": [
        "All values are presented as is.",
        "Plots for different detectors are multiplied by powers of 10² for easier viewing."
       ]
      }
     },
     "0746464c2c8941e88c580ec518a56bda": {
      "model_module": "@jupyter-widgets/base",
      "model_module_version": "1.0.0",
      "model_name": "LayoutModel",
      "state": {}
     },
     "0746ca285bc24b84bbfb25149be57bd6": {
      "model_module": "@jupyter-widgets/controls",
      "model_module_version": "1.1.0",
      "model_name": "DescriptionStyleModel",
      "state": {
       "description_width": ""
      }
     },
     "074cb167ae664aa1a749896d67cfd459": {
      "model_module": "@jupyter-widgets/controls",
      "model_module_version": "1.1.0",
      "model_name": "DescriptionStyleModel",
      "state": {
       "description_width": ""
      }
     },
     "078ada0077324c248ec853179331469f": {
      "model_module": "@jupyter-widgets/controls",
      "model_module_version": "1.1.0",
      "model_name": "DescriptionStyleModel",
      "state": {
       "description_width": ""
      }
     },
     "07a353fb216b4b9d82518cf8f40c9a26": {
      "model_module": "@jupyter-widgets/controls",
      "model_module_version": "1.1.0",
      "model_name": "LabelModel",
      "state": {
       "layout": "IPY_MODEL_eacf4b0c30b94827b8e74e51c200c853",
       "style": "IPY_MODEL_a5ab1f2937214bd09dec3d87590ba417",
       "value": "Select which secondary particle to plot spectra for."
      }
     },
     "07d75c2623a14acaac5b43e08e71b559": {
      "model_module": "@jupyter-widgets/controls",
      "model_module_version": "1.1.0",
      "model_name": "DescriptionStyleModel",
      "state": {
       "description_width": ""
      }
     },
     "08166d77b35f43fd8598f6c8612cbcaa": {
      "model_module": "@jupyter-widgets/controls",
      "model_module_version": "1.1.0",
      "model_name": "DescriptionStyleModel",
      "state": {
       "description_width": ""
      }
     },
     "081eed35ebd6477f95c3abb50281bf35": {
      "model_module": "@jupyter-widgets/controls",
      "model_module_version": "1.1.0",
      "model_name": "ToggleButtonsStyleModel",
      "state": {
       "button_width": "",
       "description_width": ""
      }
     },
     "083d6cdb707a4e63bf282c13b7456a14": {
      "model_module": "@jupyter-widgets/base",
      "model_module_version": "1.0.0",
      "model_name": "LayoutModel",
      "state": {}
     },
     "087c346b7f9149a5bcd28c50dd1b4483": {
      "model_module": "@jupyter-widgets/controls",
      "model_module_version": "1.1.0",
      "model_name": "CheckboxModel",
      "state": {
       "description": "10°",
       "disabled": false,
       "layout": "IPY_MODEL_0dfa11fe74624d75989c09fe7f864bfe",
       "style": "IPY_MODEL_19147c5420c549e0b2700c357babc0f8",
       "value": true
      }
     },
     "08874af4f11e4866a1c963a34f169b7b": {
      "model_module": "@jupyter-widgets/controls",
      "model_module_version": "1.1.0",
      "model_name": "DescriptionStyleModel",
      "state": {
       "description_width": ""
      }
     },
     "08a9fee61c6045c59bcc75c4bd20081c": {
      "model_module": "@jupyter-widgets/controls",
      "model_module_version": "1.1.0",
      "model_name": "DescriptionStyleModel",
      "state": {
       "description_width": ""
      }
     },
     "08f0b78c47574a45ac876371dff017db": {
      "model_module": "@jupyter-widgets/base",
      "model_module_version": "1.0.0",
      "model_name": "LayoutModel",
      "state": {}
     },
     "0904d5c615004520b4addc0afd8f11c6": {
      "model_module": "@jupyter-widgets/base",
      "model_module_version": "1.0.0",
      "model_name": "LayoutModel",
      "state": {}
     },
     "090598d5c0c24f1f90f63baa520df67a": {
      "model_module": "@jupyter-widgets/base",
      "model_module_version": "1.0.0",
      "model_name": "LayoutModel",
      "state": {}
     },
     "09361aa9b2214dcb930e3afa4c30b797": {
      "model_module": "@jupyter-widgets/controls",
      "model_module_version": "1.1.0",
      "model_name": "CheckboxModel",
      "state": {
       "description": "10°",
       "disabled": false,
       "layout": "IPY_MODEL_1749abe25a594d598be919bca214e8ae",
       "style": "IPY_MODEL_c2605c1cb60749a7b7270bcd75f72b79",
       "value": true
      }
     },
     "094e31aacf7e473a919b5a57d531f347": {
      "model_module": "@jupyter-widgets/base",
      "model_module_version": "1.0.0",
      "model_name": "LayoutModel",
      "state": {}
     },
     "095b4ce3a3364cbaa4c0dbd459814f9a": {
      "model_module": "@jupyter-widgets/controls",
      "model_module_version": "1.1.0",
      "model_name": "DescriptionStyleModel",
      "state": {
       "description_width": ""
      }
     },
     "096edd4c560a4a609841cd291ee98d00": {
      "model_module": "@jupyter-widgets/controls",
      "model_module_version": "1.1.0",
      "model_name": "CheckboxModel",
      "state": {
       "description": "10°",
       "disabled": false,
       "layout": "IPY_MODEL_665fc08931fc44619afd3e1014cef644",
       "style": "IPY_MODEL_a59b588a6e0b4502b50c251055bfb406",
       "value": true
      }
     },
     "09f1f55f355d408eb0e5a49eba19f462": {
      "model_module": "@jupyter-widgets/base",
      "model_module_version": "1.0.0",
      "model_name": "LayoutModel",
      "state": {}
     },
     "09f55ebe75614576bc59d2f1dc4acb99": {
      "model_module": "@jupyter-widgets/controls",
      "model_module_version": "1.1.0",
      "model_name": "LabelModel",
      "state": {
       "layout": "IPY_MODEL_a32596ccc6844d88beffb3e6617460f0",
       "style": "IPY_MODEL_d356f5cd30dd499481e6418c369bd94c",
       "value": "Select the detector angles to plot."
      }
     },
     "0a097c151ddc43b782d890c5da15407d": {
      "model_module": "@jupyter-widgets/controls",
      "model_module_version": "1.1.0",
      "model_name": "CheckboxModel",
      "state": {
       "description": "10°",
       "disabled": false,
       "layout": "IPY_MODEL_9871518fbb424f9fb82122b1118f1676",
       "style": "IPY_MODEL_64bcc39945b54dc3845c9c8a5f663971",
       "value": true
      }
     },
     "0a0d9cee4f61455e902848baa25f71d3": {
      "model_module": "@jupyter-widgets/controls",
      "model_module_version": "1.1.0",
      "model_name": "DescriptionStyleModel",
      "state": {
       "description_width": ""
      }
     },
     "0a2b6bf867184cf09ab1315bfa560c20": {
      "model_module": "@jupyter-widgets/controls",
      "model_module_version": "1.1.0",
      "model_name": "CheckboxModel",
      "state": {
       "description": "30°",
       "disabled": false,
       "layout": "IPY_MODEL_58077b879af64e7dbc37ed3f0b737f2b",
       "style": "IPY_MODEL_fafd0e3b04b4483f90d356ced0c29506",
       "value": true
      }
     },
     "0a3b209bcf6841b9a433d6e5c3b1a795": {
      "model_module": "@jupyter-widgets/controls",
      "model_module_version": "1.1.0",
      "model_name": "ToggleButtonsStyleModel",
      "state": {
       "button_width": "",
       "description_width": ""
      }
     },
     "0a4648394cbd457b8e85c232f793fa03": {
      "model_module": "@jupyter-widgets/controls",
      "model_module_version": "1.1.0",
      "model_name": "CheckboxModel",
      "state": {
       "description": "30°",
       "disabled": false,
       "layout": "IPY_MODEL_b1b2e4a172a0450c8398fd8c63426533",
       "style": "IPY_MODEL_94f922cfd08645dbadb59353c980e910",
       "value": true
      }
     },
     "0a82ab59695f43bab8f1746b3a2e4905": {
      "model_module": "@jupyter-widgets/base",
      "model_module_version": "1.0.0",
      "model_name": "LayoutModel",
      "state": {}
     },
     "0a892fe9e1af434dbee48a0fe6ed30f0": {
      "model_module": "@jupyter-widgets/base",
      "model_module_version": "1.0.0",
      "model_name": "LayoutModel",
      "state": {}
     },
     "0abffa0061eb431eadd0b537a048d95d": {
      "model_module": "@jupyter-widgets/base",
      "model_module_version": "1.0.0",
      "model_name": "LayoutModel",
      "state": {}
     },
     "0b10e77ea73949b88d3e9b00e33b7c0c": {
      "model_module": "@jupyter-widgets/controls",
      "model_module_version": "1.1.0",
      "model_name": "CheckboxModel",
      "state": {
       "description": "80°",
       "disabled": false,
       "layout": "IPY_MODEL_384c2f9e6a9240a7aac3d6b7beeb3c2e",
       "style": "IPY_MODEL_008a7696a1c74d4cb8ae1ca7c84e83e4",
       "value": true
      }
     },
     "0b259ca278e647fdae7df89f47deff34": {
      "model_module": "@jupyter-widgets/base",
      "model_module_version": "1.0.0",
      "model_name": "LayoutModel",
      "state": {}
     },
     "0b27835f9ef445558cc2f963f85d4f87": {
      "model_module": "@jupyter-widgets/controls",
      "model_module_version": "1.1.0",
      "model_name": "DescriptionStyleModel",
      "state": {
       "description_width": ""
      }
     },
     "0b6e65836b254ff49828fe5d8fdca69f": {
      "model_module": "@jupyter-widgets/controls",
      "model_module_version": "1.1.0",
      "model_name": "CheckboxModel",
      "state": {
       "description": "45°",
       "disabled": false,
       "layout": "IPY_MODEL_56eef3271bf545989ce729f658001984",
       "style": "IPY_MODEL_2ca819c4502f4d179b97705857a3cea9",
       "value": true
      }
     },
     "0ba15f02a3e241cfb5554239e37e8a39": {
      "model_module": "@jupyter-widgets/base",
      "model_module_version": "1.0.0",
      "model_name": "LayoutModel",
      "state": {}
     },
     "0bb45028a61a44e6912f4379e8479fb2": {
      "model_module": "@jupyter-widgets/controls",
      "model_module_version": "1.1.0",
      "model_name": "CheckboxModel",
      "state": {
       "description": "30°",
       "disabled": false,
       "layout": "IPY_MODEL_a9eb32704977437e852c288bee57f477",
       "style": "IPY_MODEL_efcb746359c4475e975c88a99c210c04",
       "value": true
      }
     },
     "0be0b15171fb44f1af5f90865579e69a": {
      "model_module": "@jupyter-widgets/controls",
      "model_module_version": "1.1.0",
      "model_name": "CheckboxModel",
      "state": {
       "description": "30°",
       "disabled": false,
       "layout": "IPY_MODEL_ae04b1d2163a40a8bc5de76789e0d27d",
       "style": "IPY_MODEL_dc6d91722d5c44ff8bff9b0db1e2cff7",
       "value": true
      }
     },
     "0bf4a0d53fc74f159eaa0fe9e9553c72": {
      "model_module": "@jupyter-widgets/controls",
      "model_module_version": "1.1.0",
      "model_name": "DescriptionStyleModel",
      "state": {
       "description_width": ""
      }
     },
     "0c132da78fcf4a549f39d30e06c640a9": {
      "model_module": "@jupyter-widgets/base",
      "model_module_version": "1.0.0",
      "model_name": "LayoutModel",
      "state": {}
     },
     "0c250d6154444cb5aaca2a60f583c229": {
      "model_module": "@jupyter-widgets/controls",
      "model_module_version": "1.1.0",
      "model_name": "ToggleButtonsStyleModel",
      "state": {
       "button_width": "",
       "description_width": ""
      }
     },
     "0c3297f4aa9948278ef3e5ba45d189d8": {
      "model_module": "@jupyter-widgets/controls",
      "model_module_version": "1.1.0",
      "model_name": "DescriptionStyleModel",
      "state": {
       "description_width": ""
      }
     },
     "0c4497ae6e61401f93ba222bb92a4bec": {
      "model_module": "@jupyter-widgets/controls",
      "model_module_version": "1.1.0",
      "model_name": "LabelModel",
      "state": {
       "layout": "IPY_MODEL_4b6fa27e982d4d39a045f12e95015ba9",
       "style": "IPY_MODEL_4cc39a6a644b45c2ae23f45f0791d40f",
       "value": "Select projectile ion energy."
      }
     },
     "0c95bdbf92084f04ab1fb8409bf086a9": {
      "model_module": "@jupyter-widgets/controls",
      "model_module_version": "1.1.0",
      "model_name": "CheckboxModel",
      "state": {
       "description": "135°",
       "disabled": false,
       "layout": "IPY_MODEL_b1f1994c3de742f98d80525a0dc6cdb8",
       "style": "IPY_MODEL_15c535b975a647e4bedb7e06e6a77381",
       "value": true
      }
     },
     "0cc5ed2fc18449fb9cdba5cdc70bab69": {
      "model_module": "@jupyter-widgets/controls",
      "model_module_version": "1.1.0",
      "model_name": "DescriptionStyleModel",
      "state": {
       "description_width": ""
      }
     },
     "0d0ef56dfa2143b8afbd9dfe27c424f4": {
      "model_module": "@jupyter-widgets/controls",
      "model_module_version": "1.1.0",
      "model_name": "CheckboxModel",
      "state": {
       "description": "12.7°",
       "disabled": false,
       "layout": "IPY_MODEL_e006b153e8c04f7981c6ddc8c3678b96",
       "style": "IPY_MODEL_f606adc961c44f8b9755d1e03eb8449a",
       "value": false
      }
     },
     "0d391190abd44d54b833e58e653dc40b": {
      "model_module": "@jupyter-widgets/base",
      "model_module_version": "1.0.0",
      "model_name": "LayoutModel",
      "state": {}
     },
     "0d5b2c31b6ba45a5b485646040acbc1c": {
      "model_module": "@jupyter-widgets/controls",
      "model_module_version": "1.1.0",
      "model_name": "DescriptionStyleModel",
      "state": {
       "description_width": ""
      }
     },
     "0d68d719bd2542f7a4a21bfdbf9e730f": {
      "model_module": "@jupyter-widgets/controls",
      "model_module_version": "1.1.0",
      "model_name": "DescriptionStyleModel",
      "state": {
       "description_width": ""
      }
     },
     "0d751cb4f6e548f4b8ce129fb2a1948f": {
      "model_module": "@jupyter-widgets/base",
      "model_module_version": "1.0.0",
      "model_name": "LayoutModel",
      "state": {}
     },
     "0d9a471588b04f9abc437e7e66b87771": {
      "model_module": "@jupyter-widgets/controls",
      "model_module_version": "1.1.0",
      "model_name": "CheckboxModel",
      "state": {
       "description": "45°",
       "disabled": false,
       "layout": "IPY_MODEL_274735463f814b4bb41f95977294b805",
       "style": "IPY_MODEL_ddd4c7730c2943e088922ab80047a48e",
       "value": true
      }
     },
     "0dc535502f544ef18cef129a43da4899": {
      "model_module": "@jupyter-widgets/controls",
      "model_module_version": "1.1.0",
      "model_name": "DescriptionStyleModel",
      "state": {
       "description_width": ""
      }
     },
     "0df35494584e4aa2ae0f69fa4df9264c": {
      "model_module": "@jupyter-widgets/base",
      "model_module_version": "1.0.0",
      "model_name": "LayoutModel",
      "state": {}
     },
     "0dfa11fe74624d75989c09fe7f864bfe": {
      "model_module": "@jupyter-widgets/base",
      "model_module_version": "1.0.0",
      "model_name": "LayoutModel",
      "state": {}
     },
     "0e32b3e38b3b49b8af1d0d38aad130b8": {
      "model_module": "@jupyter-widgets/controls",
      "model_module_version": "1.1.0",
      "model_name": "DescriptionStyleModel",
      "state": {
       "description_width": ""
      }
     },
     "0e4a60466a5a4a2e8b39e6aa0b0e9b1d": {
      "model_module": "@jupyter-widgets/controls",
      "model_module_version": "1.1.0",
      "model_name": "CheckboxModel",
      "state": {
       "description": "45°",
       "disabled": false,
       "layout": "IPY_MODEL_21f02ba46e614e60a7ef3d5ddcb58c4d",
       "style": "IPY_MODEL_379905cd5a194accbe7b7a843105614d",
       "value": true
      }
     },
     "0e58a76a942e4d48a53853067b866527": {
      "model_module": "@jupyter-widgets/controls",
      "model_module_version": "1.1.0",
      "model_name": "ToggleButtonsModel",
      "state": {
       "_options_labels": [
        "N (¹n)",
        "NDC (¹n)",
        "P (¹H)",
        "D (²H)",
        "T (³H)",
        "S (³He)",
        "A (⁴He)"
       ],
       "button_style": "",
       "description": "Particle:",
       "icons": [],
       "index": 1,
       "layout": "IPY_MODEL_cf507ac9b5704ecda923c74581b54fa9",
       "style": "IPY_MODEL_42da148a2a3e4f1f9716cd92540ea132",
       "tooltips": [
        "Neutron",
        "Back Target Neutron",
        "Proton",
        "Deuteron",
        "Triton",
        "Helium-3",
        "Helium-4"
       ]
      }
     },
     "0e7c74024ab7459c89e88c6a6c6d58c7": {
      "model_module": "@jupyter-widgets/controls",
      "model_module_version": "1.1.0",
      "model_name": "DescriptionStyleModel",
      "state": {
       "description_width": ""
      }
     },
     "0e990f10fa3a4299b2d8194a6469a2da": {
      "model_module": "@jupyter-widgets/controls",
      "model_module_version": "1.1.0",
      "model_name": "DescriptionStyleModel",
      "state": {
       "description_width": ""
      }
     },
     "0ebc3162b4da49f3a6d4f7aa043c52d9": {
      "model_module": "@jupyter-widgets/base",
      "model_module_version": "1.0.0",
      "model_name": "LayoutModel",
      "state": {}
     },
     "0ed75108efaa44f5b4e6d73404bdf8f4": {
      "model_module": "@jupyter-widgets/controls",
      "model_module_version": "1.1.0",
      "model_name": "CheckboxModel",
      "state": {
       "description": "60°",
       "disabled": false,
       "layout": "IPY_MODEL_8ea468f235574c918668b197248fbf7d",
       "style": "IPY_MODEL_14cfeddecba7482199b9ea67847f885f",
       "value": true
      }
     },
     "0f4d8e82915342dea9c99fdf5cf9559b": {
      "model_module": "@jupyter-widgets/base",
      "model_module_version": "1.0.0",
      "model_name": "LayoutModel",
      "state": {}
     },
     "0f64b367e84944c6bb9f39de60b04729": {
      "model_module": "@jupyter-widgets/controls",
      "model_module_version": "1.1.0",
      "model_name": "DescriptionStyleModel",
      "state": {
       "description_width": ""
      }
     },
     "0faaac1d69f34135b1b9e3cc6ffeb29c": {
      "model_module": "@jupyter-widgets/controls",
      "model_module_version": "1.1.0",
      "model_name": "DescriptionStyleModel",
      "state": {
       "description_width": ""
      }
     },
     "0fd4e4d9a1e24438beae0580eb21cd0a": {
      "model_module": "@jupyter-widgets/controls",
      "model_module_version": "1.1.0",
      "model_name": "DescriptionStyleModel",
      "state": {
       "description_width": ""
      }
     },
     "0fee5ca72fa14b4591a7f674fc17f243": {
      "model_module": "@jupyter-widgets/controls",
      "model_module_version": "1.1.0",
      "model_name": "CheckboxModel",
      "state": {
       "description": "7.2°",
       "disabled": false,
       "layout": "IPY_MODEL_bbb5f1f4d7e24b1a81fd951913eb0c43",
       "style": "IPY_MODEL_1963e7eec4ae4110934c80444a00a43c",
       "value": true
      }
     },
     "10187d260a8f420e86a01fdd246b3b19": {
      "model_module": "@jupyter-widgets/controls",
      "model_module_version": "1.1.0",
      "model_name": "LabelModel",
      "state": {
       "layout": "IPY_MODEL_69b8433c4d3c4ff2811205a7b366fe96",
       "style": "IPY_MODEL_3ba19ebc170b40f2b661526b1e62419f",
       "value": "Select the detector angles to plot."
      }
     },
     "104d58e9449e48749b05fefce343f075": {
      "model_module": "@jupyter-widgets/base",
      "model_module_version": "1.0.0",
      "model_name": "LayoutModel",
      "state": {}
     },
     "105f5d8a905f448a8019eaa894cb6f2a": {
      "model_module": "@jupyter-widgets/controls",
      "model_module_version": "1.1.0",
      "model_name": "CheckboxModel",
      "state": {
       "description": "7.2°",
       "disabled": false,
       "layout": "IPY_MODEL_97954afcbea94f4f9fc07ecfe9a9f91d",
       "style": "IPY_MODEL_a02fa49cb30d40c4823416bf6ad3c976",
       "value": false
      }
     },
     "107b2e5c7cb84655ad1c8e6c784e2697": {
      "model_module": "@jupyter-widgets/controls",
      "model_module_version": "1.1.0",
      "model_name": "CheckboxModel",
      "state": {
       "description": "30°",
       "disabled": false,
       "layout": "IPY_MODEL_e497490ce55a47528fa6a34bf8452d68",
       "style": "IPY_MODEL_a7823db7be3f4cd48902bd8f6cbba005",
       "value": true
      }
     },
     "10a9f39e18144bbb8a1579af3ea8665d": {
      "model_module": "@jupyter-widgets/controls",
      "model_module_version": "1.1.0",
      "model_name": "ToggleButtonsStyleModel",
      "state": {
       "button_width": "",
       "description_width": ""
      }
     },
     "10b4f99509df485689b185a6e77913a5": {
      "model_module": "@jupyter-widgets/controls",
      "model_module_version": "1.1.0",
      "model_name": "DescriptionStyleModel",
      "state": {
       "description_width": ""
      }
     },
     "10bde275d29e4c31ad1864d67cdf153c": {
      "model_module": "@jupyter-widgets/controls",
      "model_module_version": "1.1.0",
      "model_name": "ToggleButtonsModel",
      "state": {
       "_options_labels": [
        "N (¹n)",
        "NDC (¹n)",
        "P (¹H)",
        "D (²H)"
       ],
       "button_style": "",
       "description": "Type:",
       "icons": [],
       "index": 0,
       "layout": "IPY_MODEL_3fa835cdaf12418f909ab21e9778b253",
       "style": "IPY_MODEL_8916808f573642e7a06afcd05d759af7",
       "tooltips": [
        "Neutron",
        "Back Target Neutron",
        "Proton",
        "Deuteron"
       ]
      }
     },
     "10eb4b649ea049f6a6685d6b048edfea": {
      "model_module": "@jupyter-widgets/base",
      "model_module_version": "1.0.0",
      "model_name": "LayoutModel",
      "state": {}
     },
     "10f183f605ce403daad19007e941f595": {
      "model_module": "@jupyter-widgets/controls",
      "model_module_version": "1.1.0",
      "model_name": "DescriptionStyleModel",
      "state": {
       "description_width": ""
      }
     },
     "114b096c8d2849e88380a0216538768e": {
      "model_module": "@jupyter-widgets/controls",
      "model_module_version": "1.1.0",
      "model_name": "DescriptionStyleModel",
      "state": {
       "description_width": ""
      }
     },
     "11595e0a202141b1a1810a8271297d9a": {
      "model_module": "@jupyter-widgets/controls",
      "model_module_version": "1.1.0",
      "model_name": "LabelModel",
      "state": {
       "layout": "IPY_MODEL_2c677bde966440d1ab1d799e4a999cc7",
       "style": "IPY_MODEL_56109a4f301b4e7eaf085b954adad9c5",
       "value": "Select the detector angles to plot."
      }
     },
     "116ac127c33a4645b99fbacd4acffcea": {
      "model_module": "@jupyter-widgets/base",
      "model_module_version": "1.0.0",
      "model_name": "LayoutModel",
      "state": {}
     },
     "117cc8277ad9466798b31d944957c9ea": {
      "model_module": "@jupyter-widgets/controls",
      "model_module_version": "1.1.0",
      "model_name": "LabelModel",
      "state": {
       "layout": "IPY_MODEL_6b777fc2776b4640a564e258100c4073",
       "style": "IPY_MODEL_d09da5f86ec0486cb0fbeaad7d0b924a",
       "value": "Select the detector angles to plot."
      }
     },
     "11ac6cd2c4e0425181ae145c624bb8f7": {
      "model_module": "@jupyter-widgets/controls",
      "model_module_version": "1.1.0",
      "model_name": "LabelModel",
      "state": {
       "layout": "IPY_MODEL_4bbd72c1fa0b40e69f7b7a8bbda3f824",
       "style": "IPY_MODEL_43912211b5184688b8ce478f1efbc6ef",
       "value": "Select the detector angles to plot."
      }
     },
     "11aea78791f04ca6adbc4af597e72e71": {
      "model_module": "@jupyter-widgets/base",
      "model_module_version": "1.0.0",
      "model_name": "LayoutModel",
      "state": {}
     },
     "11d6702a7a5f4943902e8121864bb3b1": {
      "model_module": "@jupyter-widgets/controls",
      "model_module_version": "1.1.0",
      "model_name": "ButtonModel",
      "state": {
       "button_style": "success",
       "description": "Update plot",
       "icon": "paint-brush",
       "layout": "IPY_MODEL_550a8b4a444a4dc8979aaff27f9aea77",
       "style": "IPY_MODEL_47bb9e4681e444679e939c70b022b30b",
       "tooltip": "Click to redraw the plot below with updated options from above."
      }
     },
     "11df27aa5e3847d59b5cbdd1ed1e833d": {
      "model_module": "@jupyter-widgets/base",
      "model_module_version": "1.0.0",
      "model_name": "LayoutModel",
      "state": {}
     },
     "11e5620c07cc43d8a2786e3639005438": {
      "model_module": "@jupyter-widgets/controls",
      "model_module_version": "1.1.0",
      "model_name": "DescriptionStyleModel",
      "state": {
       "description_width": ""
      }
     },
     "11f48d37a535475ca688e0905db3162f": {
      "model_module": "@jupyter-widgets/base",
      "model_module_version": "1.0.0",
      "model_name": "LayoutModel",
      "state": {}
     },
     "1245431019ef4cbaa2e0848f14663203": {
      "model_module": "@jupyter-widgets/controls",
      "model_module_version": "1.1.0",
      "model_name": "DescriptionStyleModel",
      "state": {
       "description_width": ""
      }
     },
     "125eeccb2fdb4c41a531b1210628a84b": {
      "model_module": "@jupyter-widgets/controls",
      "model_module_version": "1.1.0",
      "model_name": "CheckboxModel",
      "state": {
       "description": "45°",
       "disabled": false,
       "layout": "IPY_MODEL_e4d804abadc14c74a33145526e02a3b7",
       "style": "IPY_MODEL_8e7f2696ab6a4fb79016841dd4e1fa51",
       "value": true
      }
     },
     "126979ad38054e0a8468ba5e307f9db5": {
      "model_module": "@jupyter-widgets/controls",
      "model_module_version": "1.1.0",
      "model_name": "ToggleButtonsModel",
      "state": {
       "_options_labels": [
        "N (¹n)",
        "NDC (¹n)",
        "P (¹H)",
        "D (²H)",
        "T (³H)",
        "S (³He)",
        "A (⁴He)"
       ],
       "button_style": "",
       "description": "Type:",
       "icons": [],
       "index": 5,
       "layout": "IPY_MODEL_f4a71d72724943bfaf0276bf593011e7",
       "style": "IPY_MODEL_4873b52e14fb4e01a2efc9b6ec9f4561",
       "tooltips": [
        "Neutron",
        "Back Target Neutron",
        "Proton",
        "Deuteron",
        "Triton",
        "Helium-3",
        "Helium-4"
       ]
      }
     },
     "128415027564430eb376c5398a76e9ed": {
      "model_module": "@jupyter-widgets/controls",
      "model_module_version": "1.1.0",
      "model_name": "CheckboxModel",
      "state": {
       "description": "80°",
       "disabled": false,
       "layout": "IPY_MODEL_7bd08e09b235419884b9026c8318d57b",
       "style": "IPY_MODEL_1d9e716883364df8a8ff753b2645afa2",
       "value": true
      }
     },
     "12cf0e3f5beb4e5db305b20b8628fea2": {
      "model_module": "@jupyter-widgets/controls",
      "model_module_version": "1.1.0",
      "model_name": "ToggleButtonsStyleModel",
      "state": {
       "button_width": "",
       "description_width": ""
      }
     },
     "12dad28b0128407b921fd9caa9fb30b1": {
      "model_module": "@jupyter-widgets/controls",
      "model_module_version": "1.1.0",
      "model_name": "CheckboxModel",
      "state": {
       "description": "80°",
       "disabled": false,
       "layout": "IPY_MODEL_f055cac736c0407b94d3e7ddcc082153",
       "style": "IPY_MODEL_1e81c5de21e34a69a2a2f8ab37580fa5",
       "value": true
      }
     },
     "134bc7054b404937bd3736cbe91e7b67": {
      "model_module": "@jupyter-widgets/base",
      "model_module_version": "1.0.0",
      "model_name": "LayoutModel",
      "state": {}
     },
     "134dbfaf626f4f0188ccfb5e92dc8b4c": {
      "model_module": "@jupyter-widgets/controls",
      "model_module_version": "1.1.0",
      "model_name": "DescriptionStyleModel",
      "state": {
       "description_width": ""
      }
     },
     "1365e00648e04d3e8ccd0cde2afb99d2": {
      "model_module": "@jupyter-widgets/controls",
      "model_module_version": "1.1.0",
      "model_name": "LabelModel",
      "state": {
       "layout": "IPY_MODEL_84775fd52f4349bfb087eae261842288",
       "style": "IPY_MODEL_aa3cfd405b92404eb2f19d71ca77330c",
       "value": "Select the detector angles to plot."
      }
     },
     "1390752cdc434e52b9f7bbcab6f4e297": {
      "model_module": "@jupyter-widgets/base",
      "model_module_version": "1.0.0",
      "model_name": "LayoutModel",
      "state": {}
     },
     "13ca9599e8a6458b9f877c77a465cadf": {
      "model_module": "@jupyter-widgets/base",
      "model_module_version": "1.0.0",
      "model_name": "LayoutModel",
      "state": {}
     },
     "13e8722c02124a1eb5386f71fef459c9": {
      "model_module": "@jupyter-widgets/base",
      "model_module_version": "1.0.0",
      "model_name": "LayoutModel",
      "state": {}
     },
     "1411d8279de942bcac29d5e365385d3c": {
      "model_module": "@jupyter-widgets/base",
      "model_module_version": "1.0.0",
      "model_name": "LayoutModel",
      "state": {}
     },
     "1438a40c9bcc4938b16e0f607404b957": {
      "model_module": "@jupyter-widgets/controls",
      "model_module_version": "1.1.0",
      "model_name": "ToggleButtonsModel",
      "state": {
       "_options_labels": [
        "400 MeV",
        "800 MeV",
        "2500 MeV"
       ],
       "button_style": "",
       "description": "Energy:",
       "icons": [],
       "index": 0,
       "layout": "IPY_MODEL_b897da7bbb4b482da822f91e6f777254",
       "style": "IPY_MODEL_6efc4b6151e242caaa8ab52d50bd5997",
       "tooltips": [
        "lowest energy",
        "middle energy",
        "highest energy"
       ]
      }
     },
     "1444a36731094071b713ff974db02236": {
      "model_module": "@jupyter-widgets/controls",
      "model_module_version": "1.1.0",
      "model_name": "DescriptionStyleModel",
      "state": {
       "description_width": ""
      }
     },
     "145a572af0524b2c966a392096088f62": {
      "model_module": "@jupyter-widgets/controls",
      "model_module_version": "1.1.0",
      "model_name": "CheckboxModel",
      "state": {
       "description": "30°",
       "disabled": false,
       "layout": "IPY_MODEL_1ffc5d883a454771a14c0ab9f328fcf3",
       "style": "IPY_MODEL_4ea59979a0084e069d4cfe7c617b86d8",
       "value": true
      }
     },
     "1464d343c35a4ef39cb521de45cc30a7": {
      "model_module": "@jupyter-widgets/base",
      "model_module_version": "1.0.0",
      "model_name": "LayoutModel",
      "state": {}
     },
     "14747b7132f64713b014ca83848cb75d": {
      "model_module": "@jupyter-widgets/base",
      "model_module_version": "1.0.0",
      "model_name": "LayoutModel",
      "state": {}
     },
     "1487e8abab6d47ebb0c49c2e27bd0fc5": {
      "model_module": "@jupyter-widgets/controls",
      "model_module_version": "1.1.0",
      "model_name": "DescriptionStyleModel",
      "state": {
       "description_width": ""
      }
     },
     "14a99f6b164c4d9299d9760d104c3d74": {
      "model_module": "@jupyter-widgets/base",
      "model_module_version": "1.0.0",
      "model_name": "LayoutModel",
      "state": {}
     },
     "14cfeddecba7482199b9ea67847f885f": {
      "model_module": "@jupyter-widgets/controls",
      "model_module_version": "1.1.0",
      "model_name": "DescriptionStyleModel",
      "state": {
       "description_width": ""
      }
     },
     "14fafc4eb4bf469cae61c06d8cce53bf": {
      "model_module": "@jupyter-widgets/base",
      "model_module_version": "1.0.0",
      "model_name": "LayoutModel",
      "state": {}
     },
     "150c190f1f854c3f99617e36a9d284b7": {
      "model_module": "@jupyter-widgets/controls",
      "model_module_version": "1.1.0",
      "model_name": "CheckboxModel",
      "state": {
       "description": "30°",
       "disabled": false,
       "layout": "IPY_MODEL_94435b3fbd774ecb9620eeafcda40e7b",
       "style": "IPY_MODEL_622b1dbaabd243b9843ca2f3fffb7666",
       "value": true
      }
     },
     "152c368039ae4f16b2ef95b826c218db": {
      "model_module": "@jupyter-widgets/controls",
      "model_module_version": "1.1.0",
      "model_name": "CheckboxModel",
      "state": {
       "description": "45°",
       "disabled": false,
       "layout": "IPY_MODEL_88c16b0b83314b6692444ec6c22caa7f",
       "style": "IPY_MODEL_4dc60796dc4d4b2fb291300a78b5e453",
       "value": true
      }
     },
     "156f2356d2f34394bd0ef2bbc9f4c5b0": {
      "model_module": "@jupyter-widgets/base",
      "model_module_version": "1.0.0",
      "model_name": "LayoutModel",
      "state": {}
     },
     "15be3f50cce94b91a4aa3def909f1e33": {
      "model_module": "@jupyter-widgets/base",
      "model_module_version": "1.0.0",
      "model_name": "LayoutModel",
      "state": {}
     },
     "15c535b975a647e4bedb7e06e6a77381": {
      "model_module": "@jupyter-widgets/controls",
      "model_module_version": "1.1.0",
      "model_name": "DescriptionStyleModel",
      "state": {
       "description_width": ""
      }
     },
     "15ee170653c240fb99340a790479ce12": {
      "model_module": "@jupyter-widgets/controls",
      "model_module_version": "1.1.0",
      "model_name": "DescriptionStyleModel",
      "state": {
       "description_width": ""
      }
     },
     "1611a7e4b1b04daa83ba9fbdf40a6b48": {
      "model_module": "@jupyter-widgets/controls",
      "model_module_version": "1.1.0",
      "model_name": "DescriptionStyleModel",
      "state": {
       "description_width": ""
      }
     },
     "16645c168df54931bd863473f3de34b4": {
      "model_module": "@jupyter-widgets/base",
      "model_module_version": "1.0.0",
      "model_name": "LayoutModel",
      "state": {}
     },
     "1672aa49f4314ddf92f6e8228632b8df": {
      "model_module": "@jupyter-widgets/base",
      "model_module_version": "1.0.0",
      "model_name": "LayoutModel",
      "state": {}
     },
     "16826bc0ce984138840e74701681d5b5": {
      "model_module": "@jupyter-widgets/base",
      "model_module_version": "1.0.0",
      "model_name": "LayoutModel",
      "state": {}
     },
     "169917404f5542f0acc9e96eb4383c57": {
      "model_module": "@jupyter-widgets/controls",
      "model_module_version": "1.1.0",
      "model_name": "LabelModel",
      "state": {
       "layout": "IPY_MODEL_2c74d1c741714f67aa3c29cd6db0295b",
       "style": "IPY_MODEL_4df1a3837fc04729974df5c9012b3dde",
       "value": "Select upstream target mass thickness."
      }
     },
     "16a0a785c08a4f329604b9d7b46e1730": {
      "model_module": "@jupyter-widgets/controls",
      "model_module_version": "1.1.0",
      "model_name": "ToggleButtonsStyleModel",
      "state": {
       "button_width": "",
       "description_width": ""
      }
     },
     "16f670a283904513995b6aa8c48c5375": {
      "model_module": "@jupyter-widgets/base",
      "model_module_version": "1.0.0",
      "model_name": "LayoutModel",
      "state": {}
     },
     "16f7563b15f24961b00e03182136e5e0": {
      "model_module": "@jupyter-widgets/base",
      "model_module_version": "1.0.0",
      "model_name": "LayoutModel",
      "state": {}
     },
     "16fa1374555044cb9b5eb597982fd0c0": {
      "model_module": "@jupyter-widgets/controls",
      "model_module_version": "1.1.0",
      "model_name": "ToggleButtonsModel",
      "state": {
       "_options_labels": [
        "P (¹H)",
        "D (²H)",
        "T (³H)",
        "S (³He)",
        "A (⁴He)"
       ],
       "button_style": "",
       "description": "Type:",
       "icons": [],
       "index": 1,
       "layout": "IPY_MODEL_4ef0084a078247899fe9c9e4946364ae",
       "style": "IPY_MODEL_77f0a240fb514069b6c89a150a7abac9",
       "tooltips": [
        "Proton",
        "Deuteron",
        "Triton",
        "Helium-3",
        "Helium-4"
       ]
      }
     },
     "1719a77f518142a39ecc0dced8ab027f": {
      "model_module": "@jupyter-widgets/base",
      "model_module_version": "1.0.0",
      "model_name": "LayoutModel",
      "state": {}
     },
     "1749abe25a594d598be919bca214e8ae": {
      "model_module": "@jupyter-widgets/base",
      "model_module_version": "1.0.0",
      "model_name": "LayoutModel",
      "state": {}
     },
     "1757cdb3a11c42869812c07a7a3a6d56": {
      "model_module": "@jupyter-widgets/controls",
      "model_module_version": "1.1.0",
      "model_name": "DescriptionStyleModel",
      "state": {
       "description_width": ""
      }
     },
     "17bae485d4da4ee1af714e9f524d5da1": {
      "model_module": "@jupyter-widgets/base",
      "model_module_version": "1.0.0",
      "model_name": "LayoutModel",
      "state": {}
     },
     "180b1185efac437da63d4e48062134ca": {
      "model_module": "@jupyter-widgets/controls",
      "model_module_version": "1.1.0",
      "model_name": "LabelModel",
      "state": {
       "layout": "IPY_MODEL_1a7a00b0f1c743d288a666ab80835582",
       "style": "IPY_MODEL_ff2f94b2546b423daf13837d3bd365ab",
       "value": "Select projectile ion species and energy."
      }
     },
     "181d532fcf664ac59ef38448d3ac215c": {
      "model_module": "@jupyter-widgets/base",
      "model_module_version": "1.0.0",
      "model_name": "LayoutModel",
      "state": {}
     },
     "18863704081745a6b44ce17d97071696": {
      "model_module": "@jupyter-widgets/base",
      "model_module_version": "1.0.0",
      "model_name": "LayoutModel",
      "state": {}
     },
     "18b8c3c6b1d2459ab250e28c7d51c293": {
      "model_module": "@jupyter-widgets/controls",
      "model_module_version": "1.1.0",
      "model_name": "DescriptionStyleModel",
      "state": {
       "description_width": ""
      }
     },
     "18b949db5fe34bef96f34c741ec2e158": {
      "model_module": "@jupyter-widgets/controls",
      "model_module_version": "1.1.0",
      "model_name": "DescriptionStyleModel",
      "state": {
       "description_width": ""
      }
     },
     "18ec9503a0314fdfb4fd82944a091077": {
      "model_module": "@jupyter-widgets/controls",
      "model_module_version": "1.1.0",
      "model_name": "ToggleButtonsStyleModel",
      "state": {
       "button_width": "",
       "description_width": ""
      }
     },
     "1902eba716b74c90bbd59002c4fa7e7e": {
      "model_module": "@jupyter-widgets/controls",
      "model_module_version": "1.1.0",
      "model_name": "LabelModel",
      "state": {
       "layout": "IPY_MODEL_7eb4d549ff354d1d97bf02337d3d4441",
       "style": "IPY_MODEL_5551224bca5049e7be23f28c01e1dd3b",
       "value": "Select upstream target material and thickness."
      }
     },
     "19147c5420c549e0b2700c357babc0f8": {
      "model_module": "@jupyter-widgets/controls",
      "model_module_version": "1.1.0",
      "model_name": "DescriptionStyleModel",
      "state": {
       "description_width": ""
      }
     },
     "1954fcd499e84497b4865b733f2fe9a4": {
      "model_module": "@jupyter-widgets/base",
      "model_module_version": "1.0.0",
      "model_name": "LayoutModel",
      "state": {}
     },
     "195d94cd3ae042f0960a238e7d83b52f": {
      "model_module": "@jupyter-widgets/base",
      "model_module_version": "1.0.0",
      "model_name": "LayoutModel",
      "state": {}
     },
     "1961e98b7ac3486ebc1961e8cfeef51c": {
      "model_module": "@jupyter-widgets/base",
      "model_module_version": "1.0.0",
      "model_name": "LayoutModel",
      "state": {}
     },
     "1963e7eec4ae4110934c80444a00a43c": {
      "model_module": "@jupyter-widgets/controls",
      "model_module_version": "1.1.0",
      "model_name": "DescriptionStyleModel",
      "state": {
       "description_width": ""
      }
     },
     "1969fd309e104c78be9910fab3e01e63": {
      "model_module": "@jupyter-widgets/controls",
      "model_module_version": "1.1.0",
      "model_name": "CheckboxModel",
      "state": {
       "description": "10°",
       "disabled": false,
       "layout": "IPY_MODEL_7361620793a041eb83e6cebabb392c82",
       "style": "IPY_MODEL_23dd98cd3a2f4af9b3fe95992b838186",
       "value": true
      }
     },
     "196b92fe93b14a5e9565d48f5aa1f5ce": {
      "model_module": "@jupyter-widgets/controls",
      "model_module_version": "1.1.0",
      "model_name": "ToggleButtonsStyleModel",
      "state": {
       "button_width": "",
       "description_width": ""
      }
     },
     "197075fb586e4734965179c897e4f958": {
      "model_module": "@jupyter-widgets/controls",
      "model_module_version": "1.1.0",
      "model_name": "DescriptionStyleModel",
      "state": {
       "description_width": ""
      }
     },
     "19ccf39af38349de8dfba6854f1eef09": {
      "model_module": "@jupyter-widgets/controls",
      "model_module_version": "1.1.0",
      "model_name": "CheckboxModel",
      "state": {
       "description": "30°",
       "disabled": false,
       "layout": "IPY_MODEL_f321083ddc564a30968b1d85bf33aa1b",
       "style": "IPY_MODEL_269da9fb17a54ca783dafdd295da5430",
       "value": true
      }
     },
     "19e0b081d42e4dccaf1e0c50fc67ddd5": {
      "model_module": "@jupyter-widgets/controls",
      "model_module_version": "1.1.0",
      "model_name": "DescriptionStyleModel",
      "state": {
       "description_width": ""
      }
     },
     "19ecf35209604accb1c26bee4e7667e4": {
      "model_module": "@jupyter-widgets/controls",
      "model_module_version": "1.1.0",
      "model_name": "ToggleButtonsModel",
      "state": {
       "_options_labels": [
        "OLS",
        "NaI"
       ],
       "button_style": "",
       "description": "Type:",
       "icons": [],
       "index": 0,
       "layout": "IPY_MODEL_053cbccbe0f4414bad85c180627d0aa8",
       "style": "IPY_MODEL_8e949d24e566410ab568643397076396",
       "tooltips": [
        "Organic Liquid Scintillator",
        "Sodium Iodide"
       ]
      }
     },
     "1a0b47557ddb471a9abef45ce46f53bc": {
      "model_module": "@jupyter-widgets/controls",
      "model_module_version": "1.1.0",
      "model_name": "DescriptionStyleModel",
      "state": {
       "description_width": ""
      }
     },
     "1a34ec5b142b45db90573b92d4c30f07": {
      "model_module": "@jupyter-widgets/controls",
      "model_module_version": "1.1.0",
      "model_name": "CheckboxModel",
      "state": {
       "description": "60°",
       "disabled": false,
       "layout": "IPY_MODEL_a86e995100d74316a3d0e3db7e535fcc",
       "style": "IPY_MODEL_a62492efc26142d39374db8dd98e3500",
       "value": true
      }
     },
     "1a377439799f4844b4b90a8aaa874093": {
      "model_module": "@jupyter-widgets/controls",
      "model_module_version": "1.1.0",
      "model_name": "LabelModel",
      "state": {
       "layout": "IPY_MODEL_1c2d0cb27cfc487392e4c839e8ece25f",
       "style": "IPY_MODEL_08166d77b35f43fd8598f6c8612cbcaa",
       "value": "Select projectile ion energy."
      }
     },
     "1a46dbed02354026a4326b00cab9b040": {
      "model_module": "@jupyter-widgets/controls",
      "model_module_version": "1.1.0",
      "model_name": "DescriptionStyleModel",
      "state": {
       "description_width": ""
      }
     },
     "1a5612b401944defb18e84f5e71fc199": {
      "model_module": "@jupyter-widgets/controls",
      "model_module_version": "1.1.0",
      "model_name": "ToggleButtonsStyleModel",
      "state": {
       "button_width": "",
       "description_width": ""
      }
     },
     "1a684b2eadf148cba283c44e38e6ec3c": {
      "model_module": "@jupyter-widgets/controls",
      "model_module_version": "1.1.0",
      "model_name": "ButtonStyleModel",
      "state": {}
     },
     "1a69e3aee3e14b7db2c3eaef0f27ff8c": {
      "model_module": "@jupyter-widgets/base",
      "model_module_version": "1.0.0",
      "model_name": "LayoutModel",
      "state": {}
     },
     "1a7a00b0f1c743d288a666ab80835582": {
      "model_module": "@jupyter-widgets/base",
      "model_module_version": "1.0.0",
      "model_name": "LayoutModel",
      "state": {}
     },
     "1a9341747b8a43e0a169c7d1d639c50f": {
      "model_module": "@jupyter-widgets/base",
      "model_module_version": "1.0.0",
      "model_name": "LayoutModel",
      "state": {}
     },
     "1aa273c7bdca4da191835a445d606065": {
      "model_module": "@jupyter-widgets/controls",
      "model_module_version": "1.1.0",
      "model_name": "DescriptionStyleModel",
      "state": {
       "description_width": ""
      }
     },
     "1abe2f30b79f4701a9f94cf1a438e122": {
      "model_module": "@jupyter-widgets/controls",
      "model_module_version": "1.1.0",
      "model_name": "ToggleButtonsStyleModel",
      "state": {
       "button_width": "",
       "description_width": ""
      }
     },
     "1acc6d4d97c0434783d57bd31fb7a9e1": {
      "model_module": "@jupyter-widgets/controls",
      "model_module_version": "1.1.0",
      "model_name": "DescriptionStyleModel",
      "state": {
       "description_width": ""
      }
     },
     "1aeb7dfc9e594c11861f86298ee1729a": {
      "model_module": "@jupyter-widgets/base",
      "model_module_version": "1.0.0",
      "model_name": "LayoutModel",
      "state": {}
     },
     "1af087b5218c4437920f90cb063ef0cb": {
      "model_module": "@jupyter-widgets/controls",
      "model_module_version": "1.1.0",
      "model_name": "DescriptionStyleModel",
      "state": {
       "description_width": ""
      }
     },
     "1b1c3c1a190840779c5277f754611eed": {
      "model_module": "@jupyter-widgets/controls",
      "model_module_version": "1.1.0",
      "model_name": "DescriptionStyleModel",
      "state": {
       "description_width": ""
      }
     },
     "1b3dff2e885b48e789134f537ebc787a": {
      "model_module": "@jupyter-widgets/controls",
      "model_module_version": "1.1.0",
      "model_name": "DescriptionStyleModel",
      "state": {
       "description_width": ""
      }
     },
     "1b46d062e7544ec0a153eeae4e600990": {
      "model_module": "@jupyter-widgets/controls",
      "model_module_version": "1.1.0",
      "model_name": "ToggleButtonsStyleModel",
      "state": {
       "button_width": "",
       "description_width": ""
      }
     },
     "1b7bbc4fc6784941b0bb170af22bc7b8": {
      "model_module": "@jupyter-widgets/base",
      "model_module_version": "1.0.0",
      "model_name": "LayoutModel",
      "state": {}
     },
     "1b864d38500245bc899a0f381f423c24": {
      "model_module": "@jupyter-widgets/base",
      "model_module_version": "1.0.0",
      "model_name": "LayoutModel",
      "state": {}
     },
     "1ba608492b364dd0bee498de820a823f": {
      "model_module": "@jupyter-widgets/controls",
      "model_module_version": "1.1.0",
      "model_name": "DescriptionStyleModel",
      "state": {
       "description_width": ""
      }
     },
     "1bbba88cc5794cd1ad6b502097c723e9": {
      "model_module": "@jupyter-widgets/base",
      "model_module_version": "1.0.0",
      "model_name": "LayoutModel",
      "state": {}
     },
     "1bc61067e7e84ec4893204250a69454a": {
      "model_module": "@jupyter-widgets/base",
      "model_module_version": "1.0.0",
      "model_name": "LayoutModel",
      "state": {}
     },
     "1bf04ec8e10246cc9d2df1f9e1f9e9b8": {
      "model_module": "@jupyter-widgets/base",
      "model_module_version": "1.0.0",
      "model_name": "LayoutModel",
      "state": {}
     },
     "1bf7f5567589498fa681752dbe53ef46": {
      "model_module": "@jupyter-widgets/base",
      "model_module_version": "1.0.0",
      "model_name": "LayoutModel",
      "state": {}
     },
     "1bfd2f44b7c2442090c992df698cee4c": {
      "model_module": "@jupyter-widgets/base",
      "model_module_version": "1.0.0",
      "model_name": "LayoutModel",
      "state": {}
     },
     "1c014d4e1a954966b4781964ef79ab9d": {
      "model_module": "@jupyter-widgets/base",
      "model_module_version": "1.0.0",
      "model_name": "LayoutModel",
      "state": {}
     },
     "1c2d0cb27cfc487392e4c839e8ece25f": {
      "model_module": "@jupyter-widgets/base",
      "model_module_version": "1.0.0",
      "model_name": "LayoutModel",
      "state": {}
     },
     "1c450c8f804a47ec8b0823ee81fcc1a9": {
      "model_module": "@jupyter-widgets/controls",
      "model_module_version": "1.1.0",
      "model_name": "DescriptionStyleModel",
      "state": {
       "description_width": ""
      }
     },
     "1c7c9c5e98b14f00b81925a5e964572c": {
      "model_module": "@jupyter-widgets/controls",
      "model_module_version": "1.1.0",
      "model_name": "CheckboxModel",
      "state": {
       "description": "60°",
       "disabled": false,
       "layout": "IPY_MODEL_ec294333971b4af4bb4a5d8b139ab91f",
       "style": "IPY_MODEL_add3906993124ea1b4e1b692d9bd831b",
       "value": true
      }
     },
     "1d393d3627de4b8b9c225452fc52406f": {
      "model_module": "@jupyter-widgets/base",
      "model_module_version": "1.0.0",
      "model_name": "LayoutModel",
      "state": {}
     },
     "1d68b934178f43fc98da9e81f818c1c2": {
      "model_module": "@jupyter-widgets/base",
      "model_module_version": "1.0.0",
      "model_name": "LayoutModel",
      "state": {}
     },
     "1d72fdf622c6443bb22fe880f8a2aa5c": {
      "model_module": "@jupyter-widgets/base",
      "model_module_version": "1.0.0",
      "model_name": "LayoutModel",
      "state": {}
     },
     "1d9e716883364df8a8ff753b2645afa2": {
      "model_module": "@jupyter-widgets/controls",
      "model_module_version": "1.1.0",
      "model_name": "DescriptionStyleModel",
      "state": {
       "description_width": ""
      }
     },
     "1dad1907f0694a15b1777d2307d3c28f": {
      "model_module": "@jupyter-widgets/base",
      "model_module_version": "1.0.0",
      "model_name": "LayoutModel",
      "state": {}
     },
     "1e04ec5a3cd042a4ac1c828623d14d2e": {
      "model_module": "@jupyter-widgets/controls",
      "model_module_version": "1.1.0",
      "model_name": "CheckboxModel",
      "state": {
       "description": "45°",
       "disabled": false,
       "layout": "IPY_MODEL_9f10af26b0b44a58a854ace8e990c731",
       "style": "IPY_MODEL_e4e76739afdd42159e7d70cd8e35073f",
       "value": true
      }
     },
     "1e0609842ad847aaa5d3b11714eb181b": {
      "model_module": "@jupyter-widgets/controls",
      "model_module_version": "1.1.0",
      "model_name": "CheckboxModel",
      "state": {
       "description": "45°",
       "disabled": false,
       "layout": "IPY_MODEL_9fc3301f6be746b3b12b26b043f73985",
       "style": "IPY_MODEL_9180d374d3b3454293724d57c1893023",
       "value": true
      }
     },
     "1e0c3eaa0d044be580b73c12fea09940": {
      "model_module": "@jupyter-widgets/controls",
      "model_module_version": "1.1.0",
      "model_name": "DescriptionStyleModel",
      "state": {
       "description_width": ""
      }
     },
     "1e18632789c64ad58c9bdccadd49f03f": {
      "model_module": "@jupyter-widgets/controls",
      "model_module_version": "1.1.0",
      "model_name": "ToggleButtonsModel",
      "state": {
       "_options_labels": [
        "400 MeV/n",
        "800 MeV/n",
        "1500 MeV/n"
       ],
       "button_style": "",
       "description": "Energy:",
       "icons": [],
       "index": 0,
       "layout": "IPY_MODEL_4bd4fb3548f34dbbab78ecd8e9853177",
       "style": "IPY_MODEL_4000278a9d364b9f8b0aa3f29b94c1be",
       "tooltips": [
        "lowest energy",
        "middle energy",
        "highest energy"
       ]
      }
     },
     "1e5116bf86be4f1882bf20fcf6a6c465": {
      "model_module": "@jupyter-widgets/controls",
      "model_module_version": "1.1.0",
      "model_name": "DescriptionStyleModel",
      "state": {
       "description_width": ""
      }
     },
     "1e7bec4752ff40afa2b30faaa9181f59": {
      "model_module": "@jupyter-widgets/controls",
      "model_module_version": "1.1.0",
      "model_name": "DescriptionStyleModel",
      "state": {
       "description_width": ""
      }
     },
     "1e80c9c610b14a8cbdf136d7def2e4a6": {
      "model_module": "@jupyter-widgets/controls",
      "model_module_version": "1.1.0",
      "model_name": "DescriptionStyleModel",
      "state": {
       "description_width": ""
      }
     },
     "1e81c5de21e34a69a2a2f8ab37580fa5": {
      "model_module": "@jupyter-widgets/controls",
      "model_module_version": "1.1.0",
      "model_name": "DescriptionStyleModel",
      "state": {
       "description_width": ""
      }
     },
     "1e89315c30e2428fa595d6b42ebd4592": {
      "model_module": "@jupyter-widgets/base",
      "model_module_version": "1.0.0",
      "model_name": "LayoutModel",
      "state": {}
     },
     "1ea81ce3204a4d4c865e413aa9de17b2": {
      "model_module": "@jupyter-widgets/base",
      "model_module_version": "1.0.0",
      "model_name": "LayoutModel",
      "state": {}
     },
     "1ed0243d19a140a795e7c835cce9e2ab": {
      "model_module": "@jupyter-widgets/controls",
      "model_module_version": "1.1.0",
      "model_name": "ToggleButtonsModel",
      "state": {
       "_options_labels": [
        "N (¹n)",
        "NDC (¹n)",
        "P (¹H)",
        "D (²H)"
       ],
       "button_style": "",
       "description": "Particle:",
       "icons": [],
       "index": 0,
       "layout": "IPY_MODEL_67649ac06c0d44b7ba8bc7ab44f13d98",
       "style": "IPY_MODEL_45c7f6aa82f24df694b77ec71789ab46",
       "tooltips": [
        "Neutron",
        "Back Target Neutron",
        "Proton",
        "Deuteron"
       ]
      }
     },
     "1f1eb4c094934fe49153eebb19d3e67a": {
      "model_module": "@jupyter-widgets/controls",
      "model_module_version": "1.1.0",
      "model_name": "CheckboxModel",
      "state": {
       "description": "30°",
       "disabled": false,
       "layout": "IPY_MODEL_f4b34bb605b642bc92cabd5815758446",
       "style": "IPY_MODEL_84e53c0a403b446f8596a153fde52f6a",
       "value": false
      }
     },
     "1f4ce312528a4c30b50ca96cd4811801": {
      "model_module": "@jupyter-widgets/controls",
      "model_module_version": "1.1.0",
      "model_name": "ToggleButtonsModel",
      "state": {
       "_options_labels": [
        "Al",
        "HDPE",
        "AlPE"
       ],
       "button_style": "",
       "description": "Material:",
       "icons": [],
       "index": 0,
       "layout": "IPY_MODEL_be7e7da3f74547e9b6d4c1ebe08afb4a",
       "style": "IPY_MODEL_7f4e7685ff92449696edc9899475e79a",
       "tooltips": [
        "Aluminum",
        "Polyethylene",
        "Combination of Al and HDPE"
       ]
      }
     },
     "1f7b1312a8a44dbaa6d3bae6912929db": {
      "model_module": "@jupyter-widgets/controls",
      "model_module_version": "1.1.0",
      "model_name": "DescriptionStyleModel",
      "state": {
       "description_width": ""
      }
     },
     "1f855d3c7c5042aab4a2fc134c58855e": {
      "model_module": "@jupyter-widgets/controls",
      "model_module_version": "1.1.0",
      "model_name": "LabelModel",
      "state": {
       "layout": "IPY_MODEL_87f9d71af0c142c7b5caf8e56b9b61ca",
       "style": "IPY_MODEL_42c81fe8612b454e8f3f3342eb8dd9b6",
       "value": "Select the detector angles to plot."
      }
     },
     "1fe86901ff6444339b517145bf3c3899": {
      "model_module": "@jupyter-widgets/controls",
      "model_module_version": "1.1.0",
      "model_name": "DescriptionStyleModel",
      "state": {
       "description_width": ""
      }
     },
     "1fec3a2bae25428490df10b6f9630f15": {
      "model_module": "@jupyter-widgets/controls",
      "model_module_version": "1.1.0",
      "model_name": "ToggleButtonsStyleModel",
      "state": {
       "button_width": "",
       "description_width": ""
      }
     },
     "1ff29871f05948588bf13aad8cfafb46": {
      "model_module": "@jupyter-widgets/controls",
      "model_module_version": "1.1.0",
      "model_name": "CheckboxModel",
      "state": {
       "description": "135°",
       "disabled": false,
       "layout": "IPY_MODEL_9068b5b316bf413bac4f0c0b2795de4c",
       "style": "IPY_MODEL_7fe93f0e92f445f2b9eb26c37bb33e12",
       "value": true
      }
     },
     "1ffc5d883a454771a14c0ab9f328fcf3": {
      "model_module": "@jupyter-widgets/base",
      "model_module_version": "1.0.0",
      "model_name": "LayoutModel",
      "state": {}
     },
     "200b72eb0f634c9cb9872c64c4e231f8": {
      "model_module": "@jupyter-widgets/base",
      "model_module_version": "1.0.0",
      "model_name": "LayoutModel",
      "state": {}
     },
     "2061e11c43264be5ac072294cb7e5fa3": {
      "model_module": "@jupyter-widgets/controls",
      "model_module_version": "1.1.0",
      "model_name": "ToggleButtonsStyleModel",
      "state": {
       "button_width": "",
       "description_width": ""
      }
     },
     "2067999da50a4acda922fbebaef4a1f0": {
      "model_module": "@jupyter-widgets/controls",
      "model_module_version": "1.1.0",
      "model_name": "CheckboxModel",
      "state": {
       "description": "135°",
       "disabled": false,
       "layout": "IPY_MODEL_8b54b65353c24895a98b93779b430b43",
       "style": "IPY_MODEL_849c532214cc497bb60d08a05f612cf5",
       "value": true
      }
     },
     "206e7eb772a54f929bdcf9f5a5e09536": {
      "model_module": "@jupyter-widgets/controls",
      "model_module_version": "1.1.0",
      "model_name": "LabelModel",
      "state": {
       "layout": "IPY_MODEL_55114e30eaef4a0baf0b2c8825f04423",
       "style": "IPY_MODEL_69ea7f91f62f4a098c14805203339114",
       "value": "Select how data sets for each detector should be spaced apart (if at all)."
      }
     },
     "2071846215ec4748bdf788719240d122": {
      "model_module": "@jupyter-widgets/controls",
      "model_module_version": "1.1.0",
      "model_name": "CheckboxModel",
      "state": {
       "description": "30°",
       "disabled": false,
       "layout": "IPY_MODEL_b1fc77d5024944e49d73df03a1d5033b",
       "style": "IPY_MODEL_63b8575a0be8460e9235b4700552459c",
       "value": true
      }
     },
     "2071960dfd52469f9263e30e6e9bf0ec": {
      "model_module": "@jupyter-widgets/controls",
      "model_module_version": "1.1.0",
      "model_name": "LabelModel",
      "state": {
       "layout": "IPY_MODEL_9c2341159be54ea0a13ff26b90f2c396",
       "style": "IPY_MODEL_669362fe01604699a1d455ddf43ff835",
       "value": "Select which secondary particle to plot spectra for."
      }
     },
     "207711b6611e4f40ac75df3879820dc6": {
      "model_module": "@jupyter-widgets/controls",
      "model_module_version": "1.1.0",
      "model_name": "ToggleButtonsModel",
      "state": {
       "_options_labels": [
        "N (¹n)",
        "NDC (¹n)",
        "P (¹H)",
        "D (²H)"
       ],
       "button_style": "",
       "description": "Type:",
       "icons": [],
       "index": 0,
       "layout": "IPY_MODEL_a91084f9d3494b6a940831af3dd58f88",
       "style": "IPY_MODEL_4cbffe1b274f49ce81322da62902dd9c",
       "tooltips": [
        "Neutron",
        "Back Target Neutron",
        "Proton",
        "Deuteron"
       ]
      }
     },
     "20aad4b157da4f91bcbe7e43af14ce8c": {
      "model_module": "@jupyter-widgets/base",
      "model_module_version": "1.0.0",
      "model_name": "LayoutModel",
      "state": {}
     },
     "20da3b71f3e3411983b211b99d20ec80": {
      "model_module": "@jupyter-widgets/base",
      "model_module_version": "1.0.0",
      "model_name": "LayoutModel",
      "state": {}
     },
     "20dc665dc20c4b0d804b2fd06aea5e1f": {
      "model_module": "@jupyter-widgets/controls",
      "model_module_version": "1.1.0",
      "model_name": "DescriptionStyleModel",
      "state": {
       "description_width": ""
      }
     },
     "215b0b190f52448c9781d9b9d17ba7cd": {
      "model_module": "@jupyter-widgets/controls",
      "model_module_version": "1.1.0",
      "model_name": "DescriptionStyleModel",
      "state": {
       "description_width": ""
      }
     },
     "21c98fa0b913448fa02f309f8618c074": {
      "model_module": "@jupyter-widgets/base",
      "model_module_version": "1.0.0",
      "model_name": "LayoutModel",
      "state": {}
     },
     "21f02ba46e614e60a7ef3d5ddcb58c4d": {
      "model_module": "@jupyter-widgets/base",
      "model_module_version": "1.0.0",
      "model_name": "LayoutModel",
      "state": {}
     },
     "2203b0e36dc448a6a364d02d9ddc7b10": {
      "model_module": "@jupyter-widgets/controls",
      "model_module_version": "1.1.0",
      "model_name": "DescriptionStyleModel",
      "state": {
       "description_width": ""
      }
     },
     "221bea030d1f40a2b9b84b5abf1b088f": {
      "model_module": "@jupyter-widgets/base",
      "model_module_version": "1.0.0",
      "model_name": "LayoutModel",
      "state": {}
     },
     "2225873d1fc84b7c8f4477065572bcf8": {
      "model_module": "@jupyter-widgets/controls",
      "model_module_version": "1.1.0",
      "model_name": "DescriptionStyleModel",
      "state": {
       "description_width": ""
      }
     },
     "229e8079ccf74a729fedb12eca55d771": {
      "model_module": "@jupyter-widgets/base",
      "model_module_version": "1.0.0",
      "model_name": "LayoutModel",
      "state": {}
     },
     "22aa899d612646b8a6ea754ddf783fa2": {
      "model_module": "@jupyter-widgets/controls",
      "model_module_version": "1.1.0",
      "model_name": "CheckboxModel",
      "state": {
       "description": "10°",
       "disabled": false,
       "layout": "IPY_MODEL_64e57371413542b59172c6948348cc08",
       "style": "IPY_MODEL_2ef1a56ae5bc45fba52f854ad3a9b76f",
       "value": true
      }
     },
     "22e34764293b49aa9522e3c37405d838": {
      "model_module": "@jupyter-widgets/controls",
      "model_module_version": "1.1.0",
      "model_name": "LabelModel",
      "state": {
       "layout": "IPY_MODEL_4e2a53e9f2794258a9dc672297ae031b",
       "style": "IPY_MODEL_a157ce7d887847e0a3fed77d2b0f750a",
       "value": "Select projectile ion energy."
      }
     },
     "22f5fcb0e7c14fb49e8408d1f2bb3cb6": {
      "model_module": "@jupyter-widgets/base",
      "model_module_version": "1.0.0",
      "model_name": "LayoutModel",
      "state": {}
     },
     "236665dcbcc84145aec131dc47a4833b": {
      "model_module": "@jupyter-widgets/controls",
      "model_module_version": "1.1.0",
      "model_name": "DescriptionStyleModel",
      "state": {
       "description_width": ""
      }
     },
     "237c8b13f52c471ebb970a663c67e096": {
      "model_module": "@jupyter-widgets/controls",
      "model_module_version": "1.1.0",
      "model_name": "DescriptionStyleModel",
      "state": {
       "description_width": ""
      }
     },
     "237ce633442a44248c4af8d83c850476": {
      "model_module": "@jupyter-widgets/controls",
      "model_module_version": "1.1.0",
      "model_name": "DescriptionStyleModel",
      "state": {
       "description_width": ""
      }
     },
     "2384053242f84433b39229fbf2e2de3c": {
      "model_module": "@jupyter-widgets/controls",
      "model_module_version": "1.1.0",
      "model_name": "LabelModel",
      "state": {
       "layout": "IPY_MODEL_c9096cce08064afe9a49ae9c2fa7066b",
       "style": "IPY_MODEL_6d7ee98cf6a1461ba5df20b026c4f1d4",
       "value": "Select projectile ion energy."
      }
     },
     "23907f89d8224d0d8f8b6dff967d5a79": {
      "model_module": "@jupyter-widgets/base",
      "model_module_version": "1.0.0",
      "model_name": "LayoutModel",
      "state": {}
     },
     "2390edd9b3c642169437648801af5220": {
      "model_module": "@jupyter-widgets/base",
      "model_module_version": "1.0.0",
      "model_name": "LayoutModel",
      "state": {}
     },
     "23acda008ed343d999adf0515f15bae6": {
      "model_module": "@jupyter-widgets/base",
      "model_module_version": "1.0.0",
      "model_name": "LayoutModel",
      "state": {}
     },
     "23ad429477be4fe7beb80dd502064ac7": {
      "model_module": "@jupyter-widgets/controls",
      "model_module_version": "1.1.0",
      "model_name": "DescriptionStyleModel",
      "state": {
       "description_width": ""
      }
     },
     "23c1b57dfe8f4761b1563240ada6a5b9": {
      "model_module": "@jupyter-widgets/controls",
      "model_module_version": "1.1.0",
      "model_name": "DescriptionStyleModel",
      "state": {
       "description_width": ""
      }
     },
     "23dd98cd3a2f4af9b3fe95992b838186": {
      "model_module": "@jupyter-widgets/controls",
      "model_module_version": "1.1.0",
      "model_name": "DescriptionStyleModel",
      "state": {
       "description_width": ""
      }
     },
     "240653d15a9b498d883a307d46eff2db": {
      "model_module": "@jupyter-widgets/controls",
      "model_module_version": "1.1.0",
      "model_name": "CheckboxModel",
      "state": {
       "description": "80°",
       "disabled": false,
       "layout": "IPY_MODEL_4f5a6e8389cc492184cdfa2a1335dec7",
       "style": "IPY_MODEL_3b0b8b295c814436aa521b533e2e56c8",
       "value": true
      }
     },
     "243c9ba949cf4de2bb60bac6e9decc8d": {
      "model_module": "@jupyter-widgets/controls",
      "model_module_version": "1.1.0",
      "model_name": "ToggleButtonsStyleModel",
      "state": {
       "button_width": "",
       "description_width": ""
      }
     },
     "24be490ab1f64504993213f8766981ce": {
      "model_module": "@jupyter-widgets/base",
      "model_module_version": "1.0.0",
      "model_name": "LayoutModel",
      "state": {}
     },
     "24c22eb0e4364a34aadda045254d1dd3": {
      "model_module": "@jupyter-widgets/controls",
      "model_module_version": "1.1.0",
      "model_name": "CheckboxModel",
      "state": {
       "description": "7.2°",
       "disabled": false,
       "layout": "IPY_MODEL_46b255cfc70a4c64812173744a44a5da",
       "style": "IPY_MODEL_3c181b41a2aa40508ceff12b39798aef",
       "value": true
      }
     },
     "2514ad8ffa01480e8bd6dd3eb68113a7": {
      "model_module": "@jupyter-widgets/controls",
      "model_module_version": "1.1.0",
      "model_name": "DescriptionStyleModel",
      "state": {
       "description_width": ""
      }
     },
     "251dbee8118e4833a50c38ca3bb755d4": {
      "model_module": "@jupyter-widgets/base",
      "model_module_version": "1.0.0",
      "model_name": "LayoutModel",
      "state": {}
     },
     "255bd2ea37c443cdbf7c13594324e3ea": {
      "model_module": "@jupyter-widgets/controls",
      "model_module_version": "1.1.0",
      "model_name": "DescriptionStyleModel",
      "state": {
       "description_width": ""
      }
     },
     "2592cff594e84589b5bf39c835496b59": {
      "model_module": "@jupyter-widgets/base",
      "model_module_version": "1.0.0",
      "model_name": "LayoutModel",
      "state": {}
     },
     "2593de92f9be4007b1f4d477fd4a25a2": {
      "model_module": "@jupyter-widgets/controls",
      "model_module_version": "1.1.0",
      "model_name": "ToggleButtonsStyleModel",
      "state": {
       "button_width": "",
       "description_width": ""
      }
     },
     "259821b2286b437e9e4fe75c6f3d9880": {
      "model_module": "@jupyter-widgets/controls",
      "model_module_version": "1.1.0",
      "model_name": "LabelModel",
      "state": {
       "layout": "IPY_MODEL_1a9341747b8a43e0a169c7d1d639c50f",
       "style": "IPY_MODEL_b190e7ee1cc6456b9d4bb6b79f1a5050",
       "value": "Select which secondary particle to plot spectra for."
      }
     },
     "25a2ab9d4a05493d9ee1a481e7e8e612": {
      "model_module": "@jupyter-widgets/controls",
      "model_module_version": "1.1.0",
      "model_name": "ToggleButtonsStyleModel",
      "state": {
       "button_width": "",
       "description_width": ""
      }
     },
     "25baf2c5edf945f4a344d597340c6131": {
      "model_module": "@jupyter-widgets/controls",
      "model_module_version": "1.1.0",
      "model_name": "LabelModel",
      "state": {
       "layout": "IPY_MODEL_a629492428ad48ee8eb25a68ad4c270b",
       "style": "IPY_MODEL_75704df72b5f482e83d8caa24c07eb4a",
       "value": "Select which secondary particle to plot spectra for."
      }
     },
     "25d96007033c46ebaa20fafb1a8eedb6": {
      "model_module": "@jupyter-widgets/base",
      "model_module_version": "1.0.0",
      "model_name": "LayoutModel",
      "state": {}
     },
     "25f899f8d0f04abf8212ea7933f21da4": {
      "model_module": "@jupyter-widgets/base",
      "model_module_version": "1.0.0",
      "model_name": "LayoutModel",
      "state": {}
     },
     "261a0838854d461eb78da06486178e37": {
      "model_module": "@jupyter-widgets/controls",
      "model_module_version": "1.1.0",
      "model_name": "ToggleButtonsModel",
      "state": {
       "_options_labels": [
        "P (¹H)",
        "D (²H)",
        "T (³H)",
        "S (³He)",
        "A (⁴He)"
       ],
       "button_style": "",
       "description": "Type:",
       "icons": [],
       "index": 0,
       "layout": "IPY_MODEL_3fd3b2faeb074380b2729da5cdd95564",
       "style": "IPY_MODEL_a70b0e978e594f1399789e761e60afbf",
       "tooltips": [
        "Proton",
        "Deuteron",
        "Triton",
        "Helium-3",
        "Helium-4"
       ]
      }
     },
     "261c847ff5c240b2931f0d21e32a7ac2": {
      "model_module": "@jupyter-widgets/controls",
      "model_module_version": "1.1.0",
      "model_name": "LabelModel",
      "state": {
       "layout": "IPY_MODEL_a04090affc934abca24a590fc6019c01",
       "style": "IPY_MODEL_1245431019ef4cbaa2e0848f14663203",
       "value": "Select upstream target mass thickness."
      }
     },
     "2676b29ceda14a4cafcf9ff791002a06": {
      "model_module": "@jupyter-widgets/controls",
      "model_module_version": "1.1.0",
      "model_name": "LabelModel",
      "state": {
       "layout": "IPY_MODEL_1411d8279de942bcac29d5e365385d3c",
       "style": "IPY_MODEL_0faaac1d69f34135b1b9e3cc6ffeb29c",
       "value": "Select the detector angles to plot."
      }
     },
     "268deff161c442f6baaa7d2a79d4c5a9": {
      "model_module": "@jupyter-widgets/base",
      "model_module_version": "1.0.0",
      "model_name": "LayoutModel",
      "state": {}
     },
     "269da9fb17a54ca783dafdd295da5430": {
      "model_module": "@jupyter-widgets/controls",
      "model_module_version": "1.1.0",
      "model_name": "DescriptionStyleModel",
      "state": {
       "description_width": ""
      }
     },
     "26c41cad8d4a41a7a7c9491a374f09c9": {
      "model_module": "@jupyter-widgets/controls",
      "model_module_version": "1.1.0",
      "model_name": "LabelModel",
      "state": {
       "layout": "IPY_MODEL_611f22c67c284b8a81ffc118bc58ad4b",
       "style": "IPY_MODEL_6e9bce0cd9c54094b088b7a7566773dd",
       "value": "Select projectile ion energy."
      }
     },
     "274735463f814b4bb41f95977294b805": {
      "model_module": "@jupyter-widgets/base",
      "model_module_version": "1.0.0",
      "model_name": "LayoutModel",
      "state": {}
     },
     "2791d37e0d2848a1a800234bdda11304": {
      "model_module": "@jupyter-widgets/base",
      "model_module_version": "1.0.0",
      "model_name": "LayoutModel",
      "state": {}
     },
     "27bf5f266f9f45508684476bec9b8a23": {
      "model_module": "@jupyter-widgets/controls",
      "model_module_version": "1.1.0",
      "model_name": "CheckboxModel",
      "state": {
       "description": "10°",
       "disabled": false,
       "layout": "IPY_MODEL_f812ebabef9146fbb976efd2dd979889",
       "style": "IPY_MODEL_35ebebb3f77f4229bcefca9d8c5b1045",
       "value": true
      }
     },
     "27d06d8380564f648b4eb15a37593a14": {
      "model_module": "@jupyter-widgets/controls",
      "model_module_version": "1.1.0",
      "model_name": "CheckboxModel",
      "state": {
       "description": "80°",
       "disabled": false,
       "layout": "IPY_MODEL_bf3f53a943e7415d8dcc29ce937d5d99",
       "style": "IPY_MODEL_4a159ef5829140938004cae24842987b",
       "value": true
      }
     },
     "27d5cb4b25674bd8b42472f81f0d63cb": {
      "model_module": "@jupyter-widgets/controls",
      "model_module_version": "1.1.0",
      "model_name": "CheckboxModel",
      "state": {
       "description": "10°",
       "disabled": false,
       "layout": "IPY_MODEL_0a82ab59695f43bab8f1746b3a2e4905",
       "style": "IPY_MODEL_ba8a10037e434f2aa71abde4f5d250dd",
       "value": true
      }
     },
     "27e3cf1e50b545d29cf16088973aa139": {
      "model_module": "@jupyter-widgets/controls",
      "model_module_version": "1.1.0",
      "model_name": "DescriptionStyleModel",
      "state": {
       "description_width": ""
      }
     },
     "28216aa714064d369f4eb48ecb4ef60f": {
      "model_module": "@jupyter-widgets/controls",
      "model_module_version": "1.1.0",
      "model_name": "DescriptionStyleModel",
      "state": {
       "description_width": ""
      }
     },
     "283922567ec24a658832eb328a06242b": {
      "model_module": "@jupyter-widgets/controls",
      "model_module_version": "1.1.0",
      "model_name": "CheckboxModel",
      "state": {
       "description": "Experiment",
       "disabled": false,
       "layout": "IPY_MODEL_ae7dcbfed4f64731b92fa302d76824a5",
       "style": "IPY_MODEL_634950df2f1743129effab1a202ebd6c",
       "value": true
      }
     },
     "2840e65aec3c47d3837a37a936e92cd1": {
      "model_module": "@jupyter-widgets/controls",
      "model_module_version": "1.1.0",
      "model_name": "DescriptionStyleModel",
      "state": {
       "description_width": ""
      }
     },
     "28915be44f144a8b8768044bbba38930": {
      "model_module": "@jupyter-widgets/controls",
      "model_module_version": "1.1.0",
      "model_name": "CheckboxModel",
      "state": {
       "description": "30°",
       "disabled": false,
       "layout": "IPY_MODEL_b4570addcf0d4ba69011271c073dbf3c",
       "style": "IPY_MODEL_ce1ca5fc584746ed8a4fe751652309bd",
       "value": true
      }
     },
     "2893d9b3ad6d43bf8b2cc018f9be7175": {
      "model_module": "@jupyter-widgets/controls",
      "model_module_version": "1.1.0",
      "model_name": "LabelModel",
      "state": {
       "layout": "IPY_MODEL_f2747acdaa6146c7bfbced92bc3f8313",
       "style": "IPY_MODEL_5d0203b4421942389bb57b1c40fb9970",
       "value": "Select upstream target mass thickness."
      }
     },
     "28bd2382bcf44b14bbe23a831490798c": {
      "model_module": "@jupyter-widgets/controls",
      "model_module_version": "1.1.0",
      "model_name": "CheckboxModel",
      "state": {
       "description": "10°",
       "disabled": false,
       "layout": "IPY_MODEL_fd601da03285408d9dab1b4e589015f8",
       "style": "IPY_MODEL_27e3cf1e50b545d29cf16088973aa139",
       "value": true
      }
     },
     "28c3fe0386cf482fae9099e6ae852596": {
      "model_module": "@jupyter-widgets/base",
      "model_module_version": "1.0.0",
      "model_name": "LayoutModel",
      "state": {}
     },
     "28c6e8a53b30499788d694073344f160": {
      "model_module": "@jupyter-widgets/controls",
      "model_module_version": "1.1.0",
      "model_name": "ToggleButtonsStyleModel",
      "state": {
       "button_width": "",
       "description_width": ""
      }
     },
     "28cb64bf993548d4ac314cacc750404a": {
      "model_module": "@jupyter-widgets/controls",
      "model_module_version": "1.1.0",
      "model_name": "DescriptionStyleModel",
      "state": {
       "description_width": ""
      }
     },
     "2946f28d1a3b4f0d82cce7206869c124": {
      "model_module": "@jupyter-widgets/controls",
      "model_module_version": "1.1.0",
      "model_name": "CheckboxModel",
      "state": {
       "description": "30°",
       "disabled": false,
       "layout": "IPY_MODEL_a1ba6864738b4cca8debf4d5215d5213",
       "style": "IPY_MODEL_1c450c8f804a47ec8b0823ee81fcc1a9",
       "value": true
      }
     },
     "2959c5f6f302430584bab3b78b19d816": {
      "model_module": "@jupyter-widgets/controls",
      "model_module_version": "1.1.0",
      "model_name": "CheckboxModel",
      "state": {
       "description": "28.2°",
       "disabled": false,
       "layout": "IPY_MODEL_32e719f97d234a248bcbaf5d96dfd4a6",
       "style": "IPY_MODEL_7b0520fc4f674c48beda1fd2174f737c",
       "value": true
      }
     },
     "295a0c1f17204f57beb0788ecce78f07": {
      "model_module": "@jupyter-widgets/controls",
      "model_module_version": "1.1.0",
      "model_name": "DescriptionStyleModel",
      "state": {
       "description_width": ""
      }
     },
     "298021c8e8b04b778ba3e3be8f36f9d6": {
      "model_module": "@jupyter-widgets/base",
      "model_module_version": "1.0.0",
      "model_name": "LayoutModel",
      "state": {}
     },
     "2a459902ad7c4a8298153c85b011898a": {
      "model_module": "@jupyter-widgets/controls",
      "model_module_version": "1.1.0",
      "model_name": "DescriptionStyleModel",
      "state": {
       "description_width": ""
      }
     },
     "2a4f94f6fc7342c99b7ed5068f1975d8": {
      "model_module": "@jupyter-widgets/controls",
      "model_module_version": "1.1.0",
      "model_name": "DescriptionStyleModel",
      "state": {
       "description_width": ""
      }
     },
     "2a6a5bce17a946f98b9b7c3a32c9d1cd": {
      "model_module": "@jupyter-widgets/base",
      "model_module_version": "1.0.0",
      "model_name": "LayoutModel",
      "state": {}
     },
     "2aa9e62ef0e34d62baf0e57cb97ecb73": {
      "model_module": "@jupyter-widgets/base",
      "model_module_version": "1.0.0",
      "model_name": "LayoutModel",
      "state": {}
     },
     "2aac0176a49544ad9d78d854909dc5a1": {
      "model_module": "@jupyter-widgets/controls",
      "model_module_version": "1.1.0",
      "model_name": "ToggleButtonsStyleModel",
      "state": {
       "button_width": "",
       "description_width": ""
      }
     },
     "2ae593c4383e45e9ae578cacbd91a07c": {
      "model_module": "@jupyter-widgets/base",
      "model_module_version": "1.0.0",
      "model_name": "LayoutModel",
      "state": {}
     },
     "2b911a2ee8294942a8efb25e06c96439": {
      "model_module": "@jupyter-widgets/controls",
      "model_module_version": "1.1.0",
      "model_name": "DescriptionStyleModel",
      "state": {
       "description_width": ""
      }
     },
     "2b9c12ef12d14a3f9eddbac713076099": {
      "model_module": "@jupyter-widgets/controls",
      "model_module_version": "1.1.0",
      "model_name": "CheckboxModel",
      "state": {
       "description": "135°",
       "disabled": false,
       "layout": "IPY_MODEL_fca467fbacda4366ac6d71ccd5b56cfc",
       "style": "IPY_MODEL_d47e2aa139ec4bc48fe1cd293fbfea06",
       "value": true
      }
     },
     "2ba975e5fd8f40309db408fb0721daff": {
      "model_module": "@jupyter-widgets/controls",
      "model_module_version": "1.1.0",
      "model_name": "CheckboxModel",
      "state": {
       "description": "30°",
       "disabled": false,
       "layout": "IPY_MODEL_ffc0f64b49c84d55873df730ed3f2593",
       "style": "IPY_MODEL_89466c02b68748f8a436e8f91ceaa1c8",
       "value": true
      }
     },
     "2bc9da5c0a8f480d89a14f33d0641517": {
      "model_module": "@jupyter-widgets/controls",
      "model_module_version": "1.1.0",
      "model_name": "CheckboxModel",
      "state": {
       "description": "PHITS simulated",
       "disabled": false,
       "layout": "IPY_MODEL_494dabc7ce2945f19239370be71cc656",
       "style": "IPY_MODEL_dc2fd02629da40079836a46a6d085d52",
       "value": true
      }
     },
     "2bfba8157b8447fca9e7126134d36d87": {
      "model_module": "@jupyter-widgets/base",
      "model_module_version": "1.0.0",
      "model_name": "LayoutModel",
      "state": {}
     },
     "2c1995101fa74608bb3c56edc2c8d1c6": {
      "model_module": "@jupyter-widgets/base",
      "model_module_version": "1.0.0",
      "model_name": "LayoutModel",
      "state": {}
     },
     "2c1a48858de5405496aade8f31332dc4": {
      "model_module": "@jupyter-widgets/controls",
      "model_module_version": "1.1.0",
      "model_name": "DescriptionStyleModel",
      "state": {
       "description_width": ""
      }
     },
     "2c23d7a990ae4a2684dd296d88e9d850": {
      "model_module": "@jupyter-widgets/controls",
      "model_module_version": "1.1.0",
      "model_name": "CheckboxModel",
      "state": {
       "description": "80°",
       "disabled": false,
       "layout": "IPY_MODEL_24be490ab1f64504993213f8766981ce",
       "style": "IPY_MODEL_ea8cf577676a4f5c815dc001591cca70",
       "value": true
      }
     },
     "2c283eac07974b8c9dc6bcd92671f261": {
      "model_module": "@jupyter-widgets/controls",
      "model_module_version": "1.1.0",
      "model_name": "DescriptionStyleModel",
      "state": {
       "description_width": ""
      }
     },
     "2c2d8136b99342bb82edb55ff49b1e88": {
      "model_module": "@jupyter-widgets/controls",
      "model_module_version": "1.1.0",
      "model_name": "CheckboxModel",
      "state": {
       "description": "45°",
       "disabled": false,
       "layout": "IPY_MODEL_605082e0f753458887d4cb323c5f3cab",
       "style": "IPY_MODEL_a6db707717084bd98e064729160813cb",
       "value": true
      }
     },
     "2c319db6eb8d471b971609779e6b519d": {
      "model_module": "@jupyter-widgets/controls",
      "model_module_version": "1.1.0",
      "model_name": "CheckboxModel",
      "state": {
       "description": "30°",
       "disabled": false,
       "layout": "IPY_MODEL_d6a7cc457e3742c183d9af3d1a0aacbd",
       "style": "IPY_MODEL_6902a3d0f5ed4573bc62d9ca3b441fe5",
       "value": true
      }
     },
     "2c4ef4f3e5e44b1fb9824dfee73d8afe": {
      "model_module": "@jupyter-widgets/controls",
      "model_module_version": "1.1.0",
      "model_name": "CheckboxModel",
      "state": {
       "description": "PHITS simulated",
       "disabled": false,
       "layout": "IPY_MODEL_785390cd756d49a19e9964c3010cb559",
       "style": "IPY_MODEL_e5735cc6219041ce86e8dd86b310dc02",
       "value": true
      }
     },
     "2c677bde966440d1ab1d799e4a999cc7": {
      "model_module": "@jupyter-widgets/base",
      "model_module_version": "1.0.0",
      "model_name": "LayoutModel",
      "state": {}
     },
     "2c74d1c741714f67aa3c29cd6db0295b": {
      "model_module": "@jupyter-widgets/base",
      "model_module_version": "1.0.0",
      "model_name": "LayoutModel",
      "state": {}
     },
     "2c7ef81276354c359d1e6d8d4d7f776f": {
      "model_module": "@jupyter-widgets/base",
      "model_module_version": "1.0.0",
      "model_name": "LayoutModel",
      "state": {}
     },
     "2ca819c4502f4d179b97705857a3cea9": {
      "model_module": "@jupyter-widgets/controls",
      "model_module_version": "1.1.0",
      "model_name": "DescriptionStyleModel",
      "state": {
       "description_width": ""
      }
     },
     "2cbce1b442a14338ac65ea260a0b4912": {
      "model_module": "@jupyter-widgets/controls",
      "model_module_version": "1.1.0",
      "model_name": "DescriptionStyleModel",
      "state": {
       "description_width": ""
      }
     },
     "2d24c806205140ef98e9efaaaec68b3d": {
      "model_module": "@jupyter-widgets/controls",
      "model_module_version": "1.1.0",
      "model_name": "CheckboxModel",
      "state": {
       "description": "60°",
       "disabled": false,
       "layout": "IPY_MODEL_b8344f383a404edcbad1b84fd6237079",
       "style": "IPY_MODEL_134dbfaf626f4f0188ccfb5e92dc8b4c",
       "value": true
      }
     },
     "2d4746af358c4294b09b4b45f64dc14c": {
      "model_module": "@jupyter-widgets/controls",
      "model_module_version": "1.1.0",
      "model_name": "CheckboxModel",
      "state": {
       "description": "135°",
       "disabled": false,
       "layout": "IPY_MODEL_407138ee5cd64b1f823f611486fac5ef",
       "style": "IPY_MODEL_b576ea33eaae4f5881e5e4345ac108c8",
       "value": true
      }
     },
     "2d7a0f4e9d9247759bfa556484a8b8e5": {
      "model_module": "@jupyter-widgets/controls",
      "model_module_version": "1.1.0",
      "model_name": "DescriptionStyleModel",
      "state": {
       "description_width": ""
      }
     },
     "2dc29aad853f45168fd248a8554269c5": {
      "model_module": "@jupyter-widgets/base",
      "model_module_version": "1.0.0",
      "model_name": "LayoutModel",
      "state": {}
     },
     "2df331ed0947481499b39951a8f811cd": {
      "model_module": "@jupyter-widgets/controls",
      "model_module_version": "1.1.0",
      "model_name": "ToggleButtonsStyleModel",
      "state": {
       "button_width": "",
       "description_width": ""
      }
     },
     "2e3a847b8cec4b5dbe367728c18d5a57": {
      "model_module": "@jupyter-widgets/controls",
      "model_module_version": "1.1.0",
      "model_name": "DescriptionStyleModel",
      "state": {
       "description_width": ""
      }
     },
     "2e3b0853fda640c6afe772d88c2b942d": {
      "model_module": "@jupyter-widgets/controls",
      "model_module_version": "1.1.0",
      "model_name": "LabelModel",
      "state": {
       "layout": "IPY_MODEL_b3986e02e21e4ee1a1966105d74846a0",
       "style": "IPY_MODEL_2d7a0f4e9d9247759bfa556484a8b8e5",
       "value": "Select which secondary particle to plot spectra for."
      }
     },
     "2e428f21ef224ed19a67939436536d65": {
      "model_module": "@jupyter-widgets/base",
      "model_module_version": "1.0.0",
      "model_name": "LayoutModel",
      "state": {}
     },
     "2e656e4db9bd4b2e92f145a36c270073": {
      "model_module": "@jupyter-widgets/controls",
      "model_module_version": "1.1.0",
      "model_name": "CheckboxModel",
      "state": {
       "description": "30°",
       "disabled": false,
       "layout": "IPY_MODEL_01ffdb0f8e284eb5bc5ea005cd6710e7",
       "style": "IPY_MODEL_95bf02f7406a4d3195351765c5517c43",
       "value": true
      }
     },
     "2e6eb0dd8f87479ab08dc9000d5723d2": {
      "model_module": "@jupyter-widgets/base",
      "model_module_version": "1.0.0",
      "model_name": "LayoutModel",
      "state": {}
     },
     "2e728ca3c2034b8086741be0d71e3946": {
      "model_module": "@jupyter-widgets/controls",
      "model_module_version": "1.1.0",
      "model_name": "DescriptionStyleModel",
      "state": {
       "description_width": ""
      }
     },
     "2e83bb0670b34e6faa903e7ec596b2c0": {
      "model_module": "@jupyter-widgets/controls",
      "model_module_version": "1.1.0",
      "model_name": "LabelModel",
      "state": {
       "layout": "IPY_MODEL_f71727a8872d46bfa0995c5545823cfc",
       "style": "IPY_MODEL_0746ca285bc24b84bbfb25149be57bd6",
       "value": "Select the detector angles to plot."
      }
     },
     "2ec3f5d8d41943d7aaab4f5b79048404": {
      "model_module": "@jupyter-widgets/controls",
      "model_module_version": "1.1.0",
      "model_name": "LabelModel",
      "state": {
       "layout": "IPY_MODEL_a3a4a3661a1245309cad93b6359eb7e0",
       "style": "IPY_MODEL_4259e31010e14417960adc84dabd8764",
       "value": "Select how data sets for each detector should be spaced apart (if at all)."
      }
     },
     "2ef0fbe0efa748768c719411257d997f": {
      "model_module": "@jupyter-widgets/controls",
      "model_module_version": "1.1.0",
      "model_name": "LabelModel",
      "state": {
       "layout": "IPY_MODEL_4ff00da7b2f240d1a374a3fc4e320df3",
       "style": "IPY_MODEL_ba69a78e6aeb4bbea77b34d2f431ded8",
       "value": "Select the detector angles to plot."
      }
     },
     "2ef1a56ae5bc45fba52f854ad3a9b76f": {
      "model_module": "@jupyter-widgets/controls",
      "model_module_version": "1.1.0",
      "model_name": "DescriptionStyleModel",
      "state": {
       "description_width": ""
      }
     },
     "2f00624ce4034144b2028ac5b987042f": {
      "model_module": "@jupyter-widgets/controls",
      "model_module_version": "1.1.0",
      "model_name": "CheckboxModel",
      "state": {
       "description": "45°",
       "disabled": false,
       "layout": "IPY_MODEL_e992d12a9729434d8f31fc94ade3e124",
       "style": "IPY_MODEL_884bb46f7a954ce38ebb5635c40a21d2",
       "value": true
      }
     },
     "2f0f1b0111db437d8dc6c27d468e6a66": {
      "model_module": "@jupyter-widgets/controls",
      "model_module_version": "1.1.0",
      "model_name": "DescriptionStyleModel",
      "state": {
       "description_width": ""
      }
     },
     "2f59f0148d4b4c318a233e7549c7a124": {
      "model_module": "@jupyter-widgets/controls",
      "model_module_version": "1.1.0",
      "model_name": "DescriptionStyleModel",
      "state": {
       "description_width": ""
      }
     },
     "2f9f375ed8694a78a0160c1848befb47": {
      "model_module": "@jupyter-widgets/base",
      "model_module_version": "1.0.0",
      "model_name": "LayoutModel",
      "state": {}
     },
     "2fcfc7521e804977b7d8840c05e78ec0": {
      "model_module": "@jupyter-widgets/controls",
      "model_module_version": "1.1.0",
      "model_name": "DescriptionStyleModel",
      "state": {
       "description_width": ""
      }
     },
     "2fdaee955b814f53adcb0097d9ca7d0a": {
      "model_module": "@jupyter-widgets/base",
      "model_module_version": "1.0.0",
      "model_name": "LayoutModel",
      "state": {}
     },
     "2fe070cfb385435db6261ac22e7b218f": {
      "model_module": "@jupyter-widgets/base",
      "model_module_version": "1.0.0",
      "model_name": "LayoutModel",
      "state": {}
     },
     "3011a48cf2e24233b89495b1c6d14e84": {
      "model_module": "@jupyter-widgets/controls",
      "model_module_version": "1.1.0",
      "model_name": "CheckboxModel",
      "state": {
       "description": "60°",
       "disabled": false,
       "layout": "IPY_MODEL_0b259ca278e647fdae7df89f47deff34",
       "style": "IPY_MODEL_10f183f605ce403daad19007e941f595",
       "value": true
      }
     },
     "3057daa3aeee4dd19e0ef7f89f0cf16c": {
      "model_module": "@jupyter-widgets/controls",
      "model_module_version": "1.1.0",
      "model_name": "DescriptionStyleModel",
      "state": {
       "description_width": ""
      }
     },
     "306d5473b29a48398ef0a64fa3a4e3b9": {
      "model_module": "@jupyter-widgets/controls",
      "model_module_version": "1.1.0",
      "model_name": "ToggleButtonsModel",
      "state": {
       "_options_labels": [
        "400 MeV",
        "800 MeV",
        "2500 MeV"
       ],
       "button_style": "",
       "description": "Energy:",
       "icons": [],
       "index": 0,
       "layout": "IPY_MODEL_c194486c042d403cbe2d0be71a136b56",
       "style": "IPY_MODEL_e366da6eff8946f28914cb82be8ba5eb",
       "tooltips": [
        "lowest energy",
        "middle energy",
        "highest energy"
       ]
      }
     },
     "30a95d8f1e9243a7b1ba9dabdd13c516": {
      "model_module": "@jupyter-widgets/controls",
      "model_module_version": "1.1.0",
      "model_name": "DescriptionStyleModel",
      "state": {
       "description_width": ""
      }
     },
     "30f4d12206a246b7a77d5dc6a690b65f": {
      "model_module": "@jupyter-widgets/controls",
      "model_module_version": "1.1.0",
      "model_name": "DescriptionStyleModel",
      "state": {
       "description_width": ""
      }
     },
     "31095c058b584486b014ec783168439c": {
      "model_module": "@jupyter-widgets/controls",
      "model_module_version": "1.1.0",
      "model_name": "CheckboxModel",
      "state": {
       "description": "10°",
       "disabled": false,
       "layout": "IPY_MODEL_2791d37e0d2848a1a800234bdda11304",
       "style": "IPY_MODEL_42b67d4ab06f47b4961cd3afdd00554c",
       "value": true
      }
     },
     "312d0650ec004f909b6f98ff9ccc158f": {
      "model_module": "@jupyter-widgets/base",
      "model_module_version": "1.0.0",
      "model_name": "LayoutModel",
      "state": {}
     },
     "3189369a0cac44e0a6e3b6b6d8657f93": {
      "model_module": "@jupyter-widgets/controls",
      "model_module_version": "1.1.0",
      "model_name": "ToggleButtonsStyleModel",
      "state": {
       "button_width": "",
       "description_width": ""
      }
     },
     "31903ee12cc046d4a5f3c48980d03de8": {
      "model_module": "@jupyter-widgets/base",
      "model_module_version": "1.0.0",
      "model_name": "LayoutModel",
      "state": {}
     },
     "31b5d3d06e6242c9b5a0fb11f5fd7319": {
      "model_module": "@jupyter-widgets/controls",
      "model_module_version": "1.1.0",
      "model_name": "CheckboxModel",
      "state": {
       "description": "60°",
       "disabled": false,
       "layout": "IPY_MODEL_e75e86304c0e43ab9315309c63aae2b6",
       "style": "IPY_MODEL_3e47058c1caa4142825ba25fd6d0dc58",
       "value": false
      }
     },
     "31bedefb041d45bc8089755ad4dee01e": {
      "model_module": "@jupyter-widgets/controls",
      "model_module_version": "1.1.0",
      "model_name": "DescriptionStyleModel",
      "state": {
       "description_width": ""
      }
     },
     "31e9545bb3694ca09a8d39eb049284a8": {
      "model_module": "@jupyter-widgets/base",
      "model_module_version": "1.0.0",
      "model_name": "LayoutModel",
      "state": {}
     },
     "31eccb51f3554686a99127acb7d976ab": {
      "model_module": "@jupyter-widgets/controls",
      "model_module_version": "1.1.0",
      "model_name": "DescriptionStyleModel",
      "state": {
       "description_width": ""
      }
     },
     "322ac2354e984c30b66e0b21793eded5": {
      "model_module": "@jupyter-widgets/controls",
      "model_module_version": "1.1.0",
      "model_name": "CheckboxModel",
      "state": {
       "description": "60°",
       "disabled": false,
       "layout": "IPY_MODEL_551f1768743d48d6b4d9eabce3889290",
       "style": "IPY_MODEL_4bfd016f6b254de38d2ec87c639a380d",
       "value": true
      }
     },
     "325e49be119544de8398173a30e3339c": {
      "model_module": "@jupyter-widgets/controls",
      "model_module_version": "1.1.0",
      "model_name": "DescriptionStyleModel",
      "state": {
       "description_width": ""
      }
     },
     "32ae16106a1c4496831fc9941be86476": {
      "model_module": "@jupyter-widgets/controls",
      "model_module_version": "1.1.0",
      "model_name": "DescriptionStyleModel",
      "state": {
       "description_width": ""
      }
     },
     "32e719f97d234a248bcbaf5d96dfd4a6": {
      "model_module": "@jupyter-widgets/base",
      "model_module_version": "1.0.0",
      "model_name": "LayoutModel",
      "state": {}
     },
     "33262a01067344d4b83158d52895aef4": {
      "model_module": "@jupyter-widgets/controls",
      "model_module_version": "1.1.0",
      "model_name": "CheckboxModel",
      "state": {
       "description": "28.2°",
       "disabled": false,
       "layout": "IPY_MODEL_71683c8b18754c3b99996c8c2f587ece",
       "style": "IPY_MODEL_f97258fbbb4c467ebb072327200c0105",
       "value": true
      }
     },
     "33472369a0234ea3a9dcf27c09cd7f7b": {
      "model_module": "@jupyter-widgets/base",
      "model_module_version": "1.0.0",
      "model_name": "LayoutModel",
      "state": {}
     },
     "3362abff56024a28bb3f806b1c8512b0": {
      "model_module": "@jupyter-widgets/base",
      "model_module_version": "1.0.0",
      "model_name": "LayoutModel",
      "state": {}
     },
     "3390f09b3a6d4015a170c63a418e3897": {
      "model_module": "@jupyter-widgets/base",
      "model_module_version": "1.0.0",
      "model_name": "LayoutModel",
      "state": {}
     },
     "3399a4c8e41742b19dc0a8b326200e48": {
      "model_module": "@jupyter-widgets/controls",
      "model_module_version": "1.1.0",
      "model_name": "DescriptionStyleModel",
      "state": {
       "description_width": ""
      }
     },
     "33c23a4720244974b92f5a5e7e3f3fd9": {
      "model_module": "@jupyter-widgets/controls",
      "model_module_version": "1.1.0",
      "model_name": "DescriptionStyleModel",
      "state": {
       "description_width": ""
      }
     },
     "3409f20a2b44478ca3f017d84b25150d": {
      "model_module": "@jupyter-widgets/controls",
      "model_module_version": "1.1.0",
      "model_name": "DescriptionStyleModel",
      "state": {
       "description_width": ""
      }
     },
     "340f34f609204242aa0bc073ad49ea85": {
      "model_module": "@jupyter-widgets/controls",
      "model_module_version": "1.1.0",
      "model_name": "CheckboxModel",
      "state": {
       "description": "32.7°",
       "disabled": false,
       "layout": "IPY_MODEL_20da3b71f3e3411983b211b99d20ec80",
       "style": "IPY_MODEL_f4ed453b5306419e94a21b49cba03d49",
       "value": true
      }
     },
     "3446711576864bc6be7fe4b295e27a95": {
      "model_module": "@jupyter-widgets/base",
      "model_module_version": "1.0.0",
      "model_name": "LayoutModel",
      "state": {}
     },
     "34c7f5a56df04a03a6dc535e5f75739a": {
      "model_module": "@jupyter-widgets/base",
      "model_module_version": "1.0.0",
      "model_name": "LayoutModel",
      "state": {}
     },
     "34ccd4af033749bbbecce75ec409970d": {
      "model_module": "@jupyter-widgets/controls",
      "model_module_version": "1.1.0",
      "model_name": "LabelModel",
      "state": {
       "layout": "IPY_MODEL_823ff30f4d3648aca3a0c04c4d588ac5",
       "style": "IPY_MODEL_6e5f793677974678bc6e7082c99effcc",
       "value": "Select the detector angles to plot."
      }
     },
     "34f5e5e0307f417ea79d6d97d9afd5f1": {
      "model_module": "@jupyter-widgets/base",
      "model_module_version": "1.0.0",
      "model_name": "LayoutModel",
      "state": {}
     },
     "35808e4c571c4f76a4628148a7a69c54": {
      "model_module": "@jupyter-widgets/controls",
      "model_module_version": "1.1.0",
      "model_name": "DescriptionStyleModel",
      "state": {
       "description_width": ""
      }
     },
     "358e4741551d4c4686ca6b750bcca1d4": {
      "model_module": "@jupyter-widgets/controls",
      "model_module_version": "1.1.0",
      "model_name": "DescriptionStyleModel",
      "state": {
       "description_width": ""
      }
     },
     "3593d7ffc1b94e93a5405f2cd90d0fa9": {
      "model_module": "@jupyter-widgets/controls",
      "model_module_version": "1.1.0",
      "model_name": "ToggleButtonsModel",
      "state": {
       "_options_labels": [
        "20 g/cm²",
        "40 g/cm²",
        "60 g/cm²"
       ],
       "button_style": "",
       "description": "Thickness:",
       "icons": [],
       "index": 0,
       "layout": "IPY_MODEL_a1c93c2d5f0a42e384fcdabc98b67ee2",
       "style": "IPY_MODEL_eefb103b46b840978229669dc9bbcdce",
       "tooltips": [
        "20 g/cm² Polyethylene",
        "40 g/cm² Polyethylene",
        "60 g/cm² Polyethylene"
       ]
      }
     },
     "35a028bfb2da4198a6a1346e8c14e8ab": {
      "model_module": "@jupyter-widgets/controls",
      "model_module_version": "1.1.0",
      "model_name": "CheckboxModel",
      "state": {
       "description": "45°",
       "disabled": false,
       "layout": "IPY_MODEL_98753889ae644f97a385da2841d81ec5",
       "style": "IPY_MODEL_b6ca782bee7b416ab05bbad8e0002595",
       "value": false
      }
     },
     "35c7769a9a5642218152dd0a873130f5": {
      "model_module": "@jupyter-widgets/base",
      "model_module_version": "1.0.0",
      "model_name": "LayoutModel",
      "state": {}
     },
     "35ced27b879c42d9b20e796e03c2f102": {
      "model_module": "@jupyter-widgets/controls",
      "model_module_version": "1.1.0",
      "model_name": "DescriptionStyleModel",
      "state": {
       "description_width": ""
      }
     },
     "35d60a1a4f4448bc854f51196b287f24": {
      "model_module": "@jupyter-widgets/controls",
      "model_module_version": "1.1.0",
      "model_name": "CheckboxModel",
      "state": {
       "description": "60°",
       "disabled": false,
       "layout": "IPY_MODEL_11df27aa5e3847d59b5cbdd1ed1e833d",
       "style": "IPY_MODEL_5c1891fc0f3e494bb2daac66c62f0605",
       "value": true
      }
     },
     "35ebebb3f77f4229bcefca9d8c5b1045": {
      "model_module": "@jupyter-widgets/controls",
      "model_module_version": "1.1.0",
      "model_name": "DescriptionStyleModel",
      "state": {
       "description_width": ""
      }
     },
     "35fa8266494c4442b543f10adf20caa1": {
      "model_module": "@jupyter-widgets/controls",
      "model_module_version": "1.1.0",
      "model_name": "CheckboxModel",
      "state": {
       "description": "30°",
       "disabled": false,
       "layout": "IPY_MODEL_b0850357b9f3483ebcb764038629e4b6",
       "style": "IPY_MODEL_ed728a04d4bc4e46bfe229bbe18d946c",
       "value": true
      }
     },
     "3619c3db11734ddeae8b2aa3f02f7023": {
      "model_module": "@jupyter-widgets/base",
      "model_module_version": "1.0.0",
      "model_name": "LayoutModel",
      "state": {}
     },
     "365cc349dabc4ae5a0219329152a8f57": {
      "model_module": "@jupyter-widgets/controls",
      "model_module_version": "1.1.0",
      "model_name": "ToggleButtonsStyleModel",
      "state": {
       "button_width": "",
       "description_width": ""
      }
     },
     "367b1a0957de43d1b458dacce96a2b0d": {
      "model_module": "@jupyter-widgets/controls",
      "model_module_version": "1.1.0",
      "model_name": "DescriptionStyleModel",
      "state": {
       "description_width": ""
      }
     },
     "36aaaf9c7c06486d942f2d4e58e395d1": {
      "model_module": "@jupyter-widgets/controls",
      "model_module_version": "1.1.0",
      "model_name": "ToggleButtonsModel",
      "state": {
       "_options_labels": [
        "N (¹n)",
        "NDC (¹n)",
        "P (¹H)",
        "D (²H)",
        "T (³H)",
        "S (³He)",
        "A (⁴He)"
       ],
       "button_style": "",
       "description": "Particle:",
       "icons": [],
       "index": 0,
       "layout": "IPY_MODEL_9a1f984c3c80443292067dab89b6fd20",
       "style": "IPY_MODEL_048c97d7f51846b8a8fb4df0561446da",
       "tooltips": [
        "Neutron",
        "Back Target Neutron",
        "Proton",
        "Deuteron",
        "Triton",
        "Helium-3",
        "Helium-4"
       ]
      }
     },
     "36edc3b7ec8a44099c8f8c0543d9f99a": {
      "model_module": "@jupyter-widgets/controls",
      "model_module_version": "1.1.0",
      "model_name": "DescriptionStyleModel",
      "state": {
       "description_width": ""
      }
     },
     "377f418dbd6a41b9b98c2d82f062e64e": {
      "model_module": "@jupyter-widgets/controls",
      "model_module_version": "1.1.0",
      "model_name": "ToggleButtonsStyleModel",
      "state": {
       "button_width": "",
       "description_width": ""
      }
     },
     "379905cd5a194accbe7b7a843105614d": {
      "model_module": "@jupyter-widgets/controls",
      "model_module_version": "1.1.0",
      "model_name": "DescriptionStyleModel",
      "state": {
       "description_width": ""
      }
     },
     "381a1152e0f54045a01f73deaa3a0891": {
      "model_module": "@jupyter-widgets/controls",
      "model_module_version": "1.1.0",
      "model_name": "DescriptionStyleModel",
      "state": {
       "description_width": ""
      }
     },
     "383081b3ad19498490196aa4c2e92f84": {
      "model_module": "@jupyter-widgets/base",
      "model_module_version": "1.0.0",
      "model_name": "LayoutModel",
      "state": {}
     },
     "384c2f9e6a9240a7aac3d6b7beeb3c2e": {
      "model_module": "@jupyter-widgets/base",
      "model_module_version": "1.0.0",
      "model_name": "LayoutModel",
      "state": {}
     },
     "38784f7386d84206aa346839bfd48dd1": {
      "model_module": "@jupyter-widgets/controls",
      "model_module_version": "1.1.0",
      "model_name": "CheckboxModel",
      "state": {
       "description": "MCNP simulated",
       "disabled": false,
       "layout": "IPY_MODEL_f41b887ee0d948018f442ae216d31f95",
       "style": "IPY_MODEL_92154e0fd2d046869b4d0e4406a04164",
       "value": true
      }
     },
     "38c4777f06d8457d84f1bb3212e9c5a4": {
      "model_module": "@jupyter-widgets/base",
      "model_module_version": "1.0.0",
      "model_name": "LayoutModel",
      "state": {}
     },
     "39282a4457f7401399ee1d29a15a961f": {
      "model_module": "@jupyter-widgets/controls",
      "model_module_version": "1.1.0",
      "model_name": "DescriptionStyleModel",
      "state": {
       "description_width": ""
      }
     },
     "395446e8e7c2410bb4bc4027eae2a0f3": {
      "model_module": "@jupyter-widgets/base",
      "model_module_version": "1.0.0",
      "model_name": "LayoutModel",
      "state": {}
     },
     "395f4ed1396f41599458d76bd4a9f8b9": {
      "model_module": "@jupyter-widgets/controls",
      "model_module_version": "1.1.0",
      "model_name": "DescriptionStyleModel",
      "state": {
       "description_width": ""
      }
     },
     "397f029dfdd045229aed31a970cb9de4": {
      "model_module": "@jupyter-widgets/controls",
      "model_module_version": "1.1.0",
      "model_name": "ToggleButtonsModel",
      "state": {
       "_options_labels": [
        "N (¹n)",
        "NDC (¹n)",
        "P (¹H)",
        "D (²H)",
        "T (³H)",
        "S (³He)",
        "A (⁴He)"
       ],
       "button_style": "",
       "description": "Type:",
       "icons": [],
       "index": 0,
       "layout": "IPY_MODEL_9872c102cabd49cdb5f48220b334548f",
       "style": "IPY_MODEL_fc5e76d7b0d54b7fb864f43147295e4d",
       "tooltips": [
        "Neutron",
        "Back Target Neutron",
        "Proton",
        "Deuteron",
        "Triton",
        "Helium-3",
        "Helium-4"
       ]
      }
     },
     "39b823192d424a1aab87bcddeee16b3d": {
      "model_module": "@jupyter-widgets/controls",
      "model_module_version": "1.1.0",
      "model_name": "DescriptionStyleModel",
      "state": {
       "description_width": ""
      }
     },
     "39db90205a6a4dc681303dcbcf010a95": {
      "model_module": "@jupyter-widgets/controls",
      "model_module_version": "1.1.0",
      "model_name": "LabelModel",
      "state": {
       "layout": "IPY_MODEL_666947855c7b4a45a47d2346e06c6163",
       "style": "IPY_MODEL_502f0671d23f460a8945d09d5b4bd79c",
       "value": "Select upstream target mass thickness."
      }
     },
     "3a75bad443c149f2a33f91a7d69e457b": {
      "model_module": "@jupyter-widgets/controls",
      "model_module_version": "1.1.0",
      "model_name": "CheckboxModel",
      "state": {
       "description": "10°",
       "disabled": false,
       "layout": "IPY_MODEL_c3f3fef894c94cb3a2fed42e5d4f1d51",
       "style": "IPY_MODEL_44c9f51553bf44a9a592856322fac6fb",
       "value": true
      }
     },
     "3ab053ea2b48422690ce68b194f7ddce": {
      "model_module": "@jupyter-widgets/base",
      "model_module_version": "1.0.0",
      "model_name": "LayoutModel",
      "state": {}
     },
     "3ab5122a8d864d1d9bbb389b35e1ab2d": {
      "model_module": "@jupyter-widgets/controls",
      "model_module_version": "1.1.0",
      "model_name": "DescriptionStyleModel",
      "state": {
       "description_width": ""
      }
     },
     "3ae7edf9282c4bb29262fc74ed7457c6": {
      "model_module": "@jupyter-widgets/controls",
      "model_module_version": "1.1.0",
      "model_name": "DescriptionStyleModel",
      "state": {
       "description_width": ""
      }
     },
     "3b0965cfea5647cda8732d9283755930": {
      "model_module": "@jupyter-widgets/base",
      "model_module_version": "1.0.0",
      "model_name": "LayoutModel",
      "state": {}
     },
     "3b0b8b295c814436aa521b533e2e56c8": {
      "model_module": "@jupyter-widgets/controls",
      "model_module_version": "1.1.0",
      "model_name": "DescriptionStyleModel",
      "state": {
       "description_width": ""
      }
     },
     "3b5db79cca144685915a4b267b98c18b": {
      "model_module": "@jupyter-widgets/controls",
      "model_module_version": "1.1.0",
      "model_name": "CheckboxModel",
      "state": {
       "description": "28.2°",
       "disabled": false,
       "layout": "IPY_MODEL_5a127a21a9244a47962c8a41005dc6b8",
       "style": "IPY_MODEL_7a41df7279be47f19ff549ed07da1077",
       "value": false
      }
     },
     "3ba19ebc170b40f2b661526b1e62419f": {
      "model_module": "@jupyter-widgets/controls",
      "model_module_version": "1.1.0",
      "model_name": "DescriptionStyleModel",
      "state": {
       "description_width": ""
      }
     },
     "3bd60948f1b348798290769e44107797": {
      "model_module": "@jupyter-widgets/controls",
      "model_module_version": "1.1.0",
      "model_name": "CheckboxModel",
      "state": {
       "description": "10°",
       "disabled": false,
       "layout": "IPY_MODEL_027fe3d5ff7043d781512933effbf2f7",
       "style": "IPY_MODEL_36edc3b7ec8a44099c8f8c0543d9f99a",
       "value": true
      }
     },
     "3c09a4f787f24fb882051c5bbbc36f4a": {
      "model_module": "@jupyter-widgets/base",
      "model_module_version": "1.0.0",
      "model_name": "LayoutModel",
      "state": {}
     },
     "3c0a2da75dd243fc8e9cabdd1f16b48c": {
      "model_module": "@jupyter-widgets/base",
      "model_module_version": "1.0.0",
      "model_name": "LayoutModel",
      "state": {}
     },
     "3c181b41a2aa40508ceff12b39798aef": {
      "model_module": "@jupyter-widgets/controls",
      "model_module_version": "1.1.0",
      "model_name": "DescriptionStyleModel",
      "state": {
       "description_width": ""
      }
     },
     "3c1b163dce6341669f6824f4534d5835": {
      "model_module": "@jupyter-widgets/base",
      "model_module_version": "1.0.0",
      "model_name": "LayoutModel",
      "state": {}
     },
     "3c1dc53a568949c483b00aa912e2840e": {
      "model_module": "@jupyter-widgets/base",
      "model_module_version": "1.0.0",
      "model_name": "LayoutModel",
      "state": {}
     },
     "3c1f3f08990e48fa8891fc336116f9c7": {
      "model_module": "@jupyter-widgets/controls",
      "model_module_version": "1.1.0",
      "model_name": "DescriptionStyleModel",
      "state": {
       "description_width": ""
      }
     },
     "3c2e68c03a494d0e964b3a51e06f82e8": {
      "model_module": "@jupyter-widgets/controls",
      "model_module_version": "1.1.0",
      "model_name": "DescriptionStyleModel",
      "state": {
       "description_width": ""
      }
     },
     "3c8c6a6665a64aec97d8773312827237": {
      "model_module": "@jupyter-widgets/base",
      "model_module_version": "1.0.0",
      "model_name": "LayoutModel",
      "state": {}
     },
     "3cb589dd6b2345fa9a81a2223dc97ce9": {
      "model_module": "@jupyter-widgets/base",
      "model_module_version": "1.0.0",
      "model_name": "LayoutModel",
      "state": {}
     },
     "3cd124f1e9e744878abd76ecc1d9d390": {
      "model_module": "@jupyter-widgets/base",
      "model_module_version": "1.0.0",
      "model_name": "LayoutModel",
      "state": {}
     },
     "3cf480469a1c4902b53f1b2f7ff72c9d": {
      "model_module": "@jupyter-widgets/base",
      "model_module_version": "1.0.0",
      "model_name": "LayoutModel",
      "state": {}
     },
     "3d06230ad2b44d069ab9f4e393b17e87": {
      "model_module": "@jupyter-widgets/controls",
      "model_module_version": "1.1.0",
      "model_name": "CheckboxModel",
      "state": {
       "description": "135°",
       "disabled": false,
       "layout": "IPY_MODEL_62005fa6af354d3abb3d96cdd98641ee",
       "style": "IPY_MODEL_b06735c61c254823b8261980ec3395a3",
       "value": true
      }
     },
     "3d0f3c678ae9413bb5af523f0949b7a3": {
      "model_module": "@jupyter-widgets/controls",
      "model_module_version": "1.1.0",
      "model_name": "DescriptionStyleModel",
      "state": {
       "description_width": ""
      }
     },
     "3d4543f1be52411fb91d2d09ef6d396a": {
      "model_module": "@jupyter-widgets/controls",
      "model_module_version": "1.1.0",
      "model_name": "ToggleButtonsModel",
      "state": {
       "_options_labels": [
        "P (¹H)",
        "D (²H)",
        "T (³H)",
        "A (⁴He)"
       ],
       "button_style": "",
       "description": "Type:",
       "icons": [],
       "index": 0,
       "layout": "IPY_MODEL_b159994f2523454c849777345beef154",
       "style": "IPY_MODEL_1b46d062e7544ec0a153eeae4e600990",
       "tooltips": [
        "Proton",
        "Deuteron",
        "Triton",
        "Helium-4"
       ]
      }
     },
     "3d8b79afcd5346e89411d87b293cd799": {
      "model_module": "@jupyter-widgets/controls",
      "model_module_version": "1.1.0",
      "model_name": "ButtonStyleModel",
      "state": {}
     },
     "3d95b66ff94d442283299aecf4512049": {
      "model_module": "@jupyter-widgets/controls",
      "model_module_version": "1.1.0",
      "model_name": "DescriptionStyleModel",
      "state": {
       "description_width": ""
      }
     },
     "3d97e80d1c424d3e854e2b2106a1b287": {
      "model_module": "@jupyter-widgets/base",
      "model_module_version": "1.0.0",
      "model_name": "LayoutModel",
      "state": {}
     },
     "3e26dbb23950401caf73c17a05277c77": {
      "model_module": "@jupyter-widgets/controls",
      "model_module_version": "1.1.0",
      "model_name": "DescriptionStyleModel",
      "state": {
       "description_width": ""
      }
     },
     "3e445967598a49b49aafcad0214a1c29": {
      "model_module": "@jupyter-widgets/controls",
      "model_module_version": "1.1.0",
      "model_name": "CheckboxModel",
      "state": {
       "description": "60°",
       "disabled": false,
       "layout": "IPY_MODEL_c1b4698aaec643bf83f637a29587f2b2",
       "style": "IPY_MODEL_038cd47bafb04d39a36cd5ab084c585d",
       "value": true
      }
     },
     "3e47058c1caa4142825ba25fd6d0dc58": {
      "model_module": "@jupyter-widgets/controls",
      "model_module_version": "1.1.0",
      "model_name": "DescriptionStyleModel",
      "state": {
       "description_width": ""
      }
     },
     "3e6868e05b4d42438e495a1ad59c565b": {
      "model_module": "@jupyter-widgets/controls",
      "model_module_version": "1.1.0",
      "model_name": "DescriptionStyleModel",
      "state": {
       "description_width": ""
      }
     },
     "3e6d3a7685ca4313a9d12b60f362146d": {
      "model_module": "@jupyter-widgets/controls",
      "model_module_version": "1.1.0",
      "model_name": "CheckboxModel",
      "state": {
       "description": "80°",
       "disabled": false,
       "layout": "IPY_MODEL_31e9545bb3694ca09a8d39eb049284a8",
       "style": "IPY_MODEL_4252cd15596c400f98a374d31439c20c",
       "value": false
      }
     },
     "3ed8a03b12234f1f96c21be5fc89dbbf": {
      "model_module": "@jupyter-widgets/base",
      "model_module_version": "1.0.0",
      "model_name": "LayoutModel",
      "state": {}
     },
     "3f3126e11c2e4b25ab2b7ec236bfd29a": {
      "model_module": "@jupyter-widgets/controls",
      "model_module_version": "1.1.0",
      "model_name": "CheckboxModel",
      "state": {
       "description": "135°",
       "disabled": false,
       "layout": "IPY_MODEL_9e70dabc9cec4089a4b8308037cdecb1",
       "style": "IPY_MODEL_5d9f1e4f52be41468c9737671db6eeb7",
       "value": true
      }
     },
     "3f65a85a160a4441a7874fdb881d8141": {
      "model_module": "@jupyter-widgets/base",
      "model_module_version": "1.0.0",
      "model_name": "LayoutModel",
      "state": {}
     },
     "3f9b30d802344f01a03d47bc911046d3": {
      "model_module": "@jupyter-widgets/controls",
      "model_module_version": "1.1.0",
      "model_name": "DescriptionStyleModel",
      "state": {
       "description_width": ""
      }
     },
     "3fa835cdaf12418f909ab21e9778b253": {
      "model_module": "@jupyter-widgets/base",
      "model_module_version": "1.0.0",
      "model_name": "LayoutModel",
      "state": {}
     },
     "3fd3b2faeb074380b2729da5cdd95564": {
      "model_module": "@jupyter-widgets/base",
      "model_module_version": "1.0.0",
      "model_name": "LayoutModel",
      "state": {}
     },
     "3fe9779ece614d6c962a1ee84983c997": {
      "model_module": "@jupyter-widgets/controls",
      "model_module_version": "1.1.0",
      "model_name": "CheckboxModel",
      "state": {
       "description": "135°",
       "disabled": false,
       "layout": "IPY_MODEL_b1e44077f2bb4e8c83ec53c33e3658c0",
       "style": "IPY_MODEL_6c5ed0a01f1f418aba1e82fb20332402",
       "value": true
      }
     },
     "4000278a9d364b9f8b0aa3f29b94c1be": {
      "model_module": "@jupyter-widgets/controls",
      "model_module_version": "1.1.0",
      "model_name": "ToggleButtonsStyleModel",
      "state": {
       "button_width": "",
       "description_width": ""
      }
     },
     "403956e3427d41e39e4ca6ce37a021f3": {
      "model_module": "@jupyter-widgets/controls",
      "model_module_version": "1.1.0",
      "model_name": "ToggleButtonsStyleModel",
      "state": {
       "button_width": "",
       "description_width": ""
      }
     },
     "405608c1d3cb4a39bb86ffc579e68bcf": {
      "model_module": "@jupyter-widgets/controls",
      "model_module_version": "1.1.0",
      "model_name": "ToggleButtonsModel",
      "state": {
       "_options_labels": [
        "20 g/cm²",
        "60 g/cm²"
       ],
       "button_style": "",
       "description": "Thickness:",
       "icons": [],
       "index": 0,
       "layout": "IPY_MODEL_00ad944b06944d3ab809f24d2c5ca45d",
       "style": "IPY_MODEL_1a5612b401944defb18e84f5e71fc199",
       "tooltips": [
        "10 g/cm² Al upstream + 10 g/cm² HDPE downstream",
        "10 g/cm² Al upstream + 50 g/cm² HDPE downstream"
       ]
      }
     },
     "407138ee5cd64b1f823f611486fac5ef": {
      "model_module": "@jupyter-widgets/base",
      "model_module_version": "1.0.0",
      "model_name": "LayoutModel",
      "state": {}
     },
     "409f8d96f1b84958a16c4d20848f7289": {
      "model_module": "@jupyter-widgets/base",
      "model_module_version": "1.0.0",
      "model_name": "LayoutModel",
      "state": {}
     },
     "40ed2e091b2b4081b4b6623db8dcc3c8": {
      "model_module": "@jupyter-widgets/controls",
      "model_module_version": "1.1.0",
      "model_name": "CheckboxModel",
      "state": {
       "description": "30°",
       "disabled": false,
       "layout": "IPY_MODEL_3c1dc53a568949c483b00aa912e2840e",
       "style": "IPY_MODEL_a05914b55e5d40649e03350e6eb3630a",
       "value": true
      }
     },
     "412ccd07feee49cd84638f59c245fbbd": {
      "model_module": "@jupyter-widgets/controls",
      "model_module_version": "1.1.0",
      "model_name": "LabelModel",
      "state": {
       "layout": "IPY_MODEL_9d7a1428bf78413ab9bb86941080f268",
       "style": "IPY_MODEL_abba099c8d2346e3b5455ba8b4be4d26",
       "value": "Select projectile ion energy."
      }
     },
     "41466c3bcded4d6f827a87637d762f9d": {
      "model_module": "@jupyter-widgets/controls",
      "model_module_version": "1.1.0",
      "model_name": "ToggleButtonsModel",
      "state": {
       "_options_labels": [
        "N (¹n)",
        "NDC (¹n)",
        "P (¹H)",
        "D (²H)",
        "T (³H)",
        "S (³He)",
        "A (⁴He)"
       ],
       "button_style": "",
       "description": "Type:",
       "icons": [],
       "index": 0,
       "layout": "IPY_MODEL_770ceff503154f0a865b91c4c5f39af8",
       "style": "IPY_MODEL_a2de60ea094a4b74a1566c0c53e204dc",
       "tooltips": [
        "Neutron",
        "Back Target Neutron",
        "Proton",
        "Deuteron",
        "Triton",
        "Helium-3",
        "Helium-4"
       ]
      }
     },
     "415c20f1bd384f6e9750930c8c6d5586": {
      "model_module": "@jupyter-widgets/controls",
      "model_module_version": "1.1.0",
      "model_name": "LabelModel",
      "state": {
       "layout": "IPY_MODEL_81425f7945044f9dacb6d4144985be36",
       "style": "IPY_MODEL_20dc665dc20c4b0d804b2fd06aea5e1f",
       "value": "Select which secondary particle to plot spectra for."
      }
     },
     "41a0197ea3864f2f96cd56564c88d629": {
      "model_module": "@jupyter-widgets/controls",
      "model_module_version": "1.1.0",
      "model_name": "CheckboxModel",
      "state": {
       "description": "80°",
       "disabled": false,
       "layout": "IPY_MODEL_cdbb0ba078c340cf92d6e7d7f2d48a90",
       "style": "IPY_MODEL_5032c0a28bb84678ba8f7c98434b2fb8",
       "value": true
      }
     },
     "41c781fe96f6436fa3362dfde8270771": {
      "model_module": "@jupyter-widgets/controls",
      "model_module_version": "1.1.0",
      "model_name": "CheckboxModel",
      "state": {
       "description": "135°",
       "disabled": false,
       "layout": "IPY_MODEL_5fc3f122bf5a4e9f81f5da4f559639cc",
       "style": "IPY_MODEL_aeeface96ece4888a98b7db93c45d416",
       "value": false
      }
     },
     "421425277dc24c669526e22b1bd57aa2": {
      "model_module": "@jupyter-widgets/controls",
      "model_module_version": "1.1.0",
      "model_name": "ToggleButtonsStyleModel",
      "state": {
       "button_width": "",
       "description_width": ""
      }
     },
     "422dba91792c4e14a40f86c2993d3b8d": {
      "model_module": "@jupyter-widgets/controls",
      "model_module_version": "1.1.0",
      "model_name": "LabelModel",
      "state": {
       "layout": "IPY_MODEL_cca342e79c6b4f2abd356205fe68475c",
       "style": "IPY_MODEL_0e990f10fa3a4299b2d8194a6469a2da",
       "value": "Select the detector angles to plot."
      }
     },
     "4252cd15596c400f98a374d31439c20c": {
      "model_module": "@jupyter-widgets/controls",
      "model_module_version": "1.1.0",
      "model_name": "DescriptionStyleModel",
      "state": {
       "description_width": ""
      }
     },
     "4259e31010e14417960adc84dabd8764": {
      "model_module": "@jupyter-widgets/controls",
      "model_module_version": "1.1.0",
      "model_name": "DescriptionStyleModel",
      "state": {
       "description_width": ""
      }
     },
     "428942ba674d46a2bf6cdd61a85e65eb": {
      "model_module": "@jupyter-widgets/base",
      "model_module_version": "1.0.0",
      "model_name": "LayoutModel",
      "state": {}
     },
     "42a55227a224471a814309854d725036": {
      "model_module": "@jupyter-widgets/controls",
      "model_module_version": "1.1.0",
      "model_name": "ToggleButtonsModel",
      "state": {
       "_options_labels": [
        "None",
        "Spaced by 10²"
       ],
       "button_style": "",
       "description": "Spacing:",
       "icons": [],
       "index": 0,
       "layout": "IPY_MODEL_a17e18225617407bad9ea54d14d3ff8f",
       "style": "IPY_MODEL_2593de92f9be4007b1f4d477fd4a25a2",
       "tooltips": [
        "All values are presented as is.",
        "Plots for different detectors are multiplied by powers of 10² for easier viewing."
       ]
      }
     },
     "42ac3994113648e7b1511b9da9417c54": {
      "model_module": "@jupyter-widgets/controls",
      "model_module_version": "1.1.0",
      "model_name": "DescriptionStyleModel",
      "state": {
       "description_width": ""
      }
     },
     "42b67d4ab06f47b4961cd3afdd00554c": {
      "model_module": "@jupyter-widgets/controls",
      "model_module_version": "1.1.0",
      "model_name": "DescriptionStyleModel",
      "state": {
       "description_width": ""
      }
     },
     "42c81fe8612b454e8f3f3342eb8dd9b6": {
      "model_module": "@jupyter-widgets/controls",
      "model_module_version": "1.1.0",
      "model_name": "DescriptionStyleModel",
      "state": {
       "description_width": ""
      }
     },
     "42da148a2a3e4f1f9716cd92540ea132": {
      "model_module": "@jupyter-widgets/controls",
      "model_module_version": "1.1.0",
      "model_name": "ToggleButtonsStyleModel",
      "state": {
       "button_width": "",
       "description_width": ""
      }
     },
     "4309eca1d42d41d0a0be80ee3ddcc7cf": {
      "model_module": "@jupyter-widgets/base",
      "model_module_version": "1.0.0",
      "model_name": "LayoutModel",
      "state": {}
     },
     "431cb5160efb42c1be6d872d56c3b795": {
      "model_module": "@jupyter-widgets/controls",
      "model_module_version": "1.1.0",
      "model_name": "DescriptionStyleModel",
      "state": {
       "description_width": ""
      }
     },
     "434eda9a3fdd4adc9d47d36d17c44992": {
      "model_module": "@jupyter-widgets/controls",
      "model_module_version": "1.1.0",
      "model_name": "DescriptionStyleModel",
      "state": {
       "description_width": ""
      }
     },
     "43912211b5184688b8ce478f1efbc6ef": {
      "model_module": "@jupyter-widgets/controls",
      "model_module_version": "1.1.0",
      "model_name": "DescriptionStyleModel",
      "state": {
       "description_width": ""
      }
     },
     "43db9ac0878c4c78b0c406c66ddf8b30": {
      "model_module": "@jupyter-widgets/controls",
      "model_module_version": "1.1.0",
      "model_name": "CheckboxModel",
      "state": {
       "description": "45°",
       "disabled": false,
       "layout": "IPY_MODEL_cf71b31f4cc440f89857fc5385661b21",
       "style": "IPY_MODEL_c364e5d45e4041ecb1b0e2902e992113",
       "value": true
      }
     },
     "442ac209cf4f4253a7d278fb37682d26": {
      "model_module": "@jupyter-widgets/controls",
      "model_module_version": "1.1.0",
      "model_name": "DescriptionStyleModel",
      "state": {
       "description_width": ""
      }
     },
     "4476cc8007dc41c292862aa4975e03ca": {
      "model_module": "@jupyter-widgets/controls",
      "model_module_version": "1.1.0",
      "model_name": "LabelModel",
      "state": {
       "layout": "IPY_MODEL_d7301efcfaf240e7a25f464811b3aaee",
       "style": "IPY_MODEL_e7c50db298be473eac5d8bfb179b664c",
       "value": "Select projectile ion species and energy."
      }
     },
     "447f53e19b2f4ddf9d2a3f12f6e5636f": {
      "model_module": "@jupyter-widgets/base",
      "model_module_version": "1.0.0",
      "model_name": "LayoutModel",
      "state": {}
     },
     "44c9f51553bf44a9a592856322fac6fb": {
      "model_module": "@jupyter-widgets/controls",
      "model_module_version": "1.1.0",
      "model_name": "DescriptionStyleModel",
      "state": {
       "description_width": ""
      }
     },
     "44d3c41f87914e6faf2379147d847721": {
      "model_module": "@jupyter-widgets/base",
      "model_module_version": "1.0.0",
      "model_name": "LayoutModel",
      "state": {}
     },
     "44e15962fb0a4f7c90805cc6a532bafd": {
      "model_module": "@jupyter-widgets/controls",
      "model_module_version": "1.1.0",
      "model_name": "CheckboxModel",
      "state": {
       "description": "80°",
       "disabled": false,
       "layout": "IPY_MODEL_f5265654bf1c43de820654cb0b360cae",
       "style": "IPY_MODEL_9b930e4743cd49ad892e2565cb83d894",
       "value": false
      }
     },
     "44e313e4526743ceb8af6da255f65ad1": {
      "model_module": "@jupyter-widgets/controls",
      "model_module_version": "1.1.0",
      "model_name": "DescriptionStyleModel",
      "state": {
       "description_width": ""
      }
     },
     "4511b1edad03417384805e5759312aa5": {
      "model_module": "@jupyter-widgets/controls",
      "model_module_version": "1.1.0",
      "model_name": "LabelModel",
      "state": {
       "layout": "IPY_MODEL_a430f5e1f8104030adc87152f743628c",
       "style": "IPY_MODEL_a0f8ff67cce34c4a927a05fb1ee2c88f",
       "value": "Select the detector angles to plot."
      }
     },
     "4517d2ec7e194ea2bbef18bb24682c51": {
      "model_module": "@jupyter-widgets/controls",
      "model_module_version": "1.1.0",
      "model_name": "CheckboxModel",
      "state": {
       "description": "80°",
       "disabled": false,
       "layout": "IPY_MODEL_bfd6c883ab654524b99c3f030206e901",
       "style": "IPY_MODEL_840cc699269c453caf5255b94c01977e",
       "value": true
      }
     },
     "4524981b64cd4317b83daa649d2fcda4": {
      "model_module": "@jupyter-widgets/controls",
      "model_module_version": "1.1.0",
      "model_name": "DescriptionStyleModel",
      "state": {
       "description_width": ""
      }
     },
     "453f31976f1745da8fe67203caf87d15": {
      "model_module": "@jupyter-widgets/controls",
      "model_module_version": "1.1.0",
      "model_name": "DescriptionStyleModel",
      "state": {
       "description_width": ""
      }
     },
     "458d0ff4e9c24a4fb84bc59a942eb7be": {
      "model_module": "@jupyter-widgets/controls",
      "model_module_version": "1.1.0",
      "model_name": "DescriptionStyleModel",
      "state": {
       "description_width": ""
      }
     },
     "45b9d236dbbf4356aafdb480f24a11d5": {
      "model_module": "@jupyter-widgets/controls",
      "model_module_version": "1.1.0",
      "model_name": "DescriptionStyleModel",
      "state": {
       "description_width": ""
      }
     },
     "45c7f6aa82f24df694b77ec71789ab46": {
      "model_module": "@jupyter-widgets/controls",
      "model_module_version": "1.1.0",
      "model_name": "ToggleButtonsStyleModel",
      "state": {
       "button_width": "",
       "description_width": ""
      }
     },
     "460c05ff88a1487bbc9076500df65cf9": {
      "model_module": "@jupyter-widgets/base",
      "model_module_version": "1.0.0",
      "model_name": "LayoutModel",
      "state": {}
     },
     "46158989dffc448fbbd4cbe5f5e4dd4f": {
      "model_module": "@jupyter-widgets/base",
      "model_module_version": "1.0.0",
      "model_name": "LayoutModel",
      "state": {}
     },
     "4624e853dfd54f939381d2e27047bb61": {
      "model_module": "@jupyter-widgets/controls",
      "model_module_version": "1.1.0",
      "model_name": "DescriptionStyleModel",
      "state": {
       "description_width": ""
      }
     },
     "4626e326d1fc43d4b1129ad66a98aade": {
      "model_module": "@jupyter-widgets/controls",
      "model_module_version": "1.1.0",
      "model_name": "CheckboxModel",
      "state": {
       "description": "45°",
       "disabled": false,
       "layout": "IPY_MODEL_84966235c9f94f55bd3807f3ac243f7c",
       "style": "IPY_MODEL_a8ff9a8265864ce6b8522a45b3a04d55",
       "value": true
      }
     },
     "462a79a9036144b8b3fe19cdc55eee8c": {
      "model_module": "@jupyter-widgets/controls",
      "model_module_version": "1.1.0",
      "model_name": "DescriptionStyleModel",
      "state": {
       "description_width": ""
      }
     },
     "4631bef8f06b44778e229ff134e96632": {
      "model_module": "@jupyter-widgets/controls",
      "model_module_version": "1.1.0",
      "model_name": "DescriptionStyleModel",
      "state": {
       "description_width": ""
      }
     },
     "46b255cfc70a4c64812173744a44a5da": {
      "model_module": "@jupyter-widgets/base",
      "model_module_version": "1.0.0",
      "model_name": "LayoutModel",
      "state": {}
     },
     "46da5a87136a4c1aab5938de6e45b620": {
      "model_module": "@jupyter-widgets/controls",
      "model_module_version": "1.1.0",
      "model_name": "DescriptionStyleModel",
      "state": {
       "description_width": ""
      }
     },
     "47059e5beca54edaad373a3aae00fc54": {
      "model_module": "@jupyter-widgets/controls",
      "model_module_version": "1.1.0",
      "model_name": "CheckboxModel",
      "state": {
       "description": "135°",
       "disabled": false,
       "layout": "IPY_MODEL_ba722835f7ba445792a8f5734717ca5e",
       "style": "IPY_MODEL_98237bf22d114ff39d165b4678e54734",
       "value": true
      }
     },
     "4723e6fd33cf4b678be4eff35656ddd8": {
      "model_module": "@jupyter-widgets/controls",
      "model_module_version": "1.1.0",
      "model_name": "CheckboxModel",
      "state": {
       "description": "12.7°",
       "disabled": false,
       "layout": "IPY_MODEL_d10acb0e71b24bb2b589371ee184085a",
       "style": "IPY_MODEL_c6e914b0c98940cfb5bdd881a7c06bf3",
       "value": true
      }
     },
     "4742d20d74b74d16b7c7a665f6dccd02": {
      "model_module": "@jupyter-widgets/controls",
      "model_module_version": "1.1.0",
      "model_name": "CheckboxModel",
      "state": {
       "description": "80°",
       "disabled": false,
       "layout": "IPY_MODEL_3c1b163dce6341669f6824f4534d5835",
       "style": "IPY_MODEL_b88e9620565a40ab941bc49f29829681",
       "value": true
      }
     },
     "47696c0e2de54cffb03295fdca3ba4f9": {
      "model_module": "@jupyter-widgets/controls",
      "model_module_version": "1.1.0",
      "model_name": "ButtonStyleModel",
      "state": {}
     },
     "47949500a1db4319892288bb8a0eaecd": {
      "model_module": "@jupyter-widgets/controls",
      "model_module_version": "1.1.0",
      "model_name": "LabelModel",
      "state": {
       "layout": "IPY_MODEL_1bfd2f44b7c2442090c992df698cee4c",
       "style": "IPY_MODEL_e79bd93ad5be4112858e8589b9072286",
       "value": "Select the detector angles to plot."
      }
     },
     "47bb9e4681e444679e939c70b022b30b": {
      "model_module": "@jupyter-widgets/controls",
      "model_module_version": "1.1.0",
      "model_name": "ButtonStyleModel",
      "state": {}
     },
     "48361456091047d39283a4c138e3abce": {
      "model_module": "@jupyter-widgets/controls",
      "model_module_version": "1.1.0",
      "model_name": "LabelModel",
      "state": {
       "layout": "IPY_MODEL_0017f825ac48419da4b51260e1acf358",
       "style": "IPY_MODEL_9b80b536f8134456afcfab7a234face8",
       "value": "Select projectile ion energy."
      }
     },
     "486a85212fc74b3c976559e6f202904e": {
      "model_module": "@jupyter-widgets/controls",
      "model_module_version": "1.1.0",
      "model_name": "DescriptionStyleModel",
      "state": {
       "description_width": ""
      }
     },
     "4873b52e14fb4e01a2efc9b6ec9f4561": {
      "model_module": "@jupyter-widgets/controls",
      "model_module_version": "1.1.0",
      "model_name": "ToggleButtonsStyleModel",
      "state": {
       "button_width": "",
       "description_width": ""
      }
     },
     "48a4c96a827e49d3beae6e2d1e8dace5": {
      "model_module": "@jupyter-widgets/controls",
      "model_module_version": "1.1.0",
      "model_name": "CheckboxModel",
      "state": {
       "description": "80°",
       "disabled": false,
       "layout": "IPY_MODEL_181d532fcf664ac59ef38448d3ac215c",
       "style": "IPY_MODEL_1b1c3c1a190840779c5277f754611eed",
       "value": true
      }
     },
     "48d3fdf0172048b78092b2e4fba35cc1": {
      "model_module": "@jupyter-widgets/base",
      "model_module_version": "1.0.0",
      "model_name": "LayoutModel",
      "state": {}
     },
     "48d6a29de3fe4b21a4933651013ca17c": {
      "model_module": "@jupyter-widgets/base",
      "model_module_version": "1.0.0",
      "model_name": "LayoutModel",
      "state": {}
     },
     "48dd3491bb6543ef97f3184f4dd04dc1": {
      "model_module": "@jupyter-widgets/base",
      "model_module_version": "1.0.0",
      "model_name": "LayoutModel",
      "state": {}
     },
     "494dabc7ce2945f19239370be71cc656": {
      "model_module": "@jupyter-widgets/base",
      "model_module_version": "1.0.0",
      "model_name": "LayoutModel",
      "state": {}
     },
     "496afe6a7255467882497c62a9934238": {
      "model_module": "@jupyter-widgets/controls",
      "model_module_version": "1.1.0",
      "model_name": "LabelModel",
      "state": {
       "layout": "IPY_MODEL_104d58e9449e48749b05fefce343f075",
       "style": "IPY_MODEL_5b022fe216604a93ac7675403a1dfe4f",
       "value": "Select which secondary particle to plot spectra for."
      }
     },
     "4983d2055aa540b09bf1671d230359fd": {
      "model_module": "@jupyter-widgets/base",
      "model_module_version": "1.0.0",
      "model_name": "LayoutModel",
      "state": {}
     },
     "49e9137e50f44813b72a45d69a659e96": {
      "model_module": "@jupyter-widgets/controls",
      "model_module_version": "1.1.0",
      "model_name": "CheckboxModel",
      "state": {
       "description": "60°",
       "disabled": false,
       "layout": "IPY_MODEL_6e5bfcd185424475abd072f9ff0da8ef",
       "style": "IPY_MODEL_07d75c2623a14acaac5b43e08e71b559",
       "value": false
      }
     },
     "4a159ef5829140938004cae24842987b": {
      "model_module": "@jupyter-widgets/controls",
      "model_module_version": "1.1.0",
      "model_name": "DescriptionStyleModel",
      "state": {
       "description_width": ""
      }
     },
     "4a48969b477c4bafabcfc6a9e4de6868": {
      "model_module": "@jupyter-widgets/controls",
      "model_module_version": "1.1.0",
      "model_name": "CheckboxModel",
      "state": {
       "description": "60°",
       "disabled": false,
       "layout": "IPY_MODEL_1d393d3627de4b8b9c225452fc52406f",
       "style": "IPY_MODEL_23ad429477be4fe7beb80dd502064ac7",
       "value": true
      }
     },
     "4aad6287ce5545179622eeec21873b28": {
      "model_module": "@jupyter-widgets/controls",
      "model_module_version": "1.1.0",
      "model_name": "CheckboxModel",
      "state": {
       "description": "80°",
       "disabled": false,
       "layout": "IPY_MODEL_dcac55fa47134e5a80e306325f646db6",
       "style": "IPY_MODEL_2c283eac07974b8c9dc6bcd92671f261",
       "value": true
      }
     },
     "4ad68fd1d95745479f05deef48a13dfe": {
      "model_module": "@jupyter-widgets/controls",
      "model_module_version": "1.1.0",
      "model_name": "CheckboxModel",
      "state": {
       "description": "80°",
       "disabled": false,
       "layout": "IPY_MODEL_268deff161c442f6baaa7d2a79d4c5a9",
       "style": "IPY_MODEL_3399a4c8e41742b19dc0a8b326200e48",
       "value": true
      }
     },
     "4aeafb61077d42808cef7e4da9b5abeb": {
      "model_module": "@jupyter-widgets/controls",
      "model_module_version": "1.1.0",
      "model_name": "CheckboxModel",
      "state": {
       "description": "28.2°",
       "disabled": false,
       "layout": "IPY_MODEL_0ba15f02a3e241cfb5554239e37e8a39",
       "style": "IPY_MODEL_3ae7edf9282c4bb29262fc74ed7457c6",
       "value": true
      }
     },
     "4b2dacfe18dc47e1a9d89b9d4d0d17ff": {
      "model_module": "@jupyter-widgets/base",
      "model_module_version": "1.0.0",
      "model_name": "LayoutModel",
      "state": {}
     },
     "4b313ade035346c08238c3d82576da2f": {
      "model_module": "@jupyter-widgets/base",
      "model_module_version": "1.0.0",
      "model_name": "LayoutModel",
      "state": {}
     },
     "4b395f57c6674e77b411277989eacd52": {
      "model_module": "@jupyter-widgets/controls",
      "model_module_version": "1.1.0",
      "model_name": "DescriptionStyleModel",
      "state": {
       "description_width": ""
      }
     },
     "4b3e0d7cc3a34cd19bab3b2ed36231f6": {
      "model_module": "@jupyter-widgets/base",
      "model_module_version": "1.0.0",
      "model_name": "LayoutModel",
      "state": {}
     },
     "4b6fa27e982d4d39a045f12e95015ba9": {
      "model_module": "@jupyter-widgets/base",
      "model_module_version": "1.0.0",
      "model_name": "LayoutModel",
      "state": {}
     },
     "4bbd72c1fa0b40e69f7b7a8bbda3f824": {
      "model_module": "@jupyter-widgets/base",
      "model_module_version": "1.0.0",
      "model_name": "LayoutModel",
      "state": {}
     },
     "4bd4fb3548f34dbbab78ecd8e9853177": {
      "model_module": "@jupyter-widgets/base",
      "model_module_version": "1.0.0",
      "model_name": "LayoutModel",
      "state": {}
     },
     "4be18702b7374d2bb6514893bc088c12": {
      "model_module": "@jupyter-widgets/controls",
      "model_module_version": "1.1.0",
      "model_name": "CheckboxModel",
      "state": {
       "description": "10°",
       "disabled": false,
       "layout": "IPY_MODEL_c3cab31f4d4f4a858cd9408d120aca09",
       "style": "IPY_MODEL_6e95f3508fc4499f871042d4040bd640",
       "value": true
      }
     },
     "4bfd016f6b254de38d2ec87c639a380d": {
      "model_module": "@jupyter-widgets/controls",
      "model_module_version": "1.1.0",
      "model_name": "DescriptionStyleModel",
      "state": {
       "description_width": ""
      }
     },
     "4c2d056166914a319f1aa0a32c67856d": {
      "model_module": "@jupyter-widgets/base",
      "model_module_version": "1.0.0",
      "model_name": "LayoutModel",
      "state": {}
     },
     "4c4d18aa051748ab9c29e91c88c13ed2": {
      "model_module": "@jupyter-widgets/controls",
      "model_module_version": "1.1.0",
      "model_name": "CheckboxModel",
      "state": {
       "description": "135°",
       "disabled": false,
       "layout": "IPY_MODEL_5ad7cb92db9f426599a612e6cdbeb1ae",
       "style": "IPY_MODEL_3c2e68c03a494d0e964b3a51e06f82e8",
       "value": true
      }
     },
     "4cbffe1b274f49ce81322da62902dd9c": {
      "model_module": "@jupyter-widgets/controls",
      "model_module_version": "1.1.0",
      "model_name": "ToggleButtonsStyleModel",
      "state": {
       "button_width": "",
       "description_width": ""
      }
     },
     "4cc39a6a644b45c2ae23f45f0791d40f": {
      "model_module": "@jupyter-widgets/controls",
      "model_module_version": "1.1.0",
      "model_name": "DescriptionStyleModel",
      "state": {
       "description_width": ""
      }
     },
     "4ce6a61031ce4b2ebb66154499226a6b": {
      "model_module": "@jupyter-widgets/controls",
      "model_module_version": "1.1.0",
      "model_name": "CheckboxModel",
      "state": {
       "description": "10°",
       "disabled": false,
       "layout": "IPY_MODEL_7db1c715c27c426f9a9b3a5820d79b0c",
       "style": "IPY_MODEL_f49081b81392490a9d44ed5eda297dfb",
       "value": true
      }
     },
     "4d36206d20a544589047cb8ec209f141": {
      "model_module": "@jupyter-widgets/controls",
      "model_module_version": "1.1.0",
      "model_name": "ToggleButtonsModel",
      "state": {
       "_options_labels": [
        "N (¹n)",
        "NDC (¹n)",
        "P (¹H)",
        "D (²H)",
        "T (³H)",
        "S (³He)",
        "A (⁴He)"
       ],
       "button_style": "",
       "description": "Type:",
       "icons": [],
       "index": 0,
       "layout": "IPY_MODEL_4309eca1d42d41d0a0be80ee3ddcc7cf",
       "style": "IPY_MODEL_012702128d55420bb4f3a67906054542",
       "tooltips": [
        "Neutron",
        "Back Target Neutron",
        "Proton",
        "Deuteron",
        "Triton",
        "Helium-3",
        "Helium-4"
       ]
      }
     },
     "4d4fcad406be4ae3ad2925c4cfe5d079": {
      "model_module": "@jupyter-widgets/base",
      "model_module_version": "1.0.0",
      "model_name": "LayoutModel",
      "state": {}
     },
     "4d5a6bf6a7c64ae28eec32fa0a0c12f3": {
      "model_module": "@jupyter-widgets/controls",
      "model_module_version": "1.1.0",
      "model_name": "CheckboxModel",
      "state": {
       "description": "80°",
       "disabled": false,
       "layout": "IPY_MODEL_7a606f3c1ab14cb9839909e63914dd28",
       "style": "IPY_MODEL_9bc2ba7a19f74af4ae4a126910a7c81b",
       "value": true
      }
     },
     "4dc60796dc4d4b2fb291300a78b5e453": {
      "model_module": "@jupyter-widgets/controls",
      "model_module_version": "1.1.0",
      "model_name": "DescriptionStyleModel",
      "state": {
       "description_width": ""
      }
     },
     "4de496bb8bbb4886a778a02e718a549f": {
      "model_module": "@jupyter-widgets/controls",
      "model_module_version": "1.1.0",
      "model_name": "ToggleButtonsStyleModel",
      "state": {
       "button_width": "",
       "description_width": ""
      }
     },
     "4deedfd0f766471687a33b4eabf2c502": {
      "model_module": "@jupyter-widgets/controls",
      "model_module_version": "1.1.0",
      "model_name": "CheckboxModel",
      "state": {
       "description": "60°",
       "disabled": false,
       "layout": "IPY_MODEL_e13fe1343d144c94a41936009565334f",
       "style": "IPY_MODEL_f1f935c3adf24e1bb45e6f19d25d81c5",
       "value": true
      }
     },
     "4df1a3837fc04729974df5c9012b3dde": {
      "model_module": "@jupyter-widgets/controls",
      "model_module_version": "1.1.0",
      "model_name": "DescriptionStyleModel",
      "state": {
       "description_width": ""
      }
     },
     "4e0a5c89d71144109d42b533d4f7926c": {
      "model_module": "@jupyter-widgets/controls",
      "model_module_version": "1.1.0",
      "model_name": "LabelModel",
      "state": {
       "layout": "IPY_MODEL_75647d063fd343279bf2691272c87b29",
       "style": "IPY_MODEL_9615104881154fcfa004fddcec99c116",
       "value": "Select which secondary particle to plot spectra for."
      }
     },
     "4e11908df70c4c1baa0a0a0701c3b483": {
      "model_module": "@jupyter-widgets/controls",
      "model_module_version": "1.1.0",
      "model_name": "CheckboxModel",
      "state": {
       "description": "135°",
       "disabled": false,
       "layout": "IPY_MODEL_648e2abce8bd44749de5e0704c4e0f8c",
       "style": "IPY_MODEL_8560a6f02b604d1bb2516e19618938a6",
       "value": false
      }
     },
     "4e2a53e9f2794258a9dc672297ae031b": {
      "model_module": "@jupyter-widgets/base",
      "model_module_version": "1.0.0",
      "model_name": "LayoutModel",
      "state": {}
     },
     "4e692a9a30684f1e9cf9f9eab12388e7": {
      "model_module": "@jupyter-widgets/controls",
      "model_module_version": "1.1.0",
      "model_name": "DescriptionStyleModel",
      "state": {
       "description_width": ""
      }
     },
     "4e95b30bf0064f74a6df13c94478640f": {
      "model_module": "@jupyter-widgets/controls",
      "model_module_version": "1.1.0",
      "model_name": "LabelModel",
      "state": {
       "layout": "IPY_MODEL_48d3fdf0172048b78092b2e4fba35cc1",
       "style": "IPY_MODEL_7459268c60e14cee93a95a83bb9c62cd",
       "value": "Select the detector angles to plot."
      }
     },
     "4ea59979a0084e069d4cfe7c617b86d8": {
      "model_module": "@jupyter-widgets/controls",
      "model_module_version": "1.1.0",
      "model_name": "DescriptionStyleModel",
      "state": {
       "description_width": ""
      }
     },
     "4ed288858c314b359ad89bbd11086fa4": {
      "model_module": "@jupyter-widgets/controls",
      "model_module_version": "1.1.0",
      "model_name": "LabelModel",
      "state": {
       "layout": "IPY_MODEL_25f899f8d0f04abf8212ea7933f21da4",
       "style": "IPY_MODEL_0fd4e4d9a1e24438beae0580eb21cd0a",
       "value": "Select which secondary particle to plot spectra for."
      }
     },
     "4ef0084a078247899fe9c9e4946364ae": {
      "model_module": "@jupyter-widgets/base",
      "model_module_version": "1.0.0",
      "model_name": "LayoutModel",
      "state": {}
     },
     "4ef169f780f5492d945394689c66c0f3": {
      "model_module": "@jupyter-widgets/controls",
      "model_module_version": "1.1.0",
      "model_name": "ToggleButtonsStyleModel",
      "state": {
       "button_width": "",
       "description_width": ""
      }
     },
     "4ef62c84f3b949ca9cc3d00b7cabcba9": {
      "model_module": "@jupyter-widgets/controls",
      "model_module_version": "1.1.0",
      "model_name": "CheckboxModel",
      "state": {
       "description": "30°",
       "disabled": false,
       "layout": "IPY_MODEL_1e89315c30e2428fa595d6b42ebd4592",
       "style": "IPY_MODEL_1b3dff2e885b48e789134f537ebc787a",
       "value": true
      }
     },
     "4f3f9f56808c4b14a26239ba5483cb60": {
      "model_module": "@jupyter-widgets/controls",
      "model_module_version": "1.1.0",
      "model_name": "ToggleButtonsModel",
      "state": {
       "_options_labels": [
        "400 MeV/n",
        "800 MeV/n",
        "1500 MeV/n"
       ],
       "button_style": "",
       "description": "Energy:",
       "icons": [],
       "index": 0,
       "layout": "IPY_MODEL_c427e3c1ea6549109d108f8a2ff7ce3d",
       "style": "IPY_MODEL_865a726d61fa47a29ff1bf6ab3cbb3c4",
       "tooltips": [
        "lowest energy",
        "middle energy",
        "highest energy"
       ]
      }
     },
     "4f5a6e8389cc492184cdfa2a1335dec7": {
      "model_module": "@jupyter-widgets/base",
      "model_module_version": "1.0.0",
      "model_name": "LayoutModel",
      "state": {}
     },
     "4fa6bd4d322749fe891b1e8b7edd436a": {
      "model_module": "@jupyter-widgets/controls",
      "model_module_version": "1.1.0",
      "model_name": "DescriptionStyleModel",
      "state": {
       "description_width": ""
      }
     },
     "4ff00da7b2f240d1a374a3fc4e320df3": {
      "model_module": "@jupyter-widgets/base",
      "model_module_version": "1.0.0",
      "model_name": "LayoutModel",
      "state": {}
     },
     "4ff53ed86afa4374ab630e0d485944b5": {
      "model_module": "@jupyter-widgets/controls",
      "model_module_version": "1.1.0",
      "model_name": "CheckboxModel",
      "state": {
       "description": "45°",
       "disabled": false,
       "layout": "IPY_MODEL_b65c01657bd649c8b8b1c5021cec090e",
       "style": "IPY_MODEL_fe1d1e90130247ac8121c825e79cb174",
       "value": true
      }
     },
     "501c96fa4327478bb850662111108f9e": {
      "model_module": "@jupyter-widgets/controls",
      "model_module_version": "1.1.0",
      "model_name": "CheckboxModel",
      "state": {
       "description": "60°",
       "disabled": false,
       "layout": "IPY_MODEL_7f6a97e5fbe24a3c9cbbb57009b519b5",
       "style": "IPY_MODEL_53b203c5bcf74a0689b75dca70294cd6",
       "value": false
      }
     },
     "502f0671d23f460a8945d09d5b4bd79c": {
      "model_module": "@jupyter-widgets/controls",
      "model_module_version": "1.1.0",
      "model_name": "DescriptionStyleModel",
      "state": {
       "description_width": ""
      }
     },
     "5032c0a28bb84678ba8f7c98434b2fb8": {
      "model_module": "@jupyter-widgets/controls",
      "model_module_version": "1.1.0",
      "model_name": "DescriptionStyleModel",
      "state": {
       "description_width": ""
      }
     },
     "5055ec73c4224306ade810760718b4c2": {
      "model_module": "@jupyter-widgets/controls",
      "model_module_version": "1.1.0",
      "model_name": "ToggleButtonsModel",
      "state": {
       "_options_labels": [
        "N (¹n)",
        "NDC (¹n)",
        "P (¹H)",
        "D (²H)",
        "T (³H)",
        "S (³He)",
        "A (⁴He)"
       ],
       "button_style": "",
       "description": "Type:",
       "icons": [],
       "index": 0,
       "layout": "IPY_MODEL_bdf78436e9c142c9a60aa393d33ca884",
       "style": "IPY_MODEL_12cf0e3f5beb4e5db305b20b8628fea2",
       "tooltips": [
        "Neutron",
        "Back Target Neutron",
        "Proton",
        "Deuteron",
        "Triton",
        "Helium-3",
        "Helium-4"
       ]
      }
     },
     "505d38a767e546989370b7597d6730a5": {
      "model_module": "@jupyter-widgets/controls",
      "model_module_version": "1.1.0",
      "model_name": "CheckboxModel",
      "state": {
       "description": "60°",
       "disabled": false,
       "layout": "IPY_MODEL_48dd3491bb6543ef97f3184f4dd04dc1",
       "style": "IPY_MODEL_095b4ce3a3364cbaa4c0dbd459814f9a",
       "value": true
      }
     },
     "50bb39ba82dd4e0f928548cbc1e56055": {
      "model_module": "@jupyter-widgets/controls",
      "model_module_version": "1.1.0",
      "model_name": "DescriptionStyleModel",
      "state": {
       "description_width": ""
      }
     },
     "5101c32fba2647e7b23b2c007b6a958d": {
      "model_module": "@jupyter-widgets/base",
      "model_module_version": "1.0.0",
      "model_name": "LayoutModel",
      "state": {}
     },
     "518cb1c97022473f8651c05ae7db2953": {
      "model_module": "@jupyter-widgets/controls",
      "model_module_version": "1.1.0",
      "model_name": "CheckboxModel",
      "state": {
       "description": "30°",
       "disabled": false,
       "layout": "IPY_MODEL_820dfd5d872b4d25b9c5ff1f806a7c09",
       "style": "IPY_MODEL_69ec8e82f79545b8b4db029164b7f4b6",
       "value": true
      }
     },
     "522fa2925391448985ebc11eba9e8583": {
      "model_module": "@jupyter-widgets/controls",
      "model_module_version": "1.1.0",
      "model_name": "CheckboxModel",
      "state": {
       "description": "60°",
       "disabled": false,
       "layout": "IPY_MODEL_4c2d056166914a319f1aa0a32c67856d",
       "style": "IPY_MODEL_3409f20a2b44478ca3f017d84b25150d",
       "value": true
      }
     },
     "525f48a576274f9ba23dc59a0dfa4897": {
      "model_module": "@jupyter-widgets/controls",
      "model_module_version": "1.1.0",
      "model_name": "CheckboxModel",
      "state": {
       "description": "60°",
       "disabled": false,
       "layout": "IPY_MODEL_3c8c6a6665a64aec97d8773312827237",
       "style": "IPY_MODEL_c341e551dd3f44e6b6220a52550cbe89",
       "value": true
      }
     },
     "52a96ac245a449098464e256ec1c8a46": {
      "model_module": "@jupyter-widgets/controls",
      "model_module_version": "1.1.0",
      "model_name": "CheckboxModel",
      "state": {
       "description": "10°",
       "disabled": false,
       "layout": "IPY_MODEL_6d7e8177703e4fc78b5724bb7c5f39e9",
       "style": "IPY_MODEL_c62d708d273e40c981235311559699b9",
       "value": true
      }
     },
     "52c16dd828a84e3c93385fd475420794": {
      "model_module": "@jupyter-widgets/base",
      "model_module_version": "1.0.0",
      "model_name": "LayoutModel",
      "state": {}
     },
     "52f2a682870d495c8df9b66819365ea9": {
      "model_module": "@jupyter-widgets/controls",
      "model_module_version": "1.1.0",
      "model_name": "CheckboxModel",
      "state": {
       "description": "80°",
       "disabled": false,
       "layout": "IPY_MODEL_71058c791b4b4cf791c34492ca167eab",
       "style": "IPY_MODEL_b3f675f793e84eb8af82213e3f6ecee1",
       "value": true
      }
     },
     "52f70f15ffa049e38c6a8b99a6efe1e2": {
      "model_module": "@jupyter-widgets/controls",
      "model_module_version": "1.1.0",
      "model_name": "CheckboxModel",
      "state": {
       "description": "10°",
       "disabled": false,
       "layout": "IPY_MODEL_c3ecc9526c494ff2a70d7aeab2d6a81a",
       "style": "IPY_MODEL_72e45cb336a54312a1aeef5f4c881553",
       "value": true
      }
     },
     "5334baa65f5a442abe5e6394834ac8d0": {
      "model_module": "@jupyter-widgets/controls",
      "model_module_version": "1.1.0",
      "model_name": "DescriptionStyleModel",
      "state": {
       "description_width": ""
      }
     },
     "53519e7ebbf249e681459daa23be4e3f": {
      "model_module": "@jupyter-widgets/base",
      "model_module_version": "1.0.0",
      "model_name": "LayoutModel",
      "state": {}
     },
     "53a07c9c5a044530a6200c5974dc52ca": {
      "model_module": "@jupyter-widgets/controls",
      "model_module_version": "1.1.0",
      "model_name": "ToggleButtonsModel",
      "state": {
       "_options_labels": [
        "N (¹n)",
        "NDC (¹n)",
        "P (¹H)",
        "D (²H)"
       ],
       "button_style": "",
       "description": "Type:",
       "icons": [],
       "index": 0,
       "layout": "IPY_MODEL_229e8079ccf74a729fedb12eca55d771",
       "style": "IPY_MODEL_2061e11c43264be5ac072294cb7e5fa3",
       "tooltips": [
        "Neutron",
        "Back Target Neutron",
        "Proton",
        "Deuteron"
       ]
      }
     },
     "53b203c5bcf74a0689b75dca70294cd6": {
      "model_module": "@jupyter-widgets/controls",
      "model_module_version": "1.1.0",
      "model_name": "DescriptionStyleModel",
      "state": {
       "description_width": ""
      }
     },
     "53f0713094b941d09069608eb0b7e26c": {
      "model_module": "@jupyter-widgets/base",
      "model_module_version": "1.0.0",
      "model_name": "LayoutModel",
      "state": {}
     },
     "54056f40661c4f7b81a0a27fb1dd94fd": {
      "model_module": "@jupyter-widgets/base",
      "model_module_version": "1.0.0",
      "model_name": "LayoutModel",
      "state": {}
     },
     "54255a5971c24871ac446ec831e675d5": {
      "model_module": "@jupyter-widgets/controls",
      "model_module_version": "1.1.0",
      "model_name": "ToggleButtonsModel",
      "state": {
       "_options_labels": [
        "400 MeV/n",
        "800 MeV/n",
        "1500 MeV/n"
       ],
       "button_style": "",
       "description": "Energy:",
       "icons": [],
       "index": 1,
       "layout": "IPY_MODEL_0d751cb4f6e548f4b8ce129fb2a1948f",
       "style": "IPY_MODEL_04d1efb4970542e8a1080845ae9e2928",
       "tooltips": [
        "lowest energy",
        "middle energy",
        "highest energy"
       ]
      }
     },
     "545ebc91c17c4aa6959b057a16b3ac92": {
      "model_module": "@jupyter-widgets/base",
      "model_module_version": "1.0.0",
      "model_name": "LayoutModel",
      "state": {}
     },
     "54de40efe30348c3a3f03c32f9a0bf20": {
      "model_module": "@jupyter-widgets/controls",
      "model_module_version": "1.1.0",
      "model_name": "CheckboxModel",
      "state": {
       "description": "135°",
       "disabled": false,
       "layout": "IPY_MODEL_eae064cb481f4388b3ecadccabebcbfd",
       "style": "IPY_MODEL_968d972512a14609a9d52d3d9e1341ca",
       "value": true
      }
     },
     "550a8b4a444a4dc8979aaff27f9aea77": {
      "model_module": "@jupyter-widgets/base",
      "model_module_version": "1.0.0",
      "model_name": "LayoutModel",
      "state": {}
     },
     "55114e30eaef4a0baf0b2c8825f04423": {
      "model_module": "@jupyter-widgets/base",
      "model_module_version": "1.0.0",
      "model_name": "LayoutModel",
      "state": {}
     },
     "551f1768743d48d6b4d9eabce3889290": {
      "model_module": "@jupyter-widgets/base",
      "model_module_version": "1.0.0",
      "model_name": "LayoutModel",
      "state": {}
     },
     "5551224bca5049e7be23f28c01e1dd3b": {
      "model_module": "@jupyter-widgets/controls",
      "model_module_version": "1.1.0",
      "model_name": "DescriptionStyleModel",
      "state": {
       "description_width": ""
      }
     },
     "55619c5dea094e449247ceb4ea2afc58": {
      "model_module": "@jupyter-widgets/base",
      "model_module_version": "1.0.0",
      "model_name": "LayoutModel",
      "state": {}
     },
     "558f3cbb74f44270a0a0ffb1405db605": {
      "model_module": "@jupyter-widgets/controls",
      "model_module_version": "1.1.0",
      "model_name": "LabelModel",
      "state": {
       "layout": "IPY_MODEL_4d4fcad406be4ae3ad2925c4cfe5d079",
       "style": "IPY_MODEL_237ce633442a44248c4af8d83c850476",
       "value": "Select projectile ion energy."
      }
     },
     "55ad60edc3cc48cf803fdd35c03e02a8": {
      "model_module": "@jupyter-widgets/controls",
      "model_module_version": "1.1.0",
      "model_name": "DescriptionStyleModel",
      "state": {
       "description_width": ""
      }
     },
     "55e1e3be375a42268d92b16cccceeff0": {
      "model_module": "@jupyter-widgets/controls",
      "model_module_version": "1.1.0",
      "model_name": "DescriptionStyleModel",
      "state": {
       "description_width": ""
      }
     },
     "55ee168d048141bda5ad42eb6648dab2": {
      "model_module": "@jupyter-widgets/base",
      "model_module_version": "1.0.0",
      "model_name": "LayoutModel",
      "state": {}
     },
     "56109a4f301b4e7eaf085b954adad9c5": {
      "model_module": "@jupyter-widgets/controls",
      "model_module_version": "1.1.0",
      "model_name": "DescriptionStyleModel",
      "state": {
       "description_width": ""
      }
     },
     "562a8ee6c510478180bbe9768376706b": {
      "model_module": "@jupyter-widgets/controls",
      "model_module_version": "1.1.0",
      "model_name": "DescriptionStyleModel",
      "state": {
       "description_width": ""
      }
     },
     "5683570204824c2babd1bd671d01df2d": {
      "model_module": "@jupyter-widgets/base",
      "model_module_version": "1.0.0",
      "model_name": "LayoutModel",
      "state": {}
     },
     "5694c32fad5348a7814ee2f1077654e8": {
      "model_module": "@jupyter-widgets/controls",
      "model_module_version": "1.1.0",
      "model_name": "CheckboxModel",
      "state": {
       "description": "30°",
       "disabled": false,
       "layout": "IPY_MODEL_e705eb676ca84ed7bac6301486cf3fec",
       "style": "IPY_MODEL_0d5b2c31b6ba45a5b485646040acbc1c",
       "value": true
      }
     },
     "56b2779a2a6e424f8432ddcecd18d2b3": {
      "model_module": "@jupyter-widgets/controls",
      "model_module_version": "1.1.0",
      "model_name": "CheckboxModel",
      "state": {
       "description": "10°",
       "disabled": false,
       "layout": "IPY_MODEL_7fee16546f4e4ce698bb3676bbfe16a6",
       "style": "IPY_MODEL_458d0ff4e9c24a4fb84bc59a942eb7be",
       "value": true
      }
     },
     "56cdac3fdd604828adeb8bd2ce656bff": {
      "model_module": "@jupyter-widgets/controls",
      "model_module_version": "1.1.0",
      "model_name": "CheckboxModel",
      "state": {
       "description": "10°",
       "disabled": false,
       "layout": "IPY_MODEL_e4da8aed076e41fabc020df45f79166e",
       "style": "IPY_MODEL_1757cdb3a11c42869812c07a7a3a6d56",
       "value": true
      }
     },
     "56eef3271bf545989ce729f658001984": {
      "model_module": "@jupyter-widgets/base",
      "model_module_version": "1.0.0",
      "model_name": "LayoutModel",
      "state": {}
     },
     "57323ccaaacc4124a9d793bad87745c4": {
      "model_module": "@jupyter-widgets/controls",
      "model_module_version": "1.1.0",
      "model_name": "CheckboxModel",
      "state": {
       "description": "30°",
       "disabled": false,
       "layout": "IPY_MODEL_ba7e0728ba3d417ca8231f82f6648646",
       "style": "IPY_MODEL_1e5116bf86be4f1882bf20fcf6a6c465",
       "value": true
      }
     },
     "57d7e399c05046a98adea902f1be7d58": {
      "model_module": "@jupyter-widgets/controls",
      "model_module_version": "1.1.0",
      "model_name": "LabelModel",
      "state": {
       "layout": "IPY_MODEL_b9fe73a9d00447f5a6611838aa68771a",
       "style": "IPY_MODEL_f4861ab2161a41a481d4efd27777288f",
       "value": "Select the detector angles to plot."
      }
     },
     "58077b879af64e7dbc37ed3f0b737f2b": {
      "model_module": "@jupyter-widgets/base",
      "model_module_version": "1.0.0",
      "model_name": "LayoutModel",
      "state": {}
     },
     "5811319f0fa94ee481a92fc5fe368815": {
      "model_module": "@jupyter-widgets/controls",
      "model_module_version": "1.1.0",
      "model_name": "DescriptionStyleModel",
      "state": {
       "description_width": ""
      }
     },
     "582bd3b8586f48da886d7a868cac290f": {
      "model_module": "@jupyter-widgets/controls",
      "model_module_version": "1.1.0",
      "model_name": "CheckboxModel",
      "state": {
       "description": "10°",
       "disabled": false,
       "layout": "IPY_MODEL_b6a6026f9a484957a255fc96600c9c14",
       "style": "IPY_MODEL_5d79d6a3b83a4115bb61fac8d665d5cb",
       "value": true
      }
     },
     "582ecf8a072f42a7b3c5823cfde9d18c": {
      "model_module": "@jupyter-widgets/controls",
      "model_module_version": "1.1.0",
      "model_name": "CheckboxModel",
      "state": {
       "description": "30°",
       "disabled": false,
       "layout": "IPY_MODEL_e7c7ff147f5e4b0f9de2d24756f931c5",
       "style": "IPY_MODEL_42ac3994113648e7b1511b9da9417c54",
       "value": true
      }
     },
     "583bbba8ce624dd496a72160cfce3e3c": {
      "model_module": "@jupyter-widgets/controls",
      "model_module_version": "1.1.0",
      "model_name": "CheckboxModel",
      "state": {
       "description": "80°",
       "disabled": false,
       "layout": "IPY_MODEL_94458a1ede7b40a59b7adde0d00b199b",
       "style": "IPY_MODEL_87e57776ce1f4fd38470996dfe8cf8a5",
       "value": true
      }
     },
     "5879180fc1bd49a09297167b29351d56": {
      "model_module": "@jupyter-widgets/controls",
      "model_module_version": "1.1.0",
      "model_name": "ButtonModel",
      "state": {
       "button_style": "success",
       "description": "Update plot",
       "icon": "paint-brush",
       "layout": "IPY_MODEL_82f4562ddb4f464a84af5973022cc115",
       "style": "IPY_MODEL_7e8f437c1a4f4cb2a43386174f683062",
       "tooltip": "Click to redraw the plot below with updated options from above."
      }
     },
     "58d1a5ed88374eb2bc1af82624b9c785": {
      "model_module": "@jupyter-widgets/controls",
      "model_module_version": "1.1.0",
      "model_name": "ButtonStyleModel",
      "state": {}
     },
     "590c75c872914897a0b6cde58cca7b15": {
      "model_module": "@jupyter-widgets/base",
      "model_module_version": "1.0.0",
      "model_name": "LayoutModel",
      "state": {}
     },
     "5929c186d9eb48c99b0e76d2f047ecee": {
      "model_module": "@jupyter-widgets/base",
      "model_module_version": "1.0.0",
      "model_name": "LayoutModel",
      "state": {}
     },
     "592d2c0aa7504792bede385126d23000": {
      "model_module": "@jupyter-widgets/controls",
      "model_module_version": "1.1.0",
      "model_name": "DescriptionStyleModel",
      "state": {
       "description_width": ""
      }
     },
     "594d7f47aa2f4f3590683c7b2106522b": {
      "model_module": "@jupyter-widgets/controls",
      "model_module_version": "1.1.0",
      "model_name": "DescriptionStyleModel",
      "state": {
       "description_width": ""
      }
     },
     "599ca6b319364d34b100c6e2dbf5108f": {
      "model_module": "@jupyter-widgets/controls",
      "model_module_version": "1.1.0",
      "model_name": "LabelModel",
      "state": {
       "layout": "IPY_MODEL_a6f9e3ee75754eecb9e07499d61a606d",
       "style": "IPY_MODEL_0c3297f4aa9948278ef3e5ba45d189d8",
       "value": "Select which sets of data to display."
      }
     },
     "59cfb89d37c64c54a570ec8a8383a52e": {
      "model_module": "@jupyter-widgets/controls",
      "model_module_version": "1.1.0",
      "model_name": "CheckboxModel",
      "state": {
       "description": "10°",
       "disabled": false,
       "layout": "IPY_MODEL_9e76e71b2ce946968f7ea2d6d5db2441",
       "style": "IPY_MODEL_9ff423d239b843e9837184497a85d68c",
       "value": true
      }
     },
     "5a127a21a9244a47962c8a41005dc6b8": {
      "model_module": "@jupyter-widgets/base",
      "model_module_version": "1.0.0",
      "model_name": "LayoutModel",
      "state": {}
     },
     "5a8e1e58eef240009f3eaae78d7272fc": {
      "model_module": "@jupyter-widgets/controls",
      "model_module_version": "1.1.0",
      "model_name": "DescriptionStyleModel",
      "state": {
       "description_width": ""
      }
     },
     "5aa7313937f347f2a4f94727e15b94c1": {
      "model_module": "@jupyter-widgets/controls",
      "model_module_version": "1.1.0",
      "model_name": "CheckboxModel",
      "state": {
       "description": "60°",
       "disabled": false,
       "layout": "IPY_MODEL_14747b7132f64713b014ca83848cb75d",
       "style": "IPY_MODEL_325e49be119544de8398173a30e3339c",
       "value": true
      }
     },
     "5ad7cb92db9f426599a612e6cdbeb1ae": {
      "model_module": "@jupyter-widgets/base",
      "model_module_version": "1.0.0",
      "model_name": "LayoutModel",
      "state": {}
     },
     "5b022fe216604a93ac7675403a1dfe4f": {
      "model_module": "@jupyter-widgets/controls",
      "model_module_version": "1.1.0",
      "model_name": "DescriptionStyleModel",
      "state": {
       "description_width": ""
      }
     },
     "5b07f342793d451f93155c3dd066662f": {
      "model_module": "@jupyter-widgets/controls",
      "model_module_version": "1.1.0",
      "model_name": "ToggleButtonsStyleModel",
      "state": {
       "button_width": "",
       "description_width": ""
      }
     },
     "5b0e90bad91540f7964f171a4fb45504": {
      "model_module": "@jupyter-widgets/controls",
      "model_module_version": "1.1.0",
      "model_name": "LabelModel",
      "state": {
       "layout": "IPY_MODEL_23acda008ed343d999adf0515f15bae6",
       "style": "IPY_MODEL_8872a1a9dadf4cab9a7f77f2ceab455d",
       "value": "Select which secondary particle to plot spectra for."
      }
     },
     "5b750e632456459db070733b106ef94d": {
      "model_module": "@jupyter-widgets/controls",
      "model_module_version": "1.1.0",
      "model_name": "CheckboxModel",
      "state": {
       "description": "45°",
       "disabled": false,
       "layout": "IPY_MODEL_2c7ef81276354c359d1e6d8d4d7f776f",
       "style": "IPY_MODEL_b42f68c91453466f98cc3c71ddde5df8",
       "value": true
      }
     },
     "5be950c9798a433eac7c50d421058a45": {
      "model_module": "@jupyter-widgets/controls",
      "model_module_version": "1.1.0",
      "model_name": "DescriptionStyleModel",
      "state": {
       "description_width": ""
      }
     },
     "5bea036262aa45f88bd611b6d17bbf2c": {
      "model_module": "@jupyter-widgets/controls",
      "model_module_version": "1.1.0",
      "model_name": "CheckboxModel",
      "state": {
       "description": "45°",
       "disabled": false,
       "layout": "IPY_MODEL_3362abff56024a28bb3f806b1c8512b0",
       "style": "IPY_MODEL_1aa273c7bdca4da191835a445d606065",
       "value": true
      }
     },
     "5c1891fc0f3e494bb2daac66c62f0605": {
      "model_module": "@jupyter-widgets/controls",
      "model_module_version": "1.1.0",
      "model_name": "DescriptionStyleModel",
      "state": {
       "description_width": ""
      }
     },
     "5c709c28e7b1473a829030631e766267": {
      "model_module": "@jupyter-widgets/controls",
      "model_module_version": "1.1.0",
      "model_name": "LabelModel",
      "state": {
       "layout": "IPY_MODEL_0904d5c615004520b4addc0afd8f11c6",
       "style": "IPY_MODEL_85a02b30514244aaaf4f8a6d2a2c855b",
       "value": "Select projectile ion energy."
      }
     },
     "5c8ae25629bb45bfa1828369ead77402": {
      "model_module": "@jupyter-widgets/base",
      "model_module_version": "1.0.0",
      "model_name": "LayoutModel",
      "state": {}
     },
     "5cd1a0fc8f2b419cba318f2759e84300": {
      "model_module": "@jupyter-widgets/controls",
      "model_module_version": "1.1.0",
      "model_name": "CheckboxModel",
      "state": {
       "description": "45°",
       "disabled": false,
       "layout": "IPY_MODEL_aca553dec049411a9613a1df049c60f2",
       "style": "IPY_MODEL_1611a7e4b1b04daa83ba9fbdf40a6b48",
       "value": true
      }
     },
     "5d0203b4421942389bb57b1c40fb9970": {
      "model_module": "@jupyter-widgets/controls",
      "model_module_version": "1.1.0",
      "model_name": "DescriptionStyleModel",
      "state": {
       "description_width": ""
      }
     },
     "5d11473ee0a449d0b93f46057bb10c7e": {
      "model_module": "@jupyter-widgets/base",
      "model_module_version": "1.0.0",
      "model_name": "LayoutModel",
      "state": {}
     },
     "5d2d2ef1e6f84956a3c03ae6b9da9860": {
      "model_module": "@jupyter-widgets/base",
      "model_module_version": "1.0.0",
      "model_name": "LayoutModel",
      "state": {}
     },
     "5d45e9bedef14a86a1f78bb791530cec": {
      "model_module": "@jupyter-widgets/base",
      "model_module_version": "1.0.0",
      "model_name": "LayoutModel",
      "state": {}
     },
     "5d6f9298364a4b61a3f6781fd3f90728": {
      "model_module": "@jupyter-widgets/controls",
      "model_module_version": "1.1.0",
      "model_name": "CheckboxModel",
      "state": {
       "description": "10°",
       "disabled": false,
       "layout": "IPY_MODEL_945fd25c30d0494197276661c03dc671",
       "style": "IPY_MODEL_06911039ed2b4f93bbec1f3465e4792f",
       "value": true
      }
     },
     "5d79d6a3b83a4115bb61fac8d665d5cb": {
      "model_module": "@jupyter-widgets/controls",
      "model_module_version": "1.1.0",
      "model_name": "DescriptionStyleModel",
      "state": {
       "description_width": ""
      }
     },
     "5d9f1e4f52be41468c9737671db6eeb7": {
      "model_module": "@jupyter-widgets/controls",
      "model_module_version": "1.1.0",
      "model_name": "DescriptionStyleModel",
      "state": {
       "description_width": ""
      }
     },
     "5db4f40a4ff340c792d454c100ac3ca1": {
      "model_module": "@jupyter-widgets/base",
      "model_module_version": "1.0.0",
      "model_name": "LayoutModel",
      "state": {}
     },
     "5dba777f3ad5495984d9747a4e2eb10a": {
      "model_module": "@jupyter-widgets/controls",
      "model_module_version": "1.1.0",
      "model_name": "CheckboxModel",
      "state": {
       "description": "30°",
       "disabled": false,
       "layout": "IPY_MODEL_66c336724b0c43bba23e9be0854b7b87",
       "style": "IPY_MODEL_11e5620c07cc43d8a2786e3639005438",
       "value": false
      }
     },
     "5e226b0f37f9402c8351fac92816df33": {
      "model_module": "@jupyter-widgets/controls",
      "model_module_version": "1.1.0",
      "model_name": "CheckboxModel",
      "state": {
       "description": "10°",
       "disabled": false,
       "layout": "IPY_MODEL_a1508f29519446cb89354baa0c079653",
       "style": "IPY_MODEL_f7321fc4b17d4e829257afd40af2d5c2",
       "value": true
      }
     },
     "5e3355da7b9848ccac220d67e4854e00": {
      "model_module": "@jupyter-widgets/base",
      "model_module_version": "1.0.0",
      "model_name": "LayoutModel",
      "state": {}
     },
     "5e7db865bbac4ad993bb71f9c9d3c32c": {
      "model_module": "@jupyter-widgets/controls",
      "model_module_version": "1.1.0",
      "model_name": "CheckboxModel",
      "state": {
       "description": "80°",
       "disabled": false,
       "layout": "IPY_MODEL_14a99f6b164c4d9299d9760d104c3d74",
       "style": "IPY_MODEL_74afdf280b99481c91ec8638fcafbb6c",
       "value": true
      }
     },
     "5eae71481201469a9f41f176634ff53e": {
      "model_module": "@jupyter-widgets/controls",
      "model_module_version": "1.1.0",
      "model_name": "DescriptionStyleModel",
      "state": {
       "description_width": ""
      }
     },
     "5f33917099b84db99530cfe19a797a09": {
      "model_module": "@jupyter-widgets/base",
      "model_module_version": "1.0.0",
      "model_name": "LayoutModel",
      "state": {}
     },
     "5f3628b512394296a21837d4baf0cae3": {
      "model_module": "@jupyter-widgets/controls",
      "model_module_version": "1.1.0",
      "model_name": "ToggleButtonsStyleModel",
      "state": {
       "button_width": "",
       "description_width": ""
      }
     },
     "5f37362934e14109951258ad79a49283": {
      "model_module": "@jupyter-widgets/controls",
      "model_module_version": "1.1.0",
      "model_name": "LabelModel",
      "state": {
       "layout": "IPY_MODEL_3ed8a03b12234f1f96c21be5fc89dbbf",
       "style": "IPY_MODEL_5a8e1e58eef240009f3eaae78d7272fc",
       "value": "Select the detector angles to plot."
      }
     },
     "5f3b3e9281414288a0c60d8369ef055b": {
      "model_module": "@jupyter-widgets/controls",
      "model_module_version": "1.1.0",
      "model_name": "CheckboxModel",
      "state": {
       "description": "10°",
       "disabled": false,
       "layout": "IPY_MODEL_c056e640edce4c269d8bbf0f54262eae",
       "style": "IPY_MODEL_434eda9a3fdd4adc9d47d36d17c44992",
       "value": true
      }
     },
     "5f6d3b5ab3f94a0d9af8dd6912b4767b": {
      "model_module": "@jupyter-widgets/base",
      "model_module_version": "1.0.0",
      "model_name": "LayoutModel",
      "state": {}
     },
     "5f80d1cf22234e7594f18187386c28aa": {
      "model_module": "@jupyter-widgets/base",
      "model_module_version": "1.0.0",
      "model_name": "LayoutModel",
      "state": {}
     },
     "5f81c44e3d4f4848891cd99623046fe3": {
      "model_module": "@jupyter-widgets/controls",
      "model_module_version": "1.1.0",
      "model_name": "DescriptionStyleModel",
      "state": {
       "description_width": ""
      }
     },
     "5fc3f122bf5a4e9f81f5da4f559639cc": {
      "model_module": "@jupyter-widgets/base",
      "model_module_version": "1.0.0",
      "model_name": "LayoutModel",
      "state": {}
     },
     "5ffcfd3693164356858a0cf7f7f49abf": {
      "model_module": "@jupyter-widgets/controls",
      "model_module_version": "1.1.0",
      "model_name": "ToggleButtonsModel",
      "state": {
       "_options_labels": [
        "400 MeV",
        "800 MeV",
        "2500 MeV"
       ],
       "button_style": "",
       "description": "Energy:",
       "icons": [],
       "index": 0,
       "layout": "IPY_MODEL_4983d2055aa540b09bf1671d230359fd",
       "style": "IPY_MODEL_4de496bb8bbb4886a778a02e718a549f",
       "tooltips": [
        "lowest energy",
        "middle energy",
        "highest energy"
       ]
      }
     },
     "6019f206380e40869a36e7ed7440ff63": {
      "model_module": "@jupyter-widgets/controls",
      "model_module_version": "1.1.0",
      "model_name": "CheckboxModel",
      "state": {
       "description": "30°",
       "disabled": false,
       "layout": "IPY_MODEL_fe14d7b10f2e4a5c8d43b25464f2f8af",
       "style": "IPY_MODEL_c5319387ee0f448b983f45fd842808da",
       "value": true
      }
     },
     "6043f70a44fd4a4ab3da05f2351f5d16": {
      "model_module": "@jupyter-widgets/base",
      "model_module_version": "1.0.0",
      "model_name": "LayoutModel",
      "state": {}
     },
     "604b16220d6048ea886bfe88261bdf85": {
      "model_module": "@jupyter-widgets/controls",
      "model_module_version": "1.1.0",
      "model_name": "DescriptionStyleModel",
      "state": {
       "description_width": ""
      }
     },
     "605082e0f753458887d4cb323c5f3cab": {
      "model_module": "@jupyter-widgets/base",
      "model_module_version": "1.0.0",
      "model_name": "LayoutModel",
      "state": {}
     },
     "60640bc143d7461fa221ade3e9a1babf": {
      "model_module": "@jupyter-widgets/base",
      "model_module_version": "1.0.0",
      "model_name": "LayoutModel",
      "state": {}
     },
     "6084ee82670b45f2b72a203c656729a7": {
      "model_module": "@jupyter-widgets/controls",
      "model_module_version": "1.1.0",
      "model_name": "CheckboxModel",
      "state": {
       "description": "45°",
       "disabled": false,
       "layout": "IPY_MODEL_1a69e3aee3e14b7db2c3eaef0f27ff8c",
       "style": "IPY_MODEL_a0fb516231fc4c46bebbabd867d9dd0e",
       "value": true
      }
     },
     "60c6db45211e4b37a236fe435da7fd4a": {
      "model_module": "@jupyter-widgets/controls",
      "model_module_version": "1.1.0",
      "model_name": "CheckboxModel",
      "state": {
       "description": "60°",
       "disabled": false,
       "layout": "IPY_MODEL_cc72e4f4aa744945b46d2989b2c8382b",
       "style": "IPY_MODEL_d8e79c82101d4d939d3b239c270edb50",
       "value": true
      }
     },
     "60da9f76f87747409e60a24d11f5064e": {
      "model_module": "@jupyter-widgets/controls",
      "model_module_version": "1.1.0",
      "model_name": "CheckboxModel",
      "state": {
       "description": "30°",
       "disabled": false,
       "layout": "IPY_MODEL_f8d1defbf04d4c329688c00ad9b82081",
       "style": "IPY_MODEL_bb0ee65ce4894fc79a7cad5d70b7b308",
       "value": true
      }
     },
     "60e28aaf83044e78b416a7e4140081f9": {
      "model_module": "@jupyter-widgets/controls",
      "model_module_version": "1.1.0",
      "model_name": "ToggleButtonsModel",
      "state": {
       "_options_labels": [
        "Al",
        "HDPE",
        "AlPE"
       ],
       "button_style": "",
       "description": "Material:",
       "icons": [],
       "index": 0,
       "layout": "IPY_MODEL_1464d343c35a4ef39cb521de45cc30a7",
       "style": "IPY_MODEL_28c6e8a53b30499788d694073344f160",
       "tooltips": [
        "Aluminum",
        "Polyethylene",
        "Combination of Al and HDPE"
       ]
      }
     },
     "60e581ed69f348ada1f183e02e3a1501": {
      "model_module": "@jupyter-widgets/controls",
      "model_module_version": "1.1.0",
      "model_name": "ToggleButtonsModel",
      "state": {
       "_options_labels": [
        "None",
        "Spaced by 10²"
       ],
       "button_style": "",
       "description": "Spacing:",
       "icons": [],
       "index": 0,
       "layout": "IPY_MODEL_978237f274d2476b8418648f0228b9e7",
       "style": "IPY_MODEL_365cc349dabc4ae5a0219329152a8f57",
       "tooltips": [
        "All values are presented as is.",
        "Plots for different detectors are multiplied by powers of 10² for easier viewing."
       ]
      }
     },
     "611f22c67c284b8a81ffc118bc58ad4b": {
      "model_module": "@jupyter-widgets/base",
      "model_module_version": "1.0.0",
      "model_name": "LayoutModel",
      "state": {}
     },
     "61335b6f99b3431594c37c7bacfd72c9": {
      "model_module": "@jupyter-widgets/base",
      "model_module_version": "1.0.0",
      "model_name": "LayoutModel",
      "state": {}
     },
     "61530f17cf0a4a869cc3326b3400bd36": {
      "model_module": "@jupyter-widgets/controls",
      "model_module_version": "1.1.0",
      "model_name": "ToggleButtonsModel",
      "state": {
       "_options_labels": [
        "20 g/cm²",
        "40 g/cm²",
        "60 g/cm²"
       ],
       "button_style": "",
       "description": "Thickness:",
       "icons": [],
       "index": 0,
       "layout": "IPY_MODEL_383081b3ad19498490196aa4c2e92f84",
       "style": "IPY_MODEL_f4e068f26b124e70aee3d4ed6f1a1f11",
       "tooltips": [
        "20 g/cm² Aluminum",
        "40 g/cm² Aluminum",
        "60 g/cm² Aluminum"
       ]
      }
     },
     "61906c76664a41d496cc06fad94da3da": {
      "model_module": "@jupyter-widgets/controls",
      "model_module_version": "1.1.0",
      "model_name": "DescriptionStyleModel",
      "state": {
       "description_width": ""
      }
     },
     "619eb7b1a8ab4a82a15314965e6fe9a2": {
      "model_module": "@jupyter-widgets/base",
      "model_module_version": "1.0.0",
      "model_name": "LayoutModel",
      "state": {}
     },
     "61e3b1d974f54bdb9c326faeee0c314d": {
      "model_module": "@jupyter-widgets/controls",
      "model_module_version": "1.1.0",
      "model_name": "CheckboxModel",
      "state": {
       "description": "30°",
       "disabled": false,
       "layout": "IPY_MODEL_a6c3f474e4fc44af9c36e8c0cf3f1b5a",
       "style": "IPY_MODEL_03a393a5b856453da2dc9e69bb9c625b",
       "value": true
      }
     },
     "62005fa6af354d3abb3d96cdd98641ee": {
      "model_module": "@jupyter-widgets/base",
      "model_module_version": "1.0.0",
      "model_name": "LayoutModel",
      "state": {}
     },
     "622b1dbaabd243b9843ca2f3fffb7666": {
      "model_module": "@jupyter-widgets/controls",
      "model_module_version": "1.1.0",
      "model_name": "DescriptionStyleModel",
      "state": {
       "description_width": ""
      }
     },
     "625f3971a6524e3384d247f8736ed41c": {
      "model_module": "@jupyter-widgets/controls",
      "model_module_version": "1.1.0",
      "model_name": "CheckboxModel",
      "state": {
       "description": "10°",
       "disabled": false,
       "layout": "IPY_MODEL_9ebc4e97c55b459f85d9b769bce74ce0",
       "style": "IPY_MODEL_f3f69e1081784e57b0f53a13152b39c0",
       "value": true
      }
     },
     "626dcd99f79b46e4b93f117fd4b1db37": {
      "model_module": "@jupyter-widgets/controls",
      "model_module_version": "1.1.0",
      "model_name": "CheckboxModel",
      "state": {
       "description": "135°",
       "disabled": false,
       "layout": "IPY_MODEL_251dbee8118e4833a50c38ca3bb755d4",
       "style": "IPY_MODEL_5811319f0fa94ee481a92fc5fe368815",
       "value": true
      }
     },
     "62c0dff630c54a339359f4468590031f": {
      "model_module": "@jupyter-widgets/base",
      "model_module_version": "1.0.0",
      "model_name": "LayoutModel",
      "state": {}
     },
     "6301ab8a9251463b9ae21da49e69bd8c": {
      "model_module": "@jupyter-widgets/controls",
      "model_module_version": "1.1.0",
      "model_name": "DescriptionStyleModel",
      "state": {
       "description_width": ""
      }
     },
     "630a75892166422cb5a31e63e1a6c742": {
      "model_module": "@jupyter-widgets/controls",
      "model_module_version": "1.1.0",
      "model_name": "DescriptionStyleModel",
      "state": {
       "description_width": ""
      }
     },
     "631536be399348008a03b762521caa26": {
      "model_module": "@jupyter-widgets/controls",
      "model_module_version": "1.1.0",
      "model_name": "LabelModel",
      "state": {
       "layout": "IPY_MODEL_0c132da78fcf4a549f39d30e06c640a9",
       "style": "IPY_MODEL_dcc580c163444356988ae2cd34110f94",
       "value": "Select the detector angles to plot."
      }
     },
     "634950df2f1743129effab1a202ebd6c": {
      "model_module": "@jupyter-widgets/controls",
      "model_module_version": "1.1.0",
      "model_name": "DescriptionStyleModel",
      "state": {
       "description_width": ""
      }
     },
     "638b9a043e1e4701abfe86496606c417": {
      "model_module": "@jupyter-widgets/base",
      "model_module_version": "1.0.0",
      "model_name": "LayoutModel",
      "state": {}
     },
     "63b8575a0be8460e9235b4700552459c": {
      "model_module": "@jupyter-widgets/controls",
      "model_module_version": "1.1.0",
      "model_name": "DescriptionStyleModel",
      "state": {
       "description_width": ""
      }
     },
     "63bc4d3d272049c5b9b3cdbb4723fb43": {
      "model_module": "@jupyter-widgets/controls",
      "model_module_version": "1.1.0",
      "model_name": "LabelModel",
      "state": {
       "layout": "IPY_MODEL_2dc29aad853f45168fd248a8554269c5",
       "style": "IPY_MODEL_0134c3792d954a6fb8646afb9cd0529f",
       "value": "Select how data sets for each detector should be spaced apart (if at all)."
      }
     },
     "63d35644410f496587d7e4afc765a7ad": {
      "model_module": "@jupyter-widgets/controls",
      "model_module_version": "1.1.0",
      "model_name": "LabelModel",
      "state": {
       "layout": "IPY_MODEL_e9876dad0d064a82bb3810f9daf6dc78",
       "style": "IPY_MODEL_395f4ed1396f41599458d76bd4a9f8b9",
       "value": "Select upstream target mass thickness."
      }
     },
     "63d86dafd39f4b03988a50402ac33d4c": {
      "model_module": "@jupyter-widgets/controls",
      "model_module_version": "1.1.0",
      "model_name": "DescriptionStyleModel",
      "state": {
       "description_width": ""
      }
     },
     "63f3673c4a8d4904b8b4957354acdb7a": {
      "model_module": "@jupyter-widgets/controls",
      "model_module_version": "1.1.0",
      "model_name": "DescriptionStyleModel",
      "state": {
       "description_width": ""
      }
     },
     "6432281fb9754f448a6ef8b536a3b412": {
      "model_module": "@jupyter-widgets/controls",
      "model_module_version": "1.1.0",
      "model_name": "DescriptionStyleModel",
      "state": {
       "description_width": ""
      }
     },
     "644ed6cc3d2144fdaa33e0de942764ca": {
      "model_module": "@jupyter-widgets/controls",
      "model_module_version": "1.1.0",
      "model_name": "DescriptionStyleModel",
      "state": {
       "description_width": ""
      }
     },
     "648e2abce8bd44749de5e0704c4e0f8c": {
      "model_module": "@jupyter-widgets/base",
      "model_module_version": "1.0.0",
      "model_name": "LayoutModel",
      "state": {}
     },
     "64a39e5952b74d7d9eb1a3cdc4a824d1": {
      "model_module": "@jupyter-widgets/controls",
      "model_module_version": "1.1.0",
      "model_name": "CheckboxModel",
      "state": {
       "description": "10°",
       "disabled": false,
       "layout": "IPY_MODEL_bec0a54e31b749e9ad4b1152e11a6e85",
       "style": "IPY_MODEL_18b8c3c6b1d2459ab250e28c7d51c293",
       "value": true
      }
     },
     "64bcc39945b54dc3845c9c8a5f663971": {
      "model_module": "@jupyter-widgets/controls",
      "model_module_version": "1.1.0",
      "model_name": "DescriptionStyleModel",
      "state": {
       "description_width": ""
      }
     },
     "64cddb3db5b6461d93882d622d7c74e2": {
      "model_module": "@jupyter-widgets/base",
      "model_module_version": "1.0.0",
      "model_name": "LayoutModel",
      "state": {}
     },
     "64e57371413542b59172c6948348cc08": {
      "model_module": "@jupyter-widgets/base",
      "model_module_version": "1.0.0",
      "model_name": "LayoutModel",
      "state": {}
     },
     "652dafb0d07046108b2c23f2fb75432c": {
      "model_module": "@jupyter-widgets/controls",
      "model_module_version": "1.1.0",
      "model_name": "DescriptionStyleModel",
      "state": {
       "description_width": ""
      }
     },
     "6534c2495cb84bcebdd805f461b0f732": {
      "model_module": "@jupyter-widgets/controls",
      "model_module_version": "1.1.0",
      "model_name": "ToggleButtonsStyleModel",
      "state": {
       "button_width": "",
       "description_width": ""
      }
     },
     "6592682b66da430baa3d52e6c03c9f70": {
      "model_module": "@jupyter-widgets/base",
      "model_module_version": "1.0.0",
      "model_name": "LayoutModel",
      "state": {}
     },
     "65ac9ffa46e74c519cea167a6f7c9e00": {
      "model_module": "@jupyter-widgets/controls",
      "model_module_version": "1.1.0",
      "model_name": "LabelModel",
      "state": {
       "layout": "IPY_MODEL_0a892fe9e1af434dbee48a0fe6ed30f0",
       "style": "IPY_MODEL_d7728d7f18734d9985528ec5cc7e6bb9",
       "value": "Select which secondary particle to plot spectra for."
      }
     },
     "65b9b514b21a4270bbe617e747d7d512": {
      "model_module": "@jupyter-widgets/controls",
      "model_module_version": "1.1.0",
      "model_name": "LabelModel",
      "state": {
       "layout": "IPY_MODEL_d787a6af00114089a18df01cc6832c33",
       "style": "IPY_MODEL_d6d67849279d4eec8fe5b047ef4db595",
       "value": "Select which secondary particle to plot spectra for."
      }
     },
     "65c67283abaa4187b143e98bc5c4bf8b": {
      "model_module": "@jupyter-widgets/controls",
      "model_module_version": "1.1.0",
      "model_name": "DescriptionStyleModel",
      "state": {
       "description_width": ""
      }
     },
     "65dc34305d364cc9aec224dba5542416": {
      "model_module": "@jupyter-widgets/base",
      "model_module_version": "1.0.0",
      "model_name": "LayoutModel",
      "state": {}
     },
     "65eb98388f3b425ca85e6efa4a4c4181": {
      "model_module": "@jupyter-widgets/controls",
      "model_module_version": "1.1.0",
      "model_name": "LabelModel",
      "state": {
       "layout": "IPY_MODEL_0f4d8e82915342dea9c99fdf5cf9559b",
       "style": "IPY_MODEL_ccb92fb4f4334ceab4beced3bde87ad2",
       "value": "Select the detector angles to plot."
      }
     },
     "6618fede54bc4ec88c1d1868043f5123": {
      "model_module": "@jupyter-widgets/controls",
      "model_module_version": "1.1.0",
      "model_name": "ToggleButtonsModel",
      "state": {
       "_options_labels": [
        "20 g/cm²",
        "40 g/cm²",
        "60 g/cm²"
       ],
       "button_style": "",
       "description": "Thickness:",
       "icons": [],
       "index": 0,
       "layout": "IPY_MODEL_c0771b671595474abd61daef2cdb5433",
       "style": "IPY_MODEL_c9cb879e1adc497faaf4f9487356048f",
       "tooltips": [
        "20 g/cm² Aluminum",
        "40 g/cm² Aluminum",
        "60 g/cm² Aluminum"
       ]
      }
     },
     "6656e479c3aa402088a708dc7886b481": {
      "model_module": "@jupyter-widgets/base",
      "model_module_version": "1.0.0",
      "model_name": "LayoutModel",
      "state": {}
     },
     "665fc08931fc44619afd3e1014cef644": {
      "model_module": "@jupyter-widgets/base",
      "model_module_version": "1.0.0",
      "model_name": "LayoutModel",
      "state": {}
     },
     "666947855c7b4a45a47d2346e06c6163": {
      "model_module": "@jupyter-widgets/base",
      "model_module_version": "1.0.0",
      "model_name": "LayoutModel",
      "state": {}
     },
     "6669aa29ed0549aca74d7019dc6c0e5f": {
      "model_module": "@jupyter-widgets/controls",
      "model_module_version": "1.1.0",
      "model_name": "DescriptionStyleModel",
      "state": {
       "description_width": ""
      }
     },
     "66780daaad254910a6361ece5f318824": {
      "model_module": "@jupyter-widgets/controls",
      "model_module_version": "1.1.0",
      "model_name": "CheckboxModel",
      "state": {
       "description": "80°",
       "disabled": false,
       "layout": "IPY_MODEL_71423ab69d8f4d27974054ce91340404",
       "style": "IPY_MODEL_8457014aa34643e0a25eff2ec3f6e208",
       "value": false
      }
     },
     "669362fe01604699a1d455ddf43ff835": {
      "model_module": "@jupyter-widgets/controls",
      "model_module_version": "1.1.0",
      "model_name": "DescriptionStyleModel",
      "state": {
       "description_width": ""
      }
     },
     "66c336724b0c43bba23e9be0854b7b87": {
      "model_module": "@jupyter-widgets/base",
      "model_module_version": "1.0.0",
      "model_name": "LayoutModel",
      "state": {}
     },
     "674ad855d31a46c995045aa6e30f60ca": {
      "model_module": "@jupyter-widgets/controls",
      "model_module_version": "1.1.0",
      "model_name": "LabelModel",
      "state": {
       "layout": "IPY_MODEL_2aa9e62ef0e34d62baf0e57cb97ecb73",
       "style": "IPY_MODEL_2e728ca3c2034b8086741be0d71e3946",
       "value": "Select upstream target mass thickness."
      }
     },
     "67649ac06c0d44b7ba8bc7ab44f13d98": {
      "model_module": "@jupyter-widgets/base",
      "model_module_version": "1.0.0",
      "model_name": "LayoutModel",
      "state": {}
     },
     "676c9ec4db9c4580a6d02dba2ee14cc3": {
      "model_module": "@jupyter-widgets/base",
      "model_module_version": "1.0.0",
      "model_name": "LayoutModel",
      "state": {}
     },
     "678505db90ca467f8138dcd59e60cab6": {
      "model_module": "@jupyter-widgets/controls",
      "model_module_version": "1.1.0",
      "model_name": "ToggleButtonsModel",
      "state": {
       "_options_labels": [
        "N (¹n)",
        "NDC (¹n)"
       ],
       "button_style": "",
       "description": "Type:",
       "icons": [],
       "index": 0,
       "layout": "IPY_MODEL_ff0752d0085a4a8693b2646507320ce7",
       "style": "IPY_MODEL_0c250d6154444cb5aaca2a60f583c229",
       "tooltips": [
        "Neutron",
        "Back Target Neutron"
       ]
      }
     },
     "67c7ff1eaa964102bb237a7e61175365": {
      "model_module": "@jupyter-widgets/base",
      "model_module_version": "1.0.0",
      "model_name": "LayoutModel",
      "state": {}
     },
     "6808932636854169abb96099d295094a": {
      "model_module": "@jupyter-widgets/controls",
      "model_module_version": "1.1.0",
      "model_name": "CheckboxModel",
      "state": {
       "description": "60°",
       "disabled": false,
       "layout": "IPY_MODEL_a8e63e1dcb4345d2b913355531ac989f",
       "style": "IPY_MODEL_7adde8f3afc7478e95f52a5ba89da941",
       "value": true
      }
     },
     "684604c74c48451cb8d88cce812fa285": {
      "model_module": "@jupyter-widgets/base",
      "model_module_version": "1.0.0",
      "model_name": "LayoutModel",
      "state": {}
     },
     "6860fc537c664772b30afb7ebfc841f2": {
      "model_module": "@jupyter-widgets/base",
      "model_module_version": "1.0.0",
      "model_name": "LayoutModel",
      "state": {}
     },
     "6863339bf1d24b64b0edd13d07bcda29": {
      "model_module": "@jupyter-widgets/controls",
      "model_module_version": "1.1.0",
      "model_name": "CheckboxModel",
      "state": {
       "description": "135°",
       "disabled": false,
       "layout": "IPY_MODEL_a918cb0bb85249d1b54b8565dad3f659",
       "style": "IPY_MODEL_35ced27b879c42d9b20e796e03c2f102",
       "value": true
      }
     },
     "6875058ca28d415ebf3402c09385b7de": {
      "model_module": "@jupyter-widgets/base",
      "model_module_version": "1.0.0",
      "model_name": "LayoutModel",
      "state": {}
     },
     "68933790a74a4b828811e6ca8c0609f0": {
      "model_module": "@jupyter-widgets/controls",
      "model_module_version": "1.1.0",
      "model_name": "CheckboxModel",
      "state": {
       "description": "MCNP simulated",
       "disabled": false,
       "layout": "IPY_MODEL_3d97e80d1c424d3e854e2b2106a1b287",
       "style": "IPY_MODEL_f808b8d841c64ede90b90c8d1d382ad7",
       "value": true
      }
     },
     "6896b4bd8afa4cdcbf69ee8bd652a294": {
      "model_module": "@jupyter-widgets/controls",
      "model_module_version": "1.1.0",
      "model_name": "DescriptionStyleModel",
      "state": {
       "description_width": ""
      }
     },
     "68ea0c8040b549ddbf28ba9ea85eccfa": {
      "model_module": "@jupyter-widgets/controls",
      "model_module_version": "1.1.0",
      "model_name": "DescriptionStyleModel",
      "state": {
       "description_width": ""
      }
     },
     "6902a3d0f5ed4573bc62d9ca3b441fe5": {
      "model_module": "@jupyter-widgets/controls",
      "model_module_version": "1.1.0",
      "model_name": "DescriptionStyleModel",
      "state": {
       "description_width": ""
      }
     },
     "6962c061d59045bb85f2b5cd341f4833": {
      "model_module": "@jupyter-widgets/controls",
      "model_module_version": "1.1.0",
      "model_name": "ToggleButtonsModel",
      "state": {
       "_options_labels": [
        "None",
        "Spaced by 10²"
       ],
       "button_style": "",
       "description": "Spacing:",
       "icons": [],
       "index": 0,
       "layout": "IPY_MODEL_c7cfcb5d67974ae0ba1f4bc0e90120d3",
       "style": "IPY_MODEL_5b07f342793d451f93155c3dd066662f",
       "tooltips": [
        "All values are presented as is.",
        "Plots for different detectors are multiplied by powers of 10² for easier viewing."
       ]
      }
     },
     "69a91690e7ca45c695f3d6199eae47b1": {
      "model_module": "@jupyter-widgets/controls",
      "model_module_version": "1.1.0",
      "model_name": "LabelModel",
      "state": {
       "layout": "IPY_MODEL_094e31aacf7e473a919b5a57d531f347",
       "style": "IPY_MODEL_8b743d4952b248f7a36eb844c64b0788",
       "value": "Select the detector angles to plot."
      }
     },
     "69b8433c4d3c4ff2811205a7b366fe96": {
      "model_module": "@jupyter-widgets/base",
      "model_module_version": "1.0.0",
      "model_name": "LayoutModel",
      "state": {}
     },
     "69bb322b76854ee69f4fe54e0100c26d": {
      "model_module": "@jupyter-widgets/controls",
      "model_module_version": "1.1.0",
      "model_name": "CheckboxModel",
      "state": {
       "description": "60°",
       "disabled": false,
       "layout": "IPY_MODEL_a736e35fa3074fa386911fcdb54f58e3",
       "style": "IPY_MODEL_0dc535502f544ef18cef129a43da4899",
       "value": true
      }
     },
     "69ccb38d5d6d4e90a6f6b4b35c0f2e8f": {
      "model_module": "@jupyter-widgets/controls",
      "model_module_version": "1.1.0",
      "model_name": "CheckboxModel",
      "state": {
       "description": "MCNP simulated",
       "disabled": false,
       "layout": "IPY_MODEL_195d94cd3ae042f0960a238e7d83b52f",
       "style": "IPY_MODEL_15ee170653c240fb99340a790479ce12",
       "value": true
      }
     },
     "69ea7f91f62f4a098c14805203339114": {
      "model_module": "@jupyter-widgets/controls",
      "model_module_version": "1.1.0",
      "model_name": "DescriptionStyleModel",
      "state": {
       "description_width": ""
      }
     },
     "69ec8e82f79545b8b4db029164b7f4b6": {
      "model_module": "@jupyter-widgets/controls",
      "model_module_version": "1.1.0",
      "model_name": "DescriptionStyleModel",
      "state": {
       "description_width": ""
      }
     },
     "6a2b921d39ac461dbc061b948af0ceea": {
      "model_module": "@jupyter-widgets/base",
      "model_module_version": "1.0.0",
      "model_name": "LayoutModel",
      "state": {}
     },
     "6b6887f98a3e425fb0be0ae08a8fee56": {
      "model_module": "@jupyter-widgets/base",
      "model_module_version": "1.0.0",
      "model_name": "LayoutModel",
      "state": {}
     },
     "6b777fc2776b4640a564e258100c4073": {
      "model_module": "@jupyter-widgets/base",
      "model_module_version": "1.0.0",
      "model_name": "LayoutModel",
      "state": {}
     },
     "6ba8174a3a714bbda95b620867e30c97": {
      "model_module": "@jupyter-widgets/controls",
      "model_module_version": "1.1.0",
      "model_name": "DescriptionStyleModel",
      "state": {
       "description_width": ""
      }
     },
     "6bbd384fbfe648a68d8e73cde9bacc5e": {
      "model_module": "@jupyter-widgets/controls",
      "model_module_version": "1.1.0",
      "model_name": "CheckboxModel",
      "state": {
       "description": "30°",
       "disabled": false,
       "layout": "IPY_MODEL_134bc7054b404937bd3736cbe91e7b67",
       "style": "IPY_MODEL_594d7f47aa2f4f3590683c7b2106522b",
       "value": true
      }
     },
     "6be0765a7f13412395f9dd9107685df5": {
      "model_module": "@jupyter-widgets/controls",
      "model_module_version": "1.1.0",
      "model_name": "CheckboxModel",
      "state": {
       "description": "80°",
       "disabled": false,
       "layout": "IPY_MODEL_b256a51a15734075b996a26f220eea7f",
       "style": "IPY_MODEL_3f9b30d802344f01a03d47bc911046d3",
       "value": true
      }
     },
     "6c11b79834094d31b0aff5194582caaf": {
      "model_module": "@jupyter-widgets/controls",
      "model_module_version": "1.1.0",
      "model_name": "CheckboxModel",
      "state": {
       "description": "135°",
       "disabled": false,
       "layout": "IPY_MODEL_64cddb3db5b6461d93882d622d7c74e2",
       "style": "IPY_MODEL_e7d5c0076bce489bb6ca680b9c77e9fb",
       "value": true
      }
     },
     "6c469ab7f87b44daa771ff9fc23ee140": {
      "model_module": "@jupyter-widgets/controls",
      "model_module_version": "1.1.0",
      "model_name": "LabelModel",
      "state": {
       "layout": "IPY_MODEL_b8dff6def2614a08a4261fa0559edf8f",
       "style": "IPY_MODEL_7b785eb9dea24458a4d1ac57bbfbe2fc",
       "value": "Select the detector angles to plot."
      }
     },
     "6c5ed0a01f1f418aba1e82fb20332402": {
      "model_module": "@jupyter-widgets/controls",
      "model_module_version": "1.1.0",
      "model_name": "DescriptionStyleModel",
      "state": {
       "description_width": ""
      }
     },
     "6c8998b14930415993effbd41bcf876c": {
      "model_module": "@jupyter-widgets/controls",
      "model_module_version": "1.1.0",
      "model_name": "ToggleButtonsModel",
      "state": {
       "_options_labels": [
        "400 MeV",
        "800 MeV",
        "2500 MeV"
       ],
       "button_style": "",
       "description": "Energy:",
       "icons": [],
       "index": 0,
       "layout": "IPY_MODEL_e8b1430b7a3246b5962a8ec757207553",
       "style": "IPY_MODEL_243c9ba949cf4de2bb60bac6e9decc8d",
       "tooltips": [
        "lowest energy",
        "middle energy",
        "highest energy"
       ]
      }
     },
     "6d7e8177703e4fc78b5724bb7c5f39e9": {
      "model_module": "@jupyter-widgets/base",
      "model_module_version": "1.0.0",
      "model_name": "LayoutModel",
      "state": {}
     },
     "6d7ee98cf6a1461ba5df20b026c4f1d4": {
      "model_module": "@jupyter-widgets/controls",
      "model_module_version": "1.1.0",
      "model_name": "DescriptionStyleModel",
      "state": {
       "description_width": ""
      }
     },
     "6d95059981624950879bdfebbe0d9296": {
      "model_module": "@jupyter-widgets/base",
      "model_module_version": "1.0.0",
      "model_name": "LayoutModel",
      "state": {}
     },
     "6db02d35a9c74e88ba5a58093a39757d": {
      "model_module": "@jupyter-widgets/controls",
      "model_module_version": "1.1.0",
      "model_name": "ToggleButtonsStyleModel",
      "state": {
       "button_width": "",
       "description_width": ""
      }
     },
     "6dc1d2dba536489e85ba12120a94c707": {
      "model_module": "@jupyter-widgets/base",
      "model_module_version": "1.0.0",
      "model_name": "LayoutModel",
      "state": {}
     },
     "6e2dd0d385234c758577ccd5cbbbcad0": {
      "model_module": "@jupyter-widgets/controls",
      "model_module_version": "1.1.0",
      "model_name": "DescriptionStyleModel",
      "state": {
       "description_width": ""
      }
     },
     "6e5bfcd185424475abd072f9ff0da8ef": {
      "model_module": "@jupyter-widgets/base",
      "model_module_version": "1.0.0",
      "model_name": "LayoutModel",
      "state": {}
     },
     "6e5f793677974678bc6e7082c99effcc": {
      "model_module": "@jupyter-widgets/controls",
      "model_module_version": "1.1.0",
      "model_name": "DescriptionStyleModel",
      "state": {
       "description_width": ""
      }
     },
     "6e95f3508fc4499f871042d4040bd640": {
      "model_module": "@jupyter-widgets/controls",
      "model_module_version": "1.1.0",
      "model_name": "DescriptionStyleModel",
      "state": {
       "description_width": ""
      }
     },
     "6e9bce0cd9c54094b088b7a7566773dd": {
      "model_module": "@jupyter-widgets/controls",
      "model_module_version": "1.1.0",
      "model_name": "DescriptionStyleModel",
      "state": {
       "description_width": ""
      }
     },
     "6e9fcd4b109c4f9bacdca54b688ff986": {
      "model_module": "@jupyter-widgets/controls",
      "model_module_version": "1.1.0",
      "model_name": "ToggleButtonsModel",
      "state": {
       "_options_labels": [
        "N (¹n)",
        "NDC (¹n)",
        "P (¹H)",
        "D (²H)"
       ],
       "button_style": "",
       "description": "Type:",
       "icons": [],
       "index": 0,
       "layout": "IPY_MODEL_5683570204824c2babd1bd671d01df2d",
       "style": "IPY_MODEL_c01c78719669455786f6a3d7f97a34f2",
       "tooltips": [
        "Neutron",
        "Back Target Neutron",
        "Proton",
        "Deuteron"
       ]
      }
     },
     "6eadeeb6bf074b6d8e522423bb2b05e9": {
      "model_module": "@jupyter-widgets/controls",
      "model_module_version": "1.1.0",
      "model_name": "ToggleButtonsModel",
      "state": {
       "_options_labels": [
        "N (¹n)",
        "NDC (¹n)",
        "P (¹H)",
        "D (²H)",
        "T (³H)",
        "S (³He)",
        "A (⁴He)"
       ],
       "button_style": "",
       "description": "Type:",
       "icons": [],
       "index": 0,
       "layout": "IPY_MODEL_c028581d290146adb6944ce81d6a8445",
       "style": "IPY_MODEL_081eed35ebd6477f95c3abb50281bf35",
       "tooltips": [
        "Neutron",
        "Back Target Neutron",
        "Proton",
        "Deuteron",
        "Triton",
        "Helium-3",
        "Helium-4"
       ]
      }
     },
     "6edb3e911d44441787d5be281679c7dd": {
      "model_module": "@jupyter-widgets/controls",
      "model_module_version": "1.1.0",
      "model_name": "ToggleButtonsStyleModel",
      "state": {
       "button_width": "",
       "description_width": ""
      }
     },
     "6efc4b6151e242caaa8ab52d50bd5997": {
      "model_module": "@jupyter-widgets/controls",
      "model_module_version": "1.1.0",
      "model_name": "ToggleButtonsStyleModel",
      "state": {
       "button_width": "",
       "description_width": ""
      }
     },
     "6f28b70a460e4dcc975c5927eef6500a": {
      "model_module": "@jupyter-widgets/controls",
      "model_module_version": "1.1.0",
      "model_name": "ToggleButtonsModel",
      "state": {
       "_options_labels": [
        "P (¹H)",
        "D (²H)",
        "T (³H)",
        "A (⁴He)"
       ],
       "button_style": "",
       "description": "Particle:",
       "icons": [],
       "index": 0,
       "layout": "IPY_MODEL_c0590248ff2b4526bf62006198a16f0e",
       "style": "IPY_MODEL_3189369a0cac44e0a6e3b6b6d8657f93",
       "tooltips": [
        "Proton",
        "Deuteron",
        "Triton",
        "Helium-4"
       ]
      }
     },
     "6f9154ad8ff347fd89ceb3941d61b861": {
      "model_module": "@jupyter-widgets/controls",
      "model_module_version": "1.1.0",
      "model_name": "CheckboxModel",
      "state": {
       "description": "30°",
       "disabled": false,
       "layout": "IPY_MODEL_31903ee12cc046d4a5f3c48980d03de8",
       "style": "IPY_MODEL_a6823a7ff4d644898a0521a67008d5ad",
       "value": true
      }
     },
     "6fb95e2154dd4900892693eac880a9bb": {
      "model_module": "@jupyter-widgets/base",
      "model_module_version": "1.0.0",
      "model_name": "LayoutModel",
      "state": {}
     },
     "701d737cb8f8401b810a0390210365f7": {
      "model_module": "@jupyter-widgets/base",
      "model_module_version": "1.0.0",
      "model_name": "LayoutModel",
      "state": {}
     },
     "703e3e569ff1498cb980c4dc4e985884": {
      "model_module": "@jupyter-widgets/base",
      "model_module_version": "1.0.0",
      "model_name": "LayoutModel",
      "state": {}
     },
     "708e8d7a766147bbbdf1d488d6ce12fb": {
      "model_module": "@jupyter-widgets/controls",
      "model_module_version": "1.1.0",
      "model_name": "DescriptionStyleModel",
      "state": {
       "description_width": ""
      }
     },
     "70b824cba41340ed8e61ad5455714f59": {
      "model_module": "@jupyter-widgets/controls",
      "model_module_version": "1.1.0",
      "model_name": "CheckboxModel",
      "state": {
       "description": "30°",
       "disabled": false,
       "layout": "IPY_MODEL_18863704081745a6b44ce17d97071696",
       "style": "IPY_MODEL_4624e853dfd54f939381d2e27047bb61",
       "value": true
      }
     },
     "71058c791b4b4cf791c34492ca167eab": {
      "model_module": "@jupyter-widgets/base",
      "model_module_version": "1.0.0",
      "model_name": "LayoutModel",
      "state": {}
     },
     "71423ab69d8f4d27974054ce91340404": {
      "model_module": "@jupyter-widgets/base",
      "model_module_version": "1.0.0",
      "model_name": "LayoutModel",
      "state": {}
     },
     "714e01f090034d61970e171f2b8e9078": {
      "model_module": "@jupyter-widgets/base",
      "model_module_version": "1.0.0",
      "model_name": "LayoutModel",
      "state": {}
     },
     "7152837967fc4c21933fab6a2245e295": {
      "model_module": "@jupyter-widgets/controls",
      "model_module_version": "1.1.0",
      "model_name": "CheckboxModel",
      "state": {
       "description": "60°",
       "disabled": false,
       "layout": "IPY_MODEL_b67cce65aca44fba99692642db417b07",
       "style": "IPY_MODEL_88b9e2d96d2b4c85b34b1b94c3341b79",
       "value": false
      }
     },
     "71683c8b18754c3b99996c8c2f587ece": {
      "model_module": "@jupyter-widgets/base",
      "model_module_version": "1.0.0",
      "model_name": "LayoutModel",
      "state": {}
     },
     "71895eaff71248569ce5c5c2395d428a": {
      "model_module": "@jupyter-widgets/controls",
      "model_module_version": "1.1.0",
      "model_name": "LabelModel",
      "state": {
       "layout": "IPY_MODEL_dacecf3f41d744dca9a326df46e03dc7",
       "style": "IPY_MODEL_782f8c48e0e94ab9987ffa22d3cd04eb",
       "value": "Select the detector angles to plot."
      }
     },
     "719506c3b9ad4f68ac43df3344c0f784": {
      "model_module": "@jupyter-widgets/controls",
      "model_module_version": "1.1.0",
      "model_name": "LabelModel",
      "state": {
       "layout": "IPY_MODEL_7de9b198346d4da2990ea6970b256c36",
       "style": "IPY_MODEL_de136a4347eb43718c46e90b77ba4eae",
       "value": "Select the detector angles to plot."
      }
     },
     "719a392596f7403392909a78c79f6fd3": {
      "model_module": "@jupyter-widgets/controls",
      "model_module_version": "1.1.0",
      "model_name": "CheckboxModel",
      "state": {
       "description": "7.2°",
       "disabled": false,
       "layout": "IPY_MODEL_dcd4ce5edb6c44989f20208388f10188",
       "style": "IPY_MODEL_28216aa714064d369f4eb48ecb4ef60f",
       "value": true
      }
     },
     "71a09e2397ff40e9a0688a8973dcf554": {
      "model_module": "@jupyter-widgets/base",
      "model_module_version": "1.0.0",
      "model_name": "LayoutModel",
      "state": {}
     },
     "71b7722d056a4b0f8361f2d9d50b1a9f": {
      "model_module": "@jupyter-widgets/base",
      "model_module_version": "1.0.0",
      "model_name": "LayoutModel",
      "state": {}
     },
     "71cef8f8d16d42af89b020492cc909ca": {
      "model_module": "@jupyter-widgets/controls",
      "model_module_version": "1.1.0",
      "model_name": "CheckboxModel",
      "state": {
       "description": "10°",
       "disabled": false,
       "layout": "IPY_MODEL_77e5cab77d8e412a837ede5657f7cae9",
       "style": "IPY_MODEL_ca45354f50c94677a51e2632ed6da418",
       "value": true
      }
     },
     "71ff93e143924a6cb887239f81683955": {
      "model_module": "@jupyter-widgets/controls",
      "model_module_version": "1.1.0",
      "model_name": "CheckboxModel",
      "state": {
       "description": "45°",
       "disabled": false,
       "layout": "IPY_MODEL_11aea78791f04ca6adbc4af597e72e71",
       "style": "IPY_MODEL_462a79a9036144b8b3fe19cdc55eee8c",
       "value": true
      }
     },
     "7226f67f91d7466385caf9785e71e0e7": {
      "model_module": "@jupyter-widgets/base",
      "model_module_version": "1.0.0",
      "model_name": "LayoutModel",
      "state": {}
     },
     "7266346fb06e49e89e893c7ad7383d17": {
      "model_module": "@jupyter-widgets/base",
      "model_module_version": "1.0.0",
      "model_name": "LayoutModel",
      "state": {}
     },
     "7267e33edf104e3d9d14f08c8907cb54": {
      "model_module": "@jupyter-widgets/controls",
      "model_module_version": "1.1.0",
      "model_name": "ToggleButtonsModel",
      "state": {
       "_options_labels": [
        "N (¹n)",
        "NDC (¹n)",
        "P (¹H)",
        "D (²H)",
        "T (³H)",
        "S (³He)",
        "A (⁴He)"
       ],
       "button_style": "",
       "description": "Type:",
       "icons": [],
       "index": 3,
       "layout": "IPY_MODEL_3c09a4f787f24fb882051c5bbbc36f4a",
       "style": "IPY_MODEL_4ef169f780f5492d945394689c66c0f3",
       "tooltips": [
        "Neutron",
        "Back Target Neutron",
        "Proton",
        "Deuteron",
        "Triton",
        "Helium-3",
        "Helium-4"
       ]
      }
     },
     "7269c215af174c58ad8c5c71aa27e07a": {
      "model_module": "@jupyter-widgets/controls",
      "model_module_version": "1.1.0",
      "model_name": "ToggleButtonsStyleModel",
      "state": {
       "button_width": "",
       "description_width": ""
      }
     },
     "72730742a22448ee8cf55b8b6858e93c": {
      "model_module": "@jupyter-widgets/controls",
      "model_module_version": "1.1.0",
      "model_name": "CheckboxModel",
      "state": {
       "description": "135°",
       "disabled": false,
       "layout": "IPY_MODEL_d89d57eeb9ee413baad1cb61dc3a999b",
       "style": "IPY_MODEL_88cc195b5f6e4901bf6a0871b8ac57ab",
       "value": true
      }
     },
     "727e71bf8dd74063b25c39b8c26aab20": {
      "model_module": "@jupyter-widgets/controls",
      "model_module_version": "1.1.0",
      "model_name": "CheckboxModel",
      "state": {
       "description": "32.7°",
       "disabled": false,
       "layout": "IPY_MODEL_02f0fec9ce024a018ce95422f807e9d9",
       "style": "IPY_MODEL_6669aa29ed0549aca74d7019dc6c0e5f",
       "value": false
      }
     },
     "72d50bc804df4ca38022315156eda644": {
      "model_module": "@jupyter-widgets/controls",
      "model_module_version": "1.1.0",
      "model_name": "DescriptionStyleModel",
      "state": {
       "description_width": ""
      }
     },
     "72e45cb336a54312a1aeef5f4c881553": {
      "model_module": "@jupyter-widgets/controls",
      "model_module_version": "1.1.0",
      "model_name": "DescriptionStyleModel",
      "state": {
       "description_width": ""
      }
     },
     "72e9a796ad4b465882749d9c1f88720d": {
      "model_module": "@jupyter-widgets/base",
      "model_module_version": "1.0.0",
      "model_name": "LayoutModel",
      "state": {}
     },
     "72fe73391da34aa7b16dcf466b9d7dcc": {
      "model_module": "@jupyter-widgets/base",
      "model_module_version": "1.0.0",
      "model_name": "LayoutModel",
      "state": {}
     },
     "73138b754209406a8c76f8b0357ac687": {
      "model_module": "@jupyter-widgets/controls",
      "model_module_version": "1.1.0",
      "model_name": "DescriptionStyleModel",
      "state": {
       "description_width": ""
      }
     },
     "7356676fed21406e8f081dbe6e0a505a": {
      "model_module": "@jupyter-widgets/controls",
      "model_module_version": "1.1.0",
      "model_name": "ButtonStyleModel",
      "state": {}
     },
     "7361620793a041eb83e6cebabb392c82": {
      "model_module": "@jupyter-widgets/base",
      "model_module_version": "1.0.0",
      "model_name": "LayoutModel",
      "state": {}
     },
     "73ade60795d64355b51bcedccc4f3f2c": {
      "model_module": "@jupyter-widgets/controls",
      "model_module_version": "1.1.0",
      "model_name": "DescriptionStyleModel",
      "state": {
       "description_width": ""
      }
     },
     "73b7636d409349d39069f1f9c4c8bf66": {
      "model_module": "@jupyter-widgets/controls",
      "model_module_version": "1.1.0",
      "model_name": "CheckboxModel",
      "state": {
       "description": "7.2°",
       "disabled": false,
       "layout": "IPY_MODEL_55ee168d048141bda5ad42eb6648dab2",
       "style": "IPY_MODEL_c3a04ceeb2e74e89bb7895f0f5657097",
       "value": true
      }
     },
     "73e20f453cf440ec997671f6f69ed6e9": {
      "model_module": "@jupyter-widgets/controls",
      "model_module_version": "1.1.0",
      "model_name": "ToggleButtonsModel",
      "state": {
       "_options_labels": [
        "400 MeV/n",
        "800 MeV/n",
        "1500 MeV/n"
       ],
       "button_style": "",
       "description": "Energy:",
       "icons": [],
       "index": 1,
       "layout": "IPY_MODEL_7b02a5288922431db259df2fe6b48f66",
       "style": "IPY_MODEL_2df331ed0947481499b39951a8f811cd",
       "tooltips": [
        "lowest energy",
        "middle energy",
        "highest energy"
       ]
      }
     },
     "740b6967cafc441d9d1016cb0a8da55f": {
      "model_module": "@jupyter-widgets/controls",
      "model_module_version": "1.1.0",
      "model_name": "ToggleButtonsModel",
      "state": {
       "_options_labels": [
        "400 MeV/n",
        "800 MeV/n",
        "1500 MeV/n"
       ],
       "button_style": "",
       "description": "Energy:",
       "icons": [],
       "index": 0,
       "layout": "IPY_MODEL_f6398df354bc4679b689033928f3f329",
       "style": "IPY_MODEL_d552c1b61ca04e5a85526db6807b5d18",
       "tooltips": [
        "lowest energy",
        "middle energy",
        "highest energy"
       ]
      }
     },
     "7459268c60e14cee93a95a83bb9c62cd": {
      "model_module": "@jupyter-widgets/controls",
      "model_module_version": "1.1.0",
      "model_name": "DescriptionStyleModel",
      "state": {
       "description_width": ""
      }
     },
     "74a62dfbb06d4bb8a6ba3f1404f53361": {
      "model_module": "@jupyter-widgets/controls",
      "model_module_version": "1.1.0",
      "model_name": "CheckboxModel",
      "state": {
       "description": "80°",
       "disabled": false,
       "layout": "IPY_MODEL_28c3fe0386cf482fae9099e6ae852596",
       "style": "IPY_MODEL_b3311dbc66674b6daaee1b5cd76ce614",
       "value": true
      }
     },
     "74afdf280b99481c91ec8638fcafbb6c": {
      "model_module": "@jupyter-widgets/controls",
      "model_module_version": "1.1.0",
      "model_name": "DescriptionStyleModel",
      "state": {
       "description_width": ""
      }
     },
     "74b6b5d9bd6f4001bb6cff315454d14d": {
      "model_module": "@jupyter-widgets/controls",
      "model_module_version": "1.1.0",
      "model_name": "LabelModel",
      "state": {
       "layout": "IPY_MODEL_824e7021966a43c2bf175463c7dccf1a",
       "style": "IPY_MODEL_2f0f1b0111db437d8dc6c27d468e6a66",
       "value": "Select which secondary particle to plot spectra for."
      }
     },
     "74e3d297a3dd4837a6940d54ccb2fc04": {
      "model_module": "@jupyter-widgets/controls",
      "model_module_version": "1.1.0",
      "model_name": "DescriptionStyleModel",
      "state": {
       "description_width": ""
      }
     },
     "74ea0dc61073468e9e0226a6ea33f180": {
      "model_module": "@jupyter-widgets/base",
      "model_module_version": "1.0.0",
      "model_name": "LayoutModel",
      "state": {}
     },
     "752f436956fe47a4adbe7186aead7787": {
      "model_module": "@jupyter-widgets/controls",
      "model_module_version": "1.1.0",
      "model_name": "DescriptionStyleModel",
      "state": {
       "description_width": ""
      }
     },
     "75647d063fd343279bf2691272c87b29": {
      "model_module": "@jupyter-widgets/base",
      "model_module_version": "1.0.0",
      "model_name": "LayoutModel",
      "state": {}
     },
     "75704df72b5f482e83d8caa24c07eb4a": {
      "model_module": "@jupyter-widgets/controls",
      "model_module_version": "1.1.0",
      "model_name": "DescriptionStyleModel",
      "state": {
       "description_width": ""
      }
     },
     "75a30c3beb1940bf992f9033eee96e34": {
      "model_module": "@jupyter-widgets/controls",
      "model_module_version": "1.1.0",
      "model_name": "DescriptionStyleModel",
      "state": {
       "description_width": ""
      }
     },
     "75b462689dd34b93816d80b241ce3836": {
      "model_module": "@jupyter-widgets/controls",
      "model_module_version": "1.1.0",
      "model_name": "DescriptionStyleModel",
      "state": {
       "description_width": ""
      }
     },
     "75c02e8a80754bd2b432497f85d747be": {
      "model_module": "@jupyter-widgets/base",
      "model_module_version": "1.0.0",
      "model_name": "LayoutModel",
      "state": {}
     },
     "75cf49c4dab14f3b84f7207de3fb21cd": {
      "model_module": "@jupyter-widgets/controls",
      "model_module_version": "1.1.0",
      "model_name": "CheckboxModel",
      "state": {
       "description": "10°",
       "disabled": false,
       "layout": "IPY_MODEL_11f48d37a535475ca688e0905db3162f",
       "style": "IPY_MODEL_72d50bc804df4ca38022315156eda644",
       "value": true
      }
     },
     "75d2183c47ac4eb8a8ab256a36a9db1d": {
      "model_module": "@jupyter-widgets/controls",
      "model_module_version": "1.1.0",
      "model_name": "DescriptionStyleModel",
      "state": {
       "description_width": ""
      }
     },
     "763c51d9be4c4ae09c6185e631146395": {
      "model_module": "@jupyter-widgets/controls",
      "model_module_version": "1.1.0",
      "model_name": "LabelModel",
      "state": {
       "layout": "IPY_MODEL_1c014d4e1a954966b4781964ef79ab9d",
       "style": "IPY_MODEL_197075fb586e4734965179c897e4f958",
       "value": "Select a detector type."
      }
     },
     "7685285fbaaa496d82510a494b9d0a08": {
      "model_module": "@jupyter-widgets/controls",
      "model_module_version": "1.1.0",
      "model_name": "LabelModel",
      "state": {
       "layout": "IPY_MODEL_116ac127c33a4645b99fbacd4acffcea",
       "style": "IPY_MODEL_b453f597f5f747879bbb7e51d7941077",
       "value": "Select the detector angles to plot."
      }
     },
     "76ae31eb7d5640b8875c43b23fa9160d": {
      "model_module": "@jupyter-widgets/controls",
      "model_module_version": "1.1.0",
      "model_name": "CheckboxModel",
      "state": {
       "description": "135°",
       "disabled": false,
       "layout": "IPY_MODEL_8822a20bc3f94d66ab0dbfabcd77d959",
       "style": "IPY_MODEL_73ade60795d64355b51bcedccc4f3f2c",
       "value": true
      }
     },
     "76dd25d0d7e1441183913f076f0b20a8": {
      "model_module": "@jupyter-widgets/controls",
      "model_module_version": "1.1.0",
      "model_name": "ToggleButtonsModel",
      "state": {
       "_options_labels": [
        "N (¹n)",
        "NDC (¹n)",
        "P (¹H)",
        "D (²H)",
        "T (³H)",
        "S (³He)",
        "A (⁴He)"
       ],
       "button_style": "",
       "description": "Type:",
       "icons": [],
       "index": 0,
       "layout": "IPY_MODEL_a01d9af1cbfb457ca40b4d16191dd9f8",
       "style": "IPY_MODEL_a73ea27787e845ec9d670ffc57d5fe34",
       "tooltips": [
        "Neutron",
        "Back Target Neutron",
        "Proton",
        "Deuteron",
        "Triton",
        "Helium-3",
        "Helium-4"
       ]
      }
     },
     "770ceff503154f0a865b91c4c5f39af8": {
      "model_module": "@jupyter-widgets/base",
      "model_module_version": "1.0.0",
      "model_name": "LayoutModel",
      "state": {}
     },
     "772e5375e9884cc59b06095fd14fa29c": {
      "model_module": "@jupyter-widgets/controls",
      "model_module_version": "1.1.0",
      "model_name": "DescriptionStyleModel",
      "state": {
       "description_width": ""
      }
     },
     "77325e05ad2b433c87a9d5728f7d5981": {
      "model_module": "@jupyter-widgets/base",
      "model_module_version": "1.0.0",
      "model_name": "LayoutModel",
      "state": {}
     },
     "77792603d0cb409aa6a765665db2f609": {
      "model_module": "@jupyter-widgets/controls",
      "model_module_version": "1.1.0",
      "model_name": "CheckboxModel",
      "state": {
       "description": "135°",
       "disabled": false,
       "layout": "IPY_MODEL_7edd62daaafc4fde86cd3bd06b52ead0",
       "style": "IPY_MODEL_486a85212fc74b3c976559e6f202904e",
       "value": true
      }
     },
     "777b6c6ba30941cba126cc00438dd02d": {
      "model_module": "@jupyter-widgets/controls",
      "model_module_version": "1.1.0",
      "model_name": "CheckboxModel",
      "state": {
       "description": "45°",
       "disabled": false,
       "layout": "IPY_MODEL_f7f38f23b33c4fc9bedd89b58ecf6c4c",
       "style": "IPY_MODEL_592d2c0aa7504792bede385126d23000",
       "value": false
      }
     },
     "77a5fc8d2bb44899b412f27dbfc2d0b2": {
      "model_module": "@jupyter-widgets/controls",
      "model_module_version": "1.1.0",
      "model_name": "CheckboxModel",
      "state": {
       "description": "45°",
       "disabled": false,
       "layout": "IPY_MODEL_1954fcd499e84497b4865b733f2fe9a4",
       "style": "IPY_MODEL_b8c1fc0e080f4c32b4e9b22cf32efc54",
       "value": true
      }
     },
     "77df7263787a480793999b2d1bfbd4c8": {
      "model_module": "@jupyter-widgets/controls",
      "model_module_version": "1.1.0",
      "model_name": "DescriptionStyleModel",
      "state": {
       "description_width": ""
      }
     },
     "77e5cab77d8e412a837ede5657f7cae9": {
      "model_module": "@jupyter-widgets/base",
      "model_module_version": "1.0.0",
      "model_name": "LayoutModel",
      "state": {}
     },
     "77f0a240fb514069b6c89a150a7abac9": {
      "model_module": "@jupyter-widgets/controls",
      "model_module_version": "1.1.0",
      "model_name": "ToggleButtonsStyleModel",
      "state": {
       "button_width": "",
       "description_width": ""
      }
     },
     "781aaddf039d4c1fb96c9e97b02b4a98": {
      "model_module": "@jupyter-widgets/controls",
      "model_module_version": "1.1.0",
      "model_name": "LabelModel",
      "state": {
       "layout": "IPY_MODEL_ab51b1419f7546d9adedc7d98370b3be",
       "style": "IPY_MODEL_ac9577885a6643f3acdf6df98032a935",
       "value": "Select which secondary particle to plot spectra for."
      }
     },
     "782b9bfbb81b460284294695228ba7de": {
      "model_module": "@jupyter-widgets/controls",
      "model_module_version": "1.1.0",
      "model_name": "DescriptionStyleModel",
      "state": {
       "description_width": ""
      }
     },
     "782f50c4fba44e5797352f1f889b2404": {
      "model_module": "@jupyter-widgets/controls",
      "model_module_version": "1.1.0",
      "model_name": "CheckboxModel",
      "state": {
       "description": "30°",
       "disabled": false,
       "layout": "IPY_MODEL_90d0ad0b2cd144658a89409c7d844d9d",
       "style": "IPY_MODEL_d3c2d5b482364a8388e43e20541a6253",
       "value": true
      }
     },
     "782f8c48e0e94ab9987ffa22d3cd04eb": {
      "model_module": "@jupyter-widgets/controls",
      "model_module_version": "1.1.0",
      "model_name": "DescriptionStyleModel",
      "state": {
       "description_width": ""
      }
     },
     "785390cd756d49a19e9964c3010cb559": {
      "model_module": "@jupyter-widgets/base",
      "model_module_version": "1.0.0",
      "model_name": "LayoutModel",
      "state": {}
     },
     "7875ecdeb20f48b79e1db2aab5fe21d6": {
      "model_module": "@jupyter-widgets/controls",
      "model_module_version": "1.1.0",
      "model_name": "ToggleButtonsModel",
      "state": {
       "_options_labels": [
        "N (¹n)",
        "NDC (¹n)",
        "P (¹H)",
        "D (²H)",
        "T (³H)",
        "S (³He)",
        "A (⁴He)"
       ],
       "button_style": "",
       "description": "Particle:",
       "icons": [],
       "index": 1,
       "layout": "IPY_MODEL_b7d90552fa1a42b7b0e7aee76ca65e5f",
       "style": "IPY_MODEL_18ec9503a0314fdfb4fd82944a091077",
       "tooltips": [
        "Neutron",
        "Back Target Neutron",
        "Proton",
        "Deuteron",
        "Triton",
        "Helium-3",
        "Helium-4"
       ]
      }
     },
     "790ea7929fa54d4992b2693b6c88b714": {
      "model_module": "@jupyter-widgets/controls",
      "model_module_version": "1.1.0",
      "model_name": "LabelModel",
      "state": {
       "layout": "IPY_MODEL_9eba4cf6274048188693b18ae48e4e52",
       "style": "IPY_MODEL_deef3cc23c9e47b1a27184acabc313ff",
       "value": "Select which secondary particle to plot spectra for."
      }
     },
     "7a207b3f9e534394bfd8e158d669b063": {
      "model_module": "@jupyter-widgets/base",
      "model_module_version": "1.0.0",
      "model_name": "LayoutModel",
      "state": {}
     },
     "7a2ce427dc1c456da7309111a2b59ea4": {
      "model_module": "@jupyter-widgets/controls",
      "model_module_version": "1.1.0",
      "model_name": "LabelModel",
      "state": {
       "layout": "IPY_MODEL_daa1eb14b20f48a5a9aba4450376ed13",
       "style": "IPY_MODEL_caa204e113d1449080e1c516dedcc235",
       "value": "Select which secondary particle to plot spectra for."
      }
     },
     "7a41df7279be47f19ff549ed07da1077": {
      "model_module": "@jupyter-widgets/controls",
      "model_module_version": "1.1.0",
      "model_name": "DescriptionStyleModel",
      "state": {
       "description_width": ""
      }
     },
     "7a606f3c1ab14cb9839909e63914dd28": {
      "model_module": "@jupyter-widgets/base",
      "model_module_version": "1.0.0",
      "model_name": "LayoutModel",
      "state": {}
     },
     "7a60d2682c3349b0b202edf010c6c96c": {
      "model_module": "@jupyter-widgets/base",
      "model_module_version": "1.0.0",
      "model_name": "LayoutModel",
      "state": {}
     },
     "7a7ba5dbc4044b0fa55b390b45f1c3b3": {
      "model_module": "@jupyter-widgets/controls",
      "model_module_version": "1.1.0",
      "model_name": "DescriptionStyleModel",
      "state": {
       "description_width": ""
      }
     },
     "7ac59b7eca6641c8bcb498673e9b27bd": {
      "model_module": "@jupyter-widgets/base",
      "model_module_version": "1.0.0",
      "model_name": "LayoutModel",
      "state": {}
     },
     "7adde8f3afc7478e95f52a5ba89da941": {
      "model_module": "@jupyter-widgets/controls",
      "model_module_version": "1.1.0",
      "model_name": "DescriptionStyleModel",
      "state": {
       "description_width": ""
      }
     },
     "7af51936891d4c43b32e0c844abbed7b": {
      "model_module": "@jupyter-widgets/controls",
      "model_module_version": "1.1.0",
      "model_name": "LabelModel",
      "state": {
       "layout": "IPY_MODEL_52c16dd828a84e3c93385fd475420794",
       "style": "IPY_MODEL_a6e4e615cf024c96b0b19a74e84d6cef",
       "value": "Select which secondary particle to plot spectra for."
      }
     },
     "7b02a5288922431db259df2fe6b48f66": {
      "model_module": "@jupyter-widgets/base",
      "model_module_version": "1.0.0",
      "model_name": "LayoutModel",
      "state": {}
     },
     "7b0520fc4f674c48beda1fd2174f737c": {
      "model_module": "@jupyter-widgets/controls",
      "model_module_version": "1.1.0",
      "model_name": "DescriptionStyleModel",
      "state": {
       "description_width": ""
      }
     },
     "7b3e842f80114890b82b120bf12a2673": {
      "model_module": "@jupyter-widgets/controls",
      "model_module_version": "1.1.0",
      "model_name": "DescriptionStyleModel",
      "state": {
       "description_width": ""
      }
     },
     "7b49faf0031b4bbd8bcfec5944e74490": {
      "model_module": "@jupyter-widgets/controls",
      "model_module_version": "1.1.0",
      "model_name": "DescriptionStyleModel",
      "state": {
       "description_width": ""
      }
     },
     "7b785eb9dea24458a4d1ac57bbfbe2fc": {
      "model_module": "@jupyter-widgets/controls",
      "model_module_version": "1.1.0",
      "model_name": "DescriptionStyleModel",
      "state": {
       "description_width": ""
      }
     },
     "7bad699392d842d3b757e4dbfb597dc1": {
      "model_module": "@jupyter-widgets/controls",
      "model_module_version": "1.1.0",
      "model_name": "CheckboxModel",
      "state": {
       "description": "30°",
       "disabled": false,
       "layout": "IPY_MODEL_090598d5c0c24f1f90f63baa520df67a",
       "style": "IPY_MODEL_5f81c44e3d4f4848891cd99623046fe3",
       "value": true
      }
     },
     "7bc3fbb9ab3f45348de818119b4edb4a": {
      "model_module": "@jupyter-widgets/controls",
      "model_module_version": "1.1.0",
      "model_name": "DescriptionStyleModel",
      "state": {
       "description_width": ""
      }
     },
     "7bd08e09b235419884b9026c8318d57b": {
      "model_module": "@jupyter-widgets/base",
      "model_module_version": "1.0.0",
      "model_name": "LayoutModel",
      "state": {}
     },
     "7bd7ac599ac74a43b9d70028a1cfbf6b": {
      "model_module": "@jupyter-widgets/base",
      "model_module_version": "1.0.0",
      "model_name": "LayoutModel",
      "state": {}
     },
     "7c43f2d5b3524a36bebde9aaefaf52eb": {
      "model_module": "@jupyter-widgets/controls",
      "model_module_version": "1.1.0",
      "model_name": "CheckboxModel",
      "state": {
       "description": "80°",
       "disabled": false,
       "layout": "IPY_MODEL_d380f760dcf04c08bc4b7e227caf8416",
       "style": "IPY_MODEL_8ec9509eb399439fb841e212539d7916",
       "value": true
      }
     },
     "7c8840e84d034bf79f54e73f4acdb1c8": {
      "model_module": "@jupyter-widgets/controls",
      "model_module_version": "1.1.0",
      "model_name": "CheckboxModel",
      "state": {
       "description": "30°",
       "disabled": false,
       "layout": "IPY_MODEL_6043f70a44fd4a4ab3da05f2351f5d16",
       "style": "IPY_MODEL_782b9bfbb81b460284294695228ba7de",
       "value": true
      }
     },
     "7cb91ccf4d284053ad9237a1ec68b134": {
      "model_module": "@jupyter-widgets/controls",
      "model_module_version": "1.1.0",
      "model_name": "LabelModel",
      "state": {
       "layout": "IPY_MODEL_b34c0b45a9364bf4a77dbe00b1b856bf",
       "style": "IPY_MODEL_10b4f99509df485689b185a6e77913a5",
       "value": "Select the detector angles to plot."
      }
     },
     "7cebe4c1a6574ff6880871b9e8a9045c": {
      "model_module": "@jupyter-widgets/controls",
      "model_module_version": "1.1.0",
      "model_name": "ToggleButtonsModel",
      "state": {
       "_options_labels": [
        "400 MeV",
        "800 MeV",
        "2500 MeV"
       ],
       "button_style": "",
       "description": "Energy:",
       "icons": [],
       "index": 0,
       "layout": "IPY_MODEL_f3b020ca5d8f4d98bd0f82640535936e",
       "style": "IPY_MODEL_ab08f3b531ee4b92bbbe6ee1c754c252",
       "tooltips": [
        "lowest energy",
        "middle energy",
        "highest energy"
       ]
      }
     },
     "7d315670ef4f4b77a3c4bdbb3d99313c": {
      "model_module": "@jupyter-widgets/controls",
      "model_module_version": "1.1.0",
      "model_name": "ToggleButtonsStyleModel",
      "state": {
       "button_width": "",
       "description_width": ""
      }
     },
     "7d5da29f61a44934bf2ea94bc7ee10bd": {
      "model_module": "@jupyter-widgets/controls",
      "model_module_version": "1.1.0",
      "model_name": "CheckboxModel",
      "state": {
       "description": "10°",
       "disabled": false,
       "layout": "IPY_MODEL_a08b30dbe8df48e1b9b7d32efe18f57e",
       "style": "IPY_MODEL_3057daa3aeee4dd19e0ef7f89f0cf16c",
       "value": true
      }
     },
     "7d80945944f749c38f55ca99a4d8e702": {
      "model_module": "@jupyter-widgets/controls",
      "model_module_version": "1.1.0",
      "model_name": "DescriptionStyleModel",
      "state": {
       "description_width": ""
      }
     },
     "7d96e7efeee54fd8a36c0a044393d5b5": {
      "model_module": "@jupyter-widgets/controls",
      "model_module_version": "1.1.0",
      "model_name": "DescriptionStyleModel",
      "state": {
       "description_width": ""
      }
     },
     "7db1c715c27c426f9a9b3a5820d79b0c": {
      "model_module": "@jupyter-widgets/base",
      "model_module_version": "1.0.0",
      "model_name": "LayoutModel",
      "state": {}
     },
     "7de9b198346d4da2990ea6970b256c36": {
      "model_module": "@jupyter-widgets/base",
      "model_module_version": "1.0.0",
      "model_name": "LayoutModel",
      "state": {}
     },
     "7df21e8d5f964ee6940895fc16107d6f": {
      "model_module": "@jupyter-widgets/base",
      "model_module_version": "1.0.0",
      "model_name": "LayoutModel",
      "state": {}
     },
     "7e2371361e60439b81f3c95a4c29b3b7": {
      "model_module": "@jupyter-widgets/controls",
      "model_module_version": "1.1.0",
      "model_name": "ToggleButtonsStyleModel",
      "state": {
       "button_width": "",
       "description_width": ""
      }
     },
     "7e75049786dd41599baa59cfbe1fc39b": {
      "model_module": "@jupyter-widgets/base",
      "model_module_version": "1.0.0",
      "model_name": "LayoutModel",
      "state": {}
     },
     "7e8f437c1a4f4cb2a43386174f683062": {
      "model_module": "@jupyter-widgets/controls",
      "model_module_version": "1.1.0",
      "model_name": "ButtonStyleModel",
      "state": {}
     },
     "7ea5137a008f4bbeb1cf1b1fb8b59231": {
      "model_module": "@jupyter-widgets/controls",
      "model_module_version": "1.1.0",
      "model_name": "LabelModel",
      "state": {
       "layout": "IPY_MODEL_0070d4f6780e40d6b962f1dfc9e13934",
       "style": "IPY_MODEL_bae7a6f7fe1a4131a2844ed828976a30",
       "value": "Select projectile ion energy."
      }
     },
     "7eb4d549ff354d1d97bf02337d3d4441": {
      "model_module": "@jupyter-widgets/base",
      "model_module_version": "1.0.0",
      "model_name": "LayoutModel",
      "state": {}
     },
     "7eb78729568f4494b7bae7e61224211a": {
      "model_module": "@jupyter-widgets/controls",
      "model_module_version": "1.1.0",
      "model_name": "DescriptionStyleModel",
      "state": {
       "description_width": ""
      }
     },
     "7ece3efc3e354dbfafc81f8f5768649d": {
      "model_module": "@jupyter-widgets/base",
      "model_module_version": "1.0.0",
      "model_name": "LayoutModel",
      "state": {}
     },
     "7ed71805849a4f218564899a9ad4f788": {
      "model_module": "@jupyter-widgets/base",
      "model_module_version": "1.0.0",
      "model_name": "LayoutModel",
      "state": {}
     },
     "7edd62daaafc4fde86cd3bd06b52ead0": {
      "model_module": "@jupyter-widgets/base",
      "model_module_version": "1.0.0",
      "model_name": "LayoutModel",
      "state": {}
     },
     "7f0241e1d61d443d945055442dd2c9ac": {
      "model_module": "@jupyter-widgets/controls",
      "model_module_version": "1.1.0",
      "model_name": "LabelModel",
      "state": {
       "layout": "IPY_MODEL_e5de52a649a44006a5e4cb9bac808b33",
       "style": "IPY_MODEL_114b096c8d2849e88380a0216538768e",
       "value": "Select which secondary particle to plot spectra for."
      }
     },
     "7f3291f11caf4a628d72ab41a793e5c1": {
      "model_module": "@jupyter-widgets/controls",
      "model_module_version": "1.1.0",
      "model_name": "CheckboxModel",
      "state": {
       "description": "45°",
       "disabled": false,
       "layout": "IPY_MODEL_db23ea9742d24a9eb53dca9df0670822",
       "style": "IPY_MODEL_cfd89952bf0f4bc58f55bb5e034a9751",
       "value": false
      }
     },
     "7f4e7685ff92449696edc9899475e79a": {
      "model_module": "@jupyter-widgets/controls",
      "model_module_version": "1.1.0",
      "model_name": "ToggleButtonsStyleModel",
      "state": {
       "button_width": "",
       "description_width": ""
      }
     },
     "7f6a97e5fbe24a3c9cbbb57009b519b5": {
      "model_module": "@jupyter-widgets/base",
      "model_module_version": "1.0.0",
      "model_name": "LayoutModel",
      "state": {}
     },
     "7fda445d7820403baadc8a73574b6efa": {
      "model_module": "@jupyter-widgets/controls",
      "model_module_version": "1.1.0",
      "model_name": "DescriptionStyleModel",
      "state": {
       "description_width": ""
      }
     },
     "7fe93f0e92f445f2b9eb26c37bb33e12": {
      "model_module": "@jupyter-widgets/controls",
      "model_module_version": "1.1.0",
      "model_name": "DescriptionStyleModel",
      "state": {
       "description_width": ""
      }
     },
     "7fee16546f4e4ce698bb3676bbfe16a6": {
      "model_module": "@jupyter-widgets/base",
      "model_module_version": "1.0.0",
      "model_name": "LayoutModel",
      "state": {}
     },
     "80283625d8bf4c69b8c889786437052f": {
      "model_module": "@jupyter-widgets/base",
      "model_module_version": "1.0.0",
      "model_name": "LayoutModel",
      "state": {}
     },
     "806a3c65ff964a2982d166fcff8bb411": {
      "model_module": "@jupyter-widgets/controls",
      "model_module_version": "1.1.0",
      "model_name": "ButtonStyleModel",
      "state": {}
     },
     "807ae0ee6a3e486aa3da11e93793c20d": {
      "model_module": "@jupyter-widgets/controls",
      "model_module_version": "1.1.0",
      "model_name": "ToggleButtonsModel",
      "state": {
       "_options_labels": [
        "400 MeV/n",
        "800 MeV/n",
        "1500 MeV/n"
       ],
       "button_style": "",
       "description": "Energy:",
       "icons": [],
       "index": 0,
       "layout": "IPY_MODEL_d37cc067f1304cf2bc31222f899ce506",
       "style": "IPY_MODEL_83ecc67c12c3465fb7265072610ef8c1",
       "tooltips": [
        "lowest energy",
        "middle energy",
        "highest energy"
       ]
      }
     },
     "81425f7945044f9dacb6d4144985be36": {
      "model_module": "@jupyter-widgets/base",
      "model_module_version": "1.0.0",
      "model_name": "LayoutModel",
      "state": {}
     },
     "8177f473e8f641b79269f0ae8dd689c0": {
      "model_module": "@jupyter-widgets/controls",
      "model_module_version": "1.1.0",
      "model_name": "LabelModel",
      "state": {
       "layout": "IPY_MODEL_cab1869c6d1a4ab0bb065fd99a0140ad",
       "style": "IPY_MODEL_604b16220d6048ea886bfe88261bdf85",
       "value": "Select the detector angles to plot."
      }
     },
     "818e25e4cb0b4fec929f25ceebdb701b": {
      "model_module": "@jupyter-widgets/controls",
      "model_module_version": "1.1.0",
      "model_name": "ToggleButtonsStyleModel",
      "state": {
       "button_width": "",
       "description_width": ""
      }
     },
     "81becc4e02154e5988583dc8e548ffe7": {
      "model_module": "@jupyter-widgets/controls",
      "model_module_version": "1.1.0",
      "model_name": "CheckboxModel",
      "state": {
       "description": "80°",
       "disabled": false,
       "layout": "IPY_MODEL_1bbba88cc5794cd1ad6b502097c723e9",
       "style": "IPY_MODEL_883d12cde93144b8aacc6b532828c93c",
       "value": true
      }
     },
     "81e8aa979cf448faa0b4652b1370aebf": {
      "model_module": "@jupyter-widgets/controls",
      "model_module_version": "1.1.0",
      "model_name": "LabelModel",
      "state": {
       "layout": "IPY_MODEL_44d3c41f87914e6faf2379147d847721",
       "style": "IPY_MODEL_ee9bc543bebf4a9d802fb91e73d1002f",
       "value": "Select the detector angles to plot."
      }
     },
     "820dfd5d872b4d25b9c5ff1f806a7c09": {
      "model_module": "@jupyter-widgets/base",
      "model_module_version": "1.0.0",
      "model_name": "LayoutModel",
      "state": {}
     },
     "823ff30f4d3648aca3a0c04c4d588ac5": {
      "model_module": "@jupyter-widgets/base",
      "model_module_version": "1.0.0",
      "model_name": "LayoutModel",
      "state": {}
     },
     "824e7021966a43c2bf175463c7dccf1a": {
      "model_module": "@jupyter-widgets/base",
      "model_module_version": "1.0.0",
      "model_name": "LayoutModel",
      "state": {}
     },
     "827c1636df9f4da3b9e26740c6b7ea19": {
      "model_module": "@jupyter-widgets/controls",
      "model_module_version": "1.1.0",
      "model_name": "ToggleButtonsStyleModel",
      "state": {
       "button_width": "",
       "description_width": ""
      }
     },
     "82f4562ddb4f464a84af5973022cc115": {
      "model_module": "@jupyter-widgets/base",
      "model_module_version": "1.0.0",
      "model_name": "LayoutModel",
      "state": {}
     },
     "82fdb15c3b674b6292666eda2a30a34b": {
      "model_module": "@jupyter-widgets/controls",
      "model_module_version": "1.1.0",
      "model_name": "DescriptionStyleModel",
      "state": {
       "description_width": ""
      }
     },
     "8343888407d44945ae56701f2e2d6087": {
      "model_module": "@jupyter-widgets/base",
      "model_module_version": "1.0.0",
      "model_name": "LayoutModel",
      "state": {}
     },
     "834837e439a34d1fa4c89cc1e7e18944": {
      "model_module": "@jupyter-widgets/controls",
      "model_module_version": "1.1.0",
      "model_name": "DescriptionStyleModel",
      "state": {
       "description_width": ""
      }
     },
     "8357b76f17874ba08f6bdb034c92d17c": {
      "model_module": "@jupyter-widgets/controls",
      "model_module_version": "1.1.0",
      "model_name": "CheckboxModel",
      "state": {
       "description": "30°",
       "disabled": false,
       "layout": "IPY_MODEL_b6afb6b7e2334252b59396dc1689c01a",
       "style": "IPY_MODEL_6301ab8a9251463b9ae21da49e69bd8c",
       "value": true
      }
     },
     "835d7d9788b141e0a8c4c72567a0dbba": {
      "model_module": "@jupyter-widgets/controls",
      "model_module_version": "1.1.0",
      "model_name": "CheckboxModel",
      "state": {
       "description": "135°",
       "disabled": false,
       "layout": "IPY_MODEL_156f2356d2f34394bd0ef2bbc9f4c5b0",
       "style": "IPY_MODEL_d31cfd5f4c5f4ce290a396164e3ede08",
       "value": true
      }
     },
     "8379ac78c8d5412a85b9e64f7b08a6f1": {
      "model_module": "@jupyter-widgets/controls",
      "model_module_version": "1.1.0",
      "model_name": "DescriptionStyleModel",
      "state": {
       "description_width": ""
      }
     },
     "83da75659ac840289928e9f49a3879c0": {
      "model_module": "@jupyter-widgets/controls",
      "model_module_version": "1.1.0",
      "model_name": "LabelModel",
      "state": {
       "layout": "IPY_MODEL_b430db24d0cc4ea682e31554dad28dba",
       "style": "IPY_MODEL_7eb78729568f4494b7bae7e61224211a",
       "value": "Select a detector type."
      }
     },
     "83ecc67c12c3465fb7265072610ef8c1": {
      "model_module": "@jupyter-widgets/controls",
      "model_module_version": "1.1.0",
      "model_name": "ToggleButtonsStyleModel",
      "state": {
       "button_width": "",
       "description_width": ""
      }
     },
     "840cc699269c453caf5255b94c01977e": {
      "model_module": "@jupyter-widgets/controls",
      "model_module_version": "1.1.0",
      "model_name": "DescriptionStyleModel",
      "state": {
       "description_width": ""
      }
     },
     "8457014aa34643e0a25eff2ec3f6e208": {
      "model_module": "@jupyter-widgets/controls",
      "model_module_version": "1.1.0",
      "model_name": "DescriptionStyleModel",
      "state": {
       "description_width": ""
      }
     },
     "846897d5be034873bc66dd9153ee457a": {
      "model_module": "@jupyter-widgets/controls",
      "model_module_version": "1.1.0",
      "model_name": "DescriptionStyleModel",
      "state": {
       "description_width": ""
      }
     },
     "84775fd52f4349bfb087eae261842288": {
      "model_module": "@jupyter-widgets/base",
      "model_module_version": "1.0.0",
      "model_name": "LayoutModel",
      "state": {}
     },
     "8477bf0938fe492299303381dfe3f762": {
      "model_module": "@jupyter-widgets/controls",
      "model_module_version": "1.1.0",
      "model_name": "DescriptionStyleModel",
      "state": {
       "description_width": ""
      }
     },
     "84966235c9f94f55bd3807f3ac243f7c": {
      "model_module": "@jupyter-widgets/base",
      "model_module_version": "1.0.0",
      "model_name": "LayoutModel",
      "state": {}
     },
     "849807397d89425fb0fc2d9642622f81": {
      "model_module": "@jupyter-widgets/controls",
      "model_module_version": "1.1.0",
      "model_name": "CheckboxModel",
      "state": {
       "description": "80°",
       "disabled": false,
       "layout": "IPY_MODEL_8842f6d0a5a0491caa3de1c702a30d3b",
       "style": "IPY_MODEL_be7c1d76834143be9f8d17152e78cf48",
       "value": true
      }
     },
     "849c532214cc497bb60d08a05f612cf5": {
      "model_module": "@jupyter-widgets/controls",
      "model_module_version": "1.1.0",
      "model_name": "DescriptionStyleModel",
      "state": {
       "description_width": ""
      }
     },
     "84bb49288518474f8493046eb8864d73": {
      "model_module": "@jupyter-widgets/controls",
      "model_module_version": "1.1.0",
      "model_name": "DescriptionStyleModel",
      "state": {
       "description_width": ""
      }
     },
     "84dfdf7825024918a2f24ccbc66d7913": {
      "model_module": "@jupyter-widgets/controls",
      "model_module_version": "1.1.0",
      "model_name": "CheckboxModel",
      "state": {
       "description": "12.7°",
       "disabled": false,
       "layout": "IPY_MODEL_20aad4b157da4f91bcbe7e43af14ce8c",
       "style": "IPY_MODEL_8379ac78c8d5412a85b9e64f7b08a6f1",
       "value": true
      }
     },
     "84e53c0a403b446f8596a153fde52f6a": {
      "model_module": "@jupyter-widgets/controls",
      "model_module_version": "1.1.0",
      "model_name": "DescriptionStyleModel",
      "state": {
       "description_width": ""
      }
     },
     "851d0803bb734f5cb54c8d637c457fd7": {
      "model_module": "@jupyter-widgets/base",
      "model_module_version": "1.0.0",
      "model_name": "LayoutModel",
      "state": {}
     },
     "8525d04351b346d6849bdfd4e5df9061": {
      "model_module": "@jupyter-widgets/controls",
      "model_module_version": "1.1.0",
      "model_name": "CheckboxModel",
      "state": {
       "description": "30°",
       "disabled": false,
       "layout": "IPY_MODEL_c15c7534a6b2413885d8a67c1a50e638",
       "style": "IPY_MODEL_68ea0c8040b549ddbf28ba9ea85eccfa",
       "value": true
      }
     },
     "8560a6f02b604d1bb2516e19618938a6": {
      "model_module": "@jupyter-widgets/controls",
      "model_module_version": "1.1.0",
      "model_name": "DescriptionStyleModel",
      "state": {
       "description_width": ""
      }
     },
     "858ff6cb153941629070dce3e8eab120": {
      "model_module": "@jupyter-widgets/base",
      "model_module_version": "1.0.0",
      "model_name": "LayoutModel",
      "state": {}
     },
     "85a02b30514244aaaf4f8a6d2a2c855b": {
      "model_module": "@jupyter-widgets/controls",
      "model_module_version": "1.1.0",
      "model_name": "DescriptionStyleModel",
      "state": {
       "description_width": ""
      }
     },
     "85abee9894c242df832fed752adf6975": {
      "model_module": "@jupyter-widgets/controls",
      "model_module_version": "1.1.0",
      "model_name": "CheckboxModel",
      "state": {
       "description": "30°",
       "disabled": false,
       "layout": "IPY_MODEL_71a09e2397ff40e9a0688a8973dcf554",
       "style": "IPY_MODEL_1acc6d4d97c0434783d57bd31fb7a9e1",
       "value": true
      }
     },
     "85f344bca2d2496c920f8d78b4cd6a77": {
      "model_module": "@jupyter-widgets/base",
      "model_module_version": "1.0.0",
      "model_name": "LayoutModel",
      "state": {}
     },
     "86238e72635d4f7cad9efa91d7a2965f": {
      "model_module": "@jupyter-widgets/controls",
      "model_module_version": "1.1.0",
      "model_name": "CheckboxModel",
      "state": {
       "description": "PHITS simulated",
       "disabled": false,
       "layout": "IPY_MODEL_62c0dff630c54a339359f4468590031f",
       "style": "IPY_MODEL_2fcfc7521e804977b7d8840c05e78ec0",
       "value": true
      }
     },
     "863893332e2e4a1ea3beeeb0e14183ca": {
      "model_module": "@jupyter-widgets/base",
      "model_module_version": "1.0.0",
      "model_name": "LayoutModel",
      "state": {}
     },
     "865a726d61fa47a29ff1bf6ab3cbb3c4": {
      "model_module": "@jupyter-widgets/controls",
      "model_module_version": "1.1.0",
      "model_name": "ToggleButtonsStyleModel",
      "state": {
       "button_width": "",
       "description_width": ""
      }
     },
     "868daa6a513c4483b385e724afc38db6": {
      "model_module": "@jupyter-widgets/base",
      "model_module_version": "1.0.0",
      "model_name": "LayoutModel",
      "state": {}
     },
     "86a57d3d44574ca59515581038955997": {
      "model_module": "@jupyter-widgets/controls",
      "model_module_version": "1.1.0",
      "model_name": "DescriptionStyleModel",
      "state": {
       "description_width": ""
      }
     },
     "86ed2da1ad2640358387caa4b333ce6a": {
      "model_module": "@jupyter-widgets/controls",
      "model_module_version": "1.1.0",
      "model_name": "CheckboxModel",
      "state": {
       "description": "60°",
       "disabled": false,
       "layout": "IPY_MODEL_0ebc3162b4da49f3a6d4f7aa043c52d9",
       "style": "IPY_MODEL_01cfdf7a65f047b8a4c617630919767c",
       "value": true
      }
     },
     "879adfc53a3c462a9c3d51cf55c1adbe": {
      "model_module": "@jupyter-widgets/base",
      "model_module_version": "1.0.0",
      "model_name": "LayoutModel",
      "state": {}
     },
     "87b03a1bc88941419b080527b7fd800c": {
      "model_module": "@jupyter-widgets/base",
      "model_module_version": "1.0.0",
      "model_name": "LayoutModel",
      "state": {}
     },
     "87b2e69948374bef9d1952c9e4a06f02": {
      "model_module": "@jupyter-widgets/base",
      "model_module_version": "1.0.0",
      "model_name": "LayoutModel",
      "state": {}
     },
     "87c459b78b604640909d7f732feb1b01": {
      "model_module": "@jupyter-widgets/base",
      "model_module_version": "1.0.0",
      "model_name": "LayoutModel",
      "state": {}
     },
     "87e57776ce1f4fd38470996dfe8cf8a5": {
      "model_module": "@jupyter-widgets/controls",
      "model_module_version": "1.1.0",
      "model_name": "DescriptionStyleModel",
      "state": {
       "description_width": ""
      }
     },
     "87e9155972b8434b99ed4584a1a99d02": {
      "model_module": "@jupyter-widgets/controls",
      "model_module_version": "1.1.0",
      "model_name": "DescriptionStyleModel",
      "state": {
       "description_width": ""
      }
     },
     "87f9d71af0c142c7b5caf8e56b9b61ca": {
      "model_module": "@jupyter-widgets/base",
      "model_module_version": "1.0.0",
      "model_name": "LayoutModel",
      "state": {}
     },
     "8822a20bc3f94d66ab0dbfabcd77d959": {
      "model_module": "@jupyter-widgets/base",
      "model_module_version": "1.0.0",
      "model_name": "LayoutModel",
      "state": {}
     },
     "883d12cde93144b8aacc6b532828c93c": {
      "model_module": "@jupyter-widgets/controls",
      "model_module_version": "1.1.0",
      "model_name": "DescriptionStyleModel",
      "state": {
       "description_width": ""
      }
     },
     "8842f6d0a5a0491caa3de1c702a30d3b": {
      "model_module": "@jupyter-widgets/base",
      "model_module_version": "1.0.0",
      "model_name": "LayoutModel",
      "state": {}
     },
     "884bb46f7a954ce38ebb5635c40a21d2": {
      "model_module": "@jupyter-widgets/controls",
      "model_module_version": "1.1.0",
      "model_name": "DescriptionStyleModel",
      "state": {
       "description_width": ""
      }
     },
     "8872a1a9dadf4cab9a7f77f2ceab455d": {
      "model_module": "@jupyter-widgets/controls",
      "model_module_version": "1.1.0",
      "model_name": "DescriptionStyleModel",
      "state": {
       "description_width": ""
      }
     },
     "88b9e2d96d2b4c85b34b1b94c3341b79": {
      "model_module": "@jupyter-widgets/controls",
      "model_module_version": "1.1.0",
      "model_name": "DescriptionStyleModel",
      "state": {
       "description_width": ""
      }
     },
     "88badcd0a32141a2ab5db6a4c4d052f2": {
      "model_module": "@jupyter-widgets/controls",
      "model_module_version": "1.1.0",
      "model_name": "ToggleButtonsModel",
      "state": {
       "_options_labels": [
        "N (¹n)",
        "NDC (¹n)",
        "P (¹H)",
        "D (²H)"
       ],
       "button_style": "",
       "description": "Particle:",
       "icons": [],
       "index": 0,
       "layout": "IPY_MODEL_a4943de1efff43359180753e2490e53e",
       "style": "IPY_MODEL_6edb3e911d44441787d5be281679c7dd",
       "tooltips": [
        "Neutron",
        "Back Target Neutron",
        "Proton",
        "Deuteron"
       ]
      }
     },
     "88c16b0b83314b6692444ec6c22caa7f": {
      "model_module": "@jupyter-widgets/base",
      "model_module_version": "1.0.0",
      "model_name": "LayoutModel",
      "state": {}
     },
     "88cc195b5f6e4901bf6a0871b8ac57ab": {
      "model_module": "@jupyter-widgets/controls",
      "model_module_version": "1.1.0",
      "model_name": "DescriptionStyleModel",
      "state": {
       "description_width": ""
      }
     },
     "88cfa02151b34707990f8b6da4262858": {
      "model_module": "@jupyter-widgets/base",
      "model_module_version": "1.0.0",
      "model_name": "LayoutModel",
      "state": {}
     },
     "88ec45f597ab4cb1bda495f8be2aab17": {
      "model_module": "@jupyter-widgets/controls",
      "model_module_version": "1.1.0",
      "model_name": "LabelModel",
      "state": {
       "layout": "IPY_MODEL_f5ba8d79d7ac4a828e421fac15ac3d7a",
       "style": "IPY_MODEL_bf33cefc9a6c478fadc7163128193859",
       "value": "Select upstream target mass thickness."
      }
     },
     "8916808f573642e7a06afcd05d759af7": {
      "model_module": "@jupyter-widgets/controls",
      "model_module_version": "1.1.0",
      "model_name": "ToggleButtonsStyleModel",
      "state": {
       "button_width": "",
       "description_width": ""
      }
     },
     "89466c02b68748f8a436e8f91ceaa1c8": {
      "model_module": "@jupyter-widgets/controls",
      "model_module_version": "1.1.0",
      "model_name": "DescriptionStyleModel",
      "state": {
       "description_width": ""
      }
     },
     "895dda77f3cb4de99e970f760d35c69c": {
      "model_module": "@jupyter-widgets/controls",
      "model_module_version": "1.1.0",
      "model_name": "LabelModel",
      "state": {
       "layout": "IPY_MODEL_f46e27ea0a14453184f192527874afb7",
       "style": "IPY_MODEL_4b395f57c6674e77b411277989eacd52",
       "value": "Select which secondary particle to plot spectra for."
      }
     },
     "89ba51ac47ff491199111cd3336fdf93": {
      "model_module": "@jupyter-widgets/controls",
      "model_module_version": "1.1.0",
      "model_name": "DescriptionStyleModel",
      "state": {
       "description_width": ""
      }
     },
     "89d72556cc82438b93784ed100e9f5fc": {
      "model_module": "@jupyter-widgets/base",
      "model_module_version": "1.0.0",
      "model_name": "LayoutModel",
      "state": {}
     },
     "89eda586ef094d9e9d2cbe3f9c364b32": {
      "model_module": "@jupyter-widgets/controls",
      "model_module_version": "1.1.0",
      "model_name": "DescriptionStyleModel",
      "state": {
       "description_width": ""
      }
     },
     "8a3b8c64c63d4cc69d1a3a9b9f3d1edb": {
      "model_module": "@jupyter-widgets/controls",
      "model_module_version": "1.1.0",
      "model_name": "DescriptionStyleModel",
      "state": {
       "description_width": ""
      }
     },
     "8a8a3c66e387487d94d40df8daf3abec": {
      "model_module": "@jupyter-widgets/controls",
      "model_module_version": "1.1.0",
      "model_name": "ToggleButtonsStyleModel",
      "state": {
       "button_width": "",
       "description_width": ""
      }
     },
     "8b0eefb472c1489c9499bfca2575e77e": {
      "model_module": "@jupyter-widgets/base",
      "model_module_version": "1.0.0",
      "model_name": "LayoutModel",
      "state": {}
     },
     "8b392c0326854e5f93df8f993af5595f": {
      "model_module": "@jupyter-widgets/base",
      "model_module_version": "1.0.0",
      "model_name": "LayoutModel",
      "state": {}
     },
     "8b54b65353c24895a98b93779b430b43": {
      "model_module": "@jupyter-widgets/base",
      "model_module_version": "1.0.0",
      "model_name": "LayoutModel",
      "state": {}
     },
     "8b743d4952b248f7a36eb844c64b0788": {
      "model_module": "@jupyter-widgets/controls",
      "model_module_version": "1.1.0",
      "model_name": "DescriptionStyleModel",
      "state": {
       "description_width": ""
      }
     },
     "8bf2cf1a62d347b9847c01e5c3ab98b8": {
      "model_module": "@jupyter-widgets/controls",
      "model_module_version": "1.1.0",
      "model_name": "LabelModel",
      "state": {
       "layout": "IPY_MODEL_e6eec0d2d30c40cf81d419a89626b114",
       "style": "IPY_MODEL_4524981b64cd4317b83daa649d2fcda4",
       "value": "Select the detector angles to plot."
      }
     },
     "8c34c6dc7c9546548bfd9254a9e4b92d": {
      "model_module": "@jupyter-widgets/controls",
      "model_module_version": "1.1.0",
      "model_name": "LabelModel",
      "state": {
       "layout": "IPY_MODEL_bbfdb7e282fb4cf7a8c4f45ee8f7158b",
       "style": "IPY_MODEL_61906c76664a41d496cc06fad94da3da",
       "value": "Select which secondary particle to plot spectra for."
      }
     },
     "8c95c3d262bc46fa8546c9b5b76e652e": {
      "model_module": "@jupyter-widgets/controls",
      "model_module_version": "1.1.0",
      "model_name": "ToggleButtonsStyleModel",
      "state": {
       "button_width": "",
       "description_width": ""
      }
     },
     "8d01d2f5c2274b13984798d5294ef8a5": {
      "model_module": "@jupyter-widgets/base",
      "model_module_version": "1.0.0",
      "model_name": "LayoutModel",
      "state": {}
     },
     "8d81ca9c965a499a8da95886d9bab78d": {
      "model_module": "@jupyter-widgets/controls",
      "model_module_version": "1.1.0",
      "model_name": "CheckboxModel",
      "state": {
       "description": "32.7°",
       "disabled": false,
       "layout": "IPY_MODEL_3619c3db11734ddeae8b2aa3f02f7023",
       "style": "IPY_MODEL_fe443f51af184df68b3c56cf06f77457",
       "value": true
      }
     },
     "8d940d9289e04dd1a510e39ef6872793": {
      "model_module": "@jupyter-widgets/base",
      "model_module_version": "1.0.0",
      "model_name": "LayoutModel",
      "state": {}
     },
     "8de4e7cb679a44798964a2c36f75b7a3": {
      "model_module": "@jupyter-widgets/base",
      "model_module_version": "1.0.0",
      "model_name": "LayoutModel",
      "state": {}
     },
     "8e0c320fd5734317bb5f0a4dcabe63e9": {
      "model_module": "@jupyter-widgets/controls",
      "model_module_version": "1.1.0",
      "model_name": "DescriptionStyleModel",
      "state": {
       "description_width": ""
      }
     },
     "8e7f2696ab6a4fb79016841dd4e1fa51": {
      "model_module": "@jupyter-widgets/controls",
      "model_module_version": "1.1.0",
      "model_name": "DescriptionStyleModel",
      "state": {
       "description_width": ""
      }
     },
     "8e949d24e566410ab568643397076396": {
      "model_module": "@jupyter-widgets/controls",
      "model_module_version": "1.1.0",
      "model_name": "ToggleButtonsStyleModel",
      "state": {
       "button_width": "",
       "description_width": ""
      }
     },
     "8ea468f235574c918668b197248fbf7d": {
      "model_module": "@jupyter-widgets/base",
      "model_module_version": "1.0.0",
      "model_name": "LayoutModel",
      "state": {}
     },
     "8ec9509eb399439fb841e212539d7916": {
      "model_module": "@jupyter-widgets/controls",
      "model_module_version": "1.1.0",
      "model_name": "DescriptionStyleModel",
      "state": {
       "description_width": ""
      }
     },
     "8ed8b650b26e42d68204f2548436e14e": {
      "model_module": "@jupyter-widgets/controls",
      "model_module_version": "1.1.0",
      "model_name": "LabelModel",
      "state": {
       "layout": "IPY_MODEL_96f8ada5036e47b0bc92769bee94fae2",
       "style": "IPY_MODEL_e9543b4dab854cd4b3dc337b87fddb83",
       "value": "Select which secondary particle to plot spectra for."
      }
     },
     "8f29115be0cc42ca9b36a84cc9c75532": {
      "model_module": "@jupyter-widgets/controls",
      "model_module_version": "1.1.0",
      "model_name": "DescriptionStyleModel",
      "state": {
       "description_width": ""
      }
     },
     "8f66d762f6184414a9714cfc226381c1": {
      "model_module": "@jupyter-widgets/base",
      "model_module_version": "1.0.0",
      "model_name": "LayoutModel",
      "state": {}
     },
     "901472da340a4126b55be6bd6bcbdd1e": {
      "model_module": "@jupyter-widgets/controls",
      "model_module_version": "1.1.0",
      "model_name": "CheckboxModel",
      "state": {
       "description": "Experiment",
       "disabled": false,
       "layout": "IPY_MODEL_ebf7af92aa6d4d2d90ea7cdae6b2bd84",
       "style": "IPY_MODEL_8a3b8c64c63d4cc69d1a3a9b9f3d1edb",
       "value": true
      }
     },
     "90182fc3b98247dda06477453d580c02": {
      "model_module": "@jupyter-widgets/controls",
      "model_module_version": "1.1.0",
      "model_name": "DescriptionStyleModel",
      "state": {
       "description_width": ""
      }
     },
     "9068b5b316bf413bac4f0c0b2795de4c": {
      "model_module": "@jupyter-widgets/base",
      "model_module_version": "1.0.0",
      "model_name": "LayoutModel",
      "state": {}
     },
     "90d0ad0b2cd144658a89409c7d844d9d": {
      "model_module": "@jupyter-widgets/base",
      "model_module_version": "1.0.0",
      "model_name": "LayoutModel",
      "state": {}
     },
     "90ffbeb101af4bbd90b16067566474bf": {
      "model_module": "@jupyter-widgets/controls",
      "model_module_version": "1.1.0",
      "model_name": "ToggleButtonsModel",
      "state": {
       "_options_labels": [
        "N (¹n)",
        "NDC (¹n)",
        "P (¹H)",
        "D (²H)"
       ],
       "button_style": "",
       "description": "Type:",
       "icons": [],
       "index": 0,
       "layout": "IPY_MODEL_b607a8a1011f41e79657979eed2d5d47",
       "style": "IPY_MODEL_25a2ab9d4a05493d9ee1a481e7e8e612",
       "tooltips": [
        "Neutron",
        "Back Target Neutron",
        "Proton",
        "Deuteron"
       ]
      }
     },
     "914b47eafde94b19a9df65661a32de0e": {
      "model_module": "@jupyter-widgets/controls",
      "model_module_version": "1.1.0",
      "model_name": "LabelModel",
      "state": {
       "layout": "IPY_MODEL_fa76e56acdcd41718e0b25ba2bd643c5",
       "style": "IPY_MODEL_d8795ba803974c8c92ae1d6df80faf43",
       "value": "Select upstream target material and thickness."
      }
     },
     "915d6af61552476999a0a8e8c145399a": {
      "model_module": "@jupyter-widgets/controls",
      "model_module_version": "1.1.0",
      "model_name": "CheckboxModel",
      "state": {
       "description": "PHITS simulated",
       "disabled": false,
       "layout": "IPY_MODEL_5d11473ee0a449d0b93f46057bb10c7e",
       "style": "IPY_MODEL_c0499be5ef594524a3196add15ece8df",
       "value": true
      }
     },
     "9168e8c662ad4823a334127694bb01e1": {
      "model_module": "@jupyter-widgets/controls",
      "model_module_version": "1.1.0",
      "model_name": "ButtonModel",
      "state": {
       "button_style": "success",
       "description": "Update plot",
       "icon": "paint-brush",
       "layout": "IPY_MODEL_c760664bc998443bb84932afb31eaad6",
       "style": "IPY_MODEL_7356676fed21406e8f081dbe6e0a505a",
       "tooltip": "Click to redraw the plot below with updated options from above."
      }
     },
     "9180d374d3b3454293724d57c1893023": {
      "model_module": "@jupyter-widgets/controls",
      "model_module_version": "1.1.0",
      "model_name": "DescriptionStyleModel",
      "state": {
       "description_width": ""
      }
     },
     "9205c477a1be4469b22d1997d942407d": {
      "model_module": "@jupyter-widgets/base",
      "model_module_version": "1.0.0",
      "model_name": "LayoutModel",
      "state": {}
     },
     "92154e0fd2d046869b4d0e4406a04164": {
      "model_module": "@jupyter-widgets/controls",
      "model_module_version": "1.1.0",
      "model_name": "DescriptionStyleModel",
      "state": {
       "description_width": ""
      }
     },
     "92189b9cf45c4ed08fd8dd8ba2c3c3cf": {
      "model_module": "@jupyter-widgets/controls",
      "model_module_version": "1.1.0",
      "model_name": "CheckboxModel",
      "state": {
       "description": "45°",
       "disabled": false,
       "layout": "IPY_MODEL_fb2e1b8ea9c74243b274d3c0c73fb9f8",
       "style": "IPY_MODEL_c8211cb6300e44fa966325786ab29b71",
       "value": true
      }
     },
     "922f9e22784b4ae2bb657e36623d08f7": {
      "model_module": "@jupyter-widgets/base",
      "model_module_version": "1.0.0",
      "model_name": "LayoutModel",
      "state": {}
     },
     "92968da7fb804ac7905e1727770190f9": {
      "model_module": "@jupyter-widgets/controls",
      "model_module_version": "1.1.0",
      "model_name": "CheckboxModel",
      "state": {
       "description": "30°",
       "disabled": false,
       "layout": "IPY_MODEL_4b313ade035346c08238c3d82576da2f",
       "style": "IPY_MODEL_bcb669779e704f5bbc7005e2a8fe5f34",
       "value": true
      }
     },
     "92f2d639f6fa407dbcd48928ff1edcf4": {
      "model_module": "@jupyter-widgets/controls",
      "model_module_version": "1.1.0",
      "model_name": "LabelModel",
      "state": {
       "layout": "IPY_MODEL_48d6a29de3fe4b21a4933651013ca17c",
       "style": "IPY_MODEL_a410023c692b43789d99c69fccbf3d0c",
       "value": "Select the detector angles to plot."
      }
     },
     "93187ff29a454bffa64ddd10403e4b64": {
      "model_module": "@jupyter-widgets/controls",
      "model_module_version": "1.1.0",
      "model_name": "DescriptionStyleModel",
      "state": {
       "description_width": ""
      }
     },
     "933c72475e084d81ac77d6da3209cd71": {
      "model_module": "@jupyter-widgets/base",
      "model_module_version": "1.0.0",
      "model_name": "LayoutModel",
      "state": {}
     },
     "93943ba745a54fbdb76d8f83ca68e798": {
      "model_module": "@jupyter-widgets/controls",
      "model_module_version": "1.1.0",
      "model_name": "CheckboxModel",
      "state": {
       "description": "60°",
       "disabled": false,
       "layout": "IPY_MODEL_35c7769a9a5642218152dd0a873130f5",
       "style": "IPY_MODEL_82fdb15c3b674b6292666eda2a30a34b",
       "value": true
      }
     },
     "94435b3fbd774ecb9620eeafcda40e7b": {
      "model_module": "@jupyter-widgets/base",
      "model_module_version": "1.0.0",
      "model_name": "LayoutModel",
      "state": {}
     },
     "94458a1ede7b40a59b7adde0d00b199b": {
      "model_module": "@jupyter-widgets/base",
      "model_module_version": "1.0.0",
      "model_name": "LayoutModel",
      "state": {}
     },
     "945fd25c30d0494197276661c03dc671": {
      "model_module": "@jupyter-widgets/base",
      "model_module_version": "1.0.0",
      "model_name": "LayoutModel",
      "state": {}
     },
     "94b023f46072463da950114129668831": {
      "model_module": "@jupyter-widgets/controls",
      "model_module_version": "1.1.0",
      "model_name": "DescriptionStyleModel",
      "state": {
       "description_width": ""
      }
     },
     "94cb113af46b4b27bba6ea5bb092f01a": {
      "model_module": "@jupyter-widgets/controls",
      "model_module_version": "1.1.0",
      "model_name": "LabelModel",
      "state": {
       "layout": "IPY_MODEL_17bae485d4da4ee1af714e9f524d5da1",
       "style": "IPY_MODEL_fcdc8c835ef542a39bbe81e117c15446",
       "value": "Select how data sets for each detector should be spaced apart (if at all)."
      }
     },
     "94d08ba6cbcb4a43af16990ab2c249cd": {
      "model_module": "@jupyter-widgets/controls",
      "model_module_version": "1.1.0",
      "model_name": "CheckboxModel",
      "state": {
       "description": "80°",
       "disabled": false,
       "layout": "IPY_MODEL_d9cc632b94b840ef8142b19040133b67",
       "style": "IPY_MODEL_44e313e4526743ceb8af6da255f65ad1",
       "value": true
      }
     },
     "94da22d978d74dd581dee928434555b2": {
      "model_module": "@jupyter-widgets/controls",
      "model_module_version": "1.1.0",
      "model_name": "CheckboxModel",
      "state": {
       "description": "80°",
       "disabled": false,
       "layout": "IPY_MODEL_6875058ca28d415ebf3402c09385b7de",
       "style": "IPY_MODEL_05d44f7bd9aa41a9b3174967dca3017e",
       "value": true
      }
     },
     "94f922cfd08645dbadb59353c980e910": {
      "model_module": "@jupyter-widgets/controls",
      "model_module_version": "1.1.0",
      "model_name": "DescriptionStyleModel",
      "state": {
       "description_width": ""
      }
     },
     "95bf02f7406a4d3195351765c5517c43": {
      "model_module": "@jupyter-widgets/controls",
      "model_module_version": "1.1.0",
      "model_name": "DescriptionStyleModel",
      "state": {
       "description_width": ""
      }
     },
     "95fa7347cc184ca68dc4e17717d1ea43": {
      "model_module": "@jupyter-widgets/controls",
      "model_module_version": "1.1.0",
      "model_name": "DescriptionStyleModel",
      "state": {
       "description_width": ""
      }
     },
     "9615104881154fcfa004fddcec99c116": {
      "model_module": "@jupyter-widgets/controls",
      "model_module_version": "1.1.0",
      "model_name": "DescriptionStyleModel",
      "state": {
       "description_width": ""
      }
     },
     "9628c678b21e4fbd866813c76412cb27": {
      "model_module": "@jupyter-widgets/controls",
      "model_module_version": "1.1.0",
      "model_name": "LabelModel",
      "state": {
       "layout": "IPY_MODEL_34f5e5e0307f417ea79d6d97d9afd5f1",
       "style": "IPY_MODEL_a3226dc7be214e14b368365138b0cf25",
       "value": "Select the detector angles to plot."
      }
     },
     "967b141189f74ccab36ab8014846abc2": {
      "model_module": "@jupyter-widgets/controls",
      "model_module_version": "1.1.0",
      "model_name": "ToggleButtonsStyleModel",
      "state": {
       "button_width": "",
       "description_width": ""
      }
     },
     "968d972512a14609a9d52d3d9e1341ca": {
      "model_module": "@jupyter-widgets/controls",
      "model_module_version": "1.1.0",
      "model_name": "DescriptionStyleModel",
      "state": {
       "description_width": ""
      }
     },
     "96da12b143364498a1f8e79fa09113ba": {
      "model_module": "@jupyter-widgets/base",
      "model_module_version": "1.0.0",
      "model_name": "LayoutModel",
      "state": {}
     },
     "96f8ada5036e47b0bc92769bee94fae2": {
      "model_module": "@jupyter-widgets/base",
      "model_module_version": "1.0.0",
      "model_name": "LayoutModel",
      "state": {}
     },
     "971f0dbff63f4d7081c8ea05f263b00d": {
      "model_module": "@jupyter-widgets/controls",
      "model_module_version": "1.1.0",
      "model_name": "ToggleButtonsModel",
      "state": {
       "_options_labels": [
        "N (¹n)",
        "NDC (¹n)",
        "P (¹H)",
        "D (²H)",
        "T (³H)",
        "S (³He)",
        "A (⁴He)"
       ],
       "button_style": "",
       "description": "Type:",
       "icons": [],
       "index": 3,
       "layout": "IPY_MODEL_1d72fdf622c6443bb22fe880f8a2aa5c",
       "style": "IPY_MODEL_8c95c3d262bc46fa8546c9b5b76e652e",
       "tooltips": [
        "Neutron",
        "Back Target Neutron",
        "Proton",
        "Deuteron",
        "Triton",
        "Helium-3",
        "Helium-4"
       ]
      }
     },
     "9730523592704f18b6013cd438afad49": {
      "model_module": "@jupyter-widgets/controls",
      "model_module_version": "1.1.0",
      "model_name": "LabelModel",
      "state": {
       "layout": "IPY_MODEL_89d72556cc82438b93784ed100e9f5fc",
       "style": "IPY_MODEL_078ada0077324c248ec853179331469f",
       "value": "Select projectile ion energy."
      }
     },
     "978237f274d2476b8418648f0228b9e7": {
      "model_module": "@jupyter-widgets/base",
      "model_module_version": "1.0.0",
      "model_name": "LayoutModel",
      "state": {}
     },
     "97943902601a413d9513a4e7bec6f8a8": {
      "model_module": "@jupyter-widgets/base",
      "model_module_version": "1.0.0",
      "model_name": "LayoutModel",
      "state": {}
     },
     "97954afcbea94f4f9fc07ecfe9a9f91d": {
      "model_module": "@jupyter-widgets/base",
      "model_module_version": "1.0.0",
      "model_name": "LayoutModel",
      "state": {}
     },
     "9796719f62764bd8bbf944fa40f90650": {
      "model_module": "@jupyter-widgets/controls",
      "model_module_version": "1.1.0",
      "model_name": "CheckboxModel",
      "state": {
       "description": "45°",
       "disabled": false,
       "layout": "IPY_MODEL_2fdaee955b814f53adcb0097d9ca7d0a",
       "style": "IPY_MODEL_03712579db5b417eb16f345eff7e67a8",
       "value": true
      }
     },
     "97998ff7c23540418583446728836fec": {
      "model_module": "@jupyter-widgets/controls",
      "model_module_version": "1.1.0",
      "model_name": "DescriptionStyleModel",
      "state": {
       "description_width": ""
      }
     },
     "97c4e769ee4341f494407bde8dbce5c5": {
      "model_module": "@jupyter-widgets/controls",
      "model_module_version": "1.1.0",
      "model_name": "LabelModel",
      "state": {
       "layout": "IPY_MODEL_fa1bd53915424fa1ab587c57ab48f080",
       "style": "IPY_MODEL_aa1a47aaec0f414d8480b69918503e93",
       "value": "Select upstream target mass thickness."
      }
     },
     "97e099afd8e64083a0da0bf3c9205a3b": {
      "model_module": "@jupyter-widgets/controls",
      "model_module_version": "1.1.0",
      "model_name": "CheckboxModel",
      "state": {
       "description": "60°",
       "disabled": false,
       "layout": "IPY_MODEL_2c1995101fa74608bb3c56edc2c8d1c6",
       "style": "IPY_MODEL_0f64b367e84944c6bb9f39de60b04729",
       "value": true
      }
     },
     "981cdde308eb4481983d9a466e0bac36": {
      "model_module": "@jupyter-widgets/base",
      "model_module_version": "1.0.0",
      "model_name": "LayoutModel",
      "state": {}
     },
     "98237bf22d114ff39d165b4678e54734": {
      "model_module": "@jupyter-widgets/controls",
      "model_module_version": "1.1.0",
      "model_name": "DescriptionStyleModel",
      "state": {
       "description_width": ""
      }
     },
     "9871518fbb424f9fb82122b1118f1676": {
      "model_module": "@jupyter-widgets/base",
      "model_module_version": "1.0.0",
      "model_name": "LayoutModel",
      "state": {}
     },
     "9872c102cabd49cdb5f48220b334548f": {
      "model_module": "@jupyter-widgets/base",
      "model_module_version": "1.0.0",
      "model_name": "LayoutModel",
      "state": {}
     },
     "98753889ae644f97a385da2841d81ec5": {
      "model_module": "@jupyter-widgets/base",
      "model_module_version": "1.0.0",
      "model_name": "LayoutModel",
      "state": {}
     },
     "98c085b49e204c9f976cb4af179fae94": {
      "model_module": "@jupyter-widgets/controls",
      "model_module_version": "1.1.0",
      "model_name": "DescriptionStyleModel",
      "state": {
       "description_width": ""
      }
     },
     "9935277d35c1402bb49416768a7b9ce1": {
      "model_module": "@jupyter-widgets/base",
      "model_module_version": "1.0.0",
      "model_name": "LayoutModel",
      "state": {}
     },
     "994c2a00c9b5436b91b975bafd760584": {
      "model_module": "@jupyter-widgets/base",
      "model_module_version": "1.0.0",
      "model_name": "LayoutModel",
      "state": {}
     },
     "99b698eb56d747a4b5796dc5533fe444": {
      "model_module": "@jupyter-widgets/base",
      "model_module_version": "1.0.0",
      "model_name": "LayoutModel",
      "state": {}
     },
     "9a0974ca170a48b6b4a0fcc84a2a35a4": {
      "model_module": "@jupyter-widgets/controls",
      "model_module_version": "1.1.0",
      "model_name": "ToggleButtonsStyleModel",
      "state": {
       "button_width": "",
       "description_width": ""
      }
     },
     "9a1f984c3c80443292067dab89b6fd20": {
      "model_module": "@jupyter-widgets/base",
      "model_module_version": "1.0.0",
      "model_name": "LayoutModel",
      "state": {}
     },
     "9a4aa930bbde477c81a91da2625757c7": {
      "model_module": "@jupyter-widgets/controls",
      "model_module_version": "1.1.0",
      "model_name": "CheckboxModel",
      "state": {
       "description": "60°",
       "disabled": false,
       "layout": "IPY_MODEL_aa9ce7dc21004692afd0bf9d3f368c59",
       "style": "IPY_MODEL_bb9f995dec93484fbc27fa706f5fd3f1",
       "value": true
      }
     },
     "9a782c49ef184e6187246afe41090552": {
      "model_module": "@jupyter-widgets/controls",
      "model_module_version": "1.1.0",
      "model_name": "DescriptionStyleModel",
      "state": {
       "description_width": ""
      }
     },
     "9b14279d18ab4f00abe0cb962671e9ff": {
      "model_module": "@jupyter-widgets/controls",
      "model_module_version": "1.1.0",
      "model_name": "CheckboxModel",
      "state": {
       "description": "10°",
       "disabled": false,
       "layout": "IPY_MODEL_1ea81ce3204a4d4c865e413aa9de17b2",
       "style": "IPY_MODEL_baa9ddbc265546269ba4c9d6de39ae5a",
       "value": true
      }
     },
     "9b80b536f8134456afcfab7a234face8": {
      "model_module": "@jupyter-widgets/controls",
      "model_module_version": "1.1.0",
      "model_name": "DescriptionStyleModel",
      "state": {
       "description_width": ""
      }
     },
     "9b930e4743cd49ad892e2565cb83d894": {
      "model_module": "@jupyter-widgets/controls",
      "model_module_version": "1.1.0",
      "model_name": "DescriptionStyleModel",
      "state": {
       "description_width": ""
      }
     },
     "9bc2ba7a19f74af4ae4a126910a7c81b": {
      "model_module": "@jupyter-widgets/controls",
      "model_module_version": "1.1.0",
      "model_name": "DescriptionStyleModel",
      "state": {
       "description_width": ""
      }
     },
     "9c0fbf4338534d459b3867084725c7ec": {
      "model_module": "@jupyter-widgets/controls",
      "model_module_version": "1.1.0",
      "model_name": "DescriptionStyleModel",
      "state": {
       "description_width": ""
      }
     },
     "9c2341159be54ea0a13ff26b90f2c396": {
      "model_module": "@jupyter-widgets/base",
      "model_module_version": "1.0.0",
      "model_name": "LayoutModel",
      "state": {}
     },
     "9c3d1a868c3744808e6abb20b62e5b3c": {
      "model_module": "@jupyter-widgets/base",
      "model_module_version": "1.0.0",
      "model_name": "LayoutModel",
      "state": {}
     },
     "9c67b4d755aa4501a1ed4aaaa4694fee": {
      "model_module": "@jupyter-widgets/controls",
      "model_module_version": "1.1.0",
      "model_name": "LabelModel",
      "state": {
       "layout": "IPY_MODEL_d656614de7e54e42afa5eab1410a0eca",
       "style": "IPY_MODEL_c55be318b618401aa49426e531b98d5a",
       "value": "Select which secondary particle to plot spectra for."
      }
     },
     "9c750331100c4339ba5cdad0d8689798": {
      "model_module": "@jupyter-widgets/controls",
      "model_module_version": "1.1.0",
      "model_name": "DescriptionStyleModel",
      "state": {
       "description_width": ""
      }
     },
     "9d2ca49e71084fcebda49271927b97a7": {
      "model_module": "@jupyter-widgets/controls",
      "model_module_version": "1.1.0",
      "model_name": "CheckboxModel",
      "state": {
       "description": "10°",
       "disabled": false,
       "layout": "IPY_MODEL_676c9ec4db9c4580a6d02dba2ee14cc3",
       "style": "IPY_MODEL_236665dcbcc84145aec131dc47a4833b",
       "value": true
      }
     },
     "9d4af918c79e4649b91b52b135f6205d": {
      "model_module": "@jupyter-widgets/controls",
      "model_module_version": "1.1.0",
      "model_name": "DescriptionStyleModel",
      "state": {
       "description_width": ""
      }
     },
     "9d7a1428bf78413ab9bb86941080f268": {
      "model_module": "@jupyter-widgets/base",
      "model_module_version": "1.0.0",
      "model_name": "LayoutModel",
      "state": {}
     },
     "9dd994dfe1494c828611dab8b7c1157e": {
      "model_module": "@jupyter-widgets/base",
      "model_module_version": "1.0.0",
      "model_name": "LayoutModel",
      "state": {}
     },
     "9de6726f2e004bd3877caf19cbe4426f": {
      "model_module": "@jupyter-widgets/controls",
      "model_module_version": "1.1.0",
      "model_name": "DescriptionStyleModel",
      "state": {
       "description_width": ""
      }
     },
     "9df5e30e52af4895a58f44d6d6a0c613": {
      "model_module": "@jupyter-widgets/controls",
      "model_module_version": "1.1.0",
      "model_name": "LabelModel",
      "state": {
       "layout": "IPY_MODEL_7226f67f91d7466385caf9785e71e0e7",
       "style": "IPY_MODEL_5eae71481201469a9f41f176634ff53e",
       "value": "Select which secondary particle to plot spectra for."
      }
     },
     "9e2c6f63a265431299c9ca9a10934306": {
      "model_module": "@jupyter-widgets/controls",
      "model_module_version": "1.1.0",
      "model_name": "ToggleButtonsModel",
      "state": {
       "_options_labels": [
        "400 MeV",
        "800 MeV",
        "2500 MeV"
       ],
       "button_style": "",
       "description": "Energy:",
       "icons": [],
       "index": 0,
       "layout": "IPY_MODEL_71b7722d056a4b0f8361f2d9d50b1a9f",
       "style": "IPY_MODEL_db5db616c7af47308fb873261c5e5e7b",
       "tooltips": [
        "lowest energy",
        "middle energy",
        "highest energy"
       ]
      }
     },
     "9e2e9bfe6f124f16b3ccb2a441fd477c": {
      "model_module": "@jupyter-widgets/controls",
      "model_module_version": "1.1.0",
      "model_name": "LabelModel",
      "state": {
       "layout": "IPY_MODEL_da1ae399ff994bd6917366e2a1af5b33",
       "style": "IPY_MODEL_431cb5160efb42c1be6d872d56c3b795",
       "value": "Select which secondary particle to plot spectra for."
      }
     },
     "9e70dabc9cec4089a4b8308037cdecb1": {
      "model_module": "@jupyter-widgets/base",
      "model_module_version": "1.0.0",
      "model_name": "LayoutModel",
      "state": {}
     },
     "9e76e71b2ce946968f7ea2d6d5db2441": {
      "model_module": "@jupyter-widgets/base",
      "model_module_version": "1.0.0",
      "model_name": "LayoutModel",
      "state": {}
     },
     "9e9d3da6a114417db755081c1119c914": {
      "model_module": "@jupyter-widgets/controls",
      "model_module_version": "1.1.0",
      "model_name": "ToggleButtonsModel",
      "state": {
       "_options_labels": [
        "N (¹n)",
        "NDC (¹n)",
        "P (¹H)",
        "D (²H)",
        "T (³H)",
        "S (³He)",
        "A (⁴He)"
       ],
       "button_style": "",
       "description": "Type:",
       "icons": [],
       "index": 0,
       "layout": "IPY_MODEL_61335b6f99b3431594c37c7bacfd72c9",
       "style": "IPY_MODEL_1abe2f30b79f4701a9f94cf1a438e122",
       "tooltips": [
        "Neutron",
        "Back Target Neutron",
        "Proton",
        "Deuteron",
        "Triton",
        "Helium-3",
        "Helium-4"
       ]
      }
     },
     "9eba4cf6274048188693b18ae48e4e52": {
      "model_module": "@jupyter-widgets/base",
      "model_module_version": "1.0.0",
      "model_name": "LayoutModel",
      "state": {}
     },
     "9ebc4e97c55b459f85d9b769bce74ce0": {
      "model_module": "@jupyter-widgets/base",
      "model_module_version": "1.0.0",
      "model_name": "LayoutModel",
      "state": {}
     },
     "9ecc5a915ae742e0a270e8e6ff0bf4bd": {
      "model_module": "@jupyter-widgets/base",
      "model_module_version": "1.0.0",
      "model_name": "LayoutModel",
      "state": {}
     },
     "9f10af26b0b44a58a854ace8e990c731": {
      "model_module": "@jupyter-widgets/base",
      "model_module_version": "1.0.0",
      "model_name": "LayoutModel",
      "state": {}
     },
     "9f147ccc43bd4e22aacf7fd9d70c69e9": {
      "model_module": "@jupyter-widgets/controls",
      "model_module_version": "1.1.0",
      "model_name": "LabelModel",
      "state": {
       "layout": "IPY_MODEL_de211141ed4840f4b0dbc62e00d0f764",
       "style": "IPY_MODEL_0cc5ed2fc18449fb9cdba5cdc70bab69",
       "value": "Select which secondary particle to plot spectra for."
      }
     },
     "9f3f0ab9fa1442c490c91b91cf27c121": {
      "model_module": "@jupyter-widgets/controls",
      "model_module_version": "1.1.0",
      "model_name": "LabelModel",
      "state": {
       "layout": "IPY_MODEL_2e428f21ef224ed19a67939436536d65",
       "style": "IPY_MODEL_1e80c9c610b14a8cbdf136d7def2e4a6",
       "value": "Select which secondary particle to plot spectra for."
      }
     },
     "9fb91dc68d1e42289c11d12858d52439": {
      "model_module": "@jupyter-widgets/controls",
      "model_module_version": "1.1.0",
      "model_name": "DescriptionStyleModel",
      "state": {
       "description_width": ""
      }
     },
     "9fc3301f6be746b3b12b26b043f73985": {
      "model_module": "@jupyter-widgets/base",
      "model_module_version": "1.0.0",
      "model_name": "LayoutModel",
      "state": {}
     },
     "9ff423d239b843e9837184497a85d68c": {
      "model_module": "@jupyter-widgets/controls",
      "model_module_version": "1.1.0",
      "model_name": "DescriptionStyleModel",
      "state": {
       "description_width": ""
      }
     },
     "a01d9af1cbfb457ca40b4d16191dd9f8": {
      "model_module": "@jupyter-widgets/base",
      "model_module_version": "1.0.0",
      "model_name": "LayoutModel",
      "state": {}
     },
     "a02324d66cae4bcdad77709c8ea30df5": {
      "model_module": "@jupyter-widgets/controls",
      "model_module_version": "1.1.0",
      "model_name": "DescriptionStyleModel",
      "state": {
       "description_width": ""
      }
     },
     "a02fa49cb30d40c4823416bf6ad3c976": {
      "model_module": "@jupyter-widgets/controls",
      "model_module_version": "1.1.0",
      "model_name": "DescriptionStyleModel",
      "state": {
       "description_width": ""
      }
     },
     "a03b342b4ee6435789e02660b392b643": {
      "model_module": "@jupyter-widgets/controls",
      "model_module_version": "1.1.0",
      "model_name": "CheckboxModel",
      "state": {
       "description": "32.7°",
       "disabled": false,
       "layout": "IPY_MODEL_5f80d1cf22234e7594f18187386c28aa",
       "style": "IPY_MODEL_7b3e842f80114890b82b120bf12a2673",
       "value": true
      }
     },
     "a04090affc934abca24a590fc6019c01": {
      "model_module": "@jupyter-widgets/base",
      "model_module_version": "1.0.0",
      "model_name": "LayoutModel",
      "state": {}
     },
     "a04b56b70c6047e7b67fb614b236f0a7": {
      "model_module": "@jupyter-widgets/controls",
      "model_module_version": "1.1.0",
      "model_name": "DescriptionStyleModel",
      "state": {
       "description_width": ""
      }
     },
     "a05914b55e5d40649e03350e6eb3630a": {
      "model_module": "@jupyter-widgets/controls",
      "model_module_version": "1.1.0",
      "model_name": "DescriptionStyleModel",
      "state": {
       "description_width": ""
      }
     },
     "a08b30dbe8df48e1b9b7d32efe18f57e": {
      "model_module": "@jupyter-widgets/base",
      "model_module_version": "1.0.0",
      "model_name": "LayoutModel",
      "state": {}
     },
     "a0f6ed37f9f14faeb429c96a040ff9f6": {
      "model_module": "@jupyter-widgets/controls",
      "model_module_version": "1.1.0",
      "model_name": "LabelModel",
      "state": {
       "layout": "IPY_MODEL_6d95059981624950879bdfebbe0d9296",
       "style": "IPY_MODEL_45b9d236dbbf4356aafdb480f24a11d5",
       "value": "Select projectile ion species and energy."
      }
     },
     "a0f8ff67cce34c4a927a05fb1ee2c88f": {
      "model_module": "@jupyter-widgets/controls",
      "model_module_version": "1.1.0",
      "model_name": "DescriptionStyleModel",
      "state": {
       "description_width": ""
      }
     },
     "a0fb516231fc4c46bebbabd867d9dd0e": {
      "model_module": "@jupyter-widgets/controls",
      "model_module_version": "1.1.0",
      "model_name": "DescriptionStyleModel",
      "state": {
       "description_width": ""
      }
     },
     "a0fb67ecb4a942b7a78ee7c2ecd1bea7": {
      "model_module": "@jupyter-widgets/controls",
      "model_module_version": "1.1.0",
      "model_name": "LabelModel",
      "state": {
       "layout": "IPY_MODEL_feb773bb2249497ab65e8cae32c67021",
       "style": "IPY_MODEL_39282a4457f7401399ee1d29a15a961f",
       "value": "Select the detector angles to plot."
      }
     },
     "a1508f29519446cb89354baa0c079653": {
      "model_module": "@jupyter-widgets/base",
      "model_module_version": "1.0.0",
      "model_name": "LayoutModel",
      "state": {}
     },
     "a157ce7d887847e0a3fed77d2b0f750a": {
      "model_module": "@jupyter-widgets/controls",
      "model_module_version": "1.1.0",
      "model_name": "DescriptionStyleModel",
      "state": {
       "description_width": ""
      }
     },
     "a170331431ec446bb37fa1103c649671": {
      "model_module": "@jupyter-widgets/base",
      "model_module_version": "1.0.0",
      "model_name": "LayoutModel",
      "state": {}
     },
     "a17e18225617407bad9ea54d14d3ff8f": {
      "model_module": "@jupyter-widgets/base",
      "model_module_version": "1.0.0",
      "model_name": "LayoutModel",
      "state": {}
     },
     "a17e5aded5b64ba3a833ad45ea3a34bf": {
      "model_module": "@jupyter-widgets/controls",
      "model_module_version": "1.1.0",
      "model_name": "DescriptionStyleModel",
      "state": {
       "description_width": ""
      }
     },
     "a1859d0bd77940e8bff854c9cf2fdc28": {
      "model_module": "@jupyter-widgets/controls",
      "model_module_version": "1.1.0",
      "model_name": "ToggleButtonsModel",
      "state": {
       "_options_labels": [
        "H",
        "He",
        "C",
        "Si",
        "Fe"
       ],
       "button_style": "",
       "description": "Ion:",
       "icons": [],
       "index": 0,
       "layout": "IPY_MODEL_87b03a1bc88941419b080527b7fd800c",
       "style": "IPY_MODEL_00f95cd13fc5493dbd84db161aa668d2",
       "tooltips": [
        "Hydrogen",
        "Helium",
        "Carbon",
        "Silicon",
        "Iron"
       ]
      }
     },
     "a1ba6864738b4cca8debf4d5215d5213": {
      "model_module": "@jupyter-widgets/base",
      "model_module_version": "1.0.0",
      "model_name": "LayoutModel",
      "state": {}
     },
     "a1c93c2d5f0a42e384fcdabc98b67ee2": {
      "model_module": "@jupyter-widgets/base",
      "model_module_version": "1.0.0",
      "model_name": "LayoutModel",
      "state": {}
     },
     "a1d7582a334b4f618aeba1959ba1afa2": {
      "model_module": "@jupyter-widgets/controls",
      "model_module_version": "1.1.0",
      "model_name": "LabelModel",
      "state": {
       "layout": "IPY_MODEL_60640bc143d7461fa221ade3e9a1babf",
       "style": "IPY_MODEL_50bb39ba82dd4e0f928548cbc1e56055",
       "value": "Select the detector angles to plot."
      }
     },
     "a1f8d073dfd248cea3df0a3525424b95": {
      "model_module": "@jupyter-widgets/base",
      "model_module_version": "1.0.0",
      "model_name": "LayoutModel",
      "state": {}
     },
     "a2086798ef484598952202fa5e9685c9": {
      "model_module": "@jupyter-widgets/controls",
      "model_module_version": "1.1.0",
      "model_name": "CheckboxModel",
      "state": {
       "description": "32.7°",
       "disabled": false,
       "layout": "IPY_MODEL_1961e98b7ac3486ebc1961e8cfeef51c",
       "style": "IPY_MODEL_63f3673c4a8d4904b8b4957354acdb7a",
       "value": true
      }
     },
     "a21733351934434e81f1b8634ffd4249": {
      "model_module": "@jupyter-widgets/controls",
      "model_module_version": "1.1.0",
      "model_name": "CheckboxModel",
      "state": {
       "description": "10°",
       "disabled": false,
       "layout": "IPY_MODEL_ce360aefa9294facabe1ee60bc0862de",
       "style": "IPY_MODEL_e2c1797b522b46c098590f29c80eda32",
       "value": true
      }
     },
     "a26a19e574a74b3aad7172dac323e62c": {
      "model_module": "@jupyter-widgets/controls",
      "model_module_version": "1.1.0",
      "model_name": "ToggleButtonsStyleModel",
      "state": {
       "button_width": "",
       "description_width": ""
      }
     },
     "a2733a53a33c469f9e74e92e8a087019": {
      "model_module": "@jupyter-widgets/controls",
      "model_module_version": "1.1.0",
      "model_name": "DescriptionStyleModel",
      "state": {
       "description_width": ""
      }
     },
     "a2a45a749e3a406aaddcaffab4403d71": {
      "model_module": "@jupyter-widgets/controls",
      "model_module_version": "1.1.0",
      "model_name": "LabelModel",
      "state": {
       "layout": "IPY_MODEL_13ca9599e8a6458b9f877c77a465cadf",
       "style": "IPY_MODEL_31bedefb041d45bc8089755ad4dee01e",
       "value": "Select the detector angles to plot."
      }
     },
     "a2bdbe1494814ef3a232b1d38c24af35": {
      "model_module": "@jupyter-widgets/base",
      "model_module_version": "1.0.0",
      "model_name": "LayoutModel",
      "state": {}
     },
     "a2de60ea094a4b74a1566c0c53e204dc": {
      "model_module": "@jupyter-widgets/controls",
      "model_module_version": "1.1.0",
      "model_name": "ToggleButtonsStyleModel",
      "state": {
       "button_width": "",
       "description_width": ""
      }
     },
     "a321347d4d5f4ecb987a829fce03e8c4": {
      "model_module": "@jupyter-widgets/controls",
      "model_module_version": "1.1.0",
      "model_name": "DescriptionStyleModel",
      "state": {
       "description_width": ""
      }
     },
     "a3226dc7be214e14b368365138b0cf25": {
      "model_module": "@jupyter-widgets/controls",
      "model_module_version": "1.1.0",
      "model_name": "DescriptionStyleModel",
      "state": {
       "description_width": ""
      }
     },
     "a32596ccc6844d88beffb3e6617460f0": {
      "model_module": "@jupyter-widgets/base",
      "model_module_version": "1.0.0",
      "model_name": "LayoutModel",
      "state": {}
     },
     "a34bddacd7c846048547679dac7f6991": {
      "model_module": "@jupyter-widgets/controls",
      "model_module_version": "1.1.0",
      "model_name": "LabelModel",
      "state": {
       "layout": "IPY_MODEL_545ebc91c17c4aa6959b057a16b3ac92",
       "style": "IPY_MODEL_a778cf604d174f4d9efe53ae6dfcc98b",
       "value": "Select upstream target mass thickness."
      }
     },
     "a369064e5b44428d8172adba0d439f70": {
      "model_module": "@jupyter-widgets/controls",
      "model_module_version": "1.1.0",
      "model_name": "DescriptionStyleModel",
      "state": {
       "description_width": ""
      }
     },
     "a37c33a2be514ce6b6365c51523ce460": {
      "model_module": "@jupyter-widgets/controls",
      "model_module_version": "1.1.0",
      "model_name": "LabelModel",
      "state": {
       "layout": "IPY_MODEL_f8187533cbd64b0f92011819d7ecc492",
       "style": "IPY_MODEL_442ac209cf4f4253a7d278fb37682d26",
       "value": "Select projectile ion energy."
      }
     },
     "a38c5526261a44588ed4a03810dd74de": {
      "model_module": "@jupyter-widgets/controls",
      "model_module_version": "1.1.0",
      "model_name": "ToggleButtonsModel",
      "state": {
       "_options_labels": [
        "N (¹n)",
        "NDC (¹n)",
        "P (¹H)",
        "D (²H)",
        "T (³H)",
        "S (³He)",
        "A (⁴He)"
       ],
       "button_style": "",
       "description": "Type:",
       "icons": [],
       "index": 0,
       "layout": "IPY_MODEL_14fafc4eb4bf469cae61c06d8cce53bf",
       "style": "IPY_MODEL_403956e3427d41e39e4ca6ce37a021f3",
       "tooltips": [
        "Neutron",
        "Back Target Neutron",
        "Proton",
        "Deuteron",
        "Triton",
        "Helium-3",
        "Helium-4"
       ]
      }
     },
     "a3a4a3661a1245309cad93b6359eb7e0": {
      "model_module": "@jupyter-widgets/base",
      "model_module_version": "1.0.0",
      "model_name": "LayoutModel",
      "state": {}
     },
     "a3f03c52452f4040b71e2bb824bf4b8b": {
      "model_module": "@jupyter-widgets/controls",
      "model_module_version": "1.1.0",
      "model_name": "DescriptionStyleModel",
      "state": {
       "description_width": ""
      }
     },
     "a410023c692b43789d99c69fccbf3d0c": {
      "model_module": "@jupyter-widgets/controls",
      "model_module_version": "1.1.0",
      "model_name": "DescriptionStyleModel",
      "state": {
       "description_width": ""
      }
     },
     "a430f5e1f8104030adc87152f743628c": {
      "model_module": "@jupyter-widgets/base",
      "model_module_version": "1.0.0",
      "model_name": "LayoutModel",
      "state": {}
     },
     "a46faac67e3c484db0c7d7646c36f03c": {
      "model_module": "@jupyter-widgets/controls",
      "model_module_version": "1.1.0",
      "model_name": "LabelModel",
      "state": {
       "layout": "IPY_MODEL_2f9f375ed8694a78a0160c1848befb47",
       "style": "IPY_MODEL_d48a7a058fb447fab5d67609ac3ff4e6",
       "value": "Select a detector type."
      }
     },
     "a492ac76f1b94b6a9eb892afe1c19c06": {
      "model_module": "@jupyter-widgets/base",
      "model_module_version": "1.0.0",
      "model_name": "LayoutModel",
      "state": {}
     },
     "a4943de1efff43359180753e2490e53e": {
      "model_module": "@jupyter-widgets/base",
      "model_module_version": "1.0.0",
      "model_name": "LayoutModel",
      "state": {}
     },
     "a4b0d07e296942e08a63cd4351a1ad3d": {
      "model_module": "@jupyter-widgets/controls",
      "model_module_version": "1.1.0",
      "model_name": "CheckboxModel",
      "state": {
       "description": "45°",
       "disabled": false,
       "layout": "IPY_MODEL_2a6a5bce17a946f98b9b7c3a32c9d1cd",
       "style": "IPY_MODEL_73138b754209406a8c76f8b0357ac687",
       "value": true
      }
     },
     "a53084ae74bf4682b26cbdd8f14db5c5": {
      "model_module": "@jupyter-widgets/controls",
      "model_module_version": "1.1.0",
      "model_name": "ToggleButtonsModel",
      "state": {
       "_options_labels": [
        "N (¹n)",
        "NDC (¹n)",
        "P (¹H)",
        "D (²H)"
       ],
       "button_style": "",
       "description": "Particle:",
       "icons": [],
       "index": 0,
       "layout": "IPY_MODEL_96da12b143364498a1f8e79fa09113ba",
       "style": "IPY_MODEL_7d315670ef4f4b77a3c4bdbb3d99313c",
       "tooltips": [
        "Neutron",
        "Back Target Neutron",
        "Proton",
        "Deuteron"
       ]
      }
     },
     "a59b588a6e0b4502b50c251055bfb406": {
      "model_module": "@jupyter-widgets/controls",
      "model_module_version": "1.1.0",
      "model_name": "DescriptionStyleModel",
      "state": {
       "description_width": ""
      }
     },
     "a5ab0bc8e4894abf9f3ae4671f61de35": {
      "model_module": "@jupyter-widgets/base",
      "model_module_version": "1.0.0",
      "model_name": "LayoutModel",
      "state": {}
     },
     "a5ab1f2937214bd09dec3d87590ba417": {
      "model_module": "@jupyter-widgets/controls",
      "model_module_version": "1.1.0",
      "model_name": "DescriptionStyleModel",
      "state": {
       "description_width": ""
      }
     },
     "a61a0cdb903c499d8ff1ce3dd7f8ab10": {
      "model_module": "@jupyter-widgets/controls",
      "model_module_version": "1.1.0",
      "model_name": "CheckboxModel",
      "state": {
       "description": "PHITS simulated",
       "disabled": false,
       "layout": "IPY_MODEL_f2ad27baf4764943a64930549184f148",
       "style": "IPY_MODEL_b55ba0c4ae6f4a6799d320c9b45bfdf5",
       "value": true
      }
     },
     "a62492efc26142d39374db8dd98e3500": {
      "model_module": "@jupyter-widgets/controls",
      "model_module_version": "1.1.0",
      "model_name": "DescriptionStyleModel",
      "state": {
       "description_width": ""
      }
     },
     "a629492428ad48ee8eb25a68ad4c270b": {
      "model_module": "@jupyter-widgets/base",
      "model_module_version": "1.0.0",
      "model_name": "LayoutModel",
      "state": {}
     },
     "a6823a7ff4d644898a0521a67008d5ad": {
      "model_module": "@jupyter-widgets/controls",
      "model_module_version": "1.1.0",
      "model_name": "DescriptionStyleModel",
      "state": {
       "description_width": ""
      }
     },
     "a69908d8073948cb894f81841a272daa": {
      "model_module": "@jupyter-widgets/controls",
      "model_module_version": "1.1.0",
      "model_name": "CheckboxModel",
      "state": {
       "description": "10°",
       "disabled": false,
       "layout": "IPY_MODEL_5c8ae25629bb45bfa1828369ead77402",
       "style": "IPY_MODEL_1af087b5218c4437920f90cb063ef0cb",
       "value": true
      }
     },
     "a6c3f474e4fc44af9c36e8c0cf3f1b5a": {
      "model_module": "@jupyter-widgets/base",
      "model_module_version": "1.0.0",
      "model_name": "LayoutModel",
      "state": {}
     },
     "a6cbe10f2dfc4c23a6128fed72630ac7": {
      "model_module": "@jupyter-widgets/controls",
      "model_module_version": "1.1.0",
      "model_name": "DescriptionStyleModel",
      "state": {
       "description_width": ""
      }
     },
     "a6db707717084bd98e064729160813cb": {
      "model_module": "@jupyter-widgets/controls",
      "model_module_version": "1.1.0",
      "model_name": "DescriptionStyleModel",
      "state": {
       "description_width": ""
      }
     },
     "a6dde0c38fef49efb25f733d549d75f7": {
      "model_module": "@jupyter-widgets/controls",
      "model_module_version": "1.1.0",
      "model_name": "DescriptionStyleModel",
      "state": {
       "description_width": ""
      }
     },
     "a6e4e615cf024c96b0b19a74e84d6cef": {
      "model_module": "@jupyter-widgets/controls",
      "model_module_version": "1.1.0",
      "model_name": "DescriptionStyleModel",
      "state": {
       "description_width": ""
      }
     },
     "a6f9e3ee75754eecb9e07499d61a606d": {
      "model_module": "@jupyter-widgets/base",
      "model_module_version": "1.0.0",
      "model_name": "LayoutModel",
      "state": {}
     },
     "a6fc76628f134e61baecc5b2f935b09d": {
      "model_module": "@jupyter-widgets/controls",
      "model_module_version": "1.1.0",
      "model_name": "ToggleButtonsModel",
      "state": {
       "_options_labels": [
        "400 MeV/n",
        "800 MeV/n",
        "1500 MeV/n"
       ],
       "button_style": "",
       "description": "Energy:",
       "icons": [],
       "index": 0,
       "layout": "IPY_MODEL_8de4e7cb679a44798964a2c36f75b7a3",
       "style": "IPY_MODEL_e52c9ad6f0f94c16a168ca41d44d2b05",
       "tooltips": [
        "lowest energy",
        "middle energy",
        "highest energy"
       ]
      }
     },
     "a70b0e978e594f1399789e761e60afbf": {
      "model_module": "@jupyter-widgets/controls",
      "model_module_version": "1.1.0",
      "model_name": "ToggleButtonsStyleModel",
      "state": {
       "button_width": "",
       "description_width": ""
      }
     },
     "a715567199b948ed9bf18629dce166b8": {
      "model_module": "@jupyter-widgets/base",
      "model_module_version": "1.0.0",
      "model_name": "LayoutModel",
      "state": {}
     },
     "a736e35fa3074fa386911fcdb54f58e3": {
      "model_module": "@jupyter-widgets/base",
      "model_module_version": "1.0.0",
      "model_name": "LayoutModel",
      "state": {}
     },
     "a73ea27787e845ec9d670ffc57d5fe34": {
      "model_module": "@jupyter-widgets/controls",
      "model_module_version": "1.1.0",
      "model_name": "ToggleButtonsStyleModel",
      "state": {
       "button_width": "",
       "description_width": ""
      }
     },
     "a7559b98612a40d2b03ff7835e62fce8": {
      "model_module": "@jupyter-widgets/controls",
      "model_module_version": "1.1.0",
      "model_name": "CheckboxModel",
      "state": {
       "description": "30°",
       "disabled": false,
       "layout": "IPY_MODEL_e855032a03ab41298ecbce490692b442",
       "style": "IPY_MODEL_3e6868e05b4d42438e495a1ad59c565b",
       "value": true
      }
     },
     "a75b6cfabe5f49bebbcfef46c37b3617": {
      "model_module": "@jupyter-widgets/controls",
      "model_module_version": "1.1.0",
      "model_name": "CheckboxModel",
      "state": {
       "description": "135°",
       "disabled": false,
       "layout": "IPY_MODEL_858ff6cb153941629070dce3e8eab120",
       "style": "IPY_MODEL_4631bef8f06b44778e229ff134e96632",
       "value": true
      }
     },
     "a778cf604d174f4d9efe53ae6dfcc98b": {
      "model_module": "@jupyter-widgets/controls",
      "model_module_version": "1.1.0",
      "model_name": "DescriptionStyleModel",
      "state": {
       "description_width": ""
      }
     },
     "a7823db7be3f4cd48902bd8f6cbba005": {
      "model_module": "@jupyter-widgets/controls",
      "model_module_version": "1.1.0",
      "model_name": "DescriptionStyleModel",
      "state": {
       "description_width": ""
      }
     },
     "a7ac061fcead4b22aea85bf9a2788c5c": {
      "model_module": "@jupyter-widgets/controls",
      "model_module_version": "1.1.0",
      "model_name": "CheckboxModel",
      "state": {
       "description": "135°",
       "disabled": false,
       "layout": "IPY_MODEL_083d6cdb707a4e63bf282c13b7456a14",
       "style": "IPY_MODEL_2203b0e36dc448a6a364d02d9ddc7b10",
       "value": false
      }
     },
     "a7cf71167764452e83be627357958e79": {
      "model_module": "@jupyter-widgets/controls",
      "model_module_version": "1.1.0",
      "model_name": "CheckboxModel",
      "state": {
       "description": "10°",
       "disabled": false,
       "layout": "IPY_MODEL_55619c5dea094e449247ceb4ea2afc58",
       "style": "IPY_MODEL_9c750331100c4339ba5cdad0d8689798",
       "value": true
      }
     },
     "a7e1100ec75e45979025dd2ef79f9371": {
      "model_module": "@jupyter-widgets/controls",
      "model_module_version": "1.1.0",
      "model_name": "LabelModel",
      "state": {
       "layout": "IPY_MODEL_15be3f50cce94b91a4aa3def909f1e33",
       "style": "IPY_MODEL_023d98986734416e92f986009753c584",
       "value": "Select which secondary particle to plot spectra for."
      }
     },
     "a8527311491441dd8de9b71ddc09213b": {
      "model_module": "@jupyter-widgets/controls",
      "model_module_version": "1.1.0",
      "model_name": "ToggleButtonsModel",
      "state": {
       "_options_labels": [
        "P (¹H)",
        "D (²H)",
        "T (³H)",
        "A (⁴He)"
       ],
       "button_style": "",
       "description": "Type:",
       "icons": [],
       "index": 0,
       "layout": "IPY_MODEL_34c7f5a56df04a03a6dc535e5f75739a",
       "style": "IPY_MODEL_2aac0176a49544ad9d78d854909dc5a1",
       "tooltips": [
        "Proton",
        "Deuteron",
        "Triton",
        "Helium-4"
       ]
      }
     },
     "a86e995100d74316a3d0e3db7e535fcc": {
      "model_module": "@jupyter-widgets/base",
      "model_module_version": "1.0.0",
      "model_name": "LayoutModel",
      "state": {}
     },
     "a8841feafea14d99b95f53187891f2ae": {
      "model_module": "@jupyter-widgets/controls",
      "model_module_version": "1.1.0",
      "model_name": "ToggleButtonsModel",
      "state": {
       "_options_labels": [
        "20 g/cm²",
        "40 g/cm²",
        "60 g/cm²"
       ],
       "button_style": "",
       "description": "Thickness:",
       "icons": [],
       "index": 0,
       "layout": "IPY_MODEL_2390edd9b3c642169437648801af5220",
       "style": "IPY_MODEL_f199881453b040ecba836e9210e1e2bd",
       "tooltips": [
        "20 g/cm² Aluminum",
        "40 g/cm² Aluminum",
        "60 g/cm² Aluminum"
       ]
      }
     },
     "a8a2ca2e021d4049b9d303d2eeca3e14": {
      "model_module": "@jupyter-widgets/controls",
      "model_module_version": "1.1.0",
      "model_name": "CheckboxModel",
      "state": {
       "description": "80°",
       "disabled": false,
       "layout": "IPY_MODEL_b134c9403fea4574bd2840c454cb26d7",
       "style": "IPY_MODEL_1e7bec4752ff40afa2b30faaa9181f59",
       "value": false
      }
     },
     "a8c7d47f1a484630a29733c5b4b79d98": {
      "model_module": "@jupyter-widgets/controls",
      "model_module_version": "1.1.0",
      "model_name": "ToggleButtonsModel",
      "state": {
       "_options_labels": [
        "H",
        "He",
        "C",
        "Si",
        "Fe"
       ],
       "button_style": "",
       "description": "Ion:",
       "icons": [],
       "index": 0,
       "layout": "IPY_MODEL_e58a8f5499a64d7d8362340324127d7d",
       "style": "IPY_MODEL_827c1636df9f4da3b9e26740c6b7ea19",
       "tooltips": [
        "Hydrogen",
        "Helium",
        "Carbon",
        "Silicon",
        "Iron"
       ]
      }
     },
     "a8e419868feb40a79cfca7b3f532a7fa": {
      "model_module": "@jupyter-widgets/base",
      "model_module_version": "1.0.0",
      "model_name": "LayoutModel",
      "state": {}
     },
     "a8e63e1dcb4345d2b913355531ac989f": {
      "model_module": "@jupyter-widgets/base",
      "model_module_version": "1.0.0",
      "model_name": "LayoutModel",
      "state": {}
     },
     "a8ff9a8265864ce6b8522a45b3a04d55": {
      "model_module": "@jupyter-widgets/controls",
      "model_module_version": "1.1.0",
      "model_name": "DescriptionStyleModel",
      "state": {
       "description_width": ""
      }
     },
     "a900600b456b46a681fcc9494b7ece95": {
      "model_module": "@jupyter-widgets/controls",
      "model_module_version": "1.1.0",
      "model_name": "DescriptionStyleModel",
      "state": {
       "description_width": ""
      }
     },
     "a909c92eb1cd48299d3eaffaf12d2cc4": {
      "model_module": "@jupyter-widgets/controls",
      "model_module_version": "1.1.0",
      "model_name": "CheckboxModel",
      "state": {
       "description": "10°",
       "disabled": false,
       "layout": "IPY_MODEL_447f53e19b2f4ddf9d2a3f12f6e5636f",
       "style": "IPY_MODEL_7bc3fbb9ab3f45348de818119b4edb4a",
       "value": true
      }
     },
     "a91084f9d3494b6a940831af3dd58f88": {
      "model_module": "@jupyter-widgets/base",
      "model_module_version": "1.0.0",
      "model_name": "LayoutModel",
      "state": {}
     },
     "a918cb0bb85249d1b54b8565dad3f659": {
      "model_module": "@jupyter-widgets/base",
      "model_module_version": "1.0.0",
      "model_name": "LayoutModel",
      "state": {}
     },
     "a9e42351c8da44b9ad978d46ab3d72ab": {
      "model_module": "@jupyter-widgets/controls",
      "model_module_version": "1.1.0",
      "model_name": "DescriptionStyleModel",
      "state": {
       "description_width": ""
      }
     },
     "a9eb32704977437e852c288bee57f477": {
      "model_module": "@jupyter-widgets/base",
      "model_module_version": "1.0.0",
      "model_name": "LayoutModel",
      "state": {}
     },
     "a9ff3c6349dd4e3aa5f9024c95be5218": {
      "model_module": "@jupyter-widgets/controls",
      "model_module_version": "1.1.0",
      "model_name": "CheckboxModel",
      "state": {
       "description": "135°",
       "disabled": false,
       "layout": "IPY_MODEL_d0712f64deb44255bae5800bafb719c0",
       "style": "IPY_MODEL_89eda586ef094d9e9d2cbe3f9c364b32",
       "value": true
      }
     },
     "aa131432c11c43cd9c947c59d810af25": {
      "model_module": "@jupyter-widgets/controls",
      "model_module_version": "1.1.0",
      "model_name": "ToggleButtonsStyleModel",
      "state": {
       "button_width": "",
       "description_width": ""
      }
     },
     "aa1a47aaec0f414d8480b69918503e93": {
      "model_module": "@jupyter-widgets/controls",
      "model_module_version": "1.1.0",
      "model_name": "DescriptionStyleModel",
      "state": {
       "description_width": ""
      }
     },
     "aa35185bf3a34092a2bd1af2cf00e408": {
      "model_module": "@jupyter-widgets/controls",
      "model_module_version": "1.1.0",
      "model_name": "DescriptionStyleModel",
      "state": {
       "description_width": ""
      }
     },
     "aa3cfd405b92404eb2f19d71ca77330c": {
      "model_module": "@jupyter-widgets/controls",
      "model_module_version": "1.1.0",
      "model_name": "DescriptionStyleModel",
      "state": {
       "description_width": ""
      }
     },
     "aa576a24ff1e4532a1ab8eb9fca802c4": {
      "model_module": "@jupyter-widgets/controls",
      "model_module_version": "1.1.0",
      "model_name": "ToggleButtonsStyleModel",
      "state": {
       "button_width": "",
       "description_width": ""
      }
     },
     "aa9ce7dc21004692afd0bf9d3f368c59": {
      "model_module": "@jupyter-widgets/base",
      "model_module_version": "1.0.0",
      "model_name": "LayoutModel",
      "state": {}
     },
     "aaa3a47d844c4b0dac0107764300dd71": {
      "model_module": "@jupyter-widgets/controls",
      "model_module_version": "1.1.0",
      "model_name": "CheckboxModel",
      "state": {
       "description": "80°",
       "disabled": false,
       "layout": "IPY_MODEL_ae9a6cf6bb114d679211456db7d47d11",
       "style": "IPY_MODEL_367b1a0957de43d1b458dacce96a2b0d",
       "value": true
      }
     },
     "aaa63bbb5eb54110b6564cd3b6e94182": {
      "model_module": "@jupyter-widgets/controls",
      "model_module_version": "1.1.0",
      "model_name": "CheckboxModel",
      "state": {
       "description": "32.7°",
       "disabled": false,
       "layout": "IPY_MODEL_d7d04417ef3a4532976d037d0a51da0c",
       "style": "IPY_MODEL_e859ff3fab7f425f9d5d51bb08bb0418",
       "value": true
      }
     },
     "aac3db4e5d1e4f98a69d1cf4938a87d6": {
      "model_module": "@jupyter-widgets/base",
      "model_module_version": "1.0.0",
      "model_name": "LayoutModel",
      "state": {}
     },
     "aacbd410ba604eb5bfa744c5cca3a829": {
      "model_module": "@jupyter-widgets/controls",
      "model_module_version": "1.1.0",
      "model_name": "CheckboxModel",
      "state": {
       "description": "60°",
       "disabled": false,
       "layout": "IPY_MODEL_590c75c872914897a0b6cde58cca7b15",
       "style": "IPY_MODEL_834837e439a34d1fa4c89cc1e7e18944",
       "value": true
      }
     },
     "aae004f179e247eca0f69c2e845884f5": {
      "model_module": "@jupyter-widgets/controls",
      "model_module_version": "1.1.0",
      "model_name": "LabelModel",
      "state": {
       "layout": "IPY_MODEL_ff775fb71b26478da0e11f8d03b303f6",
       "style": "IPY_MODEL_de4ee6f855d746ea968143e1a598b77b",
       "value": "Select the detector angles to plot."
      }
     },
     "aae4131894c542f9a8804e5109bd7c6f": {
      "model_module": "@jupyter-widgets/controls",
      "model_module_version": "1.1.0",
      "model_name": "ToggleButtonsModel",
      "state": {
       "_options_labels": [
        "400 MeV",
        "800 MeV",
        "2500 MeV"
       ],
       "button_style": "",
       "description": "Energy:",
       "icons": [],
       "index": 0,
       "layout": "IPY_MODEL_2fe070cfb385435db6261ac22e7b218f",
       "style": "IPY_MODEL_0a3b209bcf6841b9a433d6e5c3b1a795",
       "tooltips": [
        "lowest energy",
        "middle energy",
        "highest energy"
       ]
      }
     },
     "ab08f3b531ee4b92bbbe6ee1c754c252": {
      "model_module": "@jupyter-widgets/controls",
      "model_module_version": "1.1.0",
      "model_name": "ToggleButtonsStyleModel",
      "state": {
       "button_width": "",
       "description_width": ""
      }
     },
     "ab316c5666524946ae0c172d4473ccf4": {
      "model_module": "@jupyter-widgets/controls",
      "model_module_version": "1.1.0",
      "model_name": "DescriptionStyleModel",
      "state": {
       "description_width": ""
      }
     },
     "ab51b1419f7546d9adedc7d98370b3be": {
      "model_module": "@jupyter-widgets/base",
      "model_module_version": "1.0.0",
      "model_name": "LayoutModel",
      "state": {}
     },
     "ab60a82ccdee43e69c1d0426c2e4b712": {
      "model_module": "@jupyter-widgets/controls",
      "model_module_version": "1.1.0",
      "model_name": "CheckboxModel",
      "state": {
       "description": "60°",
       "disabled": false,
       "layout": "IPY_MODEL_f673c3750a714ce6b241908ebc147d4d",
       "style": "IPY_MODEL_a6cbe10f2dfc4c23a6128fed72630ac7",
       "value": true
      }
     },
     "abba099c8d2346e3b5455ba8b4be4d26": {
      "model_module": "@jupyter-widgets/controls",
      "model_module_version": "1.1.0",
      "model_name": "DescriptionStyleModel",
      "state": {
       "description_width": ""
      }
     },
     "ac1392c5e79241cabcbe2f0b9cdd133a": {
      "model_module": "@jupyter-widgets/base",
      "model_module_version": "1.0.0",
      "model_name": "LayoutModel",
      "state": {}
     },
     "ac178c9f1ab74b948336cbfb2630dc42": {
      "model_module": "@jupyter-widgets/controls",
      "model_module_version": "1.1.0",
      "model_name": "ButtonModel",
      "state": {
       "button_style": "success",
       "description": "Update plot",
       "icon": "paint-brush",
       "layout": "IPY_MODEL_c24a1cfb75f44d6392ee6ea2874d43d0",
       "style": "IPY_MODEL_3d8b79afcd5346e89411d87b293cd799",
       "tooltip": "Click to redraw the plot below with updated options from above."
      }
     },
     "ac2f0828c98f4d179cf83ddf27166b0b": {
      "model_module": "@jupyter-widgets/base",
      "model_module_version": "1.0.0",
      "model_name": "LayoutModel",
      "state": {}
     },
     "ac4aa1f1b1e8453d87f1df70ac524806": {
      "model_module": "@jupyter-widgets/controls",
      "model_module_version": "1.1.0",
      "model_name": "CheckboxModel",
      "state": {
       "description": "10°",
       "disabled": false,
       "layout": "IPY_MODEL_ac1392c5e79241cabcbe2f0b9cdd133a",
       "style": "IPY_MODEL_008d4deaa4f24f778435821053645eab",
       "value": true
      }
     },
     "ac5963eefc4a4f2787971df6efcec6f9": {
      "model_module": "@jupyter-widgets/controls",
      "model_module_version": "1.1.0",
      "model_name": "CheckboxModel",
      "state": {
       "description": "30°",
       "disabled": false,
       "layout": "IPY_MODEL_10eb4b649ea049f6a6685d6b048edfea",
       "style": "IPY_MODEL_b957fd9211284d609f9603993f986749",
       "value": false
      }
     },
     "ac824a4a151342f982e4269c702e3713": {
      "model_module": "@jupyter-widgets/controls",
      "model_module_version": "1.1.0",
      "model_name": "CheckboxModel",
      "state": {
       "description": "PHITS simulated",
       "disabled": false,
       "layout": "IPY_MODEL_87c459b78b604640909d7f732feb1b01",
       "style": "IPY_MODEL_93187ff29a454bffa64ddd10403e4b64",
       "value": true
      }
     },
     "ac9577885a6643f3acdf6df98032a935": {
      "model_module": "@jupyter-widgets/controls",
      "model_module_version": "1.1.0",
      "model_name": "DescriptionStyleModel",
      "state": {
       "description_width": ""
      }
     },
     "aca553dec049411a9613a1df049c60f2": {
      "model_module": "@jupyter-widgets/base",
      "model_module_version": "1.0.0",
      "model_name": "LayoutModel",
      "state": {}
     },
     "acbc4bb96b4c494ab595aaeafc032f58": {
      "model_module": "@jupyter-widgets/controls",
      "model_module_version": "1.1.0",
      "model_name": "CheckboxModel",
      "state": {
       "description": "10°",
       "disabled": false,
       "layout": "IPY_MODEL_6b6887f98a3e425fb0be0ae08a8fee56",
       "style": "IPY_MODEL_0097f451415149d5a8a5b91cd0fcde5b",
       "value": true
      }
     },
     "ad5645d902d742a1803f4b773391fcc6": {
      "model_module": "@jupyter-widgets/controls",
      "model_module_version": "1.1.0",
      "model_name": "CheckboxModel",
      "state": {
       "description": "60°",
       "disabled": false,
       "layout": "IPY_MODEL_e70fff3b1c7d496b87c0f5a08a5d3555",
       "style": "IPY_MODEL_f26b555c18674641ac56b038c0e17764",
       "value": true
      }
     },
     "ad97f50377b04667a22d5c1ff7f846a1": {
      "model_module": "@jupyter-widgets/controls",
      "model_module_version": "1.1.0",
      "model_name": "CheckboxModel",
      "state": {
       "description": "135°",
       "disabled": false,
       "layout": "IPY_MODEL_5929c186d9eb48c99b0e76d2f047ecee",
       "style": "IPY_MODEL_a6dde0c38fef49efb25f733d549d75f7",
       "value": true
      }
     },
     "adca284843d044cabca92fd491c10dac": {
      "model_module": "@jupyter-widgets/controls",
      "model_module_version": "1.1.0",
      "model_name": "CheckboxModel",
      "state": {
       "description": "30°",
       "disabled": false,
       "layout": "IPY_MODEL_ef4bd5c55a7c45cc9ef95a2d4270d9a7",
       "style": "IPY_MODEL_4fa6bd4d322749fe891b1e8b7edd436a",
       "value": false
      }
     },
     "add3906993124ea1b4e1b692d9bd831b": {
      "model_module": "@jupyter-widgets/controls",
      "model_module_version": "1.1.0",
      "model_name": "DescriptionStyleModel",
      "state": {
       "description_width": ""
      }
     },
     "adeb596f502d42449d8811e70bbae8b2": {
      "model_module": "@jupyter-widgets/base",
      "model_module_version": "1.0.0",
      "model_name": "LayoutModel",
      "state": {}
     },
     "ae00635134a94eb785d52a4eb527ed7a": {
      "model_module": "@jupyter-widgets/controls",
      "model_module_version": "1.1.0",
      "model_name": "DescriptionStyleModel",
      "state": {
       "description_width": ""
      }
     },
     "ae04b1d2163a40a8bc5de76789e0d27d": {
      "model_module": "@jupyter-widgets/base",
      "model_module_version": "1.0.0",
      "model_name": "LayoutModel",
      "state": {}
     },
     "ae7dcbfed4f64731b92fa302d76824a5": {
      "model_module": "@jupyter-widgets/base",
      "model_module_version": "1.0.0",
      "model_name": "LayoutModel",
      "state": {}
     },
     "ae817525d46844a189196d2f31d7ef57": {
      "model_module": "@jupyter-widgets/controls",
      "model_module_version": "1.1.0",
      "model_name": "ToggleButtonsModel",
      "state": {
       "_options_labels": [
        "N (¹n)",
        "NDC (¹n)",
        "P (¹H)",
        "D (²H)"
       ],
       "button_style": "",
       "description": "Particle:",
       "icons": [],
       "index": 0,
       "layout": "IPY_MODEL_46158989dffc448fbbd4cbe5f5e4dd4f",
       "style": "IPY_MODEL_b2a470e8f4a848a08760b7e4ce68216b",
       "tooltips": [
        "Neutron",
        "Back Target Neutron",
        "Proton",
        "Deuteron"
       ]
      }
     },
     "ae9a6cf6bb114d679211456db7d47d11": {
      "model_module": "@jupyter-widgets/base",
      "model_module_version": "1.0.0",
      "model_name": "LayoutModel",
      "state": {}
     },
     "aeeface96ece4888a98b7db93c45d416": {
      "model_module": "@jupyter-widgets/controls",
      "model_module_version": "1.1.0",
      "model_name": "DescriptionStyleModel",
      "state": {
       "description_width": ""
      }
     },
     "aef07b9a3bf543f0ad01653eb45d6240": {
      "model_module": "@jupyter-widgets/controls",
      "model_module_version": "1.1.0",
      "model_name": "CheckboxModel",
      "state": {
       "description": "12.7°",
       "disabled": false,
       "layout": "IPY_MODEL_e7354a7351dc4a3eb056a1ebe167219f",
       "style": "IPY_MODEL_295a0c1f17204f57beb0788ecce78f07",
       "value": true
      }
     },
     "aef4391aa0ee4ab78258b8820f439057": {
      "model_module": "@jupyter-widgets/base",
      "model_module_version": "1.0.0",
      "model_name": "LayoutModel",
      "state": {}
     },
     "af0482e6032a4b5c895c578b92a107b1": {
      "model_module": "@jupyter-widgets/base",
      "model_module_version": "1.0.0",
      "model_name": "LayoutModel",
      "state": {}
     },
     "af447f0dfaba4018b93633549c50a98c": {
      "model_module": "@jupyter-widgets/base",
      "model_module_version": "1.0.0",
      "model_name": "LayoutModel",
      "state": {}
     },
     "afd94890969542849d0014c83d9f710e": {
      "model_module": "@jupyter-widgets/controls",
      "model_module_version": "1.1.0",
      "model_name": "CheckboxModel",
      "state": {
       "description": "30°",
       "disabled": false,
       "layout": "IPY_MODEL_b8d668ae50cd4ec0b0e9768bf13ebaee",
       "style": "IPY_MODEL_644ed6cc3d2144fdaa33e0de942764ca",
       "value": false
      }
     },
     "b04672d85a424837b02b239fd6d93306": {
      "model_module": "@jupyter-widgets/controls",
      "model_module_version": "1.1.0",
      "model_name": "DescriptionStyleModel",
      "state": {
       "description_width": ""
      }
     },
     "b066e3a83ac34f1a8f7719e1454d5875": {
      "model_module": "@jupyter-widgets/base",
      "model_module_version": "1.0.0",
      "model_name": "LayoutModel",
      "state": {}
     },
     "b06735c61c254823b8261980ec3395a3": {
      "model_module": "@jupyter-widgets/controls",
      "model_module_version": "1.1.0",
      "model_name": "DescriptionStyleModel",
      "state": {
       "description_width": ""
      }
     },
     "b06e725ffc5a4f68af22e7bbbb5e9aa9": {
      "model_module": "@jupyter-widgets/controls",
      "model_module_version": "1.1.0",
      "model_name": "CheckboxModel",
      "state": {
       "description": "10°",
       "disabled": false,
       "layout": "IPY_MODEL_2ae593c4383e45e9ae578cacbd91a07c",
       "style": "IPY_MODEL_18b949db5fe34bef96f34c741ec2e158",
       "value": true
      }
     },
     "b0850357b9f3483ebcb764038629e4b6": {
      "model_module": "@jupyter-widgets/base",
      "model_module_version": "1.0.0",
      "model_name": "LayoutModel",
      "state": {}
     },
     "b134c9403fea4574bd2840c454cb26d7": {
      "model_module": "@jupyter-widgets/base",
      "model_module_version": "1.0.0",
      "model_name": "LayoutModel",
      "state": {}
     },
     "b156ec5fd56541f6830dddbad5917e66": {
      "model_module": "@jupyter-widgets/controls",
      "model_module_version": "1.1.0",
      "model_name": "CheckboxModel",
      "state": {
       "description": "80°",
       "disabled": false,
       "layout": "IPY_MODEL_1dad1907f0694a15b1777d2307d3c28f",
       "style": "IPY_MODEL_846897d5be034873bc66dd9153ee457a",
       "value": true
      }
     },
     "b159994f2523454c849777345beef154": {
      "model_module": "@jupyter-widgets/base",
      "model_module_version": "1.0.0",
      "model_name": "LayoutModel",
      "state": {}
     },
     "b190e7ee1cc6456b9d4bb6b79f1a5050": {
      "model_module": "@jupyter-widgets/controls",
      "model_module_version": "1.1.0",
      "model_name": "DescriptionStyleModel",
      "state": {
       "description_width": ""
      }
     },
     "b1b2e4a172a0450c8398fd8c63426533": {
      "model_module": "@jupyter-widgets/base",
      "model_module_version": "1.0.0",
      "model_name": "LayoutModel",
      "state": {}
     },
     "b1e44077f2bb4e8c83ec53c33e3658c0": {
      "model_module": "@jupyter-widgets/base",
      "model_module_version": "1.0.0",
      "model_name": "LayoutModel",
      "state": {}
     },
     "b1f1994c3de742f98d80525a0dc6cdb8": {
      "model_module": "@jupyter-widgets/base",
      "model_module_version": "1.0.0",
      "model_name": "LayoutModel",
      "state": {}
     },
     "b1fc77d5024944e49d73df03a1d5033b": {
      "model_module": "@jupyter-widgets/base",
      "model_module_version": "1.0.0",
      "model_name": "LayoutModel",
      "state": {}
     },
     "b256a51a15734075b996a26f220eea7f": {
      "model_module": "@jupyter-widgets/base",
      "model_module_version": "1.0.0",
      "model_name": "LayoutModel",
      "state": {}
     },
     "b25d8c8e0874442ab49817d2a1a7778b": {
      "model_module": "@jupyter-widgets/controls",
      "model_module_version": "1.1.0",
      "model_name": "LabelModel",
      "state": {
       "layout": "IPY_MODEL_8b0eefb472c1489c9499bfca2575e77e",
       "style": "IPY_MODEL_2840e65aec3c47d3837a37a936e92cd1",
       "value": "Select the detector angles to plot."
      }
     },
     "b27880a92be84b8ebaf17bc82d752646": {
      "model_module": "@jupyter-widgets/controls",
      "model_module_version": "1.1.0",
      "model_name": "CheckboxModel",
      "state": {
       "description": "135°",
       "disabled": false,
       "layout": "IPY_MODEL_428942ba674d46a2bf6cdd61a85e65eb",
       "style": "IPY_MODEL_33c23a4720244974b92f5a5e7e3f3fd9",
       "value": false
      }
     },
     "b29216362c6d460ab5757f977fc97956": {
      "model_module": "@jupyter-widgets/controls",
      "model_module_version": "1.1.0",
      "model_name": "LabelModel",
      "state": {
       "layout": "IPY_MODEL_0abffa0061eb431eadd0b537a048d95d",
       "style": "IPY_MODEL_1ba608492b364dd0bee498de820a823f",
       "value": "Select which sets of data to display."
      }
     },
     "b2a39a040a6544d99cfd7e4863d4a141": {
      "model_module": "@jupyter-widgets/base",
      "model_module_version": "1.0.0",
      "model_name": "LayoutModel",
      "state": {}
     },
     "b2a470e8f4a848a08760b7e4ce68216b": {
      "model_module": "@jupyter-widgets/controls",
      "model_module_version": "1.1.0",
      "model_name": "ToggleButtonsStyleModel",
      "state": {
       "button_width": "",
       "description_width": ""
      }
     },
     "b2c2393f3cc943afa4c0a599f866c96b": {
      "model_module": "@jupyter-widgets/base",
      "model_module_version": "1.0.0",
      "model_name": "LayoutModel",
      "state": {}
     },
     "b3311dbc66674b6daaee1b5cd76ce614": {
      "model_module": "@jupyter-widgets/controls",
      "model_module_version": "1.1.0",
      "model_name": "DescriptionStyleModel",
      "state": {
       "description_width": ""
      }
     },
     "b34c0b45a9364bf4a77dbe00b1b856bf": {
      "model_module": "@jupyter-widgets/base",
      "model_module_version": "1.0.0",
      "model_name": "LayoutModel",
      "state": {}
     },
     "b3660327e0444359a041733a7b545b85": {
      "model_module": "@jupyter-widgets/controls",
      "model_module_version": "1.1.0",
      "model_name": "LabelModel",
      "state": {
       "layout": "IPY_MODEL_1b7bbc4fc6784941b0bb170af22bc7b8",
       "style": "IPY_MODEL_46da5a87136a4c1aab5938de6e45b620",
       "value": "Select which secondary particle to plot spectra for."
      }
     },
     "b3986e02e21e4ee1a1966105d74846a0": {
      "model_module": "@jupyter-widgets/base",
      "model_module_version": "1.0.0",
      "model_name": "LayoutModel",
      "state": {}
     },
     "b3f675f793e84eb8af82213e3f6ecee1": {
      "model_module": "@jupyter-widgets/controls",
      "model_module_version": "1.1.0",
      "model_name": "DescriptionStyleModel",
      "state": {
       "description_width": ""
      }
     },
     "b3fd0342b9c746f09a3e932129aa511a": {
      "model_module": "@jupyter-widgets/controls",
      "model_module_version": "1.1.0",
      "model_name": "CheckboxModel",
      "state": {
       "description": "60°",
       "disabled": false,
       "layout": "IPY_MODEL_395446e8e7c2410bb4bc4027eae2a0f3",
       "style": "IPY_MODEL_0d68d719bd2542f7a4a21bfdbf9e730f",
       "value": true
      }
     },
     "b42f68c91453466f98cc3c71ddde5df8": {
      "model_module": "@jupyter-widgets/controls",
      "model_module_version": "1.1.0",
      "model_name": "DescriptionStyleModel",
      "state": {
       "description_width": ""
      }
     },
     "b430db24d0cc4ea682e31554dad28dba": {
      "model_module": "@jupyter-widgets/base",
      "model_module_version": "1.0.0",
      "model_name": "LayoutModel",
      "state": {}
     },
     "b453f597f5f747879bbb7e51d7941077": {
      "model_module": "@jupyter-widgets/controls",
      "model_module_version": "1.1.0",
      "model_name": "DescriptionStyleModel",
      "state": {
       "description_width": ""
      }
     },
     "b4570addcf0d4ba69011271c073dbf3c": {
      "model_module": "@jupyter-widgets/base",
      "model_module_version": "1.0.0",
      "model_name": "LayoutModel",
      "state": {}
     },
     "b47b0b519fa84394b5a2796345eee4c6": {
      "model_module": "@jupyter-widgets/base",
      "model_module_version": "1.0.0",
      "model_name": "LayoutModel",
      "state": {}
     },
     "b5217da0eb624c05840ab91ea1d96f4e": {
      "model_module": "@jupyter-widgets/controls",
      "model_module_version": "1.1.0",
      "model_name": "CheckboxModel",
      "state": {
       "description": "135°",
       "disabled": false,
       "layout": "IPY_MODEL_09f1f55f355d408eb0e5a49eba19f462",
       "style": "IPY_MODEL_23c1b57dfe8f4761b1563240ada6a5b9",
       "value": true
      }
     },
     "b53b7f65937342619cb1be0545c449f6": {
      "model_module": "@jupyter-widgets/controls",
      "model_module_version": "1.1.0",
      "model_name": "LabelModel",
      "state": {
       "layout": "IPY_MODEL_4b3e0d7cc3a34cd19bab3b2ed36231f6",
       "style": "IPY_MODEL_0a0d9cee4f61455e902848baa25f71d3",
       "value": "Select which secondary particle to plot spectra for."
      }
     },
     "b55ba0c4ae6f4a6799d320c9b45bfdf5": {
      "model_module": "@jupyter-widgets/controls",
      "model_module_version": "1.1.0",
      "model_name": "DescriptionStyleModel",
      "state": {
       "description_width": ""
      }
     },
     "b566ff860baa48be8cdc1426984241e2": {
      "model_module": "@jupyter-widgets/controls",
      "model_module_version": "1.1.0",
      "model_name": "CheckboxModel",
      "state": {
       "description": "12.7°",
       "disabled": false,
       "layout": "IPY_MODEL_047a017af03e49b6b3d64477ccdbb467",
       "style": "IPY_MODEL_237c8b13f52c471ebb970a663c67e096",
       "value": true
      }
     },
     "b576ea33eaae4f5881e5e4345ac108c8": {
      "model_module": "@jupyter-widgets/controls",
      "model_module_version": "1.1.0",
      "model_name": "DescriptionStyleModel",
      "state": {
       "description_width": ""
      }
     },
     "b57b30fb574d4bc390c13d021a91cb9f": {
      "model_module": "@jupyter-widgets/controls",
      "model_module_version": "1.1.0",
      "model_name": "ToggleButtonsStyleModel",
      "state": {
       "button_width": "",
       "description_width": ""
      }
     },
     "b5f2154c6ab6493891178428e440d1b4": {
      "model_module": "@jupyter-widgets/controls",
      "model_module_version": "1.1.0",
      "model_name": "LabelModel",
      "state": {
       "layout": "IPY_MODEL_9205c477a1be4469b22d1997d942407d",
       "style": "IPY_MODEL_7d80945944f749c38f55ca99a4d8e702",
       "value": "Select the detector angles to plot."
      }
     },
     "b607a8a1011f41e79657979eed2d5d47": {
      "model_module": "@jupyter-widgets/base",
      "model_module_version": "1.0.0",
      "model_name": "LayoutModel",
      "state": {}
     },
     "b61af8bb6c014c1685e4e5c56f1af885": {
      "model_module": "@jupyter-widgets/controls",
      "model_module_version": "1.1.0",
      "model_name": "CheckboxModel",
      "state": {
       "description": "45°",
       "disabled": false,
       "layout": "IPY_MODEL_0df35494584e4aa2ae0f69fa4df9264c",
       "style": "IPY_MODEL_772e5375e9884cc59b06095fd14fa29c",
       "value": true
      }
     },
     "b65c01657bd649c8b8b1c5021cec090e": {
      "model_module": "@jupyter-widgets/base",
      "model_module_version": "1.0.0",
      "model_name": "LayoutModel",
      "state": {}
     },
     "b674b2d7269d422ca8de761bb917d833": {
      "model_module": "@jupyter-widgets/controls",
      "model_module_version": "1.1.0",
      "model_name": "LabelModel",
      "state": {
       "layout": "IPY_MODEL_8d01d2f5c2274b13984798d5294ef8a5",
       "style": "IPY_MODEL_c8ae63bb7c01400db0e6029877fcd041",
       "value": "Select which secondary particle to plot spectra for."
      }
     },
     "b67cce65aca44fba99692642db417b07": {
      "model_module": "@jupyter-widgets/base",
      "model_module_version": "1.0.0",
      "model_name": "LayoutModel",
      "state": {}
     },
     "b6a6026f9a484957a255fc96600c9c14": {
      "model_module": "@jupyter-widgets/base",
      "model_module_version": "1.0.0",
      "model_name": "LayoutModel",
      "state": {}
     },
     "b6afb6b7e2334252b59396dc1689c01a": {
      "model_module": "@jupyter-widgets/base",
      "model_module_version": "1.0.0",
      "model_name": "LayoutModel",
      "state": {}
     },
     "b6c24efdc53a4660a49ce93bba5de96a": {
      "model_module": "@jupyter-widgets/controls",
      "model_module_version": "1.1.0",
      "model_name": "ToggleButtonsStyleModel",
      "state": {
       "button_width": "",
       "description_width": ""
      }
     },
     "b6ca782bee7b416ab05bbad8e0002595": {
      "model_module": "@jupyter-widgets/controls",
      "model_module_version": "1.1.0",
      "model_name": "DescriptionStyleModel",
      "state": {
       "description_width": ""
      }
     },
     "b7be33966ed84c308844b092b0c1794b": {
      "model_module": "@jupyter-widgets/controls",
      "model_module_version": "1.1.0",
      "model_name": "LabelModel",
      "state": {
       "layout": "IPY_MODEL_7e75049786dd41599baa59cfbe1fc39b",
       "style": "IPY_MODEL_c678569758de4f529b9236ee5c8403d5",
       "value": "Select which secondary particle to plot spectra for."
      }
     },
     "b7d90552fa1a42b7b0e7aee76ca65e5f": {
      "model_module": "@jupyter-widgets/base",
      "model_module_version": "1.0.0",
      "model_name": "LayoutModel",
      "state": {}
     },
     "b8108655ca854fd99c5f09e3351079e7": {
      "model_module": "@jupyter-widgets/controls",
      "model_module_version": "1.1.0",
      "model_name": "LabelModel",
      "state": {
       "layout": "IPY_MODEL_d5cea0698b5549ff91278b8edbf8403c",
       "style": "IPY_MODEL_94b023f46072463da950114129668831",
       "value": "Select which secondary particle to plot spectra for."
      }
     },
     "b8297bde69954b1fad28c2af975eeb32": {
      "model_module": "@jupyter-widgets/base",
      "model_module_version": "1.0.0",
      "model_name": "LayoutModel",
      "state": {}
     },
     "b8344f383a404edcbad1b84fd6237079": {
      "model_module": "@jupyter-widgets/base",
      "model_module_version": "1.0.0",
      "model_name": "LayoutModel",
      "state": {}
     },
     "b856131f1d914d269eb6add2af93b1da": {
      "model_module": "@jupyter-widgets/controls",
      "model_module_version": "1.1.0",
      "model_name": "CheckboxModel",
      "state": {
       "description": "45°",
       "disabled": false,
       "layout": "IPY_MODEL_056247fa572144639545bed9724d980c",
       "style": "IPY_MODEL_1444a36731094071b713ff974db02236",
       "value": true
      }
     },
     "b88e9620565a40ab941bc49f29829681": {
      "model_module": "@jupyter-widgets/controls",
      "model_module_version": "1.1.0",
      "model_name": "DescriptionStyleModel",
      "state": {
       "description_width": ""
      }
     },
     "b897da7bbb4b482da822f91e6f777254": {
      "model_module": "@jupyter-widgets/base",
      "model_module_version": "1.0.0",
      "model_name": "LayoutModel",
      "state": {}
     },
     "b8c1fc0e080f4c32b4e9b22cf32efc54": {
      "model_module": "@jupyter-widgets/controls",
      "model_module_version": "1.1.0",
      "model_name": "DescriptionStyleModel",
      "state": {
       "description_width": ""
      }
     },
     "b8d668ae50cd4ec0b0e9768bf13ebaee": {
      "model_module": "@jupyter-widgets/base",
      "model_module_version": "1.0.0",
      "model_name": "LayoutModel",
      "state": {}
     },
     "b8dff6def2614a08a4261fa0559edf8f": {
      "model_module": "@jupyter-widgets/base",
      "model_module_version": "1.0.0",
      "model_name": "LayoutModel",
      "state": {}
     },
     "b92f010ba6644ef09f689749aaef6c55": {
      "model_module": "@jupyter-widgets/controls",
      "model_module_version": "1.1.0",
      "model_name": "ToggleButtonsModel",
      "state": {
       "_options_labels": [
        "20 g/cm²",
        "40 g/cm²",
        "60 g/cm²"
       ],
       "button_style": "",
       "description": "Thickness:",
       "icons": [],
       "index": 0,
       "layout": "IPY_MODEL_684604c74c48451cb8d88cce812fa285",
       "style": "IPY_MODEL_a26a19e574a74b3aad7172dac323e62c",
       "tooltips": [
        "20 g/cm² Aluminum",
        "40 g/cm² Aluminum",
        "60 g/cm² Aluminum"
       ]
      }
     },
     "b9316152f11b4e6abb675239c77ba00d": {
      "model_module": "@jupyter-widgets/controls",
      "model_module_version": "1.1.0",
      "model_name": "CheckboxModel",
      "state": {
       "description": "60°",
       "disabled": false,
       "layout": "IPY_MODEL_c247e4d27db645cdbb1e7153192027f9",
       "style": "IPY_MODEL_d4b9f633fd8e436691e847affb28e00e",
       "value": true
      }
     },
     "b949026b8c67487686303947e66a0280": {
      "model_module": "@jupyter-widgets/controls",
      "model_module_version": "1.1.0",
      "model_name": "ToggleButtonsStyleModel",
      "state": {
       "button_width": "",
       "description_width": ""
      }
     },
     "b957fd9211284d609f9603993f986749": {
      "model_module": "@jupyter-widgets/controls",
      "model_module_version": "1.1.0",
      "model_name": "DescriptionStyleModel",
      "state": {
       "description_width": ""
      }
     },
     "b9990a2b49b6435698c983f95dffee98": {
      "model_module": "@jupyter-widgets/controls",
      "model_module_version": "1.1.0",
      "model_name": "CheckboxModel",
      "state": {
       "description": "45°",
       "disabled": false,
       "layout": "IPY_MODEL_c14dc0adba2447e4baf73e910a05fa09",
       "style": "IPY_MODEL_c215f301a28d414e99b205b3675a75b2",
       "value": true
      }
     },
     "b9a295703a434006a11d43612918cd24": {
      "model_module": "@jupyter-widgets/controls",
      "model_module_version": "1.1.0",
      "model_name": "LabelModel",
      "state": {
       "layout": "IPY_MODEL_d1ac398fa03e44a19539a04c4ceeade0",
       "style": "IPY_MODEL_562a8ee6c510478180bbe9768376706b",
       "value": "Select the detector angles to plot."
      }
     },
     "b9dab9d17bf64a35a64df1f99eb71dff": {
      "model_module": "@jupyter-widgets/controls",
      "model_module_version": "1.1.0",
      "model_name": "LabelModel",
      "state": {
       "layout": "IPY_MODEL_1bc61067e7e84ec4893204250a69454a",
       "style": "IPY_MODEL_75b462689dd34b93816d80b241ce3836",
       "value": "Select which secondary particle to plot spectra for."
      }
     },
     "b9fe73a9d00447f5a6611838aa68771a": {
      "model_module": "@jupyter-widgets/base",
      "model_module_version": "1.0.0",
      "model_name": "LayoutModel",
      "state": {}
     },
     "ba5974914274434e849a78b98524392b": {
      "model_module": "@jupyter-widgets/base",
      "model_module_version": "1.0.0",
      "model_name": "LayoutModel",
      "state": {}
     },
     "ba69a78e6aeb4bbea77b34d2f431ded8": {
      "model_module": "@jupyter-widgets/controls",
      "model_module_version": "1.1.0",
      "model_name": "DescriptionStyleModel",
      "state": {
       "description_width": ""
      }
     },
     "ba722835f7ba445792a8f5734717ca5e": {
      "model_module": "@jupyter-widgets/base",
      "model_module_version": "1.0.0",
      "model_name": "LayoutModel",
      "state": {}
     },
     "ba78bc8a1130442f9a4edeca1e7ac020": {
      "model_module": "@jupyter-widgets/controls",
      "model_module_version": "1.1.0",
      "model_name": "CheckboxModel",
      "state": {
       "description": "60°",
       "disabled": false,
       "layout": "IPY_MODEL_38c4777f06d8457d84f1bb3212e9c5a4",
       "style": "IPY_MODEL_2c1a48858de5405496aade8f31332dc4",
       "value": true
      }
     },
     "ba7e0728ba3d417ca8231f82f6648646": {
      "model_module": "@jupyter-widgets/base",
      "model_module_version": "1.0.0",
      "model_name": "LayoutModel",
      "state": {}
     },
     "ba8a10037e434f2aa71abde4f5d250dd": {
      "model_module": "@jupyter-widgets/controls",
      "model_module_version": "1.1.0",
      "model_name": "DescriptionStyleModel",
      "state": {
       "description_width": ""
      }
     },
     "baa9ddbc265546269ba4c9d6de39ae5a": {
      "model_module": "@jupyter-widgets/controls",
      "model_module_version": "1.1.0",
      "model_name": "DescriptionStyleModel",
      "state": {
       "description_width": ""
      }
     },
     "bae7a6f7fe1a4131a2844ed828976a30": {
      "model_module": "@jupyter-widgets/controls",
      "model_module_version": "1.1.0",
      "model_name": "DescriptionStyleModel",
      "state": {
       "description_width": ""
      }
     },
     "baf6d63299f54108a883c23ac2fe5f20": {
      "model_module": "@jupyter-widgets/base",
      "model_module_version": "1.0.0",
      "model_name": "LayoutModel",
      "state": {}
     },
     "bb0ee65ce4894fc79a7cad5d70b7b308": {
      "model_module": "@jupyter-widgets/controls",
      "model_module_version": "1.1.0",
      "model_name": "DescriptionStyleModel",
      "state": {
       "description_width": ""
      }
     },
     "bb2cd9b121534a8290c6451b95d7d29c": {
      "model_module": "@jupyter-widgets/controls",
      "model_module_version": "1.1.0",
      "model_name": "DescriptionStyleModel",
      "state": {
       "description_width": ""
      }
     },
     "bb9f995dec93484fbc27fa706f5fd3f1": {
      "model_module": "@jupyter-widgets/controls",
      "model_module_version": "1.1.0",
      "model_name": "DescriptionStyleModel",
      "state": {
       "description_width": ""
      }
     },
     "bbb5f1f4d7e24b1a81fd951913eb0c43": {
      "model_module": "@jupyter-widgets/base",
      "model_module_version": "1.0.0",
      "model_name": "LayoutModel",
      "state": {}
     },
     "bbfdb7e282fb4cf7a8c4f45ee8f7158b": {
      "model_module": "@jupyter-widgets/base",
      "model_module_version": "1.0.0",
      "model_name": "LayoutModel",
      "state": {}
     },
     "bc51dbf7d6b44cb0861568d60899abdf": {
      "model_module": "@jupyter-widgets/base",
      "model_module_version": "1.0.0",
      "model_name": "LayoutModel",
      "state": {}
     },
     "bc66069ba2424e408276de2b0e664572": {
      "model_module": "@jupyter-widgets/base",
      "model_module_version": "1.0.0",
      "model_name": "LayoutModel",
      "state": {}
     },
     "bcb669779e704f5bbc7005e2a8fe5f34": {
      "model_module": "@jupyter-widgets/controls",
      "model_module_version": "1.1.0",
      "model_name": "DescriptionStyleModel",
      "state": {
       "description_width": ""
      }
     },
     "bd362c07cd334d70bd7f4785fc3d74b8": {
      "model_module": "@jupyter-widgets/controls",
      "model_module_version": "1.1.0",
      "model_name": "LabelModel",
      "state": {
       "layout": "IPY_MODEL_3f65a85a160a4441a7874fdb881d8141",
       "style": "IPY_MODEL_9a782c49ef184e6187246afe41090552",
       "value": "Select projectile ion energy."
      }
     },
     "bd41122844de4aae8b4b30b5db539440": {
      "model_module": "@jupyter-widgets/controls",
      "model_module_version": "1.1.0",
      "model_name": "LabelModel",
      "state": {
       "layout": "IPY_MODEL_16826bc0ce984138840e74701681d5b5",
       "style": "IPY_MODEL_04f6f0b7ec3144c382a4cc7cc0382006",
       "value": "Select which secondary particle to plot spectra for."
      }
     },
     "bd483a3dc18d413ea212d738f4af43c7": {
      "model_module": "@jupyter-widgets/controls",
      "model_module_version": "1.1.0",
      "model_name": "LabelModel",
      "state": {
       "layout": "IPY_MODEL_16f7563b15f24961b00e03182136e5e0",
       "style": "IPY_MODEL_89ba51ac47ff491199111cd3336fdf93",
       "value": "Select projectile ion species and energy."
      }
     },
     "bd5febe9c93d4f3d9f7c0a2de919bdcd": {
      "model_module": "@jupyter-widgets/controls",
      "model_module_version": "1.1.0",
      "model_name": "LabelModel",
      "state": {
       "layout": "IPY_MODEL_7bd7ac599ac74a43b9d70028a1cfbf6b",
       "style": "IPY_MODEL_55e1e3be375a42268d92b16cccceeff0",
       "value": "Select projectile ion energy."
      }
     },
     "bda8a0b7dba3496ba7ce9e542d024565": {
      "model_module": "@jupyter-widgets/base",
      "model_module_version": "1.0.0",
      "model_name": "LayoutModel",
      "state": {}
     },
     "bdbce8b329e84bacadec6d2e96f30b1e": {
      "model_module": "@jupyter-widgets/base",
      "model_module_version": "1.0.0",
      "model_name": "LayoutModel",
      "state": {}
     },
     "bdf78436e9c142c9a60aa393d33ca884": {
      "model_module": "@jupyter-widgets/base",
      "model_module_version": "1.0.0",
      "model_name": "LayoutModel",
      "state": {}
     },
     "be7c1d76834143be9f8d17152e78cf48": {
      "model_module": "@jupyter-widgets/controls",
      "model_module_version": "1.1.0",
      "model_name": "DescriptionStyleModel",
      "state": {
       "description_width": ""
      }
     },
     "be7e7da3f74547e9b6d4c1ebe08afb4a": {
      "model_module": "@jupyter-widgets/base",
      "model_module_version": "1.0.0",
      "model_name": "LayoutModel",
      "state": {}
     },
     "beab15b6f69046b9a9896a6d4c041455": {
      "model_module": "@jupyter-widgets/controls",
      "model_module_version": "1.1.0",
      "model_name": "CheckboxModel",
      "state": {
       "description": "MCNP simulated",
       "disabled": false,
       "layout": "IPY_MODEL_85f344bca2d2496c920f8d78b4cd6a77",
       "style": "IPY_MODEL_3ab5122a8d864d1d9bbb389b35e1ab2d",
       "value": true
      }
     },
     "bec0a54e31b749e9ad4b1152e11a6e85": {
      "model_module": "@jupyter-widgets/base",
      "model_module_version": "1.0.0",
      "model_name": "LayoutModel",
      "state": {}
     },
     "bf33cefc9a6c478fadc7163128193859": {
      "model_module": "@jupyter-widgets/controls",
      "model_module_version": "1.1.0",
      "model_name": "DescriptionStyleModel",
      "state": {
       "description_width": ""
      }
     },
     "bf382fe9a9d94fe6afae769e4d07fb7e": {
      "model_module": "@jupyter-widgets/controls",
      "model_module_version": "1.1.0",
      "model_name": "DescriptionStyleModel",
      "state": {
       "description_width": ""
      }
     },
     "bf3f53a943e7415d8dcc29ce937d5d99": {
      "model_module": "@jupyter-widgets/base",
      "model_module_version": "1.0.0",
      "model_name": "LayoutModel",
      "state": {}
     },
     "bf46a752abcc4d5fbf32245fdf95c4c6": {
      "model_module": "@jupyter-widgets/controls",
      "model_module_version": "1.1.0",
      "model_name": "DescriptionStyleModel",
      "state": {
       "description_width": ""
      }
     },
     "bfa9678962414ce1a91370a38ecd8bea": {
      "model_module": "@jupyter-widgets/controls",
      "model_module_version": "1.1.0",
      "model_name": "CheckboxModel",
      "state": {
       "description": "45°",
       "disabled": false,
       "layout": "IPY_MODEL_72fe73391da34aa7b16dcf466b9d7dcc",
       "style": "IPY_MODEL_84bb49288518474f8493046eb8864d73",
       "value": true
      }
     },
     "bfd6c883ab654524b99c3f030206e901": {
      "model_module": "@jupyter-widgets/base",
      "model_module_version": "1.0.0",
      "model_name": "LayoutModel",
      "state": {}
     },
     "bffadc0fdad34452a4d2a071f33aced7": {
      "model_module": "@jupyter-widgets/controls",
      "model_module_version": "1.1.0",
      "model_name": "CheckboxModel",
      "state": {
       "description": "80°",
       "disabled": false,
       "layout": "IPY_MODEL_53f0713094b941d09069608eb0b7e26c",
       "style": "IPY_MODEL_e10661569efd495da1417ba600cbe9cb",
       "value": true
      }
     },
     "c0022b5007774bf79c4d4b1687aa6774": {
      "model_module": "@jupyter-widgets/controls",
      "model_module_version": "1.1.0",
      "model_name": "CheckboxModel",
      "state": {
       "description": "30°",
       "disabled": false,
       "layout": "IPY_MODEL_fb4e6dcac5164de5891986bbceb3509d",
       "style": "IPY_MODEL_3d95b66ff94d442283299aecf4512049",
       "value": false
      }
     },
     "c01c78719669455786f6a3d7f97a34f2": {
      "model_module": "@jupyter-widgets/controls",
      "model_module_version": "1.1.0",
      "model_name": "ToggleButtonsStyleModel",
      "state": {
       "button_width": "",
       "description_width": ""
      }
     },
     "c028581d290146adb6944ce81d6a8445": {
      "model_module": "@jupyter-widgets/base",
      "model_module_version": "1.0.0",
      "model_name": "LayoutModel",
      "state": {}
     },
     "c0499be5ef594524a3196add15ece8df": {
      "model_module": "@jupyter-widgets/controls",
      "model_module_version": "1.1.0",
      "model_name": "DescriptionStyleModel",
      "state": {
       "description_width": ""
      }
     },
     "c056e640edce4c269d8bbf0f54262eae": {
      "model_module": "@jupyter-widgets/base",
      "model_module_version": "1.0.0",
      "model_name": "LayoutModel",
      "state": {}
     },
     "c0590248ff2b4526bf62006198a16f0e": {
      "model_module": "@jupyter-widgets/base",
      "model_module_version": "1.0.0",
      "model_name": "LayoutModel",
      "state": {}
     },
     "c0771b671595474abd61daef2cdb5433": {
      "model_module": "@jupyter-widgets/base",
      "model_module_version": "1.0.0",
      "model_name": "LayoutModel",
      "state": {}
     },
     "c0f6777710504c2a9dc4db5719a18f44": {
      "model_module": "@jupyter-widgets/controls",
      "model_module_version": "1.1.0",
      "model_name": "LabelModel",
      "state": {
       "layout": "IPY_MODEL_9c3d1a868c3744808e6abb20b62e5b3c",
       "style": "IPY_MODEL_1487e8abab6d47ebb0c49c2e27bd0fc5",
       "value": "Select which secondary particle to plot spectra for."
      }
     },
     "c14dc0adba2447e4baf73e910a05fa09": {
      "model_module": "@jupyter-widgets/base",
      "model_module_version": "1.0.0",
      "model_name": "LayoutModel",
      "state": {}
     },
     "c15c7534a6b2413885d8a67c1a50e638": {
      "model_module": "@jupyter-widgets/base",
      "model_module_version": "1.0.0",
      "model_name": "LayoutModel",
      "state": {}
     },
     "c194486c042d403cbe2d0be71a136b56": {
      "model_module": "@jupyter-widgets/base",
      "model_module_version": "1.0.0",
      "model_name": "LayoutModel",
      "state": {}
     },
     "c1aebeaac9fa4ea282b7974dbfe4b85e": {
      "model_module": "@jupyter-widgets/base",
      "model_module_version": "1.0.0",
      "model_name": "LayoutModel",
      "state": {}
     },
     "c1b4698aaec643bf83f637a29587f2b2": {
      "model_module": "@jupyter-widgets/base",
      "model_module_version": "1.0.0",
      "model_name": "LayoutModel",
      "state": {}
     },
     "c1b9929aef52467a8cb15e30ab6a6022": {
      "model_module": "@jupyter-widgets/controls",
      "model_module_version": "1.1.0",
      "model_name": "ToggleButtonsModel",
      "state": {
       "_options_labels": [
        "N (¹n)",
        "NDC (¹n)",
        "P (¹H)",
        "D (²H)",
        "T (³H)",
        "S (³He)",
        "A (⁴He)"
       ],
       "button_style": "",
       "description": "Type:",
       "icons": [],
       "index": 0,
       "layout": "IPY_MODEL_ba5974914274434e849a78b98524392b",
       "style": "IPY_MODEL_b57b30fb574d4bc390c13d021a91cb9f",
       "tooltips": [
        "Neutron",
        "Back Target Neutron",
        "Proton",
        "Deuteron",
        "Triton",
        "Helium-3",
        "Helium-4"
       ]
      }
     },
     "c1c5f6f054eb47afa07f81d79557c135": {
      "model_module": "@jupyter-widgets/controls",
      "model_module_version": "1.1.0",
      "model_name": "CheckboxModel",
      "state": {
       "description": "80°",
       "disabled": false,
       "layout": "IPY_MODEL_eb377fa66aa746eb968995e2f2ab0fb4",
       "style": "IPY_MODEL_a321347d4d5f4ecb987a829fce03e8c4",
       "value": true
      }
     },
     "c1cd48b836b04ac39da55e011f815606": {
      "model_module": "@jupyter-widgets/controls",
      "model_module_version": "1.1.0",
      "model_name": "CheckboxModel",
      "state": {
       "description": "60°",
       "disabled": false,
       "layout": "IPY_MODEL_d64a6f169766417687bda1456c4afe74",
       "style": "IPY_MODEL_d9522eb135c94484ab8c6f8eead3da76",
       "value": true
      }
     },
     "c1f0fe0e0033488dbc36898ea42ec496": {
      "model_module": "@jupyter-widgets/controls",
      "model_module_version": "1.1.0",
      "model_name": "CheckboxModel",
      "state": {
       "description": "135°",
       "disabled": false,
       "layout": "IPY_MODEL_e4b014e21c154a99a472d17155e7609e",
       "style": "IPY_MODEL_2cbce1b442a14338ac65ea260a0b4912",
       "value": true
      }
     },
     "c1ffa3b527a14f749db3767d28b3376e": {
      "model_module": "@jupyter-widgets/controls",
      "model_module_version": "1.1.0",
      "model_name": "CheckboxModel",
      "state": {
       "description": "135°",
       "disabled": false,
       "layout": "IPY_MODEL_6592682b66da430baa3d52e6c03c9f70",
       "style": "IPY_MODEL_a04b56b70c6047e7b67fb614b236f0a7",
       "value": true
      }
     },
     "c215f301a28d414e99b205b3675a75b2": {
      "model_module": "@jupyter-widgets/controls",
      "model_module_version": "1.1.0",
      "model_name": "DescriptionStyleModel",
      "state": {
       "description_width": ""
      }
     },
     "c228732bfbf743af860c7684138408c2": {
      "model_module": "@jupyter-widgets/controls",
      "model_module_version": "1.1.0",
      "model_name": "CheckboxModel",
      "state": {
       "description": "135°",
       "disabled": false,
       "layout": "IPY_MODEL_f53498484d3e4625ba5faed05d104562",
       "style": "IPY_MODEL_2225873d1fc84b7c8f4477065572bcf8",
       "value": true
      }
     },
     "c247e4d27db645cdbb1e7153192027f9": {
      "model_module": "@jupyter-widgets/base",
      "model_module_version": "1.0.0",
      "model_name": "LayoutModel",
      "state": {}
     },
     "c24a1cfb75f44d6392ee6ea2874d43d0": {
      "model_module": "@jupyter-widgets/base",
      "model_module_version": "1.0.0",
      "model_name": "LayoutModel",
      "state": {}
     },
     "c2605c1cb60749a7b7270bcd75f72b79": {
      "model_module": "@jupyter-widgets/controls",
      "model_module_version": "1.1.0",
      "model_name": "DescriptionStyleModel",
      "state": {
       "description_width": ""
      }
     },
     "c2da93c1248a406e97cdbda52cd4353e": {
      "model_module": "@jupyter-widgets/base",
      "model_module_version": "1.0.0",
      "model_name": "LayoutModel",
      "state": {}
     },
     "c318953cfd4243008e86467387d08b65": {
      "model_module": "@jupyter-widgets/controls",
      "model_module_version": "1.1.0",
      "model_name": "ToggleButtonsModel",
      "state": {
       "_options_labels": [
        "N (¹n)",
        "NDC (¹n)",
        "P (¹H)",
        "D (²H)",
        "T (³H)",
        "S (³He)",
        "A (⁴He)"
       ],
       "button_style": "",
       "description": "Type:",
       "icons": [],
       "index": 0,
       "layout": "IPY_MODEL_0746464c2c8941e88c580ec518a56bda",
       "style": "IPY_MODEL_6534c2495cb84bcebdd805f461b0f732",
       "tooltips": [
        "Neutron",
        "Back Target Neutron",
        "Proton",
        "Deuteron",
        "Triton",
        "Helium-3",
        "Helium-4"
       ]
      }
     },
     "c3400ef1c4144ff0a3d3f80ad347eef2": {
      "model_module": "@jupyter-widgets/controls",
      "model_module_version": "1.1.0",
      "model_name": "CheckboxModel",
      "state": {
       "description": "30°",
       "disabled": false,
       "layout": "IPY_MODEL_dbebba09632b483a9b1a0034cee0d6a2",
       "style": "IPY_MODEL_7fda445d7820403baadc8a73574b6efa",
       "value": false
      }
     },
     "c341e551dd3f44e6b6220a52550cbe89": {
      "model_module": "@jupyter-widgets/controls",
      "model_module_version": "1.1.0",
      "model_name": "DescriptionStyleModel",
      "state": {
       "description_width": ""
      }
     },
     "c364e5d45e4041ecb1b0e2902e992113": {
      "model_module": "@jupyter-widgets/controls",
      "model_module_version": "1.1.0",
      "model_name": "DescriptionStyleModel",
      "state": {
       "description_width": ""
      }
     },
     "c36ab799793746f6bc03bf2334ab97d9": {
      "model_module": "@jupyter-widgets/base",
      "model_module_version": "1.0.0",
      "model_name": "LayoutModel",
      "state": {}
     },
     "c3a04ceeb2e74e89bb7895f0f5657097": {
      "model_module": "@jupyter-widgets/controls",
      "model_module_version": "1.1.0",
      "model_name": "DescriptionStyleModel",
      "state": {
       "description_width": ""
      }
     },
     "c3cab31f4d4f4a858cd9408d120aca09": {
      "model_module": "@jupyter-widgets/base",
      "model_module_version": "1.0.0",
      "model_name": "LayoutModel",
      "state": {}
     },
     "c3ecc9526c494ff2a70d7aeab2d6a81a": {
      "model_module": "@jupyter-widgets/base",
      "model_module_version": "1.0.0",
      "model_name": "LayoutModel",
      "state": {}
     },
     "c3f3fef894c94cb3a2fed42e5d4f1d51": {
      "model_module": "@jupyter-widgets/base",
      "model_module_version": "1.0.0",
      "model_name": "LayoutModel",
      "state": {}
     },
     "c427e3c1ea6549109d108f8a2ff7ce3d": {
      "model_module": "@jupyter-widgets/base",
      "model_module_version": "1.0.0",
      "model_name": "LayoutModel",
      "state": {}
     },
     "c43587bf18fc4df3aa6cd8e0c6462a00": {
      "model_module": "@jupyter-widgets/controls",
      "model_module_version": "1.1.0",
      "model_name": "CheckboxModel",
      "state": {
       "description": "45°",
       "disabled": false,
       "layout": "IPY_MODEL_3b0965cfea5647cda8732d9283755930",
       "style": "IPY_MODEL_708e8d7a766147bbbdf1d488d6ce12fb",
       "value": true
      }
     },
     "c459114639ed4bc5a71cb01a38c3b60d": {
      "model_module": "@jupyter-widgets/controls",
      "model_module_version": "1.1.0",
      "model_name": "DescriptionStyleModel",
      "state": {
       "description_width": ""
      }
     },
     "c467599e69bc488e82d4f38a5ff5f2cb": {
      "model_module": "@jupyter-widgets/controls",
      "model_module_version": "1.1.0",
      "model_name": "CheckboxModel",
      "state": {
       "description": "60°",
       "disabled": false,
       "layout": "IPY_MODEL_221bea030d1f40a2b9b84b5abf1b088f",
       "style": "IPY_MODEL_2a459902ad7c4a8298153c85b011898a",
       "value": true
      }
     },
     "c4a1b29d0fb141bdbb5de598c0f0303c": {
      "model_module": "@jupyter-widgets/controls",
      "model_module_version": "1.1.0",
      "model_name": "DescriptionStyleModel",
      "state": {
       "description_width": ""
      }
     },
     "c4a57c92eebd4810aa0aa71fd8bd643b": {
      "model_module": "@jupyter-widgets/controls",
      "model_module_version": "1.1.0",
      "model_name": "ToggleButtonsModel",
      "state": {
       "_options_labels": [
        "N (¹n)",
        "NDC (¹n)",
        "P (¹H)",
        "D (²H)",
        "T (³H)",
        "S (³He)",
        "A (⁴He)"
       ],
       "button_style": "",
       "description": "Secondary:",
       "icons": [],
       "index": 0,
       "layout": "IPY_MODEL_701d737cb8f8401b810a0390210365f7",
       "style": "IPY_MODEL_6db02d35a9c74e88ba5a58093a39757d",
       "tooltips": [
        "Neutron",
        "Back Target Neutron",
        "Proton",
        "Deuteron",
        "Triton",
        "Helium-3",
        "Helium-4"
       ]
      }
     },
     "c4c4135d776f4acd9de51c55ac838f6e": {
      "model_module": "@jupyter-widgets/base",
      "model_module_version": "1.0.0",
      "model_name": "LayoutModel",
      "state": {}
     },
     "c5319387ee0f448b983f45fd842808da": {
      "model_module": "@jupyter-widgets/controls",
      "model_module_version": "1.1.0",
      "model_name": "DescriptionStyleModel",
      "state": {
       "description_width": ""
      }
     },
     "c54c9d51da38459b8157bb4c4af075a8": {
      "model_module": "@jupyter-widgets/controls",
      "model_module_version": "1.1.0",
      "model_name": "ButtonModel",
      "state": {
       "button_style": "success",
       "description": "Update plot",
       "icon": "paint-brush",
       "layout": "IPY_MODEL_b066e3a83ac34f1a8f7719e1454d5875",
       "style": "IPY_MODEL_dad9cd6404314951aeb9cf470121a8d4",
       "tooltip": "Click to redraw the plot below with updated options from above."
      }
     },
     "c55be318b618401aa49426e531b98d5a": {
      "model_module": "@jupyter-widgets/controls",
      "model_module_version": "1.1.0",
      "model_name": "DescriptionStyleModel",
      "state": {
       "description_width": ""
      }
     },
     "c562ef4f47e44ba4a25a1214067302a6": {
      "model_module": "@jupyter-widgets/controls",
      "model_module_version": "1.1.0",
      "model_name": "ToggleButtonsModel",
      "state": {
       "_options_labels": [
        "N (¹n)",
        "NDC (¹n)",
        "P (¹H)",
        "D (²H)",
        "T (³H)",
        "S (³He)",
        "A (⁴He)"
       ],
       "button_style": "",
       "description": "Type:",
       "icons": [],
       "index": 0,
       "layout": "IPY_MODEL_c1aebeaac9fa4ea282b7974dbfe4b85e",
       "style": "IPY_MODEL_f5ec4bafce8a47389fc36bbf380ff089",
       "tooltips": [
        "Neutron",
        "Back Target Neutron",
        "Proton",
        "Deuteron",
        "Triton",
        "Helium-3",
        "Helium-4"
       ]
      }
     },
     "c56ced0041c94f55aaa3a317d34c1d09": {
      "model_module": "@jupyter-widgets/controls",
      "model_module_version": "1.1.0",
      "model_name": "CheckboxModel",
      "state": {
       "description": "10°",
       "disabled": false,
       "layout": "IPY_MODEL_851d0803bb734f5cb54c8d637c457fd7",
       "style": "IPY_MODEL_652dafb0d07046108b2c23f2fb75432c",
       "value": true
      }
     },
     "c5ba512b65544eac8892c3d40dc607c7": {
      "model_module": "@jupyter-widgets/controls",
      "model_module_version": "1.1.0",
      "model_name": "CheckboxModel",
      "state": {
       "description": "80°",
       "disabled": false,
       "layout": "IPY_MODEL_5d2d2ef1e6f84956a3c03ae6b9da9860",
       "style": "IPY_MODEL_63d86dafd39f4b03988a50402ac33d4c",
       "value": true
      }
     },
     "c5d36e086e9d4cc3b7d1557ef0f7fa5e": {
      "model_module": "@jupyter-widgets/base",
      "model_module_version": "1.0.0",
      "model_name": "LayoutModel",
      "state": {}
     },
     "c6149c9d664341eeb822611421881604": {
      "model_module": "@jupyter-widgets/base",
      "model_module_version": "1.0.0",
      "model_name": "LayoutModel",
      "state": {}
     },
     "c62d708d273e40c981235311559699b9": {
      "model_module": "@jupyter-widgets/controls",
      "model_module_version": "1.1.0",
      "model_name": "DescriptionStyleModel",
      "state": {
       "description_width": ""
      }
     },
     "c65b04ff06e647c3a975ba85789edcdd": {
      "model_module": "@jupyter-widgets/controls",
      "model_module_version": "1.1.0",
      "model_name": "DescriptionStyleModel",
      "state": {
       "description_width": ""
      }
     },
     "c678569758de4f529b9236ee5c8403d5": {
      "model_module": "@jupyter-widgets/controls",
      "model_module_version": "1.1.0",
      "model_name": "DescriptionStyleModel",
      "state": {
       "description_width": ""
      }
     },
     "c6d34a4b256b4c58bd95617ca18f265f": {
      "model_module": "@jupyter-widgets/controls",
      "model_module_version": "1.1.0",
      "model_name": "CheckboxModel",
      "state": {
       "description": "10°",
       "disabled": false,
       "layout": "IPY_MODEL_99b698eb56d747a4b5796dc5533fe444",
       "style": "IPY_MODEL_90182fc3b98247dda06477453d580c02",
       "value": true
      }
     },
     "c6e914b0c98940cfb5bdd881a7c06bf3": {
      "model_module": "@jupyter-widgets/controls",
      "model_module_version": "1.1.0",
      "model_name": "DescriptionStyleModel",
      "state": {
       "description_width": ""
      }
     },
     "c72ecd5963ba4d40907396c95939e1c6": {
      "model_module": "@jupyter-widgets/base",
      "model_module_version": "1.0.0",
      "model_name": "LayoutModel",
      "state": {}
     },
     "c7328194159f4f2d85a4bda0a8139429": {
      "model_module": "@jupyter-widgets/controls",
      "model_module_version": "1.1.0",
      "model_name": "ButtonModel",
      "state": {
       "button_style": "success",
       "description": "Update plot",
       "icon": "paint-brush",
       "layout": "IPY_MODEL_5d45e9bedef14a86a1f78bb791530cec",
       "style": "IPY_MODEL_47696c0e2de54cffb03295fdca3ba4f9",
       "tooltip": "Click to redraw the plot below with updated options from above."
      }
     },
     "c758b050ef9b47c8b35069f92aa067b8": {
      "model_module": "@jupyter-widgets/base",
      "model_module_version": "1.0.0",
      "model_name": "LayoutModel",
      "state": {}
     },
     "c760664bc998443bb84932afb31eaad6": {
      "model_module": "@jupyter-widgets/base",
      "model_module_version": "1.0.0",
      "model_name": "LayoutModel",
      "state": {}
     },
     "c781799eb21a4af9aa79ac3f284d2c6c": {
      "model_module": "@jupyter-widgets/controls",
      "model_module_version": "1.1.0",
      "model_name": "LabelModel",
      "state": {
       "layout": "IPY_MODEL_88cfa02151b34707990f8b6da4262858",
       "style": "IPY_MODEL_d21dcefe518440e3b2bc50573c012adc",
       "value": "Select which secondary particle to plot spectra for."
      }
     },
     "c7c074fc033c4dddb885c5dd94e89828": {
      "model_module": "@jupyter-widgets/controls",
      "model_module_version": "1.1.0",
      "model_name": "LabelModel",
      "state": {
       "layout": "IPY_MODEL_c36ab799793746f6bc03bf2334ab97d9",
       "style": "IPY_MODEL_c459114639ed4bc5a71cb01a38c3b60d",
       "value": "Select which sets of data to display."
      }
     },
     "c7cfcb5d67974ae0ba1f4bc0e90120d3": {
      "model_module": "@jupyter-widgets/base",
      "model_module_version": "1.0.0",
      "model_name": "LayoutModel",
      "state": {}
     },
     "c7efe43aa3db4c0ca7e119d893945ce5": {
      "model_module": "@jupyter-widgets/controls",
      "model_module_version": "1.1.0",
      "model_name": "DescriptionStyleModel",
      "state": {
       "description_width": ""
      }
     },
     "c816ae50e3264d988f545c5092782e7c": {
      "model_module": "@jupyter-widgets/controls",
      "model_module_version": "1.1.0",
      "model_name": "CheckboxModel",
      "state": {
       "description": "28.2°",
       "disabled": false,
       "layout": "IPY_MODEL_6860fc537c664772b30afb7ebfc841f2",
       "style": "IPY_MODEL_381a1152e0f54045a01f73deaa3a0891",
       "value": false
      }
     },
     "c8211cb6300e44fa966325786ab29b71": {
      "model_module": "@jupyter-widgets/controls",
      "model_module_version": "1.1.0",
      "model_name": "DescriptionStyleModel",
      "state": {
       "description_width": ""
      }
     },
     "c8511dd3661343c6858f5476e0b6fc22": {
      "model_module": "@jupyter-widgets/controls",
      "model_module_version": "1.1.0",
      "model_name": "CheckboxModel",
      "state": {
       "description": "45°",
       "disabled": false,
       "layout": "IPY_MODEL_7ece3efc3e354dbfafc81f8f5768649d",
       "style": "IPY_MODEL_3c1f3f08990e48fa8891fc336116f9c7",
       "value": true
      }
     },
     "c8572d550f764f4fa25c8affbd897b36": {
      "model_module": "@jupyter-widgets/controls",
      "model_module_version": "1.1.0",
      "model_name": "ButtonModel",
      "state": {
       "button_style": "success",
       "description": "Update plot",
       "icon": "paint-brush",
       "layout": "IPY_MODEL_aef4391aa0ee4ab78258b8820f439057",
       "style": "IPY_MODEL_1a684b2eadf148cba283c44e38e6ec3c",
       "tooltip": "Click to redraw the plot below with updated options from above."
      }
     },
     "c8ae63bb7c01400db0e6029877fcd041": {
      "model_module": "@jupyter-widgets/controls",
      "model_module_version": "1.1.0",
      "model_name": "DescriptionStyleModel",
      "state": {
       "description_width": ""
      }
     },
     "c9096cce08064afe9a49ae9c2fa7066b": {
      "model_module": "@jupyter-widgets/base",
      "model_module_version": "1.0.0",
      "model_name": "LayoutModel",
      "state": {}
     },
     "c91d206c71514e329592f5b2d7847ce1": {
      "model_module": "@jupyter-widgets/controls",
      "model_module_version": "1.1.0",
      "model_name": "ToggleButtonsModel",
      "state": {
       "_options_labels": [
        "OLS",
        "NaI"
       ],
       "button_style": "",
       "description": "Type:",
       "icons": [],
       "index": 0,
       "layout": "IPY_MODEL_bda8a0b7dba3496ba7ce9e542d024565",
       "style": "IPY_MODEL_5f3628b512394296a21837d4baf0cae3",
       "tooltips": [
        "Organic Liquid Scintillator",
        "Sodium Iodide"
       ]
      }
     },
     "c95e28d6844e45619a4a4d1857fd5165": {
      "model_module": "@jupyter-widgets/controls",
      "model_module_version": "1.1.0",
      "model_name": "DescriptionStyleModel",
      "state": {
       "description_width": ""
      }
     },
     "c9a56b89822e4c4fbe565ecbbd144637": {
      "model_module": "@jupyter-widgets/controls",
      "model_module_version": "1.1.0",
      "model_name": "DescriptionStyleModel",
      "state": {
       "description_width": ""
      }
     },
     "c9cb879e1adc497faaf4f9487356048f": {
      "model_module": "@jupyter-widgets/controls",
      "model_module_version": "1.1.0",
      "model_name": "ToggleButtonsStyleModel",
      "state": {
       "button_width": "",
       "description_width": ""
      }
     },
     "ca085263f9b244b0a4e6d635af9f2787": {
      "model_module": "@jupyter-widgets/controls",
      "model_module_version": "1.1.0",
      "model_name": "CheckboxModel",
      "state": {
       "description": "45°",
       "disabled": false,
       "layout": "IPY_MODEL_3c0a2da75dd243fc8e9cabdd1f16b48c",
       "style": "IPY_MODEL_6e2dd0d385234c758577ccd5cbbbcad0",
       "value": true
      }
     },
     "ca182e3a0f424fc68dfb41f48a7d9b02": {
      "model_module": "@jupyter-widgets/controls",
      "model_module_version": "1.1.0",
      "model_name": "ToggleButtonsModel",
      "state": {
       "_options_labels": [
        "N (¹n)",
        "NDC (¹n)"
       ],
       "button_style": "",
       "description": "Type:",
       "icons": [],
       "index": 0,
       "layout": "IPY_MODEL_5101c32fba2647e7b23b2c007b6a958d",
       "style": "IPY_MODEL_cc98f6ce25ae4f01a2d0186e181a2604",
       "tooltips": [
        "Neutron",
        "Back Target Neutron"
       ]
      }
     },
     "ca45354f50c94677a51e2632ed6da418": {
      "model_module": "@jupyter-widgets/controls",
      "model_module_version": "1.1.0",
      "model_name": "DescriptionStyleModel",
      "state": {
       "description_width": ""
      }
     },
     "ca4e9777b07947ecabbda0ab4c227933": {
      "model_module": "@jupyter-widgets/controls",
      "model_module_version": "1.1.0",
      "model_name": "ToggleButtonsModel",
      "state": {
       "_options_labels": [
        "OLS",
        "NaI"
       ],
       "button_style": "",
       "description": "Type:",
       "icons": [],
       "index": 0,
       "layout": "IPY_MODEL_863893332e2e4a1ea3beeeb0e14183ca",
       "style": "IPY_MODEL_421425277dc24c669526e22b1bd57aa2",
       "tooltips": [
        "Organic Liquid Scintillator",
        "Sodium Iodide"
       ]
      }
     },
     "ca97b7d91b494700a0f9d8dbcdc06288": {
      "model_module": "@jupyter-widgets/controls",
      "model_module_version": "1.1.0",
      "model_name": "CheckboxModel",
      "state": {
       "description": "45°",
       "disabled": false,
       "layout": "IPY_MODEL_3ab053ea2b48422690ce68b194f7ddce",
       "style": "IPY_MODEL_e68d8f144a094788886e98075cc5562e",
       "value": true
      }
     },
     "caa204e113d1449080e1c516dedcc235": {
      "model_module": "@jupyter-widgets/controls",
      "model_module_version": "1.1.0",
      "model_name": "DescriptionStyleModel",
      "state": {
       "description_width": ""
      }
     },
     "cab1869c6d1a4ab0bb065fd99a0140ad": {
      "model_module": "@jupyter-widgets/base",
      "model_module_version": "1.0.0",
      "model_name": "LayoutModel",
      "state": {}
     },
     "cb0a7974a4e34272921826b18fdb2d63": {
      "model_module": "@jupyter-widgets/controls",
      "model_module_version": "1.1.0",
      "model_name": "CheckboxModel",
      "state": {
       "description": "10°",
       "disabled": false,
       "layout": "IPY_MODEL_4b2dacfe18dc47e1a9d89b9d4d0d17ff",
       "style": "IPY_MODEL_6ba8174a3a714bbda95b620867e30c97",
       "value": true
      }
     },
     "cb181dab03d54ddba255fc96e4d2a1cd": {
      "model_module": "@jupyter-widgets/controls",
      "model_module_version": "1.1.0",
      "model_name": "LabelModel",
      "state": {
       "layout": "IPY_MODEL_298021c8e8b04b778ba3e3be8f36f9d6",
       "style": "IPY_MODEL_d9d5d8db352a493f88c715bae758c0a6",
       "value": "Select projectile ion energy."
      }
     },
     "cb570e4a32cf48c1b8b9eb2590302fbc": {
      "model_module": "@jupyter-widgets/controls",
      "model_module_version": "1.1.0",
      "model_name": "DescriptionStyleModel",
      "state": {
       "description_width": ""
      }
     },
     "cc25001962124cd0b19df67981cb178d": {
      "model_module": "@jupyter-widgets/controls",
      "model_module_version": "1.1.0",
      "model_name": "DescriptionStyleModel",
      "state": {
       "description_width": ""
      }
     },
     "cc5a322d499e45ec875485585e0187e8": {
      "model_module": "@jupyter-widgets/base",
      "model_module_version": "1.0.0",
      "model_name": "LayoutModel",
      "state": {}
     },
     "cc65ddbade114d65816325a44dc067e5": {
      "model_module": "@jupyter-widgets/controls",
      "model_module_version": "1.1.0",
      "model_name": "LabelModel",
      "state": {
       "layout": "IPY_MODEL_af0482e6032a4b5c895c578b92a107b1",
       "style": "IPY_MODEL_ef63fe9cf051472285a2119408a5362c",
       "value": "Select the detector angles to plot."
      }
     },
     "cc72e4f4aa744945b46d2989b2c8382b": {
      "model_module": "@jupyter-widgets/base",
      "model_module_version": "1.0.0",
      "model_name": "LayoutModel",
      "state": {}
     },
     "cc8d38e0424c4fb483595feafc62784c": {
      "model_module": "@jupyter-widgets/controls",
      "model_module_version": "1.1.0",
      "model_name": "ToggleButtonsStyleModel",
      "state": {
       "button_width": "",
       "description_width": ""
      }
     },
     "cc98f6ce25ae4f01a2d0186e181a2604": {
      "model_module": "@jupyter-widgets/controls",
      "model_module_version": "1.1.0",
      "model_name": "ToggleButtonsStyleModel",
      "state": {
       "button_width": "",
       "description_width": ""
      }
     },
     "cca342e79c6b4f2abd356205fe68475c": {
      "model_module": "@jupyter-widgets/base",
      "model_module_version": "1.0.0",
      "model_name": "LayoutModel",
      "state": {}
     },
     "cca5dfc34d4d45ccb86da44519b3d350": {
      "model_module": "@jupyter-widgets/controls",
      "model_module_version": "1.1.0",
      "model_name": "LabelModel",
      "state": {
       "layout": "IPY_MODEL_981cdde308eb4481983d9a466e0bac36",
       "style": "IPY_MODEL_a17e5aded5b64ba3a833ad45ea3a34bf",
       "value": "Select the detector angles to plot."
      }
     },
     "ccb28a988e3d4037916318232e82fdc2": {
      "model_module": "@jupyter-widgets/base",
      "model_module_version": "1.0.0",
      "model_name": "LayoutModel",
      "state": {}
     },
     "ccb92fb4f4334ceab4beced3bde87ad2": {
      "model_module": "@jupyter-widgets/controls",
      "model_module_version": "1.1.0",
      "model_name": "DescriptionStyleModel",
      "state": {
       "description_width": ""
      }
     },
     "ccc22dfa892845448f1f0d935789a00c": {
      "model_module": "@jupyter-widgets/controls",
      "model_module_version": "1.1.0",
      "model_name": "CheckboxModel",
      "state": {
       "description": "30°",
       "disabled": false,
       "layout": "IPY_MODEL_72e9a796ad4b465882749d9c1f88720d",
       "style": "IPY_MODEL_f4d47f670d944ed8aaa908b07c2eafa3",
       "value": true
      }
     },
     "cce19528bb244a56bb26001c0f9ab56b": {
      "model_module": "@jupyter-widgets/controls",
      "model_module_version": "1.1.0",
      "model_name": "LabelModel",
      "state": {
       "layout": "IPY_MODEL_7266346fb06e49e89e893c7ad7383d17",
       "style": "IPY_MODEL_752f436956fe47a4adbe7186aead7787",
       "value": "Select a detector type."
      }
     },
     "cd07564de7c04f08bf0f8be801547399": {
      "model_module": "@jupyter-widgets/controls",
      "model_module_version": "1.1.0",
      "model_name": "DescriptionStyleModel",
      "state": {
       "description_width": ""
      }
     },
     "cdbb0ba078c340cf92d6e7d7f2d48a90": {
      "model_module": "@jupyter-widgets/base",
      "model_module_version": "1.0.0",
      "model_name": "LayoutModel",
      "state": {}
     },
     "cdfea99b01064148b8409bc2880ccaac": {
      "model_module": "@jupyter-widgets/controls",
      "model_module_version": "1.1.0",
      "model_name": "CheckboxModel",
      "state": {
       "description": "135°",
       "disabled": false,
       "layout": "IPY_MODEL_a2bdbe1494814ef3a232b1d38c24af35",
       "style": "IPY_MODEL_5334baa65f5a442abe5e6394834ac8d0",
       "value": true
      }
     },
     "ce1ca5fc584746ed8a4fe751652309bd": {
      "model_module": "@jupyter-widgets/controls",
      "model_module_version": "1.1.0",
      "model_name": "DescriptionStyleModel",
      "state": {
       "description_width": ""
      }
     },
     "ce360aefa9294facabe1ee60bc0862de": {
      "model_module": "@jupyter-widgets/base",
      "model_module_version": "1.0.0",
      "model_name": "LayoutModel",
      "state": {}
     },
     "ce52ac3d56b948a78c6987a176d06f62": {
      "model_module": "@jupyter-widgets/controls",
      "model_module_version": "1.1.0",
      "model_name": "ToggleButtonsStyleModel",
      "state": {
       "button_width": "",
       "description_width": ""
      }
     },
     "ce59fc8fef4245e2920d77de606af00b": {
      "model_module": "@jupyter-widgets/controls",
      "model_module_version": "1.1.0",
      "model_name": "CheckboxModel",
      "state": {
       "description": "45°",
       "disabled": false,
       "layout": "IPY_MODEL_67c7ff1eaa964102bb237a7e61175365",
       "style": "IPY_MODEL_d0c61a6afc2348c698021a04935529b0",
       "value": true
      }
     },
     "ceb39673d4414fd298cd7f6f4aec66f0": {
      "model_module": "@jupyter-widgets/controls",
      "model_module_version": "1.1.0",
      "model_name": "DescriptionStyleModel",
      "state": {
       "description_width": ""
      }
     },
     "cf507ac9b5704ecda923c74581b54fa9": {
      "model_module": "@jupyter-widgets/base",
      "model_module_version": "1.0.0",
      "model_name": "LayoutModel",
      "state": {}
     },
     "cf5108288c424c15bfd42102e6b2c791": {
      "model_module": "@jupyter-widgets/controls",
      "model_module_version": "1.1.0",
      "model_name": "ToggleButtonsModel",
      "state": {
       "_options_labels": [
        "400 MeV/n",
        "800 MeV/n",
        "1500 MeV/n"
       ],
       "button_style": "",
       "description": "Energy:",
       "icons": [],
       "index": 0,
       "layout": "IPY_MODEL_16645c168df54931bd863473f3de34b4",
       "style": "IPY_MODEL_ce52ac3d56b948a78c6987a176d06f62",
       "tooltips": [
        "lowest energy",
        "middle energy",
        "highest energy"
       ]
      }
     },
     "cf71b31f4cc440f89857fc5385661b21": {
      "model_module": "@jupyter-widgets/base",
      "model_module_version": "1.0.0",
      "model_name": "LayoutModel",
      "state": {}
     },
     "cf8555f94a5a495ea3b65f53dda0e5e0": {
      "model_module": "@jupyter-widgets/controls",
      "model_module_version": "1.1.0",
      "model_name": "DescriptionStyleModel",
      "state": {
       "description_width": ""
      }
     },
     "cfd89952bf0f4bc58f55bb5e034a9751": {
      "model_module": "@jupyter-widgets/controls",
      "model_module_version": "1.1.0",
      "model_name": "DescriptionStyleModel",
      "state": {
       "description_width": ""
      }
     },
     "d03745aebfca42919e9524eda50fc4da": {
      "model_module": "@jupyter-widgets/controls",
      "model_module_version": "1.1.0",
      "model_name": "CheckboxModel",
      "state": {
       "description": "7.2°",
       "disabled": false,
       "layout": "IPY_MODEL_7df21e8d5f964ee6940895fc16107d6f",
       "style": "IPY_MODEL_1e0c3eaa0d044be580b73c12fea09940",
       "value": true
      }
     },
     "d06b4dfdfe6649a2ab46d63a4d205844": {
      "model_module": "@jupyter-widgets/controls",
      "model_module_version": "1.1.0",
      "model_name": "CheckboxModel",
      "state": {
       "description": "10°",
       "disabled": false,
       "layout": "IPY_MODEL_460c05ff88a1487bbc9076500df65cf9",
       "style": "IPY_MODEL_30a95d8f1e9243a7b1ba9dabdd13c516",
       "value": true
      }
     },
     "d0712f64deb44255bae5800bafb719c0": {
      "model_module": "@jupyter-widgets/base",
      "model_module_version": "1.0.0",
      "model_name": "LayoutModel",
      "state": {}
     },
     "d09da5f86ec0486cb0fbeaad7d0b924a": {
      "model_module": "@jupyter-widgets/controls",
      "model_module_version": "1.1.0",
      "model_name": "DescriptionStyleModel",
      "state": {
       "description_width": ""
      }
     },
     "d0b49198d9184be0be9fa847b872bf6a": {
      "model_module": "@jupyter-widgets/controls",
      "model_module_version": "1.1.0",
      "model_name": "CheckboxModel",
      "state": {
       "description": "32.7°",
       "disabled": false,
       "layout": "IPY_MODEL_eb4ab7313de148e7975c3fd05921afd6",
       "style": "IPY_MODEL_2a4f94f6fc7342c99b7ed5068f1975d8",
       "value": false
      }
     },
     "d0c61a6afc2348c698021a04935529b0": {
      "model_module": "@jupyter-widgets/controls",
      "model_module_version": "1.1.0",
      "model_name": "DescriptionStyleModel",
      "state": {
       "description_width": ""
      }
     },
     "d0e0b39e16a8469d991ae26667382082": {
      "model_module": "@jupyter-widgets/controls",
      "model_module_version": "1.1.0",
      "model_name": "LabelModel",
      "state": {
       "layout": "IPY_MODEL_21c98fa0b913448fa02f309f8618c074",
       "style": "IPY_MODEL_77df7263787a480793999b2d1bfbd4c8",
       "value": "Select the detector angles to plot."
      }
     },
     "d0e1fef06d624578ae9bcc6a340862b2": {
      "model_module": "@jupyter-widgets/controls",
      "model_module_version": "1.1.0",
      "model_name": "CheckboxModel",
      "state": {
       "description": "MCNP simulated",
       "disabled": false,
       "layout": "IPY_MODEL_f10bfd995f7d431d8b378fcd07b5c54e",
       "style": "IPY_MODEL_c4a1b29d0fb141bdbb5de598c0f0303c",
       "value": true
      }
     },
     "d10246cf9dd74b78a37796d6c119979c": {
      "model_module": "@jupyter-widgets/controls",
      "model_module_version": "1.1.0",
      "model_name": "DescriptionStyleModel",
      "state": {
       "description_width": ""
      }
     },
     "d10acb0e71b24bb2b589371ee184085a": {
      "model_module": "@jupyter-widgets/base",
      "model_module_version": "1.0.0",
      "model_name": "LayoutModel",
      "state": {}
     },
     "d11cbd2368a4449d85a3884279d92917": {
      "model_module": "@jupyter-widgets/controls",
      "model_module_version": "1.1.0",
      "model_name": "LabelModel",
      "state": {
       "layout": "IPY_MODEL_0405d139d80c4d2fb48d2bc080b29133",
       "style": "IPY_MODEL_ae00635134a94eb785d52a4eb527ed7a",
       "value": "Select projectile ion energy."
      }
     },
     "d12d91af368c443586afb28670757a6d": {
      "model_module": "@jupyter-widgets/controls",
      "model_module_version": "1.1.0",
      "model_name": "LabelModel",
      "state": {
       "layout": "IPY_MODEL_77325e05ad2b433c87a9d5728f7d5981",
       "style": "IPY_MODEL_f063c43e128244e0b1ce21cf847b324b",
       "value": "Select which secondary particle to plot spectra for."
      }
     },
     "d1331ffa41c94abdacbc2ece91c03a7e": {
      "model_module": "@jupyter-widgets/base",
      "model_module_version": "1.0.0",
      "model_name": "LayoutModel",
      "state": {}
     },
     "d141f9622d7a4604a2f6c62bfabf5669": {
      "model_module": "@jupyter-widgets/base",
      "model_module_version": "1.0.0",
      "model_name": "LayoutModel",
      "state": {}
     },
     "d1ac398fa03e44a19539a04c4ceeade0": {
      "model_module": "@jupyter-widgets/base",
      "model_module_version": "1.0.0",
      "model_name": "LayoutModel",
      "state": {}
     },
     "d21dcefe518440e3b2bc50573c012adc": {
      "model_module": "@jupyter-widgets/controls",
      "model_module_version": "1.1.0",
      "model_name": "DescriptionStyleModel",
      "state": {
       "description_width": ""
      }
     },
     "d25f491b0e884a14a2edd32657745a70": {
      "model_module": "@jupyter-widgets/controls",
      "model_module_version": "1.1.0",
      "model_name": "DescriptionStyleModel",
      "state": {
       "description_width": ""
      }
     },
     "d2d4748d7e4a474f915d0d74bdbdd997": {
      "model_module": "@jupyter-widgets/base",
      "model_module_version": "1.0.0",
      "model_name": "LayoutModel",
      "state": {}
     },
     "d31cfd5f4c5f4ce290a396164e3ede08": {
      "model_module": "@jupyter-widgets/controls",
      "model_module_version": "1.1.0",
      "model_name": "DescriptionStyleModel",
      "state": {
       "description_width": ""
      }
     },
     "d356f5cd30dd499481e6418c369bd94c": {
      "model_module": "@jupyter-widgets/controls",
      "model_module_version": "1.1.0",
      "model_name": "DescriptionStyleModel",
      "state": {
       "description_width": ""
      }
     },
     "d35e5f77b41c4814bb56e1036ae4fbfe": {
      "model_module": "@jupyter-widgets/controls",
      "model_module_version": "1.1.0",
      "model_name": "CheckboxModel",
      "state": {
       "description": "80°",
       "disabled": false,
       "layout": "IPY_MODEL_6dc1d2dba536489e85ba12120a94c707",
       "style": "IPY_MODEL_a369064e5b44428d8172adba0d439f70",
       "value": true
      }
     },
     "d36a66cbb06a49fc8b0bd0d5f5fbd66b": {
      "model_module": "@jupyter-widgets/controls",
      "model_module_version": "1.1.0",
      "model_name": "LabelModel",
      "state": {
       "layout": "IPY_MODEL_5e3355da7b9848ccac220d67e4854e00",
       "style": "IPY_MODEL_87e9155972b8434b99ed4584a1a99d02",
       "value": "Select projectile ion energy."
      }
     },
     "d37cc067f1304cf2bc31222f899ce506": {
      "model_module": "@jupyter-widgets/base",
      "model_module_version": "1.0.0",
      "model_name": "LayoutModel",
      "state": {}
     },
     "d380f760dcf04c08bc4b7e227caf8416": {
      "model_module": "@jupyter-widgets/base",
      "model_module_version": "1.0.0",
      "model_name": "LayoutModel",
      "state": {}
     },
     "d3c2d5b482364a8388e43e20541a6253": {
      "model_module": "@jupyter-widgets/controls",
      "model_module_version": "1.1.0",
      "model_name": "DescriptionStyleModel",
      "state": {
       "description_width": ""
      }
     },
     "d43db88bfe454f5cba401e106d89ffff": {
      "model_module": "@jupyter-widgets/controls",
      "model_module_version": "1.1.0",
      "model_name": "ToggleButtonsModel",
      "state": {
       "_options_labels": [
        "400 MeV",
        "800 MeV",
        "2500 MeV"
       ],
       "button_style": "",
       "description": "Energy:",
       "icons": [],
       "index": 0,
       "layout": "IPY_MODEL_c72ecd5963ba4d40907396c95939e1c6",
       "style": "IPY_MODEL_818e25e4cb0b4fec929f25ceebdb701b",
       "tooltips": [
        "lowest energy",
        "middle energy",
        "highest energy"
       ]
      }
     },
     "d46fa8a32302462a999d0a7f559585a5": {
      "model_module": "@jupyter-widgets/controls",
      "model_module_version": "1.1.0",
      "model_name": "ToggleButtonsModel",
      "state": {
       "_options_labels": [
        "N (¹n)",
        "NDC (¹n)",
        "P (¹H)",
        "D (²H)",
        "T (³H)",
        "S (³He)",
        "A (⁴He)"
       ],
       "button_style": "",
       "description": "Type:",
       "icons": [],
       "index": 0,
       "layout": "IPY_MODEL_c6149c9d664341eeb822611421881604",
       "style": "IPY_MODEL_aa131432c11c43cd9c947c59d810af25",
       "tooltips": [
        "Neutron",
        "Back Target Neutron",
        "Proton",
        "Deuteron",
        "Triton",
        "Helium-3",
        "Helium-4"
       ]
      }
     },
     "d47e2aa139ec4bc48fe1cd293fbfea06": {
      "model_module": "@jupyter-widgets/controls",
      "model_module_version": "1.1.0",
      "model_name": "DescriptionStyleModel",
      "state": {
       "description_width": ""
      }
     },
     "d48a7a058fb447fab5d67609ac3ff4e6": {
      "model_module": "@jupyter-widgets/controls",
      "model_module_version": "1.1.0",
      "model_name": "DescriptionStyleModel",
      "state": {
       "description_width": ""
      }
     },
     "d4acb5713705428ab1aceb1e8772a660": {
      "model_module": "@jupyter-widgets/controls",
      "model_module_version": "1.1.0",
      "model_name": "LabelModel",
      "state": {
       "layout": "IPY_MODEL_74ea0dc61073468e9e0226a6ea33f180",
       "style": "IPY_MODEL_fb46bc84044a4051b90c55b7d4fbb1ab",
       "value": "Select the detector angles to plot."
      }
     },
     "d4b9f633fd8e436691e847affb28e00e": {
      "model_module": "@jupyter-widgets/controls",
      "model_module_version": "1.1.0",
      "model_name": "DescriptionStyleModel",
      "state": {
       "description_width": ""
      }
     },
     "d505af3d2b874d91afabc23a4681c26c": {
      "model_module": "@jupyter-widgets/controls",
      "model_module_version": "1.1.0",
      "model_name": "DescriptionStyleModel",
      "state": {
       "description_width": ""
      }
     },
     "d529fa62e7e94894b3d5a2100c861933": {
      "model_module": "@jupyter-widgets/controls",
      "model_module_version": "1.1.0",
      "model_name": "ToggleButtonsStyleModel",
      "state": {
       "button_width": "",
       "description_width": ""
      }
     },
     "d54378043d464adeb0c417cdf20b4616": {
      "model_module": "@jupyter-widgets/controls",
      "model_module_version": "1.1.0",
      "model_name": "DescriptionStyleModel",
      "state": {
       "description_width": ""
      }
     },
     "d54854d800e84617aacf520cbd7df79d": {
      "model_module": "@jupyter-widgets/base",
      "model_module_version": "1.0.0",
      "model_name": "LayoutModel",
      "state": {}
     },
     "d552c1b61ca04e5a85526db6807b5d18": {
      "model_module": "@jupyter-widgets/controls",
      "model_module_version": "1.1.0",
      "model_name": "ToggleButtonsStyleModel",
      "state": {
       "button_width": "",
       "description_width": ""
      }
     },
     "d5740c9c717f42e7b4dfa1b1d430d732": {
      "model_module": "@jupyter-widgets/controls",
      "model_module_version": "1.1.0",
      "model_name": "CheckboxModel",
      "state": {
       "description": "60°",
       "disabled": false,
       "layout": "IPY_MODEL_e8b835b886ea4c968b92fde00e855c21",
       "style": "IPY_MODEL_7a7ba5dbc4044b0fa55b390b45f1c3b3",
       "value": true
      }
     },
     "d5a9329f81924f0ea96d106012f994ab": {
      "model_module": "@jupyter-widgets/controls",
      "model_module_version": "1.1.0",
      "model_name": "CheckboxModel",
      "state": {
       "description": "45°",
       "disabled": false,
       "layout": "IPY_MODEL_53519e7ebbf249e681459daa23be4e3f",
       "style": "IPY_MODEL_95fa7347cc184ca68dc4e17717d1ea43",
       "value": true
      }
     },
     "d5cea0698b5549ff91278b8edbf8403c": {
      "model_module": "@jupyter-widgets/base",
      "model_module_version": "1.0.0",
      "model_name": "LayoutModel",
      "state": {}
     },
     "d62ab8f41abe47f8859a1ed9e30b93eb": {
      "model_module": "@jupyter-widgets/controls",
      "model_module_version": "1.1.0",
      "model_name": "ToggleButtonsModel",
      "state": {
       "_options_labels": [
        "N (¹n)",
        "NDC (¹n)",
        "P (¹H)",
        "D (²H)"
       ],
       "button_style": "",
       "description": "Type:",
       "icons": [],
       "index": 0,
       "layout": "IPY_MODEL_54056f40661c4f7b81a0a27fb1dd94fd",
       "style": "IPY_MODEL_aa576a24ff1e4532a1ab8eb9fca802c4",
       "tooltips": [
        "Neutron",
        "Back Target Neutron",
        "Proton",
        "Deuteron"
       ]
      }
     },
     "d64a6f169766417687bda1456c4afe74": {
      "model_module": "@jupyter-widgets/base",
      "model_module_version": "1.0.0",
      "model_name": "LayoutModel",
      "state": {}
     },
     "d656614de7e54e42afa5eab1410a0eca": {
      "model_module": "@jupyter-widgets/base",
      "model_module_version": "1.0.0",
      "model_name": "LayoutModel",
      "state": {}
     },
     "d6a7cc457e3742c183d9af3d1a0aacbd": {
      "model_module": "@jupyter-widgets/base",
      "model_module_version": "1.0.0",
      "model_name": "LayoutModel",
      "state": {}
     },
     "d6d089e56ca14104aa87d92b54c8c5fd": {
      "model_module": "@jupyter-widgets/controls",
      "model_module_version": "1.1.0",
      "model_name": "CheckboxModel",
      "state": {
       "description": "30°",
       "disabled": false,
       "layout": "IPY_MODEL_8b392c0326854e5f93df8f993af5595f",
       "style": "IPY_MODEL_d10246cf9dd74b78a37796d6c119979c",
       "value": true
      }
     },
     "d6d67849279d4eec8fe5b047ef4db595": {
      "model_module": "@jupyter-widgets/controls",
      "model_module_version": "1.1.0",
      "model_name": "DescriptionStyleModel",
      "state": {
       "description_width": ""
      }
     },
     "d6eda2496fac475caf2e51fbacd7e9e4": {
      "model_module": "@jupyter-widgets/controls",
      "model_module_version": "1.1.0",
      "model_name": "CheckboxModel",
      "state": {
       "description": "12.7°",
       "disabled": false,
       "layout": "IPY_MODEL_75c02e8a80754bd2b432497f85d747be",
       "style": "IPY_MODEL_08a9fee61c6045c59bcc75c4bd20081c",
       "value": false
      }
     },
     "d7301efcfaf240e7a25f464811b3aaee": {
      "model_module": "@jupyter-widgets/base",
      "model_module_version": "1.0.0",
      "model_name": "LayoutModel",
      "state": {}
     },
     "d7728d7f18734d9985528ec5cc7e6bb9": {
      "model_module": "@jupyter-widgets/controls",
      "model_module_version": "1.1.0",
      "model_name": "DescriptionStyleModel",
      "state": {
       "description_width": ""
      }
     },
     "d787a6af00114089a18df01cc6832c33": {
      "model_module": "@jupyter-widgets/base",
      "model_module_version": "1.0.0",
      "model_name": "LayoutModel",
      "state": {}
     },
     "d7959efa2c654e6baf4d5e7d1100d24d": {
      "model_module": "@jupyter-widgets/controls",
      "model_module_version": "1.1.0",
      "model_name": "ToggleButtonsModel",
      "state": {
       "_options_labels": [
        "20 g/cm²",
        "40 g/cm²",
        "60 g/cm²"
       ],
       "button_style": "",
       "description": "Thickness:",
       "icons": [],
       "index": 1,
       "layout": "IPY_MODEL_8343888407d44945ae56701f2e2d6087",
       "style": "IPY_MODEL_9a0974ca170a48b6b4a0fcc84a2a35a4",
       "tooltips": [
        "20 g/cm² Aluminum",
        "40 g/cm² Aluminum",
        "60 g/cm² Aluminum"
       ]
      }
     },
     "d7c36f5ed1e24294ba35b69cf424710d": {
      "model_module": "@jupyter-widgets/controls",
      "model_module_version": "1.1.0",
      "model_name": "CheckboxModel",
      "state": {
       "description": "60°",
       "disabled": false,
       "layout": "IPY_MODEL_619eb7b1a8ab4a82a15314965e6fe9a2",
       "style": "IPY_MODEL_e325c6be398a42c2b945c5be78fb0c06",
       "value": true
      }
     },
     "d7c97b1ab1a3442b8d330c7f2321e3d2": {
      "model_module": "@jupyter-widgets/controls",
      "model_module_version": "1.1.0",
      "model_name": "CheckboxModel",
      "state": {
       "description": "30°",
       "disabled": false,
       "layout": "IPY_MODEL_fa831ea3f4b347af83e3d34696ccf9ba",
       "style": "IPY_MODEL_d7f5b22bf97648fc983661711776f422",
       "value": true
      }
     },
     "d7d04417ef3a4532976d037d0a51da0c": {
      "model_module": "@jupyter-widgets/base",
      "model_module_version": "1.0.0",
      "model_name": "LayoutModel",
      "state": {}
     },
     "d7e0e5a003b4402f8fbab141e943e4c4": {
      "model_module": "@jupyter-widgets/controls",
      "model_module_version": "1.1.0",
      "model_name": "DescriptionStyleModel",
      "state": {
       "description_width": ""
      }
     },
     "d7f5b22bf97648fc983661711776f422": {
      "model_module": "@jupyter-widgets/controls",
      "model_module_version": "1.1.0",
      "model_name": "DescriptionStyleModel",
      "state": {
       "description_width": ""
      }
     },
     "d8795ba803974c8c92ae1d6df80faf43": {
      "model_module": "@jupyter-widgets/controls",
      "model_module_version": "1.1.0",
      "model_name": "DescriptionStyleModel",
      "state": {
       "description_width": ""
      }
     },
     "d87a5ba2965a4af2a2608a1a3332edb6": {
      "model_module": "@jupyter-widgets/controls",
      "model_module_version": "1.1.0",
      "model_name": "LabelModel",
      "state": {
       "layout": "IPY_MODEL_e7ecb71a6c3a41c7a7e8bd0ae54eff62",
       "style": "IPY_MODEL_9c0fbf4338534d459b3867084725c7ec",
       "value": "Select the detector angles to plot."
      }
     },
     "d89d57eeb9ee413baad1cb61dc3a999b": {
      "model_module": "@jupyter-widgets/base",
      "model_module_version": "1.0.0",
      "model_name": "LayoutModel",
      "state": {}
     },
     "d8ce672d8dbd42eda9a634d6c3226882": {
      "model_module": "@jupyter-widgets/controls",
      "model_module_version": "1.1.0",
      "model_name": "ToggleButtonsModel",
      "state": {
       "_options_labels": [
        "OLS",
        "NaI"
       ],
       "button_style": "",
       "description": "Type:",
       "icons": [],
       "index": 0,
       "layout": "IPY_MODEL_e48a0655d50b42b683d86c150a6e7824",
       "style": "IPY_MODEL_fa868bfc1e314c0ebe3116aa8acc6ef2",
       "tooltips": [
        "Organic Liquid Scintillator",
        "Sodium Iodide"
       ]
      }
     },
     "d8cf82f7923240cb886a4c0be92a65b1": {
      "model_module": "@jupyter-widgets/controls",
      "model_module_version": "1.1.0",
      "model_name": "LabelModel",
      "state": {
       "layout": "IPY_MODEL_80283625d8bf4c69b8c889786437052f",
       "style": "IPY_MODEL_074cb167ae664aa1a749896d67cfd459",
       "value": "Select the detector angles to plot."
      }
     },
     "d8e79c82101d4d939d3b239c270edb50": {
      "model_module": "@jupyter-widgets/controls",
      "model_module_version": "1.1.0",
      "model_name": "DescriptionStyleModel",
      "state": {
       "description_width": ""
      }
     },
     "d8f2b0c985bc447299b6419e1ceb7075": {
      "model_module": "@jupyter-widgets/base",
      "model_module_version": "1.0.0",
      "model_name": "LayoutModel",
      "state": {}
     },
     "d9522eb135c94484ab8c6f8eead3da76": {
      "model_module": "@jupyter-widgets/controls",
      "model_module_version": "1.1.0",
      "model_name": "DescriptionStyleModel",
      "state": {
       "description_width": ""
      }
     },
     "d99aff9ae3da4c99b9fc05e9620edc89": {
      "model_module": "@jupyter-widgets/base",
      "model_module_version": "1.0.0",
      "model_name": "LayoutModel",
      "state": {}
     },
     "d9b6254a1030432bbedb4417d10e52ec": {
      "model_module": "@jupyter-widgets/controls",
      "model_module_version": "1.1.0",
      "model_name": "ToggleButtonsModel",
      "state": {
       "_options_labels": [
        "None",
        "Spaced by 10²"
       ],
       "button_style": "",
       "description": "Spacing:",
       "icons": [],
       "index": 0,
       "layout": "IPY_MODEL_1719a77f518142a39ecc0dced8ab027f",
       "style": "IPY_MODEL_b949026b8c67487686303947e66a0280",
       "tooltips": [
        "All values are presented as is.",
        "Plots for different detectors are multiplied by powers of 10² for easier viewing."
       ]
      }
     },
     "d9cc632b94b840ef8142b19040133b67": {
      "model_module": "@jupyter-widgets/base",
      "model_module_version": "1.0.0",
      "model_name": "LayoutModel",
      "state": {}
     },
     "d9d5d8db352a493f88c715bae758c0a6": {
      "model_module": "@jupyter-widgets/controls",
      "model_module_version": "1.1.0",
      "model_name": "DescriptionStyleModel",
      "state": {
       "description_width": ""
      }
     },
     "da1ae399ff994bd6917366e2a1af5b33": {
      "model_module": "@jupyter-widgets/base",
      "model_module_version": "1.0.0",
      "model_name": "LayoutModel",
      "state": {}
     },
     "daa1eb14b20f48a5a9aba4450376ed13": {
      "model_module": "@jupyter-widgets/base",
      "model_module_version": "1.0.0",
      "model_name": "LayoutModel",
      "state": {}
     },
     "dacecf3f41d744dca9a326df46e03dc7": {
      "model_module": "@jupyter-widgets/base",
      "model_module_version": "1.0.0",
      "model_name": "LayoutModel",
      "state": {}
     },
     "dad9cd6404314951aeb9cf470121a8d4": {
      "model_module": "@jupyter-widgets/controls",
      "model_module_version": "1.1.0",
      "model_name": "ButtonStyleModel",
      "state": {}
     },
     "db12b09ac5ee42478514531637af188e": {
      "model_module": "@jupyter-widgets/controls",
      "model_module_version": "1.1.0",
      "model_name": "CheckboxModel",
      "state": {
       "description": "45°",
       "disabled": false,
       "layout": "IPY_MODEL_3cd124f1e9e744878abd76ecc1d9d390",
       "style": "IPY_MODEL_dff6c18cf37c44c2bd38a2be79fedc22",
       "value": true
      }
     },
     "db23ea9742d24a9eb53dca9df0670822": {
      "model_module": "@jupyter-widgets/base",
      "model_module_version": "1.0.0",
      "model_name": "LayoutModel",
      "state": {}
     },
     "db2556a40a264b19be782f90ab5a18ba": {
      "model_module": "@jupyter-widgets/controls",
      "model_module_version": "1.1.0",
      "model_name": "CheckboxModel",
      "state": {
       "description": "10°",
       "disabled": false,
       "layout": "IPY_MODEL_25d96007033c46ebaa20fafb1a8eedb6",
       "style": "IPY_MODEL_c95e28d6844e45619a4a4d1857fd5165",
       "value": true
      }
     },
     "db5db616c7af47308fb873261c5e5e7b": {
      "model_module": "@jupyter-widgets/controls",
      "model_module_version": "1.1.0",
      "model_name": "ToggleButtonsStyleModel",
      "state": {
       "button_width": "",
       "description_width": ""
      }
     },
     "dbebba09632b483a9b1a0034cee0d6a2": {
      "model_module": "@jupyter-widgets/base",
      "model_module_version": "1.0.0",
      "model_name": "LayoutModel",
      "state": {}
     },
     "dc1b2f7af7544418b6a168a31f72d912": {
      "model_module": "@jupyter-widgets/controls",
      "model_module_version": "1.1.0",
      "model_name": "CheckboxModel",
      "state": {
       "description": "MCNP simulated",
       "disabled": false,
       "layout": "IPY_MODEL_d8f2b0c985bc447299b6419e1ceb7075",
       "style": "IPY_MODEL_cd07564de7c04f08bf0f8be801547399",
       "value": true
      }
     },
     "dc2fd02629da40079836a46a6d085d52": {
      "model_module": "@jupyter-widgets/controls",
      "model_module_version": "1.1.0",
      "model_name": "DescriptionStyleModel",
      "state": {
       "description_width": ""
      }
     },
     "dc4083201fbe4d7b947a7e16b3ea3e09": {
      "model_module": "@jupyter-widgets/controls",
      "model_module_version": "1.1.0",
      "model_name": "LabelModel",
      "state": {
       "layout": "IPY_MODEL_e535cc5b301040faa3ea82d0ab3d6376",
       "style": "IPY_MODEL_c7efe43aa3db4c0ca7e119d893945ce5",
       "value": "Select how data sets for each detector should be spaced apart (if at all)."
      }
     },
     "dc545899afba40ea8c875493c461fd48": {
      "model_module": "@jupyter-widgets/base",
      "model_module_version": "1.0.0",
      "model_name": "LayoutModel",
      "state": {}
     },
     "dc6d91722d5c44ff8bff9b0db1e2cff7": {
      "model_module": "@jupyter-widgets/controls",
      "model_module_version": "1.1.0",
      "model_name": "DescriptionStyleModel",
      "state": {
       "description_width": ""
      }
     },
     "dcac55fa47134e5a80e306325f646db6": {
      "model_module": "@jupyter-widgets/base",
      "model_module_version": "1.0.0",
      "model_name": "LayoutModel",
      "state": {}
     },
     "dcc580c163444356988ae2cd34110f94": {
      "model_module": "@jupyter-widgets/controls",
      "model_module_version": "1.1.0",
      "model_name": "DescriptionStyleModel",
      "state": {
       "description_width": ""
      }
     },
     "dcd4150ab35545e2ac72db780bab26ae": {
      "model_module": "@jupyter-widgets/controls",
      "model_module_version": "1.1.0",
      "model_name": "CheckboxModel",
      "state": {
       "description": "28.2°",
       "disabled": false,
       "layout": "IPY_MODEL_a1f8d073dfd248cea3df0a3525424b95",
       "style": "IPY_MODEL_e473009d463b4dd885e541ddf845313d",
       "value": true
      }
     },
     "dcd4ce5edb6c44989f20208388f10188": {
      "model_module": "@jupyter-widgets/base",
      "model_module_version": "1.0.0",
      "model_name": "LayoutModel",
      "state": {}
     },
     "ddd4c7730c2943e088922ab80047a48e": {
      "model_module": "@jupyter-widgets/controls",
      "model_module_version": "1.1.0",
      "model_name": "DescriptionStyleModel",
      "state": {
       "description_width": ""
      }
     },
     "de136a4347eb43718c46e90b77ba4eae": {
      "model_module": "@jupyter-widgets/controls",
      "model_module_version": "1.1.0",
      "model_name": "DescriptionStyleModel",
      "state": {
       "description_width": ""
      }
     },
     "de211141ed4840f4b0dbc62e00d0f764": {
      "model_module": "@jupyter-widgets/base",
      "model_module_version": "1.0.0",
      "model_name": "LayoutModel",
      "state": {}
     },
     "de4ee6f855d746ea968143e1a598b77b": {
      "model_module": "@jupyter-widgets/controls",
      "model_module_version": "1.1.0",
      "model_name": "DescriptionStyleModel",
      "state": {
       "description_width": ""
      }
     },
     "dea5b9bad1cd4b9db9b9fd149c0395ad": {
      "model_module": "@jupyter-widgets/controls",
      "model_module_version": "1.1.0",
      "model_name": "ToggleButtonsModel",
      "state": {
       "_options_labels": [
        "400 MeV/n",
        "800 MeV/n",
        "1500 MeV/n"
       ],
       "button_style": "",
       "description": "Energy:",
       "icons": [],
       "index": 0,
       "layout": "IPY_MODEL_2e6eb0dd8f87479ab08dc9000d5723d2",
       "style": "IPY_MODEL_d529fa62e7e94894b3d5a2100c861933",
       "tooltips": [
        "lowest energy",
        "middle energy",
        "highest energy"
       ]
      }
     },
     "deef3cc23c9e47b1a27184acabc313ff": {
      "model_module": "@jupyter-widgets/controls",
      "model_module_version": "1.1.0",
      "model_name": "DescriptionStyleModel",
      "state": {
       "description_width": ""
      }
     },
     "df026d70c59a450492e1245146cba983": {
      "model_module": "@jupyter-widgets/controls",
      "model_module_version": "1.1.0",
      "model_name": "LabelModel",
      "state": {
       "layout": "IPY_MODEL_e80e24a9feae43428877f7d17703b50b",
       "style": "IPY_MODEL_9fb91dc68d1e42289c11d12858d52439",
       "value": "Select the detector angles to plot."
      }
     },
     "df42854a99054e0ebb4bf73a9cf9e209": {
      "model_module": "@jupyter-widgets/base",
      "model_module_version": "1.0.0",
      "model_name": "LayoutModel",
      "state": {}
     },
     "df7a836d1bec4c7490c9e7f95433f9d2": {
      "model_module": "@jupyter-widgets/controls",
      "model_module_version": "1.1.0",
      "model_name": "LabelModel",
      "state": {
       "layout": "IPY_MODEL_3446711576864bc6be7fe4b295e27a95",
       "style": "IPY_MODEL_ab316c5666524946ae0c172d4473ccf4",
       "value": "Select the detector angles to plot."
      }
     },
     "dfd73c8a56494aa798b7a0969a38eaf1": {
      "model_module": "@jupyter-widgets/controls",
      "model_module_version": "1.1.0",
      "model_name": "LabelModel",
      "state": {
       "layout": "IPY_MODEL_f18d8c2733764bf5b324b901bc699368",
       "style": "IPY_MODEL_3d0f3c678ae9413bb5af523f0949b7a3",
       "value": "Select which secondary particle to plot spectra for."
      }
     },
     "dff6c18cf37c44c2bd38a2be79fedc22": {
      "model_module": "@jupyter-widgets/controls",
      "model_module_version": "1.1.0",
      "model_name": "DescriptionStyleModel",
      "state": {
       "description_width": ""
      }
     },
     "e006b153e8c04f7981c6ddc8c3678b96": {
      "model_module": "@jupyter-widgets/base",
      "model_module_version": "1.0.0",
      "model_name": "LayoutModel",
      "state": {}
     },
     "e042e945954041b693d6fc5b84ea9838": {
      "model_module": "@jupyter-widgets/controls",
      "model_module_version": "1.1.0",
      "model_name": "CheckboxModel",
      "state": {
       "description": "10°",
       "disabled": false,
       "layout": "IPY_MODEL_5f6d3b5ab3f94a0d9af8dd6912b4767b",
       "style": "IPY_MODEL_d54378043d464adeb0c417cdf20b4616",
       "value": true
      }
     },
     "e05c6d832beb42ca99a2ba56639c05f7": {
      "model_module": "@jupyter-widgets/controls",
      "model_module_version": "1.1.0",
      "model_name": "CheckboxModel",
      "state": {
       "description": "45°",
       "disabled": false,
       "layout": "IPY_MODEL_b47b0b519fa84394b5a2796345eee4c6",
       "style": "IPY_MODEL_a3f03c52452f4040b71e2bb824bf4b8b",
       "value": true
      }
     },
     "e07cc0fb0d2244aba73b172fc1d793fb": {
      "model_module": "@jupyter-widgets/controls",
      "model_module_version": "1.1.0",
      "model_name": "LabelModel",
      "state": {
       "layout": "IPY_MODEL_af447f0dfaba4018b93633549c50a98c",
       "style": "IPY_MODEL_2f59f0148d4b4c318a233e7549c7a124",
       "value": "Select upstream target material and thickness."
      }
     },
     "e0cffeab5479447b9f8f8b9db4a1f22c": {
      "model_module": "@jupyter-widgets/controls",
      "model_module_version": "1.1.0",
      "model_name": "LabelModel",
      "state": {
       "layout": "IPY_MODEL_8d940d9289e04dd1a510e39ef6872793",
       "style": "IPY_MODEL_c65b04ff06e647c3a975ba85789edcdd",
       "value": "Select the detector angles to plot."
      }
     },
     "e0d70ba7639749d2bd3e4f62eb617f72": {
      "model_module": "@jupyter-widgets/controls",
      "model_module_version": "1.1.0",
      "model_name": "CheckboxModel",
      "state": {
       "description": "30°",
       "disabled": false,
       "layout": "IPY_MODEL_1672aa49f4314ddf92f6e8228632b8df",
       "style": "IPY_MODEL_3e26dbb23950401caf73c17a05277c77",
       "value": true
      }
     },
     "e10661569efd495da1417ba600cbe9cb": {
      "model_module": "@jupyter-widgets/controls",
      "model_module_version": "1.1.0",
      "model_name": "DescriptionStyleModel",
      "state": {
       "description_width": ""
      }
     },
     "e108c6f8dc544560b790101082bb3f6d": {
      "model_module": "@jupyter-widgets/controls",
      "model_module_version": "1.1.0",
      "model_name": "CheckboxModel",
      "state": {
       "description": "10°",
       "disabled": false,
       "layout": "IPY_MODEL_d141f9622d7a4604a2f6c62bfabf5669",
       "style": "IPY_MODEL_d505af3d2b874d91afabc23a4681c26c",
       "value": true
      }
     },
     "e125556179c24374bb636b9f57260100": {
      "model_module": "@jupyter-widgets/base",
      "model_module_version": "1.0.0",
      "model_name": "LayoutModel",
      "state": {}
     },
     "e13fe1343d144c94a41936009565334f": {
      "model_module": "@jupyter-widgets/base",
      "model_module_version": "1.0.0",
      "model_name": "LayoutModel",
      "state": {}
     },
     "e1d70410966d4bf99a2e35490939c1d6": {
      "model_module": "@jupyter-widgets/controls",
      "model_module_version": "1.1.0",
      "model_name": "ToggleButtonsStyleModel",
      "state": {
       "button_width": "",
       "description_width": ""
      }
     },
     "e219c91422e84a828f877205b0db4d5b": {
      "model_module": "@jupyter-widgets/controls",
      "model_module_version": "1.1.0",
      "model_name": "ButtonModel",
      "state": {
       "button_style": "success",
       "description": "Update plot",
       "icon": "paint-brush",
       "layout": "IPY_MODEL_aac3db4e5d1e4f98a69d1cf4938a87d6",
       "style": "IPY_MODEL_58d1a5ed88374eb2bc1af82624b9c785",
       "tooltip": "Click to redraw the plot below with updated options from above."
      }
     },
     "e21af38f32404b8fa5826899896bb62e": {
      "model_module": "@jupyter-widgets/controls",
      "model_module_version": "1.1.0",
      "model_name": "CheckboxModel",
      "state": {
       "description": "135°",
       "disabled": false,
       "layout": "IPY_MODEL_e5e86d6c8dd849fc9f332d9f5d25bf96",
       "style": "IPY_MODEL_cb570e4a32cf48c1b8b9eb2590302fbc",
       "value": true
      }
     },
     "e2942bf36d6c4d1e9d9c1d946651f2dd": {
      "model_module": "@jupyter-widgets/controls",
      "model_module_version": "1.1.0",
      "model_name": "DescriptionStyleModel",
      "state": {
       "description_width": ""
      }
     },
     "e2c1797b522b46c098590f29c80eda32": {
      "model_module": "@jupyter-widgets/controls",
      "model_module_version": "1.1.0",
      "model_name": "DescriptionStyleModel",
      "state": {
       "description_width": ""
      }
     },
     "e2d01956c3e74b318902755915ffaa86": {
      "model_module": "@jupyter-widgets/controls",
      "model_module_version": "1.1.0",
      "model_name": "CheckboxModel",
      "state": {
       "description": "80°",
       "disabled": false,
       "layout": "IPY_MODEL_87b2e69948374bef9d1952c9e4a06f02",
       "style": "IPY_MODEL_a2733a53a33c469f9e74e92e8a087019",
       "value": true
      }
     },
     "e325c6be398a42c2b945c5be78fb0c06": {
      "model_module": "@jupyter-widgets/controls",
      "model_module_version": "1.1.0",
      "model_name": "DescriptionStyleModel",
      "state": {
       "description_width": ""
      }
     },
     "e366da6eff8946f28914cb82be8ba5eb": {
      "model_module": "@jupyter-widgets/controls",
      "model_module_version": "1.1.0",
      "model_name": "ToggleButtonsStyleModel",
      "state": {
       "button_width": "",
       "description_width": ""
      }
     },
     "e36c4c9a05f2445fa793ef47e228c482": {
      "model_module": "@jupyter-widgets/controls",
      "model_module_version": "1.1.0",
      "model_name": "CheckboxModel",
      "state": {
       "description": "135°",
       "disabled": false,
       "layout": "IPY_MODEL_2bfba8157b8447fca9e7126134d36d87",
       "style": "IPY_MODEL_bf382fe9a9d94fe6afae769e4d07fb7e",
       "value": true
      }
     },
     "e3c0b9d7264d4dd38eb1038c6ebcc18d": {
      "model_module": "@jupyter-widgets/controls",
      "model_module_version": "1.1.0",
      "model_name": "ToggleButtonsModel",
      "state": {
       "_options_labels": [
        "H",
        "He",
        "C",
        "Si",
        "Fe"
       ],
       "button_style": "",
       "description": "Ion:",
       "icons": [],
       "index": 0,
       "layout": "IPY_MODEL_039f033d47cf409a828dd3e58c09ff31",
       "style": "IPY_MODEL_7e2371361e60439b81f3c95a4c29b3b7",
       "tooltips": [
        "Hydrogen",
        "Helium",
        "Carbon",
        "Silicon",
        "Iron"
       ]
      }
     },
     "e3f7300c89714ab39e4ee81c1ffd5e96": {
      "model_module": "@jupyter-widgets/controls",
      "model_module_version": "1.1.0",
      "model_name": "ToggleButtonsModel",
      "state": {
       "_options_labels": [
        "400 MeV",
        "800 MeV",
        "2500 MeV"
       ],
       "button_style": "",
       "description": "Energy:",
       "icons": [],
       "index": 0,
       "layout": "IPY_MODEL_ccb28a988e3d4037916318232e82fdc2",
       "style": "IPY_MODEL_196b92fe93b14a5e9565d48f5aa1f5ce",
       "tooltips": [
        "lowest energy",
        "middle energy",
        "highest energy"
       ]
      }
     },
     "e473009d463b4dd885e541ddf845313d": {
      "model_module": "@jupyter-widgets/controls",
      "model_module_version": "1.1.0",
      "model_name": "DescriptionStyleModel",
      "state": {
       "description_width": ""
      }
     },
     "e48a0655d50b42b683d86c150a6e7824": {
      "model_module": "@jupyter-widgets/base",
      "model_module_version": "1.0.0",
      "model_name": "LayoutModel",
      "state": {}
     },
     "e497490ce55a47528fa6a34bf8452d68": {
      "model_module": "@jupyter-widgets/base",
      "model_module_version": "1.0.0",
      "model_name": "LayoutModel",
      "state": {}
     },
     "e4b014e21c154a99a472d17155e7609e": {
      "model_module": "@jupyter-widgets/base",
      "model_module_version": "1.0.0",
      "model_name": "LayoutModel",
      "state": {}
     },
     "e4d804abadc14c74a33145526e02a3b7": {
      "model_module": "@jupyter-widgets/base",
      "model_module_version": "1.0.0",
      "model_name": "LayoutModel",
      "state": {}
     },
     "e4da8aed076e41fabc020df45f79166e": {
      "model_module": "@jupyter-widgets/base",
      "model_module_version": "1.0.0",
      "model_name": "LayoutModel",
      "state": {}
     },
     "e4e76739afdd42159e7d70cd8e35073f": {
      "model_module": "@jupyter-widgets/controls",
      "model_module_version": "1.1.0",
      "model_name": "DescriptionStyleModel",
      "state": {
       "description_width": ""
      }
     },
     "e5156cf9dd3c4c19a057626002130589": {
      "model_module": "@jupyter-widgets/controls",
      "model_module_version": "1.1.0",
      "model_name": "ToggleButtonsModel",
      "state": {
       "_options_labels": [
        "400 MeV",
        "800 MeV",
        "2500 MeV"
       ],
       "button_style": "",
       "description": "Energy:",
       "icons": [],
       "index": 0,
       "layout": "IPY_MODEL_200b72eb0f634c9cb9872c64c4e231f8",
       "style": "IPY_MODEL_ffd7ce5689fb467b967c87d2b0dcf965",
       "tooltips": [
        "lowest energy",
        "middle energy",
        "highest energy"
       ]
      }
     },
     "e52c9ad6f0f94c16a168ca41d44d2b05": {
      "model_module": "@jupyter-widgets/controls",
      "model_module_version": "1.1.0",
      "model_name": "ToggleButtonsStyleModel",
      "state": {
       "button_width": "",
       "description_width": ""
      }
     },
     "e535cc5b301040faa3ea82d0ab3d6376": {
      "model_module": "@jupyter-widgets/base",
      "model_module_version": "1.0.0",
      "model_name": "LayoutModel",
      "state": {}
     },
     "e5735cc6219041ce86e8dd86b310dc02": {
      "model_module": "@jupyter-widgets/controls",
      "model_module_version": "1.1.0",
      "model_name": "DescriptionStyleModel",
      "state": {
       "description_width": ""
      }
     },
     "e58a8f5499a64d7d8362340324127d7d": {
      "model_module": "@jupyter-widgets/base",
      "model_module_version": "1.0.0",
      "model_name": "LayoutModel",
      "state": {}
     },
     "e58b5b6d58df46fd91e1820fc099502d": {
      "model_module": "@jupyter-widgets/controls",
      "model_module_version": "1.1.0",
      "model_name": "LabelModel",
      "state": {
       "layout": "IPY_MODEL_df42854a99054e0ebb4bf73a9cf9e209",
       "style": "IPY_MODEL_65c67283abaa4187b143e98bc5c4bf8b",
       "value": "Select which secondary particle to plot spectra for."
      }
     },
     "e5b497fc7daa4375b00b1836253b25d0": {
      "model_module": "@jupyter-widgets/controls",
      "model_module_version": "1.1.0",
      "model_name": "LabelModel",
      "state": {
       "layout": "IPY_MODEL_a5ab0bc8e4894abf9f3ae4671f61de35",
       "style": "IPY_MODEL_f143c1e1d37e4c3e80e186452ecaae07",
       "value": "Select which sets of data to display."
      }
     },
     "e5de52a649a44006a5e4cb9bac808b33": {
      "model_module": "@jupyter-widgets/base",
      "model_module_version": "1.0.0",
      "model_name": "LayoutModel",
      "state": {}
     },
     "e5e86d6c8dd849fc9f332d9f5d25bf96": {
      "model_module": "@jupyter-widgets/base",
      "model_module_version": "1.0.0",
      "model_name": "LayoutModel",
      "state": {}
     },
     "e5f74c8d52ba473a915226f341c5467e": {
      "model_module": "@jupyter-widgets/controls",
      "model_module_version": "1.1.0",
      "model_name": "LabelModel",
      "state": {
       "layout": "IPY_MODEL_eae5e238dfcd487eaeb1739326df0d12",
       "style": "IPY_MODEL_8e0c320fd5734317bb5f0a4dcabe63e9",
       "value": "Select the detector angles to plot."
      }
     },
     "e65acee7afc542d6ad03ff99c879b497": {
      "model_module": "@jupyter-widgets/controls",
      "model_module_version": "1.1.0",
      "model_name": "CheckboxModel",
      "state": {
       "description": "30°",
       "disabled": false,
       "layout": "IPY_MODEL_7a207b3f9e534394bfd8e158d669b063",
       "style": "IPY_MODEL_358e4741551d4c4686ca6b750bcca1d4",
       "value": true
      }
     },
     "e66423a8657740bf85d4739442117038": {
      "model_module": "@jupyter-widgets/controls",
      "model_module_version": "1.1.0",
      "model_name": "ToggleButtonsStyleModel",
      "state": {
       "button_width": "",
       "description_width": ""
      }
     },
     "e68d8f144a094788886e98075cc5562e": {
      "model_module": "@jupyter-widgets/controls",
      "model_module_version": "1.1.0",
      "model_name": "DescriptionStyleModel",
      "state": {
       "description_width": ""
      }
     },
     "e6ab800a2c384e36a3b43de9083679e4": {
      "model_module": "@jupyter-widgets/controls",
      "model_module_version": "1.1.0",
      "model_name": "ButtonModel",
      "state": {
       "button_style": "success",
       "description": "Update plot",
       "icon": "paint-brush",
       "layout": "IPY_MODEL_a8e419868feb40a79cfca7b3f532a7fa",
       "style": "IPY_MODEL_806a3c65ff964a2982d166fcff8bb411",
       "tooltip": "Click to redraw the plot below with updated options from above."
      }
     },
     "e6eec0d2d30c40cf81d419a89626b114": {
      "model_module": "@jupyter-widgets/base",
      "model_module_version": "1.0.0",
      "model_name": "LayoutModel",
      "state": {}
     },
     "e705eb676ca84ed7bac6301486cf3fec": {
      "model_module": "@jupyter-widgets/base",
      "model_module_version": "1.0.0",
      "model_name": "LayoutModel",
      "state": {}
     },
     "e70fff3b1c7d496b87c0f5a08a5d3555": {
      "model_module": "@jupyter-widgets/base",
      "model_module_version": "1.0.0",
      "model_name": "LayoutModel",
      "state": {}
     },
     "e7354a7351dc4a3eb056a1ebe167219f": {
      "model_module": "@jupyter-widgets/base",
      "model_module_version": "1.0.0",
      "model_name": "LayoutModel",
      "state": {}
     },
     "e75e86304c0e43ab9315309c63aae2b6": {
      "model_module": "@jupyter-widgets/base",
      "model_module_version": "1.0.0",
      "model_name": "LayoutModel",
      "state": {}
     },
     "e79bd93ad5be4112858e8589b9072286": {
      "model_module": "@jupyter-widgets/controls",
      "model_module_version": "1.1.0",
      "model_name": "DescriptionStyleModel",
      "state": {
       "description_width": ""
      }
     },
     "e7c50db298be473eac5d8bfb179b664c": {
      "model_module": "@jupyter-widgets/controls",
      "model_module_version": "1.1.0",
      "model_name": "DescriptionStyleModel",
      "state": {
       "description_width": ""
      }
     },
     "e7c7ff147f5e4b0f9de2d24756f931c5": {
      "model_module": "@jupyter-widgets/base",
      "model_module_version": "1.0.0",
      "model_name": "LayoutModel",
      "state": {}
     },
     "e7d5c0076bce489bb6ca680b9c77e9fb": {
      "model_module": "@jupyter-widgets/controls",
      "model_module_version": "1.1.0",
      "model_name": "DescriptionStyleModel",
      "state": {
       "description_width": ""
      }
     },
     "e7e3aa5f333c4515a07b33e75a21e3aa": {
      "model_module": "@jupyter-widgets/controls",
      "model_module_version": "1.1.0",
      "model_name": "CheckboxModel",
      "state": {
       "description": "45°",
       "disabled": false,
       "layout": "IPY_MODEL_bdbce8b329e84bacadec6d2e96f30b1e",
       "style": "IPY_MODEL_2b911a2ee8294942a8efb25e06c96439",
       "value": false
      }
     },
     "e7ecb71a6c3a41c7a7e8bd0ae54eff62": {
      "model_module": "@jupyter-widgets/base",
      "model_module_version": "1.0.0",
      "model_name": "LayoutModel",
      "state": {}
     },
     "e80e24a9feae43428877f7d17703b50b": {
      "model_module": "@jupyter-widgets/base",
      "model_module_version": "1.0.0",
      "model_name": "LayoutModel",
      "state": {}
     },
     "e81ace7a9c8c47519c4ccc7e7135a833": {
      "model_module": "@jupyter-widgets/controls",
      "model_module_version": "1.1.0",
      "model_name": "LabelModel",
      "state": {
       "layout": "IPY_MODEL_9ecc5a915ae742e0a270e8e6ff0bf4bd",
       "style": "IPY_MODEL_cf8555f94a5a495ea3b65f53dda0e5e0",
       "value": "Select the detector angles to plot."
      }
     },
     "e853e0e4b83c4027ae57a1c216404402": {
      "model_module": "@jupyter-widgets/controls",
      "model_module_version": "1.1.0",
      "model_name": "CheckboxModel",
      "state": {
       "description": "30°",
       "disabled": false,
       "layout": "IPY_MODEL_6a2b921d39ac461dbc061b948af0ceea",
       "style": "IPY_MODEL_05cb3d47b34d471a8df96e77a72f430b",
       "value": true
      }
     },
     "e855032a03ab41298ecbce490692b442": {
      "model_module": "@jupyter-widgets/base",
      "model_module_version": "1.0.0",
      "model_name": "LayoutModel",
      "state": {}
     },
     "e859ff3fab7f425f9d5d51bb08bb0418": {
      "model_module": "@jupyter-widgets/controls",
      "model_module_version": "1.1.0",
      "model_name": "DescriptionStyleModel",
      "state": {
       "description_width": ""
      }
     },
     "e87b980a30d44b798d1e28f010ac8725": {
      "model_module": "@jupyter-widgets/controls",
      "model_module_version": "1.1.0",
      "model_name": "ToggleButtonsModel",
      "state": {
       "_options_labels": [
        "N (¹n)",
        "NDC (¹n)",
        "P (¹H)",
        "D (²H)",
        "T (³H)",
        "S (³He)",
        "A (⁴He)"
       ],
       "button_style": "",
       "description": "Type:",
       "icons": [],
       "index": 0,
       "layout": "IPY_MODEL_22f5fcb0e7c14fb49e8408d1f2bb3cb6",
       "style": "IPY_MODEL_8a8a3c66e387487d94d40df8daf3abec",
       "tooltips": [
        "Neutron",
        "Back Target Neutron",
        "Proton",
        "Deuteron",
        "Triton",
        "Helium-3",
        "Helium-4"
       ]
      }
     },
     "e8b1430b7a3246b5962a8ec757207553": {
      "model_module": "@jupyter-widgets/base",
      "model_module_version": "1.0.0",
      "model_name": "LayoutModel",
      "state": {}
     },
     "e8b835b886ea4c968b92fde00e855c21": {
      "model_module": "@jupyter-widgets/base",
      "model_module_version": "1.0.0",
      "model_name": "LayoutModel",
      "state": {}
     },
     "e92d26a0bad1454b9eb0b6fcb4761631": {
      "model_module": "@jupyter-widgets/controls",
      "model_module_version": "1.1.0",
      "model_name": "CheckboxModel",
      "state": {
       "description": "135°",
       "disabled": false,
       "layout": "IPY_MODEL_7a60d2682c3349b0b202edf010c6c96c",
       "style": "IPY_MODEL_98c085b49e204c9f976cb4af179fae94",
       "value": true
      }
     },
     "e9543b4dab854cd4b3dc337b87fddb83": {
      "model_module": "@jupyter-widgets/controls",
      "model_module_version": "1.1.0",
      "model_name": "DescriptionStyleModel",
      "state": {
       "description_width": ""
      }
     },
     "e9876dad0d064a82bb3810f9daf6dc78": {
      "model_module": "@jupyter-widgets/base",
      "model_module_version": "1.0.0",
      "model_name": "LayoutModel",
      "state": {}
     },
     "e992d12a9729434d8f31fc94ade3e124": {
      "model_module": "@jupyter-widgets/base",
      "model_module_version": "1.0.0",
      "model_name": "LayoutModel",
      "state": {}
     },
     "e9985931202d404a85b352978ff371ec": {
      "model_module": "@jupyter-widgets/controls",
      "model_module_version": "1.1.0",
      "model_name": "CheckboxModel",
      "state": {
       "description": "45°",
       "disabled": false,
       "layout": "IPY_MODEL_d54854d800e84617aacf520cbd7df79d",
       "style": "IPY_MODEL_0bf4a0d53fc74f159eaa0fe9e9553c72",
       "value": true
      }
     },
     "e9c632d108ec4bc5b7df6ee17e225966": {
      "model_module": "@jupyter-widgets/base",
      "model_module_version": "1.0.0",
      "model_name": "LayoutModel",
      "state": {}
     },
     "ea30e5a524454e1594f24ddc7f7f64e4": {
      "model_module": "@jupyter-widgets/controls",
      "model_module_version": "1.1.0",
      "model_name": "CheckboxModel",
      "state": {
       "description": "45°",
       "disabled": false,
       "layout": "IPY_MODEL_97943902601a413d9513a4e7bec6f8a8",
       "style": "IPY_MODEL_1a0b47557ddb471a9abef45ce46f53bc",
       "value": true
      }
     },
     "ea4664c6390d4cf0904b45b2b1efb2c9": {
      "model_module": "@jupyter-widgets/controls",
      "model_module_version": "1.1.0",
      "model_name": "CheckboxModel",
      "state": {
       "description": "80°",
       "disabled": false,
       "layout": "IPY_MODEL_9935277d35c1402bb49416768a7b9ce1",
       "style": "IPY_MODEL_a900600b456b46a681fcc9494b7ece95",
       "value": true
      }
     },
     "ea8cf577676a4f5c815dc001591cca70": {
      "model_module": "@jupyter-widgets/controls",
      "model_module_version": "1.1.0",
      "model_name": "DescriptionStyleModel",
      "state": {
       "description_width": ""
      }
     },
     "eacf4b0c30b94827b8e74e51c200c853": {
      "model_module": "@jupyter-widgets/base",
      "model_module_version": "1.0.0",
      "model_name": "LayoutModel",
      "state": {}
     },
     "eada671a9877489896c776f602c3d693": {
      "model_module": "@jupyter-widgets/controls",
      "model_module_version": "1.1.0",
      "model_name": "ToggleButtonsModel",
      "state": {
       "_options_labels": [
        "400 MeV/n",
        "800 MeV/n",
        "1500 MeV/n"
       ],
       "button_style": "",
       "description": "Energy:",
       "icons": [],
       "index": 0,
       "layout": "IPY_MODEL_03b19c06f12e4aadad7aec80c5d6b1ed",
       "style": "IPY_MODEL_1fec3a2bae25428490df10b6f9630f15",
       "tooltips": [
        "lowest energy",
        "middle energy",
        "highest energy"
       ]
      }
     },
     "eadefaf457884e77b775d9e9cef345f2": {
      "model_module": "@jupyter-widgets/controls",
      "model_module_version": "1.1.0",
      "model_name": "CheckboxModel",
      "state": {
       "description": "10°",
       "disabled": false,
       "layout": "IPY_MODEL_9dd994dfe1494c828611dab8b7c1157e",
       "style": "IPY_MODEL_74e3d297a3dd4837a6940d54ccb2fc04",
       "value": true
      }
     },
     "eae064cb481f4388b3ecadccabebcbfd": {
      "model_module": "@jupyter-widgets/base",
      "model_module_version": "1.0.0",
      "model_name": "LayoutModel",
      "state": {}
     },
     "eae5e238dfcd487eaeb1739326df0d12": {
      "model_module": "@jupyter-widgets/base",
      "model_module_version": "1.0.0",
      "model_name": "LayoutModel",
      "state": {}
     },
     "eb377fa66aa746eb968995e2f2ab0fb4": {
      "model_module": "@jupyter-widgets/base",
      "model_module_version": "1.0.0",
      "model_name": "LayoutModel",
      "state": {}
     },
     "eb4ab7313de148e7975c3fd05921afd6": {
      "model_module": "@jupyter-widgets/base",
      "model_module_version": "1.0.0",
      "model_name": "LayoutModel",
      "state": {}
     },
     "ebf7af92aa6d4d2d90ea7cdae6b2bd84": {
      "model_module": "@jupyter-widgets/base",
      "model_module_version": "1.0.0",
      "model_name": "LayoutModel",
      "state": {}
     },
     "ec294333971b4af4bb4a5d8b139ab91f": {
      "model_module": "@jupyter-widgets/base",
      "model_module_version": "1.0.0",
      "model_name": "LayoutModel",
      "state": {}
     },
     "ec376c2c6592463696df681b11201528": {
      "model_module": "@jupyter-widgets/controls",
      "model_module_version": "1.1.0",
      "model_name": "ToggleButtonsModel",
      "state": {
       "_options_labels": [
        "20 g/cm²",
        "60 g/cm²"
       ],
       "button_style": "",
       "description": "Thickness:",
       "icons": [],
       "index": 0,
       "layout": "IPY_MODEL_7ed71805849a4f218564899a9ad4f788",
       "style": "IPY_MODEL_e1d70410966d4bf99a2e35490939c1d6",
       "tooltips": [
        "10 g/cm² Al upstream + 10 g/cm² HDPE downstream",
        "10 g/cm² Al upstream + 50 g/cm² HDPE downstream"
       ]
      }
     },
     "ec4904e2908944e1b622c2574f0e912a": {
      "model_module": "@jupyter-widgets/controls",
      "model_module_version": "1.1.0",
      "model_name": "ToggleButtonsStyleModel",
      "state": {
       "button_width": "",
       "description_width": ""
      }
     },
     "ec5aaa4b954a43a097770055de9b89ef": {
      "model_module": "@jupyter-widgets/controls",
      "model_module_version": "1.1.0",
      "model_name": "CheckboxModel",
      "state": {
       "description": "Experiment",
       "disabled": false,
       "layout": "IPY_MODEL_1bf04ec8e10246cc9d2df1f9e1f9e9b8",
       "style": "IPY_MODEL_1a46dbed02354026a4326b00cab9b040",
       "value": true
      }
     },
     "ec670dbcc8b94de5b4410087759261e7": {
      "model_module": "@jupyter-widgets/controls",
      "model_module_version": "1.1.0",
      "model_name": "LabelModel",
      "state": {
       "layout": "IPY_MODEL_8f66d762f6184414a9714cfc226381c1",
       "style": "IPY_MODEL_2514ad8ffa01480e8bd6dd3eb68113a7",
       "value": "Select the detector angles to plot."
      }
     },
     "ed728a04d4bc4e46bfe229bbe18d946c": {
      "model_module": "@jupyter-widgets/controls",
      "model_module_version": "1.1.0",
      "model_name": "DescriptionStyleModel",
      "state": {
       "description_width": ""
      }
     },
     "ed78636499c449529f4f4ab3dbc73bdd": {
      "model_module": "@jupyter-widgets/controls",
      "model_module_version": "1.1.0",
      "model_name": "CheckboxModel",
      "state": {
       "description": "60°",
       "disabled": false,
       "layout": "IPY_MODEL_703e3e569ff1498cb980c4dc4e985884",
       "style": "IPY_MODEL_5be950c9798a433eac7c50d421058a45",
       "value": false
      }
     },
     "edc5a9e57f44467797d8f3c8d1368d47": {
      "model_module": "@jupyter-widgets/controls",
      "model_module_version": "1.1.0",
      "model_name": "LabelModel",
      "state": {
       "layout": "IPY_MODEL_714e01f090034d61970e171f2b8e9078",
       "style": "IPY_MODEL_9d4af918c79e4649b91b52b135f6205d",
       "value": "Select the detector angles to plot."
      }
     },
     "ee873eda4511449cbd85792796e66667": {
      "model_module": "@jupyter-widgets/controls",
      "model_module_version": "1.1.0",
      "model_name": "CheckboxModel",
      "state": {
       "description": "135°",
       "disabled": false,
       "layout": "IPY_MODEL_e9c632d108ec4bc5b7df6ee17e225966",
       "style": "IPY_MODEL_55ad60edc3cc48cf803fdd35c03e02a8",
       "value": true
      }
     },
     "ee8be8f473e143408da35f093c0b6df3": {
      "model_module": "@jupyter-widgets/controls",
      "model_module_version": "1.1.0",
      "model_name": "LabelModel",
      "state": {
       "layout": "IPY_MODEL_638b9a043e1e4701abfe86496606c417",
       "style": "IPY_MODEL_6896b4bd8afa4cdcbf69ee8bd652a294",
       "value": "Select which secondary particle to plot spectra for."
      }
     },
     "ee9165206ff64fd98ebeb4be3a4a7b45": {
      "model_module": "@jupyter-widgets/controls",
      "model_module_version": "1.1.0",
      "model_name": "CheckboxModel",
      "state": {
       "description": "12.7°",
       "disabled": false,
       "layout": "IPY_MODEL_1b864d38500245bc899a0f381f423c24",
       "style": "IPY_MODEL_aa35185bf3a34092a2bd1af2cf00e408",
       "value": true
      }
     },
     "ee98a1b776164c5e9d2f3111d8008ef9": {
      "model_module": "@jupyter-widgets/controls",
      "model_module_version": "1.1.0",
      "model_name": "LabelModel",
      "state": {
       "layout": "IPY_MODEL_994c2a00c9b5436b91b975bafd760584",
       "style": "IPY_MODEL_9de6726f2e004bd3877caf19cbe4426f",
       "value": "Select upstream target material and thickness."
      }
     },
     "ee9bc543bebf4a9d802fb91e73d1002f": {
      "model_module": "@jupyter-widgets/controls",
      "model_module_version": "1.1.0",
      "model_name": "DescriptionStyleModel",
      "state": {
       "description_width": ""
      }
     },
     "eea40b60cb2d4ebbbbf40e8521ee4f87": {
      "model_module": "@jupyter-widgets/controls",
      "model_module_version": "1.1.0",
      "model_name": "CheckboxModel",
      "state": {
       "description": "30°",
       "disabled": false,
       "layout": "IPY_MODEL_868daa6a513c4483b385e724afc38db6",
       "style": "IPY_MODEL_a02324d66cae4bcdad77709c8ea30df5",
       "value": true
      }
     },
     "eef836b841c54aca80d97b09e12e4b2e": {
      "model_module": "@jupyter-widgets/controls",
      "model_module_version": "1.1.0",
      "model_name": "LabelModel",
      "state": {
       "layout": "IPY_MODEL_7ac59b7eca6641c8bcb498673e9b27bd",
       "style": "IPY_MODEL_1fe86901ff6444339b517145bf3c3899",
       "value": "Select projectile ion energy."
      }
     },
     "eefb103b46b840978229669dc9bbcdce": {
      "model_module": "@jupyter-widgets/controls",
      "model_module_version": "1.1.0",
      "model_name": "ToggleButtonsStyleModel",
      "state": {
       "button_width": "",
       "description_width": ""
      }
     },
     "ef4bd5c55a7c45cc9ef95a2d4270d9a7": {
      "model_module": "@jupyter-widgets/base",
      "model_module_version": "1.0.0",
      "model_name": "LayoutModel",
      "state": {}
     },
     "ef63fe9cf051472285a2119408a5362c": {
      "model_module": "@jupyter-widgets/controls",
      "model_module_version": "1.1.0",
      "model_name": "DescriptionStyleModel",
      "state": {
       "description_width": ""
      }
     },
     "ef7272546b44403e83a8e89ec335c49b": {
      "model_module": "@jupyter-widgets/controls",
      "model_module_version": "1.1.0",
      "model_name": "CheckboxModel",
      "state": {
       "description": "60°",
       "disabled": false,
       "layout": "IPY_MODEL_dc545899afba40ea8c875493c461fd48",
       "style": "IPY_MODEL_28cb64bf993548d4ac314cacc750404a",
       "value": true
      }
     },
     "efcb746359c4475e975c88a99c210c04": {
      "model_module": "@jupyter-widgets/controls",
      "model_module_version": "1.1.0",
      "model_name": "DescriptionStyleModel",
      "state": {
       "description_width": ""
      }
     },
     "efd911ce47884c2e847c7597db96f675": {
      "model_module": "@jupyter-widgets/controls",
      "model_module_version": "1.1.0",
      "model_name": "CheckboxModel",
      "state": {
       "description": "60°",
       "disabled": false,
       "layout": "IPY_MODEL_faff79a189964b2d9547eac49f10b416",
       "style": "IPY_MODEL_c9a56b89822e4c4fbe565ecbbd144637",
       "value": true
      }
     },
     "f02c0822dab04f28a080936218b5ede4": {
      "model_module": "@jupyter-widgets/controls",
      "model_module_version": "1.1.0",
      "model_name": "LabelModel",
      "state": {
       "layout": "IPY_MODEL_ac2f0828c98f4d179cf83ddf27166b0b",
       "style": "IPY_MODEL_0e32b3e38b3b49b8af1d0d38aad130b8",
       "value": "Select the detector angles to plot."
      }
     },
     "f055cac736c0407b94d3e7ddcc082153": {
      "model_module": "@jupyter-widgets/base",
      "model_module_version": "1.0.0",
      "model_name": "LayoutModel",
      "state": {}
     },
     "f0566eea34404ef8ad5d91547f7d07d4": {
      "model_module": "@jupyter-widgets/controls",
      "model_module_version": "1.1.0",
      "model_name": "ToggleButtonsModel",
      "state": {
       "_options_labels": [
        "Al",
        "HDPE",
        "AlPE"
       ],
       "button_style": "",
       "description": "Material:",
       "icons": [],
       "index": 0,
       "layout": "IPY_MODEL_b8297bde69954b1fad28c2af975eeb32",
       "style": "IPY_MODEL_b6c24efdc53a4660a49ce93bba5de96a",
       "tooltips": [
        "Aluminum",
        "Polyethylene",
        "Combination of Al and HDPE"
       ]
      }
     },
     "f063c43e128244e0b1ce21cf847b324b": {
      "model_module": "@jupyter-widgets/controls",
      "model_module_version": "1.1.0",
      "model_name": "DescriptionStyleModel",
      "state": {
       "description_width": ""
      }
     },
     "f080737c4e2841fa9081b9ed3051a0cc": {
      "model_module": "@jupyter-widgets/controls",
      "model_module_version": "1.1.0",
      "model_name": "CheckboxModel",
      "state": {
       "description": "30°",
       "disabled": false,
       "layout": "IPY_MODEL_b2a39a040a6544d99cfd7e4863d4a141",
       "style": "IPY_MODEL_e2942bf36d6c4d1e9d9c1d946651f2dd",
       "value": false
      }
     },
     "f0969a67e3cd4b4bb9df5309f32120c8": {
      "model_module": "@jupyter-widgets/controls",
      "model_module_version": "1.1.0",
      "model_name": "LabelModel",
      "state": {
       "layout": "IPY_MODEL_33472369a0234ea3a9dcf27c09cd7f7b",
       "style": "IPY_MODEL_39b823192d424a1aab87bcddeee16b3d",
       "value": "Select the detector angles to plot."
      }
     },
     "f10bfd995f7d431d8b378fcd07b5c54e": {
      "model_module": "@jupyter-widgets/base",
      "model_module_version": "1.0.0",
      "model_name": "LayoutModel",
      "state": {}
     },
     "f143c1e1d37e4c3e80e186452ecaae07": {
      "model_module": "@jupyter-widgets/controls",
      "model_module_version": "1.1.0",
      "model_name": "DescriptionStyleModel",
      "state": {
       "description_width": ""
      }
     },
     "f18d8c2733764bf5b324b901bc699368": {
      "model_module": "@jupyter-widgets/base",
      "model_module_version": "1.0.0",
      "model_name": "LayoutModel",
      "state": {}
     },
     "f199881453b040ecba836e9210e1e2bd": {
      "model_module": "@jupyter-widgets/controls",
      "model_module_version": "1.1.0",
      "model_name": "ToggleButtonsStyleModel",
      "state": {
       "button_width": "",
       "description_width": ""
      }
     },
     "f1afb8dc5d4142d693c8d42b97cebaad": {
      "model_module": "@jupyter-widgets/controls",
      "model_module_version": "1.1.0",
      "model_name": "CheckboxModel",
      "state": {
       "description": "10°",
       "disabled": false,
       "layout": "IPY_MODEL_23907f89d8224d0d8f8b6dff967d5a79",
       "style": "IPY_MODEL_1f7b1312a8a44dbaa6d3bae6912929db",
       "value": true
      }
     },
     "f1eedb76081f4458b9c9a8c9e76dfeef": {
      "model_module": "@jupyter-widgets/controls",
      "model_module_version": "1.1.0",
      "model_name": "CheckboxModel",
      "state": {
       "description": "80°",
       "disabled": false,
       "layout": "IPY_MODEL_adeb596f502d42449d8811e70bbae8b2",
       "style": "IPY_MODEL_255bd2ea37c443cdbf7c13594324e3ea",
       "value": true
      }
     },
     "f1f935c3adf24e1bb45e6f19d25d81c5": {
      "model_module": "@jupyter-widgets/controls",
      "model_module_version": "1.1.0",
      "model_name": "DescriptionStyleModel",
      "state": {
       "description_width": ""
      }
     },
     "f252dec002114f79992adfffb78289bb": {
      "model_module": "@jupyter-widgets/controls",
      "model_module_version": "1.1.0",
      "model_name": "ToggleButtonsStyleModel",
      "state": {
       "button_width": "",
       "description_width": ""
      }
     },
     "f262556b66da4635872be828bcdb1607": {
      "model_module": "@jupyter-widgets/controls",
      "model_module_version": "1.1.0",
      "model_name": "CheckboxModel",
      "state": {
       "description": "80°",
       "disabled": false,
       "layout": "IPY_MODEL_c758b050ef9b47c8b35069f92aa067b8",
       "style": "IPY_MODEL_75a30c3beb1940bf992f9033eee96e34",
       "value": true
      }
     },
     "f26b555c18674641ac56b038c0e17764": {
      "model_module": "@jupyter-widgets/controls",
      "model_module_version": "1.1.0",
      "model_name": "DescriptionStyleModel",
      "state": {
       "description_width": ""
      }
     },
     "f26e2ec7560a4e578564c54c53c981f3": {
      "model_module": "@jupyter-widgets/controls",
      "model_module_version": "1.1.0",
      "model_name": "LabelModel",
      "state": {
       "layout": "IPY_MODEL_0d391190abd44d54b833e58e653dc40b",
       "style": "IPY_MODEL_86a57d3d44574ca59515581038955997",
       "value": "Select projectile ion energy."
      }
     },
     "f2747acdaa6146c7bfbced92bc3f8313": {
      "model_module": "@jupyter-widgets/base",
      "model_module_version": "1.0.0",
      "model_name": "LayoutModel",
      "state": {}
     },
     "f2ad27baf4764943a64930549184f148": {
      "model_module": "@jupyter-widgets/base",
      "model_module_version": "1.0.0",
      "model_name": "LayoutModel",
      "state": {}
     },
     "f2d9fac9be214bb79549c85432c23998": {
      "model_module": "@jupyter-widgets/controls",
      "model_module_version": "1.1.0",
      "model_name": "CheckboxModel",
      "state": {
       "description": "135°",
       "disabled": false,
       "layout": "IPY_MODEL_1bf7f5567589498fa681752dbe53ef46",
       "style": "IPY_MODEL_bb2cd9b121534a8290c6451b95d7d29c",
       "value": true
      }
     },
     "f321083ddc564a30968b1d85bf33aa1b": {
      "model_module": "@jupyter-widgets/base",
      "model_module_version": "1.0.0",
      "model_name": "LayoutModel",
      "state": {}
     },
     "f33936238f9141c9994990d8d2bc665a": {
      "model_module": "@jupyter-widgets/controls",
      "model_module_version": "1.1.0",
      "model_name": "CheckboxModel",
      "state": {
       "description": "7.2°",
       "disabled": false,
       "layout": "IPY_MODEL_bc66069ba2424e408276de2b0e664572",
       "style": "IPY_MODEL_0b27835f9ef445558cc2f963f85d4f87",
       "value": false
      }
     },
     "f3b020ca5d8f4d98bd0f82640535936e": {
      "model_module": "@jupyter-widgets/base",
      "model_module_version": "1.0.0",
      "model_name": "LayoutModel",
      "state": {}
     },
     "f3b324d2ef314550aa0da8d17a9f0043": {
      "model_module": "@jupyter-widgets/controls",
      "model_module_version": "1.1.0",
      "model_name": "CheckboxModel",
      "state": {
       "description": "80°",
       "disabled": false,
       "layout": "IPY_MODEL_1390752cdc434e52b9f7bbcab6f4e297",
       "style": "IPY_MODEL_fa6823fad2d748e99617d54f76e63bc8",
       "value": false
      }
     },
     "f3c9ffbfb328454d98e6b2a5ed3f03b4": {
      "model_module": "@jupyter-widgets/controls",
      "model_module_version": "1.1.0",
      "model_name": "CheckboxModel",
      "state": {
       "description": "135°",
       "disabled": false,
       "layout": "IPY_MODEL_bc51dbf7d6b44cb0861568d60899abdf",
       "style": "IPY_MODEL_97998ff7c23540418583446728836fec",
       "value": true
      }
     },
     "f3f69e1081784e57b0f53a13152b39c0": {
      "model_module": "@jupyter-widgets/controls",
      "model_module_version": "1.1.0",
      "model_name": "DescriptionStyleModel",
      "state": {
       "description_width": ""
      }
     },
     "f41b887ee0d948018f442ae216d31f95": {
      "model_module": "@jupyter-widgets/base",
      "model_module_version": "1.0.0",
      "model_name": "LayoutModel",
      "state": {}
     },
     "f46e27ea0a14453184f192527874afb7": {
      "model_module": "@jupyter-widgets/base",
      "model_module_version": "1.0.0",
      "model_name": "LayoutModel",
      "state": {}
     },
     "f485120e55c14545ac5b3960df305b8f": {
      "model_module": "@jupyter-widgets/controls",
      "model_module_version": "1.1.0",
      "model_name": "LabelModel",
      "state": {
       "layout": "IPY_MODEL_879adfc53a3c462a9c3d51cf55c1adbe",
       "style": "IPY_MODEL_8477bf0938fe492299303381dfe3f762",
       "value": "Select which secondary particle to plot spectra for."
      }
     },
     "f4861ab2161a41a481d4efd27777288f": {
      "model_module": "@jupyter-widgets/controls",
      "model_module_version": "1.1.0",
      "model_name": "DescriptionStyleModel",
      "state": {
       "description_width": ""
      }
     },
     "f49081b81392490a9d44ed5eda297dfb": {
      "model_module": "@jupyter-widgets/controls",
      "model_module_version": "1.1.0",
      "model_name": "DescriptionStyleModel",
      "state": {
       "description_width": ""
      }
     },
     "f4a71d72724943bfaf0276bf593011e7": {
      "model_module": "@jupyter-widgets/base",
      "model_module_version": "1.0.0",
      "model_name": "LayoutModel",
      "state": {}
     },
     "f4b34bb605b642bc92cabd5815758446": {
      "model_module": "@jupyter-widgets/base",
      "model_module_version": "1.0.0",
      "model_name": "LayoutModel",
      "state": {}
     },
     "f4d47f670d944ed8aaa908b07c2eafa3": {
      "model_module": "@jupyter-widgets/controls",
      "model_module_version": "1.1.0",
      "model_name": "DescriptionStyleModel",
      "state": {
       "description_width": ""
      }
     },
     "f4e068f26b124e70aee3d4ed6f1a1f11": {
      "model_module": "@jupyter-widgets/controls",
      "model_module_version": "1.1.0",
      "model_name": "ToggleButtonsStyleModel",
      "state": {
       "button_width": "",
       "description_width": ""
      }
     },
     "f4ed453b5306419e94a21b49cba03d49": {
      "model_module": "@jupyter-widgets/controls",
      "model_module_version": "1.1.0",
      "model_name": "DescriptionStyleModel",
      "state": {
       "description_width": ""
      }
     },
     "f5265654bf1c43de820654cb0b360cae": {
      "model_module": "@jupyter-widgets/base",
      "model_module_version": "1.0.0",
      "model_name": "LayoutModel",
      "state": {}
     },
     "f53498484d3e4625ba5faed05d104562": {
      "model_module": "@jupyter-widgets/base",
      "model_module_version": "1.0.0",
      "model_name": "LayoutModel",
      "state": {}
     },
     "f5b30e748dcd4e67b51e4e670d0c23eb": {
      "model_module": "@jupyter-widgets/controls",
      "model_module_version": "1.1.0",
      "model_name": "CheckboxModel",
      "state": {
       "description": "45°",
       "disabled": false,
       "layout": "IPY_MODEL_b2c2393f3cc943afa4c0a599f866c96b",
       "style": "IPY_MODEL_630a75892166422cb5a31e63e1a6c742",
       "value": true
      }
     },
     "f5ba8d79d7ac4a828e421fac15ac3d7a": {
      "model_module": "@jupyter-widgets/base",
      "model_module_version": "1.0.0",
      "model_name": "LayoutModel",
      "state": {}
     },
     "f5d62b0a3491487ebc3bae565842b5c4": {
      "model_module": "@jupyter-widgets/controls",
      "model_module_version": "1.1.0",
      "model_name": "CheckboxModel",
      "state": {
       "description": "60°",
       "disabled": false,
       "layout": "IPY_MODEL_1aeb7dfc9e594c11861f86298ee1729a",
       "style": "IPY_MODEL_a9e42351c8da44b9ad978d46ab3d72ab",
       "value": true
      }
     },
     "f5dfd514d516400ba5747fb5cf8a6269": {
      "model_module": "@jupyter-widgets/controls",
      "model_module_version": "1.1.0",
      "model_name": "CheckboxModel",
      "state": {
       "description": "10°",
       "disabled": false,
       "layout": "IPY_MODEL_1d68b934178f43fc98da9e81f818c1c2",
       "style": "IPY_MODEL_08874af4f11e4866a1c963a34f169b7b",
       "value": true
      }
     },
     "f5ec4bafce8a47389fc36bbf380ff089": {
      "model_module": "@jupyter-widgets/controls",
      "model_module_version": "1.1.0",
      "model_name": "ToggleButtonsStyleModel",
      "state": {
       "button_width": "",
       "description_width": ""
      }
     },
     "f606adc961c44f8b9755d1e03eb8449a": {
      "model_module": "@jupyter-widgets/controls",
      "model_module_version": "1.1.0",
      "model_name": "DescriptionStyleModel",
      "state": {
       "description_width": ""
      }
     },
     "f6398df354bc4679b689033928f3f329": {
      "model_module": "@jupyter-widgets/base",
      "model_module_version": "1.0.0",
      "model_name": "LayoutModel",
      "state": {}
     },
     "f673c3750a714ce6b241908ebc147d4d": {
      "model_module": "@jupyter-widgets/base",
      "model_module_version": "1.0.0",
      "model_name": "LayoutModel",
      "state": {}
     },
     "f71727a8872d46bfa0995c5545823cfc": {
      "model_module": "@jupyter-widgets/base",
      "model_module_version": "1.0.0",
      "model_name": "LayoutModel",
      "state": {}
     },
     "f7321fc4b17d4e829257afd40af2d5c2": {
      "model_module": "@jupyter-widgets/controls",
      "model_module_version": "1.1.0",
      "model_name": "DescriptionStyleModel",
      "state": {
       "description_width": ""
      }
     },
     "f753c75e2f27484493aa367682daa366": {
      "model_module": "@jupyter-widgets/controls",
      "model_module_version": "1.1.0",
      "model_name": "CheckboxModel",
      "state": {
       "description": "10°",
       "disabled": false,
       "layout": "IPY_MODEL_08f0b78c47574a45ac876371dff017db",
       "style": "IPY_MODEL_31eccb51f3554686a99127acb7d976ab",
       "value": true
      }
     },
     "f757fbb5e99d4a2d8befd8c12209d3d3": {
      "model_module": "@jupyter-widgets/controls",
      "model_module_version": "1.1.0",
      "model_name": "CheckboxModel",
      "state": {
       "description": "45°",
       "disabled": false,
       "layout": "IPY_MODEL_d99aff9ae3da4c99b9fc05e9620edc89",
       "style": "IPY_MODEL_32ae16106a1c4496831fc9941be86476",
       "value": true
      }
     },
     "f7f38f23b33c4fc9bedd89b58ecf6c4c": {
      "model_module": "@jupyter-widgets/base",
      "model_module_version": "1.0.0",
      "model_name": "LayoutModel",
      "state": {}
     },
     "f808b8d841c64ede90b90c8d1d382ad7": {
      "model_module": "@jupyter-widgets/controls",
      "model_module_version": "1.1.0",
      "model_name": "DescriptionStyleModel",
      "state": {
       "description_width": ""
      }
     },
     "f812ebabef9146fbb976efd2dd979889": {
      "model_module": "@jupyter-widgets/base",
      "model_module_version": "1.0.0",
      "model_name": "LayoutModel",
      "state": {}
     },
     "f8160d7eb5ec4e9e9e9be412fce32fd9": {
      "model_module": "@jupyter-widgets/controls",
      "model_module_version": "1.1.0",
      "model_name": "ToggleButtonsModel",
      "state": {
       "_options_labels": [
        "N (¹n)",
        "NDC (¹n)",
        "P (¹H)",
        "D (²H)",
        "T (³H)",
        "S (³He)",
        "A (⁴He)"
       ],
       "button_style": "",
       "description": "Type:",
       "icons": [],
       "index": 0,
       "layout": "IPY_MODEL_16f670a283904513995b6aa8c48c5375",
       "style": "IPY_MODEL_f252dec002114f79992adfffb78289bb",
       "tooltips": [
        "Neutron",
        "Back Target Neutron",
        "Proton",
        "Deuteron",
        "Triton",
        "Helium-3",
        "Helium-4"
       ]
      }
     },
     "f8187533cbd64b0f92011819d7ecc492": {
      "model_module": "@jupyter-widgets/base",
      "model_module_version": "1.0.0",
      "model_name": "LayoutModel",
      "state": {}
     },
     "f81a967a4e904b57bc79fffca0847c4a": {
      "model_module": "@jupyter-widgets/controls",
      "model_module_version": "1.1.0",
      "model_name": "ToggleButtonsModel",
      "state": {
       "_options_labels": [
        "Al",
        "HDPE",
        "AlPE"
       ],
       "button_style": "",
       "description": "Material:",
       "icons": [],
       "index": 0,
       "layout": "IPY_MODEL_d1331ffa41c94abdacbc2ece91c03a7e",
       "style": "IPY_MODEL_7269c215af174c58ad8c5c71aa27e07a",
       "tooltips": [
        "Aluminum",
        "Polyethylene",
        "Combination of Al and HDPE"
       ]
      }
     },
     "f8d1defbf04d4c329688c00ad9b82081": {
      "model_module": "@jupyter-widgets/base",
      "model_module_version": "1.0.0",
      "model_name": "LayoutModel",
      "state": {}
     },
     "f9518e3aacac4605b4bb8e8e408a58f3": {
      "model_module": "@jupyter-widgets/controls",
      "model_module_version": "1.1.0",
      "model_name": "LabelModel",
      "state": {
       "layout": "IPY_MODEL_c2da93c1248a406e97cdbda52cd4353e",
       "style": "IPY_MODEL_8f29115be0cc42ca9b36a84cc9c75532",
       "value": "Select which secondary particle to plot spectra for."
      }
     },
     "f97258fbbb4c467ebb072327200c0105": {
      "model_module": "@jupyter-widgets/controls",
      "model_module_version": "1.1.0",
      "model_name": "DescriptionStyleModel",
      "state": {
       "description_width": ""
      }
     },
     "fa1bd53915424fa1ab587c57ab48f080": {
      "model_module": "@jupyter-widgets/base",
      "model_module_version": "1.0.0",
      "model_name": "LayoutModel",
      "state": {}
     },
     "fa6823fad2d748e99617d54f76e63bc8": {
      "model_module": "@jupyter-widgets/controls",
      "model_module_version": "1.1.0",
      "model_name": "DescriptionStyleModel",
      "state": {
       "description_width": ""
      }
     },
     "fa76e56acdcd41718e0b25ba2bd643c5": {
      "model_module": "@jupyter-widgets/base",
      "model_module_version": "1.0.0",
      "model_name": "LayoutModel",
      "state": {}
     },
     "fa831ea3f4b347af83e3d34696ccf9ba": {
      "model_module": "@jupyter-widgets/base",
      "model_module_version": "1.0.0",
      "model_name": "LayoutModel",
      "state": {}
     },
     "fa868bfc1e314c0ebe3116aa8acc6ef2": {
      "model_module": "@jupyter-widgets/controls",
      "model_module_version": "1.1.0",
      "model_name": "ToggleButtonsStyleModel",
      "state": {
       "button_width": "",
       "description_width": ""
      }
     },
     "fafd0e3b04b4483f90d356ced0c29506": {
      "model_module": "@jupyter-widgets/controls",
      "model_module_version": "1.1.0",
      "model_name": "DescriptionStyleModel",
      "state": {
       "description_width": ""
      }
     },
     "faff79a189964b2d9547eac49f10b416": {
      "model_module": "@jupyter-widgets/base",
      "model_module_version": "1.0.0",
      "model_name": "LayoutModel",
      "state": {}
     },
     "fb064c7310ef43abbedd84003a322ca9": {
      "model_module": "@jupyter-widgets/controls",
      "model_module_version": "1.1.0",
      "model_name": "CheckboxModel",
      "state": {
       "description": "135°",
       "disabled": false,
       "layout": "IPY_MODEL_6fb95e2154dd4900892693eac880a9bb",
       "style": "IPY_MODEL_2e3a847b8cec4b5dbe367728c18d5a57",
       "value": true
      }
     },
     "fb164e172ac540ac81fc0ad566192df8": {
      "model_module": "@jupyter-widgets/controls",
      "model_module_version": "1.1.0",
      "model_name": "ToggleButtonsModel",
      "state": {
       "_options_labels": [
        "N (¹n)",
        "NDC (¹n)",
        "P (¹H)",
        "D (²H)",
        "T (³H)",
        "S (³He)",
        "A (⁴He)"
       ],
       "button_style": "",
       "description": "Particle:",
       "icons": [],
       "index": 2,
       "layout": "IPY_MODEL_13e8722c02124a1eb5386f71fef459c9",
       "style": "IPY_MODEL_16a0a785c08a4f329604b9d7b46e1730",
       "tooltips": [
        "Neutron",
        "Back Target Neutron",
        "Proton",
        "Deuteron",
        "Triton",
        "Helium-3",
        "Helium-4"
       ]
      }
     },
     "fb2e1b8ea9c74243b274d3c0c73fb9f8": {
      "model_module": "@jupyter-widgets/base",
      "model_module_version": "1.0.0",
      "model_name": "LayoutModel",
      "state": {}
     },
     "fb46bc84044a4051b90c55b7d4fbb1ab": {
      "model_module": "@jupyter-widgets/controls",
      "model_module_version": "1.1.0",
      "model_name": "DescriptionStyleModel",
      "state": {
       "description_width": ""
      }
     },
     "fb4e6dcac5164de5891986bbceb3509d": {
      "model_module": "@jupyter-widgets/base",
      "model_module_version": "1.0.0",
      "model_name": "LayoutModel",
      "state": {}
     },
     "fbac0d7df1d84bce9086128e146d7b02": {
      "model_module": "@jupyter-widgets/controls",
      "model_module_version": "1.1.0",
      "model_name": "ToggleButtonsModel",
      "state": {
       "_options_labels": [
        "N (¹n)",
        "NDC (¹n)",
        "P (¹H)",
        "D (²H)"
       ],
       "button_style": "",
       "description": "Type:",
       "icons": [],
       "index": 2,
       "layout": "IPY_MODEL_03fbf2b260454a4aba02e0841a431c22",
       "style": "IPY_MODEL_e66423a8657740bf85d4739442117038",
       "tooltips": [
        "Neutron",
        "Back Target Neutron",
        "Proton",
        "Deuteron"
       ]
      }
     },
     "fc21e1f76d594bbfb368d28398b75880": {
      "model_module": "@jupyter-widgets/controls",
      "model_module_version": "1.1.0",
      "model_name": "CheckboxModel",
      "state": {
       "description": "Experiment",
       "disabled": false,
       "layout": "IPY_MODEL_312d0650ec004f909b6f98ff9ccc158f",
       "style": "IPY_MODEL_ceb39673d4414fd298cd7f6f4aec66f0",
       "value": true
      }
     },
     "fc5e76d7b0d54b7fb864f43147295e4d": {
      "model_module": "@jupyter-widgets/controls",
      "model_module_version": "1.1.0",
      "model_name": "ToggleButtonsStyleModel",
      "state": {
       "button_width": "",
       "description_width": ""
      }
     },
     "fc5ff637033d46a79d10c9f739554db6": {
      "model_module": "@jupyter-widgets/controls",
      "model_module_version": "1.1.0",
      "model_name": "CheckboxModel",
      "state": {
       "description": "10°",
       "disabled": false,
       "layout": "IPY_MODEL_e125556179c24374bb636b9f57260100",
       "style": "IPY_MODEL_0e7c74024ab7459c89e88c6a6c6d58c7",
       "value": true
      }
     },
     "fca467fbacda4366ac6d71ccd5b56cfc": {
      "model_module": "@jupyter-widgets/base",
      "model_module_version": "1.0.0",
      "model_name": "LayoutModel",
      "state": {}
     },
     "fcdc8c835ef542a39bbe81e117c15446": {
      "model_module": "@jupyter-widgets/controls",
      "model_module_version": "1.1.0",
      "model_name": "DescriptionStyleModel",
      "state": {
       "description_width": ""
      }
     },
     "fd601da03285408d9dab1b4e589015f8": {
      "model_module": "@jupyter-widgets/base",
      "model_module_version": "1.0.0",
      "model_name": "LayoutModel",
      "state": {}
     },
     "fe14d7b10f2e4a5c8d43b25464f2f8af": {
      "model_module": "@jupyter-widgets/base",
      "model_module_version": "1.0.0",
      "model_name": "LayoutModel",
      "state": {}
     },
     "fe1c6ef13b8c446280dbc572670306df": {
      "model_module": "@jupyter-widgets/controls",
      "model_module_version": "1.1.0",
      "model_name": "ToggleButtonsModel",
      "state": {
       "_options_labels": [
        "N (¹n)",
        "NDC (¹n)",
        "P (¹H)",
        "D (²H)",
        "T (³H)",
        "S (³He)",
        "A (⁴He)"
       ],
       "button_style": "",
       "description": "Type:",
       "icons": [],
       "index": 0,
       "layout": "IPY_MODEL_cc5a322d499e45ec875485585e0187e8",
       "style": "IPY_MODEL_377f418dbd6a41b9b98c2d82f062e64e",
       "tooltips": [
        "Neutron",
        "Back Target Neutron",
        "Proton",
        "Deuteron",
        "Triton",
        "Helium-3",
        "Helium-4"
       ]
      }
     },
     "fe1d1e90130247ac8121c825e79cb174": {
      "model_module": "@jupyter-widgets/controls",
      "model_module_version": "1.1.0",
      "model_name": "DescriptionStyleModel",
      "state": {
       "description_width": ""
      }
     },
     "fe443f51af184df68b3c56cf06f77457": {
      "model_module": "@jupyter-widgets/controls",
      "model_module_version": "1.1.0",
      "model_name": "DescriptionStyleModel",
      "state": {
       "description_width": ""
      }
     },
     "feb773bb2249497ab65e8cae32c67021": {
      "model_module": "@jupyter-widgets/base",
      "model_module_version": "1.0.0",
      "model_name": "LayoutModel",
      "state": {}
     },
     "fee1b4be948d47cb972a0796e53ef5ad": {
      "model_module": "@jupyter-widgets/controls",
      "model_module_version": "1.1.0",
      "model_name": "CheckboxModel",
      "state": {
       "description": "10°",
       "disabled": false,
       "layout": "IPY_MODEL_2592cff594e84589b5bf39c835496b59",
       "style": "IPY_MODEL_35808e4c571c4f76a4628148a7a69c54",
       "value": true
      }
     },
     "ff0752d0085a4a8693b2646507320ce7": {
      "model_module": "@jupyter-widgets/base",
      "model_module_version": "1.0.0",
      "model_name": "LayoutModel",
      "state": {}
     },
     "ff286a067c23439a868c7e18520be3c3": {
      "model_module": "@jupyter-widgets/base",
      "model_module_version": "1.0.0",
      "model_name": "LayoutModel",
      "state": {}
     },
     "ff2f94b2546b423daf13837d3bd365ab": {
      "model_module": "@jupyter-widgets/controls",
      "model_module_version": "1.1.0",
      "model_name": "DescriptionStyleModel",
      "state": {
       "description_width": ""
      }
     },
     "ff356545a116431bb725754b20b707f1": {
      "model_module": "@jupyter-widgets/controls",
      "model_module_version": "1.1.0",
      "model_name": "CheckboxModel",
      "state": {
       "description": "Experiment",
       "disabled": false,
       "layout": "IPY_MODEL_a492ac76f1b94b6a9eb892afe1c19c06",
       "style": "IPY_MODEL_453f31976f1745da8fe67203caf87d15",
       "value": true
      }
     },
     "ff4624ac0a444ec2a1650e86cf483e1b": {
      "model_module": "@jupyter-widgets/controls",
      "model_module_version": "1.1.0",
      "model_name": "LabelModel",
      "state": {
       "layout": "IPY_MODEL_3390f09b3a6d4015a170c63a418e3897",
       "style": "IPY_MODEL_d7e0e5a003b4402f8fbab141e943e4c4",
       "value": "Select which sets of data to display."
      }
     },
     "ff5a7bc49d2c426bba829600c3d89560": {
      "model_module": "@jupyter-widgets/controls",
      "model_module_version": "1.1.0",
      "model_name": "CheckboxModel",
      "state": {
       "description": "60°",
       "disabled": false,
       "layout": "IPY_MODEL_a715567199b948ed9bf18629dce166b8",
       "style": "IPY_MODEL_d25f491b0e884a14a2edd32657745a70",
       "value": true
      }
     },
     "ff775fb71b26478da0e11f8d03b303f6": {
      "model_module": "@jupyter-widgets/base",
      "model_module_version": "1.0.0",
      "model_name": "LayoutModel",
      "state": {}
     },
     "ffc0f64b49c84d55873df730ed3f2593": {
      "model_module": "@jupyter-widgets/base",
      "model_module_version": "1.0.0",
      "model_name": "LayoutModel",
      "state": {}
     },
     "ffd7ce5689fb467b967c87d2b0dcf965": {
      "model_module": "@jupyter-widgets/controls",
      "model_module_version": "1.1.0",
      "model_name": "ToggleButtonsStyleModel",
      "state": {
       "button_width": "",
       "description_width": ""
      }
     },
     "ffe283cda2964f5f85d8d9bed246eb8e": {
      "model_module": "@jupyter-widgets/controls",
      "model_module_version": "1.1.0",
      "model_name": "CheckboxModel",
      "state": {
       "description": "30°",
       "disabled": false,
       "layout": "IPY_MODEL_409f8d96f1b84958a16c4d20848f7289",
       "style": "IPY_MODEL_215b0b190f52448c9781d9b9d17ba7cd",
       "value": true
      }
     }
    },
    "version_major": 2,
    "version_minor": 0
   }
  }
 },
 "nbformat": 4,
 "nbformat_minor": 1
}
